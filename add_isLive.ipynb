{
 "cells": [
  {
   "cell_type": "code",
   "execution_count": 1,
   "metadata": {},
   "outputs": [],
   "source": [
    "import polars as pl\n",
    "from src.utils import live_keywords\n",
    "df = pl.read_csv(\"final_classified_filtered_dataset.csv\")"
   ]
  },
  {
   "cell_type": "code",
   "execution_count": 2,
   "metadata": {},
   "outputs": [
    {
     "name": "stdout",
     "output_type": "stream",
     "text": [
      "complex terms:  [['footage']]\n"
     ]
    }
   ],
   "source": [
    "import importlib\n",
    "importlib.reload(live_keywords)\n",
    "\n",
    "expanded = live_keywords.add_video_live(df)\n",
    "live_vids = expanded.filter(expanded[\"is_footage\"] == True)\n",
    "not_live_vids = expanded.filter(expanded[\"is_footage\"] == False)"
   ]
  },
  {
   "cell_type": "code",
   "execution_count": 3,
   "metadata": {},
   "outputs": [],
   "source": [
    "# expanded.write_csv(\"isFootage_classified_filtered_dataset.csv\")"
   ]
  },
  {
   "cell_type": "code",
   "execution_count": 4,
   "metadata": {},
   "outputs": [
    {
     "name": "stdout",
     "output_type": "stream",
     "text": [
      "original:  11061\n",
      "live videos:  52\n",
      "not live videos:  11009\n",
      "summation:  11061\n"
     ]
    }
   ],
   "source": [
    "print('original: ', expanded.shape[0])\n",
    "print('live videos: ', live_vids.shape[0])\n",
    "print('not live videos: ', not_live_vids.shape[0])\n",
    "print(\"summation: \", live_vids.shape[0] + not_live_vids.shape[0])"
   ]
  },
  {
   "cell_type": "code",
   "execution_count": 5,
   "metadata": {},
   "outputs": [
    {
     "data": {
      "text/html": [
       "<div><style>\n",
       ".dataframe > thead > tr,\n",
       ".dataframe > tbody > tr {\n",
       "  text-align: right;\n",
       "  white-space: pre-wrap;\n",
       "}\n",
       "</style>\n",
       "<small>shape: (52,)</small><table border=\"1\" class=\"dataframe\"><thead><tr><th>title</th></tr><tr><td>str</td></tr></thead><tbody><tr><td>&quot;Drone Footage Shows Harvey-Dam…</td></tr><tr><td>&quot;Drone footage shows Houston fl…</td></tr><tr><td>&quot;Heartbreaking aerial footage o…</td></tr><tr><td>&quot;Drone footage shows full impac…</td></tr><tr><td>&quot;Drone footage shows west Houst…</td></tr><tr><td>&hellip;</td></tr><tr><td>&quot;Drone Footage Shows Mosul Dest…</td></tr><tr><td>&quot;Drone Footage Shows Smoke in M…</td></tr><tr><td>&quot;Aleppo in Ruins as Russia Call…</td></tr><tr><td>&quot;ICRC Footage Shows Conditions …</td></tr><tr><td>&quot;Dramatic Footage shows Destruc…</td></tr></tbody></table></div>"
      ],
      "text/plain": [
       "shape: (52,)\n",
       "Series: 'title' [str]\n",
       "[\n",
       "\t\"Drone Footage Shows Harvey-Dam…\n",
       "\t\"Drone footage shows Houston fl…\n",
       "\t\"Heartbreaking aerial footage o…\n",
       "\t\"Drone footage shows full impac…\n",
       "\t\"Drone footage shows west Houst…\n",
       "\t…\n",
       "\t\"Drone Footage Shows Mosul Dest…\n",
       "\t\"Drone Footage Shows Smoke in M…\n",
       "\t\"Aleppo in Ruins as Russia Call…\n",
       "\t\"ICRC Footage Shows Conditions …\n",
       "\t\"Dramatic Footage shows Destruc…\n",
       "]"
      ]
     },
     "execution_count": 5,
     "metadata": {},
     "output_type": "execute_result"
    }
   ],
   "source": [
    "live_vids['title']"
   ]
  },
  {
   "cell_type": "code",
   "execution_count": 6,
   "metadata": {},
   "outputs": [
    {
     "data": {
      "text/html": [
       "<div><style>\n",
       ".dataframe > thead > tr,\n",
       ".dataframe > tbody > tr {\n",
       "  text-align: right;\n",
       "  white-space: pre-wrap;\n",
       "}\n",
       "</style>\n",
       "<small>shape: (11_009,)</small><table border=\"1\" class=\"dataframe\"><thead><tr><th>title</th></tr><tr><td>str</td></tr></thead><tbody><tr><td>&quot;Gov  Abbott, VP Pence among sp…</td></tr><tr><td>&quot;25-year-old man enrolled at th…</td></tr><tr><td>&quot;25yr old Man Posed as High Sch…</td></tr><tr><td>&quot;Dallas may have to pay back $4…</td></tr><tr><td>&quot;Day 2 of flooding for Rockwall…</td></tr><tr><td>&hellip;</td></tr><tr><td>&quot;The situation in the Nagorno-K…</td></tr><tr><td>&quot;Armenian-backed Separatists an…</td></tr><tr><td>&quot;Ceasefire Called in Nagorno-Ka…</td></tr><tr><td>&quot;Azerbaijan Accuses Armenia of …</td></tr><tr><td>&quot;Armenian Forces Deployed In Ma…</td></tr></tbody></table></div>"
      ],
      "text/plain": [
       "shape: (11_009,)\n",
       "Series: 'title' [str]\n",
       "[\n",
       "\t\"Gov  Abbott, VP Pence among sp…\n",
       "\t\"25-year-old man enrolled at th…\n",
       "\t\"25yr old Man Posed as High Sch…\n",
       "\t\"Dallas may have to pay back $4…\n",
       "\t\"Day 2 of flooding for Rockwall…\n",
       "\t…\n",
       "\t\"The situation in the Nagorno-K…\n",
       "\t\"Armenian-backed Separatists an…\n",
       "\t\"Ceasefire Called in Nagorno-Ka…\n",
       "\t\"Azerbaijan Accuses Armenia of …\n",
       "\t\"Armenian Forces Deployed In Ma…\n",
       "]"
      ]
     },
     "execution_count": 6,
     "metadata": {},
     "output_type": "execute_result"
    }
   ],
   "source": [
    "not_live_vids['title']"
   ]
  },
  {
   "cell_type": "code",
   "execution_count": 7,
   "metadata": {},
   "outputs": [],
   "source": [
    "environment = expanded.filter(expanded[\"event_type\"] == \"environmental\")\n",
    "geop = expanded.filter(expanded[\"event_type\"] == \"geopolitical\")"
   ]
  },
  {
   "cell_type": "code",
   "execution_count": 8,
   "metadata": {},
   "outputs": [
    {
     "name": "stdout",
     "output_type": "stream",
     "text": [
      "total footage in environmental:  8128\n",
      "footage in environmental:  46\n",
      "not footage in environmental:  8082\n",
      "---------------\n",
      "total footage in geopolitical:  2933\n",
      "footage in geopolitical:  6\n",
      "not footage in geopolitical:  2927\n"
     ]
    }
   ],
   "source": [
    "print(\"total footage in environmental: \", environment.shape[0])\n",
    "print(\"footage in environmental: \", live_vids.filter(pl.col(\"event_type\") == \"environmental\").shape[0])\n",
    "print(\"not footage in environmental: \", not_live_vids.filter(pl.col(\"event_type\") == \"environmental\").shape[0])\n",
    "print('---------------')\n",
    "print(\"total footage in geopolitical: \", geop.shape[0])\n",
    "print(\"footage in geopolitical: \", live_vids.filter(pl.col(\"event_type\") == \"geopolitical\").shape[0])\n",
    "print(\"not footage in geopolitical: \", not_live_vids.filter(pl.col(\"event_type\") == \"geopolitical\").shape[0])"
   ]
  },
  {
   "cell_type": "code",
   "execution_count": 9,
   "metadata": {},
   "outputs": [
    {
     "name": "stdout",
     "output_type": "stream",
     "text": [
      "percentage of footage in total dataset: 0.47 %\n",
      "percentage of footage in environmental: 0.57 % \n",
      "percentage of footage in geopolitical: 0.20 % \n"
     ]
    }
   ],
   "source": [
    "print(f\"percentage of footage in total dataset: {live_vids.shape[0] * 100 / df.shape[0] :.2f} %\")\n",
    "print(f\"percentage of footage in environmental: {environment.filter(pl.col('is_footage') == True).shape[0] *100 / environment.shape[0] :.2f} % \")\n",
    "print(f\"percentage of footage in geopolitical: {geop.filter(pl.col('is_footage') == True).shape[0] * 100 / geop.shape[0] :.2f} % \")"
   ]
  }
 ],
 "metadata": {
  "kernelspec": {
   "display_name": "ADAenv",
   "language": "python",
   "name": "python3"
  },
  "language_info": {
   "codemirror_mode": {
    "name": "ipython",
    "version": 3
   },
   "file_extension": ".py",
   "mimetype": "text/x-python",
   "name": "python",
   "nbconvert_exporter": "python",
   "pygments_lexer": "ipython3",
   "version": "3.11.1"
  }
 },
 "nbformat": 4,
 "nbformat_minor": 2
}
