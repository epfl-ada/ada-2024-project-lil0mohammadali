{
 "cells": [
  {
   "cell_type": "markdown",
   "metadata": {},
   "source": [
    "#### imports"
   ]
  },
  {
   "cell_type": "code",
   "execution_count": 1,
   "metadata": {},
   "outputs": [],
   "source": [
    "import pandas as pd\n",
    "import numpy as np\n",
    "import polars as pl\n",
    "from matplotlib import pyplot as plt"
   ]
  },
  {
   "cell_type": "markdown",
   "metadata": {},
   "source": [
    "### strcuture of different datasets"
   ]
  },
  {
   "cell_type": "markdown",
   "metadata": {},
   "source": [
    "#### df_channels_en.tsv\n",
    "\n",
    "CSV file, having the following structure:\n",
    "| **category_cc** | **join_date** | **channel**              | **name_cc**             | **subscribers_cc** | **videos_cc** | **subsriber_rank_sb** | **weights** |\n",
    "|-----------------|---------------|--------------------------|-------------------------|--------------------|---------------|-----------------------|-------------|\n",
    "| News & Politics | 2013-03-11    | UCcRgZlgsk5m-aDQa_d6BTkQ | NorthWestLibertyNews... | 16700              | 845           | 639043.0              | 10.0035     |\n",
    "| Gaming          |    2012-01-15 | UCnnXR0VIJVpeL1wEr-bBaRw | Felix Guaman            | 112000             | 703           | 137318.0              | 5.4915      |\n",
    "\n",
    "With:\n",
    "- `category_cc`: most frequent category of the channel. One of: ['Gaming', 'Education', 'Entertainment', 'Howto & Style', 'Sports', 'Music', 'Film and Animation', 'Comedy', 'Nonprofits & Activism', 'People & Blogs', 'News & Politics', 'Science & Technology', 'Pets & Animals', 'Autos & Vehicles', 'Travel & Events', nan]\n",
    "- `join_date`: join date of the channel.\n",
    "- `channel`: unique channel id.\n",
    "- `name_cc`: name of the channel.\n",
    "- `subscribers_cc`: number of subscribers.\n",
    "- `videos_cc`: number of videos.\n",
    "- `subscriber_rank_sb`: rank in terms of number of subscribers.\n",
    "- `weights`: weights cal\n"
   ]
  },
  {
   "cell_type": "markdown",
   "metadata": {},
   "source": [
    "\n",
    "#### yt_metadata_helper.feather   (yt_metadata_helper.feather.csv, filtered_yt_metadata_helper.feather.csv)\n",
    "<div>\n",
    "<style scoped>\n",
    "    .dataframe tbody tr th:only-of-type {\n",
    "        vertical-align: middle;\n",
    "    }\n",
    "\n",
    "    .dataframe tbody tr th {\n",
    "        vertical-align: top;\n",
    "    }\n",
    "\n",
    "    .dataframe thead th {\n",
    "        text-align: right;\n",
    "    }\n",
    "</style>\n",
    "<table border=\"1\" class=\"dataframe\">\n",
    "  <thead>\n",
    "    <tr style=\"text-align: right;\">\n",
    "      <th>categories</th>\n",
    "      <th>channel_id</th>\n",
    "      <th>dislike_count</th>\n",
    "      <th>display_id</th>\n",
    "      <th>duration</th>\n",
    "      <th>like_count</th>\n",
    "      <th>upload_date</th>\n",
    "      <th>view_count</th>\n",
    "    </tr>\n",
    "  </thead>\n",
    "  <tbody>\n",
    "    <tr>\n",
    "      <td>Film &amp; Animation</td>\n",
    "      <td>UCy6sWF4taso5GtrfDGhwpBA</td>\n",
    "      <td>0.0</td>\n",
    "      <td>EXOviJ_EJDo</td>\n",
    "      <td>68</td>\n",
    "      <td>0.0</td>\n",
    "      <td>2011-12-07</td>\n",
    "      <td>76.0</td>\n",
    "    </tr>\n",
    "    <tr>\n",
    "      <td>Gaming</td>\n",
    "      <td>UCEPYwwuGhgA9wfO2It11OXw</td>\n",
    "      <td>0.0</td>\n",
    "      <td>xSKA6VX7Tdo</td>\n",
    "      <td>125</td>\n",
    "      <td>6.0</td>\n",
    "      <td>2016-10-04</td>\n",
    "      <td>198.0</td>\n",
    "    </tr>\n",
    "    <tr>\n",
    "      <td>News &amp; Politics</td>\n",
    "      <td>UCojNA7ZvnmGuIvYnm44wl3Q</td>\n",
    "      <td>NaN</td>\n",
    "      <td>FsucWMijKA4</td>\n",
    "      <td>130</td>\n",
    "      <td>NaN</td>\n",
    "      <td>2010-11-18</td>\n",
    "      <td>106.0</td>\n",
    "    </tr>\n",
    "  </tbody>\n",
    "</table>\n",
    "</div>\n",
    "\n",
    "With (values were crawled from YouTube between 2019-10-29 and 2019-11-23):\n",
    "- `categories`: category (self-defined when they upload a video to YouTube)\n",
    "- `channel_id`: unique channel id\n",
    "- `dislike_count`: dislikes of the video\n",
    "- `display_id`: unique video id\n",
    "- `duration`: duration of the video\n",
    "- `like_count`:likes of the video.\n",
    "- `upload_date`: upload date\n",
    "- `view_count`: views of the video."
   ]
  },
  {
   "cell_type": "markdown",
   "metadata": {},
   "source": [
    "\n",
    "#### yt_metadata.jsonl\n",
    "<div>\n",
    "<style scoped>\n",
    "    .dataframe tbody tr th:only-of-type {\n",
    "        vertical-align: middle;\n",
    "    }\n",
    "\n",
    "    .dataframe tbody tr th {\n",
    "        vertical-align: top;\n",
    "    }\n",
    "\n",
    "    .dataframe thead th {\n",
    "        text-align: right;\n",
    "    }\n",
    "</style>\n",
    "<table border=\"1\" class=\"dataframe\">\n",
    "  <thead>\n",
    "    <tr style=\"text-align: right;\">\n",
    "      <th>categories</th>\n",
    "      <th>channel_id</th>\n",
    "      <th>crawl_date</th>\n",
    "      <th>description</th>\n",
    "      <th>dislike_count</th>\n",
    "      <th>display_id</th>\n",
    "      <th>duration</th>\n",
    "      <th>like_count</th>\n",
    "      <th>tags</th>\n",
    "      <th>title</th>\n",
    "      <th>upload_date</th>\n",
    "      <th>view_count</th>\n",
    "    </tr>\n",
    "  </thead>\n",
    "  <tbody>\n",
    "    <tr>\n",
    "      <td>Film &amp; Animation</td>\n",
    "      <td>UCy6sWF4taso5GtrfDGhwpBA</td>\n",
    "      <td>2019-10-29</td>\n",
    "      <td>description</td>\n",
    "      <td>0.0</td>\n",
    "      <td>EXOviJ_EJDo</td>\n",
    "      <td>68</td>\n",
    "      <td>0.0</td>\n",
    "      <td>tags</td>\n",
    "      <td>title</td>\n",
    "      <td>2011-12-07</td>\n",
    "      <td>76.0</td>\n",
    "    </tr>\n",
    "    <tr>\n",
    "      <td>Gaming</td>\n",
    "      <td>UCEPYwwuGhgA9wfO2It11OXw</td>\n",
    "      <td>2019-10-29</td>\n",
    "      <td>description</td>\n",
    "      <td>0.0</td>\n",
    "      <td>xSKA6VX7Tdo</td>\n",
    "      <td>125</td>\n",
    "      <td>6.0</td>\n",
    "      <td>tags</td>\n",
    "      <td>title</td>\n",
    "      <td>2016-10-04</td>\n",
    "      <td>198.0</td>\n",
    "    </tr>\n",
    "    <tr>\n",
    "      <td>News &amp; Politics</td>\n",
    "      <td>UCojNA7ZvnmGuIvYnm44wl3Q</td>\n",
    "      <td>2019-10-29</td>\n",
    "      <td>description</td>\n",
    "      <td>NaN</td>\n",
    "      <td>FsucWMijKA4</td>\n",
    "      <td>130</td>\n",
    "      <td>NaN</td>\n",
    "      <td>tags</td>\n",
    "      <td>title</td>\n",
    "      <td>2010-11-18</td>\n",
    "      <td>106.0</td>\n",
    "    </tr>\n",
    "  </tbody>\n",
    "</table>\n",
    "</div>\n",
    "\n",
    "With (values were crawled from YouTube between 2019-10-29 and 2019-11-23):\n",
    "- `categories`: category (self-defined when they upload a video to YouTube)\n",
    "- `channel_id`: unique channel id\n",
    "- `dislike_count`: dislikes of the video\n",
    "- `display_id`: unique video id\n",
    "- `duration`: duration of the video\n",
    "- `like_count`:likes of the video.\n",
    "- `upload_date`: upload date\n",
    "- `view_count`: views of the video."
   ]
  },
  {
   "cell_type": "markdown",
   "metadata": {},
   "source": [
    "#### df_timeseries_en.tsv\n",
    "\n",
    "| **channel**              | **category**       | **datetime** | **views**   | **delta_views** | **subs** | **delta_subs** | **videos** | **delta_videos** | **activity** |\n",
    "|--------------------------|--------------------|--------------|-------------|-----------------|----------|----------------|------------|------------------|--------------|\n",
    "| UCBJuEqXfXTdcPSbGO9qqn1g | Film and Animation | 2017-07-03 | 202495  |           0 |  650 |   0        |      5 |            0 |        3 |\n",
    "| UCBJuEqXfXTdcPSbGO9qqn1g | Film and Animation | 2017-07-10 | 394086  |      191591 | 1046 | 396        |      6 |            1 |        1 |\n",
    "\n",
    "With:\n",
    "- `channel`: channel id.\n",
    "- `category`: category of the channel as assigned by `socialblade.com` according to the last 10 videos at time of crawl.\n",
    "- `datetime`: Week related to the data point.\n",
    "- `views`: Total number of views the channel had this week.\n",
    "- `delta_views`: Delta views obtained this week.\n",
    "- `subs`: Total number of subscribers the channel had this week.\n",
    "- `delta_subs`: Delta subscribers obtained this week.\n",
    "- `videos`: Total number of videos the channel had this week.\n",
    "- `delta_videos`: Delta videos obtained this week.\n",
    "- `activity`: Number of videos published in the last 15 days.\n"
   ]
  },
  {
   "cell_type": "markdown",
   "metadata": {},
   "source": [
    "#### youtube_comments.tsv\n",
    "\n",
    "| **author** | **video_id**      |  **likes** |  **replies** |\n",
    "|------|--------------|-------|---------|\n",
    "| 1      | Gkb1QMHrGvA   |  2     |  0       |\n",
    "| 1      | CNtp0xqoods   |  0     |  0       |\n",
    "| 1      | 249EEzQmVmQ   |  1     |  0       |\n",
    "\n",
    "With (data obtained at crawl time between 2019-09-12 and 2019-09-17):\n",
    "- `author`: anonymized author id (unique)\n",
    "- `video_id`: unique video id of the video the comment was written\n",
    "- `likes`: likes for the comment\n",
    "- `replies`: replies for the comment"
   ]
  },
  {
   "cell_type": "code",
   "execution_count": 3,
   "metadata": {},
   "outputs": [
    {
     "data": {
      "text/html": [
       "<div><style>\n",
       ".dataframe > thead > tr,\n",
       ".dataframe > tbody > tr {\n",
       "  text-align: right;\n",
       "  white-space: pre-wrap;\n",
       "}\n",
       "</style>\n",
       "<small>shape: (5, 8)</small><table border=\"1\" class=\"dataframe\"><thead><tr><th>category_cc</th><th>join_date</th><th>channel</th><th>name_cc</th><th>subscribers_cc</th><th>videos_cc</th><th>subscriber_rank_sb</th><th>weights</th></tr><tr><td>str</td><td>str</td><td>str</td><td>str</td><td>i64</td><td>i64</td><td>f64</td><td>f64</td></tr></thead><tbody><tr><td>&quot;News &amp; Politics&quot;</td><td>&quot;2013-04-30&quot;</td><td>&quot;UC_ClYrAtDNAGy5J0N-AwBNw&quot;</td><td>&quot;The Last American Va...&quot;</td><td>58500</td><td>1374</td><td>243400.0</td><td>7.09</td></tr><tr><td>&quot;Entertainment&quot;</td><td>&quot;2010-03-18&quot;</td><td>&quot;UCActwFbA7dO1YMAZ2GJ7zZQ&quot;</td><td>&quot;Tudy Guapo&quot;</td><td>64600</td><td>53</td><td>188596.0</td><td>5.7755</td></tr><tr><td>&quot;Entertainment&quot;</td><td>&quot;2017-03-26&quot;</td><td>&quot;UCLb18hQvFyc71DKk9jcVs2Q&quot;</td><td>&quot;FREAKANSS&quot;</td><td>123817</td><td>82</td><td>140203.0</td><td>5.5325</td></tr><tr><td>&quot;Howto &amp; Style&quot;</td><td>&quot;2017-02-16&quot;</td><td>&quot;UCXwSGqq4axrGewtb_FdWnUw&quot;</td><td>&quot;KEP GHAK Life Hacks&quot;</td><td>324284</td><td>301</td><td>36059.0</td><td>3.308</td></tr><tr><td>&quot;Music&quot;</td><td>&quot;2011-01-16&quot;</td><td>&quot;UCi6gfMkatE4K9awcml4z5jA&quot;</td><td>&quot;Benny Blanco&quot;</td><td>19000</td><td>90</td><td>570753.0</td><td>8.638</td></tr></tbody></table></div>"
      ],
      "text/plain": [
       "shape: (5, 8)\n",
       "┌────────────┬────────────┬────────────┬────────────┬────────────┬───────────┬───────────┬─────────┐\n",
       "│ category_c ┆ join_date  ┆ channel    ┆ name_cc    ┆ subscriber ┆ videos_cc ┆ subscribe ┆ weights │\n",
       "│ c          ┆ ---        ┆ ---        ┆ ---        ┆ s_cc       ┆ ---       ┆ r_rank_sb ┆ ---     │\n",
       "│ ---        ┆ str        ┆ str        ┆ str        ┆ ---        ┆ i64       ┆ ---       ┆ f64     │\n",
       "│ str        ┆            ┆            ┆            ┆ i64        ┆           ┆ f64       ┆         │\n",
       "╞════════════╪════════════╪════════════╪════════════╪════════════╪═══════════╪═══════════╪═════════╡\n",
       "│ News &     ┆ 2013-04-30 ┆ UC_ClYrAtD ┆ The Last   ┆ 58500      ┆ 1374      ┆ 243400.0  ┆ 7.09    │\n",
       "│ Politics   ┆            ┆ NAGy5J0N-A ┆ American   ┆            ┆           ┆           ┆         │\n",
       "│            ┆            ┆ wBNw       ┆ Va...      ┆            ┆           ┆           ┆         │\n",
       "│ Entertainm ┆ 2010-03-18 ┆ UCActwFbA7 ┆ Tudy Guapo ┆ 64600      ┆ 53        ┆ 188596.0  ┆ 5.7755  │\n",
       "│ ent        ┆            ┆ dO1YMAZ2GJ ┆            ┆            ┆           ┆           ┆         │\n",
       "│            ┆            ┆ 7zZQ       ┆            ┆            ┆           ┆           ┆         │\n",
       "│ Entertainm ┆ 2017-03-26 ┆ UCLb18hQvF ┆ FREAKANSS  ┆ 123817     ┆ 82        ┆ 140203.0  ┆ 5.5325  │\n",
       "│ ent        ┆            ┆ yc71DKk9jc ┆            ┆            ┆           ┆           ┆         │\n",
       "│            ┆            ┆ Vs2Q       ┆            ┆            ┆           ┆           ┆         │\n",
       "│ Howto &    ┆ 2017-02-16 ┆ UCXwSGqq4a ┆ KEP GHAK   ┆ 324284     ┆ 301       ┆ 36059.0   ┆ 3.308   │\n",
       "│ Style      ┆            ┆ xrGewtb_Fd ┆ Life Hacks ┆            ┆           ┆           ┆         │\n",
       "│            ┆            ┆ WnUw       ┆            ┆            ┆           ┆           ┆         │\n",
       "│ Music      ┆ 2011-01-16 ┆ UCi6gfMkat ┆ Benny      ┆ 19000      ┆ 90        ┆ 570753.0  ┆ 8.638   │\n",
       "│            ┆            ┆ E4K9awcml4 ┆ Blanco     ┆            ┆           ┆           ┆         │\n",
       "│            ┆            ┆ z5jA       ┆            ┆            ┆           ┆           ┆         │\n",
       "└────────────┴────────────┴────────────┴────────────┴────────────┴───────────┴───────────┴─────────┘"
      ]
     },
     "execution_count": 3,
     "metadata": {},
     "output_type": "execute_result"
    }
   ],
   "source": [
    "df_ch_f = pd.read_csv(\"../Youniverse/df_channels_en.tsv.gz\", compression=\"infer\", sep=\"\\t\")\n",
    "\n",
    "pl_df_f = pl.read_csv(\"../Youniverse/df_channels_en.tsv\", separator=\"\\t\")\n",
    "\n",
    "filtered_df_ch = pl_df_f.filter(pl.col(\"category_cc\") == \"News & Politics\")\n",
    "pl_df_f.sample(5)"
   ]
  },
  {
   "cell_type": "code",
   "execution_count": null,
   "metadata": {},
   "outputs": [
    {
     "data": {
      "text/html": [
       "<div>\n",
       "<style scoped>\n",
       "    .dataframe tbody tr th:only-of-type {\n",
       "        vertical-align: middle;\n",
       "    }\n",
       "\n",
       "    .dataframe tbody tr th {\n",
       "        vertical-align: top;\n",
       "    }\n",
       "\n",
       "    .dataframe thead th {\n",
       "        text-align: right;\n",
       "    }\n",
       "</style>\n",
       "<table border=\"1\" class=\"dataframe\">\n",
       "  <thead>\n",
       "    <tr style=\"text-align: right;\">\n",
       "      <th></th>\n",
       "      <th>categories</th>\n",
       "      <th>channel_id</th>\n",
       "      <th>dislike_count</th>\n",
       "      <th>display_id</th>\n",
       "      <th>duration</th>\n",
       "      <th>like_count</th>\n",
       "      <th>upload_date</th>\n",
       "      <th>view_count</th>\n",
       "    </tr>\n",
       "  </thead>\n",
       "  <tbody>\n",
       "    <tr>\n",
       "      <th>16583269</th>\n",
       "      <td>Film &amp; Animation</td>\n",
       "      <td>UCy6sWF4taso5GtrfDGhwpBA</td>\n",
       "      <td>0.0</td>\n",
       "      <td>EXOviJ_EJDo</td>\n",
       "      <td>68</td>\n",
       "      <td>0.0</td>\n",
       "      <td>2011-12-07</td>\n",
       "      <td>76.0</td>\n",
       "    </tr>\n",
       "    <tr>\n",
       "      <th>51429663</th>\n",
       "      <td>Gaming</td>\n",
       "      <td>UCEPYwwuGhgA9wfO2It11OXw</td>\n",
       "      <td>0.0</td>\n",
       "      <td>xSKA6VX7Tdo</td>\n",
       "      <td>125</td>\n",
       "      <td>6.0</td>\n",
       "      <td>2016-10-04</td>\n",
       "      <td>198.0</td>\n",
       "    </tr>\n",
       "    <tr>\n",
       "      <th>4222786</th>\n",
       "      <td>News &amp; Politics</td>\n",
       "      <td>UCojNA7ZvnmGuIvYnm44wl3Q</td>\n",
       "      <td>NaN</td>\n",
       "      <td>FsucWMijKA4</td>\n",
       "      <td>130</td>\n",
       "      <td>NaN</td>\n",
       "      <td>2010-11-18</td>\n",
       "      <td>106.0</td>\n",
       "    </tr>\n",
       "    <tr>\n",
       "      <th>61632041</th>\n",
       "      <td>Music</td>\n",
       "      <td>UC6SemiBqCDvv2XsWVqD8mgg</td>\n",
       "      <td>0.0</td>\n",
       "      <td>3PGYujlHr38</td>\n",
       "      <td>290</td>\n",
       "      <td>0.0</td>\n",
       "      <td>2018-06-09</td>\n",
       "      <td>0.0</td>\n",
       "    </tr>\n",
       "    <tr>\n",
       "      <th>31333325</th>\n",
       "      <td>Sports</td>\n",
       "      <td>UCTtkVP_v56wU8zXpVBpdaZQ</td>\n",
       "      <td>0.0</td>\n",
       "      <td>BKvxa7AbuMI</td>\n",
       "      <td>263</td>\n",
       "      <td>2.0</td>\n",
       "      <td>2016-08-26</td>\n",
       "      <td>1201.0</td>\n",
       "    </tr>\n",
       "  </tbody>\n",
       "</table>\n",
       "</div>"
      ],
      "text/plain": [
       "                categories                channel_id  dislike_count  \\\n",
       "16583269  Film & Animation  UCy6sWF4taso5GtrfDGhwpBA            0.0   \n",
       "51429663            Gaming  UCEPYwwuGhgA9wfO2It11OXw            0.0   \n",
       "4222786    News & Politics  UCojNA7ZvnmGuIvYnm44wl3Q            NaN   \n",
       "61632041             Music  UC6SemiBqCDvv2XsWVqD8mgg            0.0   \n",
       "31333325            Sports  UCTtkVP_v56wU8zXpVBpdaZQ            0.0   \n",
       "\n",
       "           display_id  duration  like_count upload_date  view_count  \n",
       "16583269  EXOviJ_EJDo        68         0.0  2011-12-07        76.0  \n",
       "51429663  xSKA6VX7Tdo       125         6.0  2016-10-04       198.0  \n",
       "4222786   FsucWMijKA4       130         NaN  2010-11-18       106.0  \n",
       "61632041  3PGYujlHr38       290         0.0  2018-06-09         0.0  \n",
       "31333325  BKvxa7AbuMI       263         2.0  2016-08-26      1201.0  "
      ]
     },
     "execution_count": 33,
     "metadata": {},
     "output_type": "execute_result"
    }
   ],
   "source": [
    "# df_vd_f = pd.read_feather(\"../Youniverse/yt_metadata_helper.feather\")\n",
    "\n",
    "# df_vd_f.sample(5)"
   ]
  },
  {
   "cell_type": "code",
   "execution_count": null,
   "metadata": {},
   "outputs": [],
   "source": [
    "# save to csv\n",
    "# df_vd_f.to_csv(\"../Youniverse/yt_metadata_helper.feather.csv\", sep=\"\\t\")"
   ]
  },
  {
   "cell_type": "code",
   "execution_count": 5,
   "metadata": {},
   "outputs": [
    {
     "data": {
      "text/html": [
       "<div><style>\n",
       ".dataframe > thead > tr,\n",
       ".dataframe > tbody > tr {\n",
       "  text-align: right;\n",
       "  white-space: pre-wrap;\n",
       "}\n",
       "</style>\n",
       "<small>shape: (2_263, 8)</small><table border=\"1\" class=\"dataframe\"><thead><tr><th>category_cc</th><th>join_date</th><th>channel</th><th>name_cc</th><th>subscribers_cc</th><th>videos_cc</th><th>subscriber_rank_sb</th><th>weights</th></tr><tr><td>str</td><td>str</td><td>str</td><td>str</td><td>i64</td><td>i64</td><td>f64</td><td>f64</td></tr></thead><tbody><tr><td>&quot;News &amp; Politics&quot;</td><td>&quot;2006-08-26&quot;</td><td>&quot;UCttspZesZIDEwwpVIgoZtWQ&quot;</td><td>&quot;IndiaTV&quot;</td><td>15177282</td><td>139814</td><td>199.0</td><td>2.087</td></tr><tr><td>&quot;News &amp; Politics&quot;</td><td>&quot;2012-06-01&quot;</td><td>&quot;UCRWFSbif-RFENbBrSiez1DA&quot;</td><td>&quot;ABP NEWS&quot;</td><td>16274836</td><td>129027</td><td>207.0</td><td>2.087</td></tr><tr><td>&quot;News &amp; Politics&quot;</td><td>&quot;2017-03-03&quot;</td><td>&quot;UCmphdqZNmqL72WJ2uyiNw5w&quot;</td><td>&quot;ABP NEWS HINDI&quot;</td><td>10800000</td><td>51298</td><td>340.0</td><td>2.087</td></tr><tr><td>&quot;News &amp; Politics&quot;</td><td>&quot;2015-03-23&quot;</td><td>&quot;UCx8Z14PpntdaxCt2hakbQLQ&quot;</td><td>&quot;The Lallantop&quot;</td><td>9120000</td><td>9423</td><td>438.0</td><td>2.087</td></tr><tr><td>&quot;News &amp; Politics&quot;</td><td>&quot;2007-06-19&quot;</td><td>&quot;UCIvaYmXn910QMdemBG3v1pQ&quot;</td><td>&quot;Zee News&quot;</td><td>9280000</td><td>102648</td><td>549.0</td><td>2.087</td></tr><tr><td>&hellip;</td><td>&hellip;</td><td>&hellip;</td><td>&hellip;</td><td>&hellip;</td><td>&hellip;</td><td>&hellip;</td><td>&hellip;</td></tr><tr><td>&quot;News &amp; Politics&quot;</td><td>&quot;2010-08-07&quot;</td><td>&quot;UC5rxiCGcNunIi5zI1hMYLMg&quot;</td><td>&quot;Salman Akhtar&quot;</td><td>10400</td><td>40</td><td>962468.0</td><td>53.1435</td></tr><tr><td>&quot;News &amp; Politics&quot;</td><td>&quot;2013-02-01&quot;</td><td>&quot;UCLSEJQ8TWtlEkaytaa4Y7lw&quot;</td><td>&quot;WingsOfChrist&quot;</td><td>10420</td><td>61</td><td>962547.0</td><td>53.1435</td></tr><tr><td>&quot;News &amp; Politics&quot;</td><td>&quot;2012-10-19&quot;</td><td>&quot;UCnkG_c5cyemVVsgCDoHiXew&quot;</td><td>&quot;The American Mirror&quot;</td><td>10500</td><td>329</td><td>963417.0</td><td>53.1435</td></tr><tr><td>&quot;News &amp; Politics&quot;</td><td>&quot;2017-11-25&quot;</td><td>&quot;UC69lWS7UMbBQc-9yqp4nGjA&quot;</td><td>&quot;Patriotism Show&quot;</td><td>10320</td><td>46</td><td>975448.0</td><td>53.1435</td></tr><tr><td>&quot;News &amp; Politics&quot;</td><td>&quot;2017-03-26&quot;</td><td>&quot;UCpbE1CJWNHpu8knuok8YBZQ&quot;</td><td>&quot;Jenny Constantine&quot;</td><td>10200</td><td>30</td><td>978433.0</td><td>53.1435</td></tr></tbody></table></div>"
      ],
      "text/plain": [
       "shape: (2_263, 8)\n",
       "┌────────────┬────────────┬────────────┬────────────┬────────────┬───────────┬───────────┬─────────┐\n",
       "│ category_c ┆ join_date  ┆ channel    ┆ name_cc    ┆ subscriber ┆ videos_cc ┆ subscribe ┆ weights │\n",
       "│ c          ┆ ---        ┆ ---        ┆ ---        ┆ s_cc       ┆ ---       ┆ r_rank_sb ┆ ---     │\n",
       "│ ---        ┆ str        ┆ str        ┆ str        ┆ ---        ┆ i64       ┆ ---       ┆ f64     │\n",
       "│ str        ┆            ┆            ┆            ┆ i64        ┆           ┆ f64       ┆         │\n",
       "╞════════════╪════════════╪════════════╪════════════╪════════════╪═══════════╪═══════════╪═════════╡\n",
       "│ News &     ┆ 2006-08-26 ┆ UCttspZesZ ┆ IndiaTV    ┆ 15177282   ┆ 139814    ┆ 199.0     ┆ 2.087   │\n",
       "│ Politics   ┆            ┆ IDEwwpVIgo ┆            ┆            ┆           ┆           ┆         │\n",
       "│            ┆            ┆ ZtWQ       ┆            ┆            ┆           ┆           ┆         │\n",
       "│ News &     ┆ 2012-06-01 ┆ UCRWFSbif- ┆ ABP NEWS   ┆ 16274836   ┆ 129027    ┆ 207.0     ┆ 2.087   │\n",
       "│ Politics   ┆            ┆ RFENbBrSie ┆            ┆            ┆           ┆           ┆         │\n",
       "│            ┆            ┆ z1DA       ┆            ┆            ┆           ┆           ┆         │\n",
       "│ News &     ┆ 2017-03-03 ┆ UCmphdqZNm ┆ ABP NEWS   ┆ 10800000   ┆ 51298     ┆ 340.0     ┆ 2.087   │\n",
       "│ Politics   ┆            ┆ qL72WJ2uyi ┆ HINDI      ┆            ┆           ┆           ┆         │\n",
       "│            ┆            ┆ Nw5w       ┆            ┆            ┆           ┆           ┆         │\n",
       "│ News &     ┆ 2015-03-23 ┆ UCx8Z14Ppn ┆ The        ┆ 9120000    ┆ 9423      ┆ 438.0     ┆ 2.087   │\n",
       "│ Politics   ┆            ┆ tdaxCt2hak ┆ Lallantop  ┆            ┆           ┆           ┆         │\n",
       "│            ┆            ┆ bQLQ       ┆            ┆            ┆           ┆           ┆         │\n",
       "│ News &     ┆ 2007-06-19 ┆ UCIvaYmXn9 ┆ Zee News   ┆ 9280000    ┆ 102648    ┆ 549.0     ┆ 2.087   │\n",
       "│ Politics   ┆            ┆ 10QMdemBG3 ┆            ┆            ┆           ┆           ┆         │\n",
       "│            ┆            ┆ v1pQ       ┆            ┆            ┆           ┆           ┆         │\n",
       "│ …          ┆ …          ┆ …          ┆ …          ┆ …          ┆ …         ┆ …         ┆ …       │\n",
       "│ News &     ┆ 2010-08-07 ┆ UC5rxiCGcN ┆ Salman     ┆ 10400      ┆ 40        ┆ 962468.0  ┆ 53.1435 │\n",
       "│ Politics   ┆            ┆ unIi5zI1hM ┆ Akhtar     ┆            ┆           ┆           ┆         │\n",
       "│            ┆            ┆ YLMg       ┆            ┆            ┆           ┆           ┆         │\n",
       "│ News &     ┆ 2013-02-01 ┆ UCLSEJQ8TW ┆ WingsOfChr ┆ 10420      ┆ 61        ┆ 962547.0  ┆ 53.1435 │\n",
       "│ Politics   ┆            ┆ tlEkaytaa4 ┆ ist        ┆            ┆           ┆           ┆         │\n",
       "│            ┆            ┆ Y7lw       ┆            ┆            ┆           ┆           ┆         │\n",
       "│ News &     ┆ 2012-10-19 ┆ UCnkG_c5cy ┆ The        ┆ 10500      ┆ 329       ┆ 963417.0  ┆ 53.1435 │\n",
       "│ Politics   ┆            ┆ emVVsgCDoH ┆ American   ┆            ┆           ┆           ┆         │\n",
       "│            ┆            ┆ iXew       ┆ Mirror     ┆            ┆           ┆           ┆         │\n",
       "│ News &     ┆ 2017-11-25 ┆ UC69lWS7UM ┆ Patriotism ┆ 10320      ┆ 46        ┆ 975448.0  ┆ 53.1435 │\n",
       "│ Politics   ┆            ┆ bBQc-9yqp4 ┆ Show       ┆            ┆           ┆           ┆         │\n",
       "│            ┆            ┆ nGjA       ┆            ┆            ┆           ┆           ┆         │\n",
       "│ News &     ┆ 2017-03-26 ┆ UCpbE1CJWN ┆ Jenny Cons ┆ 10200      ┆ 30        ┆ 978433.0  ┆ 53.1435 │\n",
       "│ Politics   ┆            ┆ Hpu8knuok8 ┆ tantine    ┆            ┆           ┆           ┆         │\n",
       "│            ┆            ┆ YBZQ       ┆            ┆            ┆           ┆           ┆         │\n",
       "└────────────┴────────────┴────────────┴────────────┴────────────┴───────────┴───────────┴─────────┘"
      ]
     },
     "execution_count": 5,
     "metadata": {},
     "output_type": "execute_result"
    }
   ],
   "source": [
    "filtered_df_ch.filter(pl.col(\"channel\").is_in(filtered_df_ch[\"channel\"]))"
   ]
  },
  {
   "cell_type": "code",
   "execution_count": null,
   "metadata": {},
   "outputs": [
    {
     "name": "stdout",
     "output_type": "stream",
     "text": [
      "batch 14539\r"
     ]
    }
   ],
   "source": [
    "# load yt metadata in chunks and filter for videos contained in filtered_df_ch\n",
    "# df.filter(pl.col(\"categories\") == \"News & Politics\") to filter for categories of videos instead\n",
    "reader = pl.read_csv_batched(\n",
    "    \"../Youniverse/yt_metadata_helper.feather.csv\",\n",
    "    separator=\"\\t\",\n",
    "    batch_size=5000\n",
    ")\n",
    "\n",
    "\n",
    "batches = reader.next_batches(5)  \n",
    "i = 0\n",
    "while batches:\n",
    "    for df in batches:\n",
    "        if i == 0:\n",
    "            df.filter(pl.col(\"channel_id\").is_in(filtered_df_ch[\"channel\"])).write_csv(\"../Youniverse/filtered_yt_metadata_helper.feather.csv\", include_header=True)\n",
    "        else:\n",
    "            with open(\"../Youniverse/filtered_yt_metadata_helper.feather.csv\", \"a\") as fh:\n",
    "                fh.write(df.filter(pl.col(\"channel_id\").is_in(filtered_df_ch[\"channel\"])).write_csv(file=None, include_header=False))\n",
    "        i = i+1\n",
    "        print(f\"batch {i}\\r\", end='')\n",
    "    batches = reader.next_batches(5)"
   ]
  },
  {
   "cell_type": "code",
   "execution_count": 4,
   "metadata": {},
   "outputs": [
    {
     "data": {
      "text/html": [
       "<div><style>\n",
       ".dataframe > thead > tr,\n",
       ".dataframe > tbody > tr {\n",
       "  text-align: right;\n",
       "  white-space: pre-wrap;\n",
       "}\n",
       "</style>\n",
       "<small>shape: (5, 9)</small><table border=\"1\" class=\"dataframe\"><thead><tr><th></th><th>categories</th><th>channel_id</th><th>dislike_count</th><th>display_id</th><th>duration</th><th>like_count</th><th>upload_date</th><th>view_count</th></tr><tr><td>i64</td><td>str</td><td>str</td><td>f64</td><td>str</td><td>i64</td><td>f64</td><td>str</td><td>f64</td></tr></thead><tbody><tr><td>61009636</td><td>&quot;News &amp; Politics&quot;</td><td>&quot;UCubZ7j3sba8uguy8Yq6xi_A&quot;</td><td>3.0</td><td>&quot;kWhdrNWM72M&quot;</td><td>184</td><td>9.0</td><td>&quot;2019-08-30&quot;</td><td>1453.0</td></tr><tr><td>68736078</td><td>&quot;News &amp; Politics&quot;</td><td>&quot;UC0bBYj4NEC416pOu4Krjmpg&quot;</td><td>0.0</td><td>&quot;Z3ABMTXxfzY&quot;</td><td>663</td><td>1.0</td><td>&quot;2019-08-12&quot;</td><td>20.0</td></tr><tr><td>535713</td><td>&quot;News &amp; Politics&quot;</td><td>&quot;UCruQg25yVBppUWjza8AlyZA&quot;</td><td>0.0</td><td>&quot;fQnbyGVkZT4&quot;</td><td>230</td><td>2.0</td><td>&quot;2017-04-03&quot;</td><td>125.0</td></tr><tr><td>38316830</td><td>&quot;News &amp; Politics&quot;</td><td>&quot;UCO0akufu9MOzyz3nvGIXAAw&quot;</td><td>1.0</td><td>&quot;Eld1j4HByp0&quot;</td><td>152</td><td>2.0</td><td>&quot;2014-06-12&quot;</td><td>691.0</td></tr><tr><td>38312788</td><td>&quot;News &amp; Politics&quot;</td><td>&quot;UCO0akufu9MOzyz3nvGIXAAw&quot;</td><td>3.0</td><td>&quot;rteI-V2kkf0&quot;</td><td>351</td><td>2.0</td><td>&quot;2019-08-09&quot;</td><td>142.0</td></tr></tbody></table></div>"
      ],
      "text/plain": [
       "shape: (5, 9)\n",
       "┌──────────┬────────────┬───────────┬───────────┬───┬──────────┬───────────┬───────────┬───────────┐\n",
       "│          ┆ categories ┆ channel_i ┆ dislike_c ┆ … ┆ duration ┆ like_coun ┆ upload_da ┆ view_coun │\n",
       "│ ---      ┆ ---        ┆ d         ┆ ount      ┆   ┆ ---      ┆ t         ┆ te        ┆ t         │\n",
       "│ i64      ┆ str        ┆ ---       ┆ ---       ┆   ┆ i64      ┆ ---       ┆ ---       ┆ ---       │\n",
       "│          ┆            ┆ str       ┆ f64       ┆   ┆          ┆ f64       ┆ str       ┆ f64       │\n",
       "╞══════════╪════════════╪═══════════╪═══════════╪═══╪══════════╪═══════════╪═══════════╪═══════════╡\n",
       "│ 61009636 ┆ News &     ┆ UCubZ7j3s ┆ 3.0       ┆ … ┆ 184      ┆ 9.0       ┆ 2019-08-3 ┆ 1453.0    │\n",
       "│          ┆ Politics   ┆ ba8uguy8Y ┆           ┆   ┆          ┆           ┆ 0         ┆           │\n",
       "│          ┆            ┆ q6xi_A    ┆           ┆   ┆          ┆           ┆           ┆           │\n",
       "│ 68736078 ┆ News &     ┆ UC0bBYj4N ┆ 0.0       ┆ … ┆ 663      ┆ 1.0       ┆ 2019-08-1 ┆ 20.0      │\n",
       "│          ┆ Politics   ┆ EC416pOu4 ┆           ┆   ┆          ┆           ┆ 2         ┆           │\n",
       "│          ┆            ┆ Krjmpg    ┆           ┆   ┆          ┆           ┆           ┆           │\n",
       "│ 535713   ┆ News &     ┆ UCruQg25y ┆ 0.0       ┆ … ┆ 230      ┆ 2.0       ┆ 2017-04-0 ┆ 125.0     │\n",
       "│          ┆ Politics   ┆ VBppUWjza ┆           ┆   ┆          ┆           ┆ 3         ┆           │\n",
       "│          ┆            ┆ 8AlyZA    ┆           ┆   ┆          ┆           ┆           ┆           │\n",
       "│ 38316830 ┆ News &     ┆ UCO0akufu ┆ 1.0       ┆ … ┆ 152      ┆ 2.0       ┆ 2014-06-1 ┆ 691.0     │\n",
       "│          ┆ Politics   ┆ 9MOzyz3nv ┆           ┆   ┆          ┆           ┆ 2         ┆           │\n",
       "│          ┆            ┆ GIXAAw    ┆           ┆   ┆          ┆           ┆           ┆           │\n",
       "│ 38312788 ┆ News &     ┆ UCO0akufu ┆ 3.0       ┆ … ┆ 351      ┆ 2.0       ┆ 2019-08-0 ┆ 142.0     │\n",
       "│          ┆ Politics   ┆ 9MOzyz3nv ┆           ┆   ┆          ┆           ┆ 9         ┆           │\n",
       "│          ┆            ┆ GIXAAw    ┆           ┆   ┆          ┆           ┆           ┆           │\n",
       "└──────────┴────────────┴───────────┴───────────┴───┴──────────┴───────────┴───────────┴───────────┘"
      ]
     },
     "execution_count": 4,
     "metadata": {},
     "output_type": "execute_result"
    }
   ],
   "source": [
    "filtered_df_metadata_feather = pl.read_csv(\"../Youniverse/filtered_yt_metadata_helper.feather.csv\")\n",
    "filtered_df_metadata_feather.sample(5)"
   ]
  },
  {
   "cell_type": "code",
   "execution_count": 5,
   "metadata": {},
   "outputs": [
    {
     "data": {
      "text/plain": [
       "9503610"
      ]
     },
     "execution_count": 5,
     "metadata": {},
     "output_type": "execute_result"
    }
   ],
   "source": [
    "len(filtered_df_metadata_feather)"
   ]
  },
  {
   "cell_type": "code",
   "execution_count": 6,
   "metadata": {},
   "outputs": [
    {
     "data": {
      "text/plain": [
       "['Entertainment',\n",
       " 'News & Politics',\n",
       " 'Education',\n",
       " 'Gaming',\n",
       " 'Comedy',\n",
       " 'Nonprofits & Activism',\n",
       " 'Music',\n",
       " None,\n",
       " 'Travel & Events',\n",
       " 'Pets & Animals',\n",
       " 'Sports',\n",
       " 'People & Blogs',\n",
       " 'Autos & Vehicles',\n",
       " 'Science & Technology',\n",
       " 'Howto & Style',\n",
       " 'Film & Animation']"
      ]
     },
     "execution_count": 6,
     "metadata": {},
     "output_type": "execute_result"
    }
   ],
   "source": [
    "list(filtered_df_metadata_feather[\"categories\"].unique())"
   ]
  },
  {
   "cell_type": "code",
   "execution_count": 7,
   "metadata": {},
   "outputs": [
    {
     "data": {
      "text/html": [
       "<div><style>\n",
       ".dataframe > thead > tr,\n",
       ".dataframe > tbody > tr {\n",
       "  text-align: right;\n",
       "  white-space: pre-wrap;\n",
       "}\n",
       "</style>\n",
       "<small>shape: (16, 2)</small><table border=\"1\" class=\"dataframe\"><thead><tr><th>categories</th><th>count</th></tr><tr><td>str</td><td>u32</td></tr></thead><tbody><tr><td>&quot;News &amp; Politics&quot;</td><td>8261387</td></tr><tr><td>&quot;Entertainment&quot;</td><td>398379</td></tr><tr><td>&quot;People &amp; Blogs&quot;</td><td>389905</td></tr><tr><td>&quot;Sports&quot;</td><td>116509</td></tr><tr><td>&quot;Education&quot;</td><td>72252</td></tr><tr><td>&hellip;</td><td>&hellip;</td></tr><tr><td>&quot;Comedy&quot;</td><td>21957</td></tr><tr><td>&quot;Pets &amp; Animals&quot;</td><td>12286</td></tr><tr><td>&quot;Autos &amp; Vehicles&quot;</td><td>10680</td></tr><tr><td>&quot;Gaming&quot;</td><td>6950</td></tr><tr><td>null</td><td>79</td></tr></tbody></table></div>"
      ],
      "text/plain": [
       "shape: (16, 2)\n",
       "┌──────────────────┬─────────┐\n",
       "│ categories       ┆ count   │\n",
       "│ ---              ┆ ---     │\n",
       "│ str              ┆ u32     │\n",
       "╞══════════════════╪═════════╡\n",
       "│ News & Politics  ┆ 8261387 │\n",
       "│ Entertainment    ┆ 398379  │\n",
       "│ People & Blogs   ┆ 389905  │\n",
       "│ Sports           ┆ 116509  │\n",
       "│ Education        ┆ 72252   │\n",
       "│ …                ┆ …       │\n",
       "│ Comedy           ┆ 21957   │\n",
       "│ Pets & Animals   ┆ 12286   │\n",
       "│ Autos & Vehicles ┆ 10680   │\n",
       "│ Gaming           ┆ 6950    │\n",
       "│ null             ┆ 79      │\n",
       "└──────────────────┴─────────┘"
      ]
     },
     "execution_count": 7,
     "metadata": {},
     "output_type": "execute_result"
    }
   ],
   "source": [
    "filtered_df_metadata_feather[\"categories\"].value_counts().sort(by=\"count\", descending=True)"
   ]
  },
  {
   "cell_type": "code",
   "execution_count": 10,
   "metadata": {},
   "outputs": [
    {
     "name": "stdout",
     "output_type": "stream",
     "text": [
      "Empty DataFrame\n",
      "Columns: [categories, channel_id, crawl_date, description, dislike_count, display_id, duration, like_count, tags, title, upload_date, view_count]\n",
      "Index: []\n",
      "batch 145849 / 145390 \r"
     ]
    }
   ],
   "source": [
    "chunks = pd.read_json(\"../Youniverse/yt_metadata_en.jsonl\", lines=True, chunksize = 500)\n",
    "for i, c in enumerate(chunks):\n",
    "    c = c[c[\"channel_id\"].isin(filtered_df_ch[\"channel\"])]\n",
    "    if i == 0:\n",
    "        print(c)\n",
    "        c.to_csv(\"../Youniverse/filtered_yt_metadata.csv\", header=True, index=False)\n",
    "    else: \n",
    "        with open(\"../Youniverse/filtered_yt_metadata.csv\", \"a\") as fh:\n",
    "            fh.write(c.to_csv(path_or_buf=None, header=False, index=False))\n",
    "    print(f\"batch {i} / 145390 \\r\", end=\"\")"
   ]
  },
  {
   "cell_type": "code",
   "execution_count": 9,
   "metadata": {},
   "outputs": [
    {
     "name": "stdout",
     "output_type": "stream",
     "text": [
      "batch 134425 / 860000.0 \r"
     ]
    },
    {
     "ename": "KeyboardInterrupt",
     "evalue": "",
     "output_type": "error",
     "traceback": [
      "\u001b[1;31m---------------------------------------------------------------------------\u001b[0m",
      "\u001b[1;31mKeyboardInterrupt\u001b[0m                         Traceback (most recent call last)",
      "Cell \u001b[1;32mIn[9], line 24\u001b[0m\n\u001b[0;32m     22\u001b[0m     i \u001b[38;5;241m=\u001b[39m i\u001b[38;5;241m+\u001b[39m\u001b[38;5;241m1\u001b[39m\n\u001b[0;32m     23\u001b[0m     \u001b[38;5;28mprint\u001b[39m(\u001b[38;5;124mf\u001b[39m\u001b[38;5;124m\"\u001b[39m\u001b[38;5;124mbatch \u001b[39m\u001b[38;5;132;01m{\u001b[39;00mi\u001b[38;5;132;01m}\u001b[39;00m\u001b[38;5;124m / \u001b[39m\u001b[38;5;132;01m{\u001b[39;00mtotal_batches\u001b[38;5;132;01m}\u001b[39;00m\u001b[38;5;124m \u001b[39m\u001b[38;5;130;01m\\r\u001b[39;00m\u001b[38;5;124m\"\u001b[39m, end\u001b[38;5;241m=\u001b[39m\u001b[38;5;124m'\u001b[39m\u001b[38;5;124m'\u001b[39m)\n\u001b[1;32m---> 24\u001b[0m batches \u001b[38;5;241m=\u001b[39m \u001b[43mreader\u001b[49m\u001b[38;5;241;43m.\u001b[39;49m\u001b[43mnext_batches\u001b[49m\u001b[43m(\u001b[49m\u001b[38;5;241;43m5\u001b[39;49m\u001b[43m)\u001b[49m\n",
      "File \u001b[1;32mc:\\Users\\lisas\\anaconda3\\envs\\ada\\Lib\\site-packages\\polars\\io\\csv\\batched_reader.py:133\u001b[0m, in \u001b[0;36mBatchedCsvReader.next_batches\u001b[1;34m(self, n)\u001b[0m\n\u001b[0;32m    109\u001b[0m \u001b[38;5;28;01mdef\u001b[39;00m \u001b[38;5;21mnext_batches\u001b[39m(\u001b[38;5;28mself\u001b[39m, n: \u001b[38;5;28mint\u001b[39m) \u001b[38;5;241m-\u001b[39m\u001b[38;5;241m>\u001b[39m \u001b[38;5;28mlist\u001b[39m[DataFrame] \u001b[38;5;241m|\u001b[39m \u001b[38;5;28;01mNone\u001b[39;00m:\n\u001b[0;32m    110\u001b[0m \u001b[38;5;250m    \u001b[39m\u001b[38;5;124;03m\"\"\"\u001b[39;00m\n\u001b[0;32m    111\u001b[0m \u001b[38;5;124;03m    Read `n` batches from the reader.\u001b[39;00m\n\u001b[0;32m    112\u001b[0m \n\u001b[1;32m   (...)\u001b[0m\n\u001b[0;32m    131\u001b[0m \u001b[38;5;124;03m    list of DataFrames\u001b[39;00m\n\u001b[0;32m    132\u001b[0m \u001b[38;5;124;03m    \"\"\"\u001b[39;00m\n\u001b[1;32m--> 133\u001b[0m     \u001b[38;5;28;01mif\u001b[39;00m (batches \u001b[38;5;241m:=\u001b[39m \u001b[38;5;28;43mself\u001b[39;49m\u001b[38;5;241;43m.\u001b[39;49m\u001b[43m_reader\u001b[49m\u001b[38;5;241;43m.\u001b[39;49m\u001b[43mnext_batches\u001b[49m\u001b[43m(\u001b[49m\u001b[43mn\u001b[49m\u001b[43m)\u001b[49m) \u001b[38;5;129;01mis\u001b[39;00m \u001b[38;5;129;01mnot\u001b[39;00m \u001b[38;5;28;01mNone\u001b[39;00m:\n\u001b[0;32m    134\u001b[0m         \u001b[38;5;28;01mif\u001b[39;00m \u001b[38;5;28mself\u001b[39m\u001b[38;5;241m.\u001b[39mnew_columns:\n\u001b[0;32m    135\u001b[0m             \u001b[38;5;28;01mreturn\u001b[39;00m [\n\u001b[0;32m    136\u001b[0m                 _update_columns(wrap_df(df), \u001b[38;5;28mself\u001b[39m\u001b[38;5;241m.\u001b[39mnew_columns) \u001b[38;5;28;01mfor\u001b[39;00m df \u001b[38;5;129;01min\u001b[39;00m batches\n\u001b[0;32m    137\u001b[0m             ]\n",
      "\u001b[1;31mKeyboardInterrupt\u001b[0m: "
     ]
    }
   ],
   "source": [
    "# load yt metadata in chunks and filter for videos contained in filtered_df_ch\n",
    "# df.filter(pl.col(\"categories\") == \"News & Politics\") to filter for categories of videos instead\n",
    "batch_size = 10000\n",
    "reader = pl.read_csv_batched(\n",
    "    \"../Youniverse/youtube_comments.tsv\",\n",
    "    separator=\"\\t\",\n",
    "    batch_size= batch_size\n",
    ")\n",
    "\n",
    "total_batches = 8600000000/batch_size\n",
    "\n",
    "batches = reader.next_batches(5)  \n",
    "i = 0\n",
    "while batches:\n",
    "    for df in batches:\n",
    "        if i == 0:\n",
    "            # df.filter(pl.col(\"video_id\").is_in(filtered_df_metadata_feather[\"display_id\"])).write_csv(\"../Youniverse/filtered_youtube_comments.tsv\", include_header=True)\n",
    "            df.filter(pl.col(\"video_id\") == \"fXN0ABkfZ7M\").write_csv(\"../Youniverse/filtered_youtube_comments.tsv\", include_header=True)\n",
    "        else:\n",
    "            with open(\"../Youniverse/filtered_youtube_comments.tsv\", \"a\") as fh:\n",
    "                fh.write(df.filter(pl.col(\"video_id\") == \"fXN0ABkfZ7M\").write_csv(file=None, include_header=False))\n",
    "        i = i+1\n",
    "        print(f\"batch {i} / {total_batches} \\r\", end='')\n",
    "    batches = reader.next_batches(5)"
   ]
  },
  {
   "cell_type": "code",
   "execution_count": null,
   "metadata": {},
   "outputs": [
    {
     "name": "stdout",
     "output_type": "stream",
     "text": [
      "shape: (4_600, 4)\n",
      "┌────────┬─────────────┬───────┬─────────┐\n",
      "│ author ┆ video_id    ┆ likes ┆ replies │\n",
      "│ ---    ┆ ---         ┆ ---   ┆ ---     │\n",
      "│ i64    ┆ str         ┆ i64   ┆ i64     │\n",
      "╞════════╪═════════════╪═══════╪═════════╡\n",
      "│ 1      ┆ Gkb1QMHrGvA ┆ 2     ┆ 0       │\n",
      "│ 1      ┆ CNtp0xqoods ┆ 0     ┆ 0       │\n",
      "│ 1      ┆ 249EEzQmVmQ ┆ 1     ┆ 0       │\n",
      "│ 1      ┆ _U443T2K_Bs ┆ 0     ┆ 0       │\n",
      "│ 1      ┆ rJbjhm0weYc ┆ 0     ┆ 0       │\n",
      "│ …      ┆ …           ┆ …     ┆ …       │\n",
      "│ 314    ┆ cvrCYT7Oyt4 ┆ 0     ┆ 0       │\n",
      "│ 314    ┆ B90EzQj2wOQ ┆ 0     ┆ 0       │\n",
      "│ 314    ┆ BkHuP2ZEtAY ┆ 0     ┆ 0       │\n",
      "│ 314    ┆ 9ndXWa3j91I ┆ 0     ┆ 0       │\n",
      "│ 314    ┆ 9qfNbzqZlBk ┆ 0     ┆ 0       │\n",
      "└────────┴─────────────┴───────┴─────────┘\n",
      "shape: (4_490, 4)\n",
      "┌────────┬─────────────┬───────┬─────────┐\n",
      "│ author ┆ video_id    ┆ likes ┆ replies │\n",
      "│ ---    ┆ ---         ┆ ---   ┆ ---     │\n",
      "│ i64    ┆ str         ┆ i64   ┆ i64     │\n",
      "╞════════╪═════════════╪═══════╪═════════╡\n",
      "│ 314    ┆ LGmLi4RyjIA ┆ 0     ┆ 0       │\n",
      "│ 314    ┆ l9ZuUCPzP5s ┆ 0     ┆ 0       │\n",
      "│ 314    ┆ tORKgibhfBo ┆ 0     ┆ 0       │\n",
      "│ 314    ┆ hYleUsLSd-I ┆ 0     ┆ 0       │\n",
      "│ 314    ┆ TA3BPggtSnQ ┆ 0     ┆ 0       │\n",
      "│ …      ┆ …           ┆ …     ┆ …       │\n",
      "│ 693    ┆ w6NXyxQmMQ0 ┆ 0     ┆ 0       │\n",
      "│ 693    ┆ 34t0QQPlmLs ┆ 0     ┆ 0       │\n",
      "│ 693    ┆ EUPaShlj9BM ┆ 0     ┆ 0       │\n",
      "│ 693    ┆ BuaIbM3GZYA ┆ 0     ┆ 0       │\n",
      "│ 693    ┆ sx7wKmbtm2A ┆ 1     ┆ 1       │\n",
      "└────────┴─────────────┴───────┴─────────┘\n",
      "shape: (4_454, 4)\n",
      "┌────────┬─────────────┬───────┬─────────┐\n",
      "│ author ┆ video_id    ┆ likes ┆ replies │\n",
      "│ ---    ┆ ---         ┆ ---   ┆ ---     │\n",
      "│ i64    ┆ str         ┆ i64   ┆ i64     │\n",
      "╞════════╪═════════════╪═══════╪═════════╡\n",
      "│ 693    ┆ FZB3mm7Egeo ┆ 0     ┆ 0       │\n",
      "│ 693    ┆ v776jlfm7vE ┆ 0     ┆ 0       │\n",
      "│ 693    ┆ vxtkTijn0_A ┆ 1     ┆ 0       │\n",
      "│ 693    ┆ Os_kffCwIO4 ┆ 0     ┆ 0       │\n",
      "│ 693    ┆ vSROSencBss ┆ 0     ┆ 0       │\n",
      "│ …      ┆ …           ┆ …     ┆ …       │\n",
      "│ 1047   ┆ nVE3g4XLqx8 ┆ 0     ┆ 0       │\n",
      "│ 1047   ┆ DyH11PZQ5Lc ┆ 0     ┆ 0       │\n",
      "│ 1047   ┆ OHELU6I10wQ ┆ 0     ┆ 0       │\n",
      "│ 1047   ┆ OHELU6I10wQ ┆ 1     ┆ 0       │\n",
      "│ 1047   ┆ HyXFtBFXaMo ┆ 1     ┆ 0       │\n",
      "└────────┴─────────────┴───────┴─────────┘\n",
      "shape: (4_280, 4)\n",
      "┌────────┬─────────────┬───────┬─────────┐\n",
      "│ author ┆ video_id    ┆ likes ┆ replies │\n",
      "│ ---    ┆ ---         ┆ ---   ┆ ---     │\n",
      "│ i64    ┆ str         ┆ i64   ┆ i64     │\n",
      "╞════════╪═════════════╪═══════╪═════════╡\n",
      "│ 1047   ┆ 1gHGqkmSSUk ┆ 5     ┆ 0       │\n",
      "│ 1047   ┆ BtjnaKKmHXg ┆ 0     ┆ 0       │\n",
      "│ 1047   ┆ bagj78IQ3l0 ┆ 1     ┆ 0       │\n",
      "│ 1047   ┆ CA4ypEdMj60 ┆ 0     ┆ 0       │\n",
      "│ 1047   ┆ SeL9x6ng9Gc ┆ 0     ┆ 0       │\n",
      "│ …      ┆ …           ┆ …     ┆ …       │\n",
      "│ 1404   ┆ EYCPGi4hvLg ┆ 0     ┆ 0       │\n",
      "│ 1404   ┆ YuCS_l_HvSo ┆ 0     ┆ 0       │\n",
      "│ 1404   ┆ YuCS_l_HvSo ┆ 0     ┆ 0       │\n",
      "│ 1404   ┆ Zp1BYzIVi0U ┆ 0     ┆ 0       │\n",
      "│ 1404   ┆ 8EGn_SNljH8 ┆ 0     ┆ 0       │\n",
      "└────────┴─────────────┴───────┴─────────┘\n",
      "shape: (4_282, 4)\n",
      "┌────────┬─────────────┬───────┬─────────┐\n",
      "│ author ┆ video_id    ┆ likes ┆ replies │\n",
      "│ ---    ┆ ---         ┆ ---   ┆ ---     │\n",
      "│ i64    ┆ str         ┆ i64   ┆ i64     │\n",
      "╞════════╪═════════════╪═══════╪═════════╡\n",
      "│ 1404   ┆ pb6w_v25JxI ┆ 0     ┆ 0       │\n",
      "│ 1404   ┆ l1hZFRe8cH4 ┆ 0     ┆ 0       │\n",
      "│ 1404   ┆ JrrHUgf6VU4 ┆ 0     ┆ 0       │\n",
      "│ 1404   ┆ Qls7ElVrSQg ┆ 0     ┆ 0       │\n",
      "│ 1404   ┆ lwDjctDw9KI ┆ 0     ┆ 0       │\n",
      "│ …      ┆ …           ┆ …     ┆ …       │\n",
      "│ 1695   ┆ gJGqJb8pauE ┆ 0     ┆ 0       │\n",
      "│ 1695   ┆ UQmlu96Y3Ts ┆ 0     ┆ 0       │\n",
      "│ 1695   ┆ HN-SjWyCrwo ┆ 0     ┆ 0       │\n",
      "│ 1695   ┆ zpBRcec_82k ┆ 0     ┆ 0       │\n",
      "│ 1695   ┆ C7BFZTwfYJk ┆ 1     ┆ 0       │\n",
      "└────────┴─────────────┴───────┴─────────┘\n"
     ]
    }
   ],
   "source": [
    "# load yt metadata in chunks and filter for videos contained in filtered_df_ch\n",
    "reader = pl.read_csv_batched(\n",
    "    \"../Youniverse/num_comments_authors.tsv\",\n",
    "    separator=\"\\t\",\n",
    "    batch_size=5000\n",
    ")  \n",
    "batches = reader.next_batches(5)  \n",
    "for df in batches:  \n",
    "    print(df)"
   ]
  },
  {
   "cell_type": "code",
   "execution_count": 18,
   "metadata": {},
   "outputs": [
    {
     "data": {
      "text/plain": [
       "['People & Blogs',\n",
       " 'Pets & Animals',\n",
       " 'Music',\n",
       " 'Travel & Events',\n",
       " 'Science & Technology',\n",
       " 'Gaming',\n",
       " 'News & Politics',\n",
       " 'Entertainment',\n",
       " 'Autos & Vehicles',\n",
       " None,\n",
       " 'Film and Animation',\n",
       " 'Howto & Style',\n",
       " 'Education',\n",
       " 'Sports',\n",
       " 'Comedy',\n",
       " 'Nonprofits & Activism']"
      ]
     },
     "execution_count": 18,
     "metadata": {},
     "output_type": "execute_result"
    }
   ],
   "source": [
    "list(pl_df_f[\"category_cc\"].unique())"
   ]
  },
  {
   "cell_type": "markdown",
   "metadata": {},
   "source": [
    "## Filtering of activity"
   ]
  },
  {
   "cell_type": "code",
   "execution_count": 2,
   "metadata": {},
   "outputs": [
    {
     "data": {
      "text/html": [
       "<div><style>\n",
       ".dataframe > thead > tr,\n",
       ".dataframe > tbody > tr {\n",
       "  text-align: right;\n",
       "  white-space: pre-wrap;\n",
       "}\n",
       "</style>\n",
       "<small>shape: (5, 10)</small><table border=\"1\" class=\"dataframe\"><thead><tr><th>channel</th><th>category</th><th>datetime</th><th>views</th><th>delta_views</th><th>subs</th><th>delta_subs</th><th>videos</th><th>delta_videos</th><th>activity</th></tr><tr><td>str</td><td>str</td><td>str</td><td>f64</td><td>f64</td><td>f64</td><td>f64</td><td>i64</td><td>i64</td><td>i64</td></tr></thead><tbody><tr><td>&quot;UCJww8QPm8oNnyVXpkCyBItQ&quot;</td><td>&quot;Sports&quot;</td><td>&quot;2019-05-27 01:00:00&quot;</td><td>1.5613e7</td><td>1.3935e6</td><td>40853.898148</td><td>3323.054398</td><td>35</td><td>4</td><td>7</td></tr><tr><td>&quot;UCa_BC8f_XoUTGujN8NjsMng&quot;</td><td>&quot;Music&quot;</td><td>&quot;2019-04-29 00:00:00&quot;</td><td>2.1831e7</td><td>125544.75</td><td>108475.0</td><td>385.0</td><td>597</td><td>3</td><td>6</td></tr><tr><td>&quot;UCoykA7vQjXcZa7zo7GorLlg&quot;</td><td>&quot;People &amp; Blogs&quot;</td><td>&quot;2017-07-03 00:00:00&quot;</td><td>4.727559e6</td><td>3583.625</td><td>28097.0</td><td>33.375</td><td>88</td><td>0</td><td>0</td></tr><tr><td>&quot;UC0n7hqQFFEZnwxrcVh09uVA&quot;</td><td>null</td><td>&quot;2017-09-25 00:00:00&quot;</td><td>3.3235e7</td><td>256583.25</td><td>217129.5</td><td>1305.5</td><td>43</td><td>0</td><td>0</td></tr><tr><td>&quot;UC-tdPPVqdLB77oimoSOC4tg&quot;</td><td>&quot;People &amp; Blogs&quot;</td><td>&quot;2019-04-01 00:00:00&quot;</td><td>1.2675e7</td><td>20641.539812</td><td>201634.424084</td><td>102.356375</td><td>66</td><td>0</td><td>0</td></tr></tbody></table></div>"
      ],
      "text/plain": [
       "shape: (5, 10)\n",
       "┌────────────┬────────────┬────────────┬───────────┬───┬───────────┬────────┬───────────┬──────────┐\n",
       "│ channel    ┆ category   ┆ datetime   ┆ views     ┆ … ┆ delta_sub ┆ videos ┆ delta_vid ┆ activity │\n",
       "│ ---        ┆ ---        ┆ ---        ┆ ---       ┆   ┆ s         ┆ ---    ┆ eos       ┆ ---      │\n",
       "│ str        ┆ str        ┆ str        ┆ f64       ┆   ┆ ---       ┆ i64    ┆ ---       ┆ i64      │\n",
       "│            ┆            ┆            ┆           ┆   ┆ f64       ┆        ┆ i64       ┆          │\n",
       "╞════════════╪════════════╪════════════╪═══════════╪═══╪═══════════╪════════╪═══════════╪══════════╡\n",
       "│ UCJww8QPm8 ┆ Sports     ┆ 2019-05-27 ┆ 1.5613e7  ┆ … ┆ 3323.0543 ┆ 35     ┆ 4         ┆ 7        │\n",
       "│ oNnyVXpkCy ┆            ┆ 01:00:00   ┆           ┆   ┆ 98        ┆        ┆           ┆          │\n",
       "│ BItQ       ┆            ┆            ┆           ┆   ┆           ┆        ┆           ┆          │\n",
       "│ UCa_BC8f_X ┆ Music      ┆ 2019-04-29 ┆ 2.1831e7  ┆ … ┆ 385.0     ┆ 597    ┆ 3         ┆ 6        │\n",
       "│ oUTGujN8Nj ┆            ┆ 00:00:00   ┆           ┆   ┆           ┆        ┆           ┆          │\n",
       "│ sMng       ┆            ┆            ┆           ┆   ┆           ┆        ┆           ┆          │\n",
       "│ UCoykA7vQj ┆ People &   ┆ 2017-07-03 ┆ 4.727559e ┆ … ┆ 33.375    ┆ 88     ┆ 0         ┆ 0        │\n",
       "│ XcZa7zo7Go ┆ Blogs      ┆ 00:00:00   ┆ 6         ┆   ┆           ┆        ┆           ┆          │\n",
       "│ rLlg       ┆            ┆            ┆           ┆   ┆           ┆        ┆           ┆          │\n",
       "│ UC0n7hqQFF ┆ null       ┆ 2017-09-25 ┆ 3.3235e7  ┆ … ┆ 1305.5    ┆ 43     ┆ 0         ┆ 0        │\n",
       "│ EZnwxrcVh0 ┆            ┆ 00:00:00   ┆           ┆   ┆           ┆        ┆           ┆          │\n",
       "│ 9uVA       ┆            ┆            ┆           ┆   ┆           ┆        ┆           ┆          │\n",
       "│ UC-tdPPVqd ┆ People &   ┆ 2019-04-01 ┆ 1.2675e7  ┆ … ┆ 102.35637 ┆ 66     ┆ 0         ┆ 0        │\n",
       "│ LB77oimoSO ┆ Blogs      ┆ 00:00:00   ┆           ┆   ┆ 5         ┆        ┆           ┆          │\n",
       "│ C4tg       ┆            ┆            ┆           ┆   ┆           ┆        ┆           ┆          │\n",
       "└────────────┴────────────┴────────────┴───────────┴───┴───────────┴────────┴───────────┴──────────┘"
      ]
     },
     "execution_count": 2,
     "metadata": {},
     "output_type": "execute_result"
    }
   ],
   "source": [
    "df_timeseries = pl.read_csv(\"../Youniverse/df_timeseries_en.tsv\", separator=\"\\t\")\n",
    "df_timeseries.sample(5)"
   ]
  },
  {
   "cell_type": "code",
   "execution_count": 4,
   "metadata": {},
   "outputs": [],
   "source": [
    "df_timeseries.filter(pl.col(\"channel\").is_in(filtered_df_ch[\"channel\"])).write_csv(\"../Youniverse/filtered_df_timeseries_en.tsv\", include_header=True, separator=\"\\t\")"
   ]
  },
  {
   "cell_type": "code",
   "execution_count": 38,
   "metadata": {},
   "outputs": [
    {
     "data": {
      "text/html": [
       "<div><style>\n",
       ".dataframe > thead > tr,\n",
       ".dataframe > tbody > tr {\n",
       "  text-align: right;\n",
       "  white-space: pre-wrap;\n",
       "}\n",
       "</style>\n",
       "<small>shape: (5, 10)</small><table border=\"1\" class=\"dataframe\"><thead><tr><th>channel</th><th>category</th><th>datetime</th><th>views</th><th>delta_views</th><th>subs</th><th>delta_subs</th><th>videos</th><th>delta_videos</th><th>activity</th></tr><tr><td>str</td><td>str</td><td>str</td><td>f64</td><td>f64</td><td>f64</td><td>f64</td><td>i64</td><td>i64</td><td>i64</td></tr></thead><tbody><tr><td>&quot;UCQI9ZdFTDu4m_R_EdC2bNjw&quot;</td><td>&quot;News &amp; Politics&quot;</td><td>&quot;2019-05-13 00:00:00&quot;</td><td>8.3838e6</td><td>30186.545455</td><td>19682.772727</td><td>77.318182</td><td>5766</td><td>86</td><td>180</td></tr><tr><td>&quot;UCDvJcb8Adv-_bOrtnRLmiDw&quot;</td><td>&quot;News &amp; Politics&quot;</td><td>&quot;2016-10-17 00:00:00&quot;</td><td>9.674189e6</td><td>162882.125</td><td>3865.0</td><td>157.5</td><td>0</td><td>0</td><td>0</td></tr><tr><td>&quot;UCnBpjunl76Jb18cxNtUhdfQ&quot;</td><td>&quot;News &amp; Politics&quot;</td><td>&quot;2018-03-18 23:00:00&quot;</td><td>1.8189e6</td><td>8096.454545</td><td>2804.962121</td><td>6.363636</td><td>202</td><td>3</td><td>8</td></tr><tr><td>&quot;UCFA3Ldt_TKmn9-JJXRwT-ow&quot;</td><td>&quot;News &amp; Politics&quot;</td><td>&quot;2017-06-05 00:00:00&quot;</td><td>8.072517e6</td><td>223236.75</td><td>31927.0</td><td>1075.5</td><td>2452</td><td>25</td><td>65</td></tr><tr><td>&quot;UC72UssJ1DNQcakZXm-B2-zw&quot;</td><td>&quot;News &amp; Politics&quot;</td><td>&quot;2019-07-08 00:00:00&quot;</td><td>5.0249e7</td><td>166860.666667</td><td>50782.52381</td><td>162.333333</td><td>9456</td><td>109</td><td>272</td></tr></tbody></table></div>"
      ],
      "text/plain": [
       "shape: (5, 10)\n",
       "┌────────────┬────────────┬────────────┬───────────┬───┬───────────┬────────┬───────────┬──────────┐\n",
       "│ channel    ┆ category   ┆ datetime   ┆ views     ┆ … ┆ delta_sub ┆ videos ┆ delta_vid ┆ activity │\n",
       "│ ---        ┆ ---        ┆ ---        ┆ ---       ┆   ┆ s         ┆ ---    ┆ eos       ┆ ---      │\n",
       "│ str        ┆ str        ┆ str        ┆ f64       ┆   ┆ ---       ┆ i64    ┆ ---       ┆ i64      │\n",
       "│            ┆            ┆            ┆           ┆   ┆ f64       ┆        ┆ i64       ┆          │\n",
       "╞════════════╪════════════╪════════════╪═══════════╪═══╪═══════════╪════════╪═══════════╪══════════╡\n",
       "│ UCQI9ZdFTD ┆ News &     ┆ 2019-05-13 ┆ 8.3838e6  ┆ … ┆ 77.318182 ┆ 5766   ┆ 86        ┆ 180      │\n",
       "│ u4m_R_EdC2 ┆ Politics   ┆ 00:00:00   ┆           ┆   ┆           ┆        ┆           ┆          │\n",
       "│ bNjw       ┆            ┆            ┆           ┆   ┆           ┆        ┆           ┆          │\n",
       "│ UCDvJcb8Ad ┆ News &     ┆ 2016-10-17 ┆ 9.674189e ┆ … ┆ 157.5     ┆ 0      ┆ 0         ┆ 0        │\n",
       "│ v-_bOrtnRL ┆ Politics   ┆ 00:00:00   ┆ 6         ┆   ┆           ┆        ┆           ┆          │\n",
       "│ miDw       ┆            ┆            ┆           ┆   ┆           ┆        ┆           ┆          │\n",
       "│ UCnBpjunl7 ┆ News &     ┆ 2018-03-18 ┆ 1.8189e6  ┆ … ┆ 6.363636  ┆ 202    ┆ 3         ┆ 8        │\n",
       "│ 6Jb18cxNtU ┆ Politics   ┆ 23:00:00   ┆           ┆   ┆           ┆        ┆           ┆          │\n",
       "│ hdfQ       ┆            ┆            ┆           ┆   ┆           ┆        ┆           ┆          │\n",
       "│ UCFA3Ldt_T ┆ News &     ┆ 2017-06-05 ┆ 8.072517e ┆ … ┆ 1075.5    ┆ 2452   ┆ 25        ┆ 65       │\n",
       "│ Kmn9-JJXRw ┆ Politics   ┆ 00:00:00   ┆ 6         ┆   ┆           ┆        ┆           ┆          │\n",
       "│ T-ow       ┆            ┆            ┆           ┆   ┆           ┆        ┆           ┆          │\n",
       "│ UC72UssJ1D ┆ News &     ┆ 2019-07-08 ┆ 5.0249e7  ┆ … ┆ 162.33333 ┆ 9456   ┆ 109       ┆ 272      │\n",
       "│ NQcakZXm-B ┆ Politics   ┆ 00:00:00   ┆           ┆   ┆ 3         ┆        ┆           ┆          │\n",
       "│ 2-zw       ┆            ┆            ┆           ┆   ┆           ┆        ┆           ┆          │\n",
       "└────────────┴────────────┴────────────┴───────────┴───┴───────────┴────────┴───────────┴──────────┘"
      ]
     },
     "execution_count": 38,
     "metadata": {},
     "output_type": "execute_result"
    }
   ],
   "source": [
    "filtered_df_timeseries = pl.read_csv(\"../Youniverse/filtered_df_timeseries_en.tsv\", separator=\"\\t\")\n",
    "filtered_df_timeseries.sample(5)"
   ]
  },
  {
   "cell_type": "code",
   "execution_count": 39,
   "metadata": {},
   "outputs": [
    {
     "data": {
      "image/png": "[encoded data removed]",
      "text/plain": [
       "<Figure size 640x480 with 1 Axes>"
      ]
     },
     "metadata": {},
     "output_type": "display_data"
    }
   ],
   "source": [
    "grouped_df = filtered_df_timeseries.group_by('channel').agg(pl.col('activity').mean().alias('mean_activity'))\n",
    "\n",
    "# Extract the mean activity values into a list\n",
    "mean_activities = grouped_df['mean_activity'].to_list()\n",
    "\n",
    "# Plot histogram of the mean activity values\n",
    "plt.hist(mean_activities, bins='auto', edgecolor=\"black\", alpha=0.7)\n",
    "plt.xlabel('Mean Activity')\n",
    "plt.ylabel('Frequency')\n",
    "plt.title('Histogram of Mean Activity by Channel')\n",
    "plt.xscale(\"log\")\n",
    "plt.show()"
   ]
  },
  {
   "cell_type": "code",
   "execution_count": 40,
   "metadata": {},
   "outputs": [
    {
     "data": {
      "text/plain": [
       "1329"
      ]
     },
     "execution_count": 40,
     "metadata": {},
     "output_type": "execute_result"
    }
   ],
   "source": [
    "len(grouped_df.filter(pl.col(\"mean_activity\")>5))"
   ]
  }
 ],
 "metadata": {
  "kernelspec": {
   "display_name": "ada",
   "language": "python",
   "name": "python3"
  },
  "language_info": {
   "codemirror_mode": {
    "name": "ipython",
    "version": 3
   },
   "file_extension": ".py",
   "mimetype": "text/x-python",
   "name": "python",
   "nbconvert_exporter": "python",
   "pygments_lexer": "ipython3",
   "version": "3.11.10"
  }
 },
 "nbformat": 4,
 "nbformat_minor": 2
}
