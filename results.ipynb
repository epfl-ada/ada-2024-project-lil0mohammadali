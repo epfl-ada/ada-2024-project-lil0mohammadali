{
 "cells": [
  {
   "cell_type": "markdown",
   "metadata": {},
   "source": [
    "# News spreading on youtube from US Channels\n"
   ]
  },
  {
   "cell_type": "markdown",
   "metadata": {},
   "source": [
    "## Table of Contents\n",
    "* [1 Preprocessing and data filtering](#filter_data)\n",
    "    * [1.1 Filter for Category 'News & Politics'](#filter_data-category)\n",
    "    * [1.2 Filter for Active Channels](#filter_data-active)\n",
    "    * [1.3 Get country of channel](#filter_data-country)\n",
    "    * [1.4 Get if channel is english-speaking](#filter_data-english)\n",
    "    * [1.5 Filter for language and country and save final data](#filter_data-save)\n",
    "        * [1.5.1 Filtering relevant comments](#filter_data-comments)\n",
    "* [2 How US News report on different events](#status_quo)\n",
    "    * [2.1 Get relevant videos per event](#status_quo-videos_per_event)\n",
    "    * [2.2 Extract video and channel features](#status_quo-features)\n",
    "    * [2.3 Results and Comparison between Events](#status_quo-results)\n",
    "* [3 How does the public response to events](#public_response)\n",
    "    * [3.1 Compute Public Response Metrics](#public_response-metrics)\n",
    "    * [3.2 Compute Correlation between Video Features and Response Metrics](#public_response-correlation)\n",
    "    * [3.3 Compute F- and T-tests](#public_response-ttest)\n",
    "* [4 Conclusion](#conclusion)"
   ]
  },
  {
   "cell_type": "markdown",
   "metadata": {},
   "source": [
    "**Global imports**"
   ]
  },
  {
   "cell_type": "code",
   "execution_count": 2,
   "metadata": {},
   "outputs": [],
   "source": [
    "import pandas as pd\n",
    "import numpy as np\n",
    "import polars as pl\n",
    "from matplotlib import pyplot as plt\n",
    "\n",
    "from src.scripts import filters\n",
    "from src.utils import analysis_tools"
   ]
  },
  {
   "cell_type": "markdown",
   "metadata": {},
   "source": [
    "**Path definitions**"
   ]
  },
  {
   "cell_type": "code",
   "execution_count": 2,
   "metadata": {},
   "outputs": [],
   "source": [
    "path_df_channels_en = 'data/df_channels_en.tsv'\n",
    "# TODO: not used yet path_df_channels_filtered = 'data/filtered_df_channels_en.csv'\n",
    "\n",
    "path_df_timeseries = 'data/df_timeseries_en.tsv'\n",
    "\n",
    "path_yt_metadata_feather = 'data/yt_metadata_helper.feather'\n",
    "path_yt_metadata_feather_filtered = 'data/filtered_yt_metadata_helper.feather.csv'\n",
    "\n",
    "path_yt_metadata = 'data/yt_metadata_en.jsonl'\n",
    "path_yt_metadata_filtered = 'data/filtered_yt_metadata.csv'\n",
    "\n",
    "path_final_channels = 'data/final_channels.csv'\n",
    "path_final_timeseries = 'data/final_timeseries.csv'\n",
    "path_final_yt_metadata_feather = 'data/final_yt_metadata_helper.csv'\n",
    "path_final_yt_metadata = 'data/final_yt_metadata.csv'"
   ]
  },
  {
   "cell_type": "markdown",
   "metadata": {},
   "source": [
    "## 1 Preprocessing and data filtering  <a class=\"anchor\" id=\"filter_data\"></a>\n",
    "\n"
   ]
  },
  {
   "cell_type": "markdown",
   "metadata": {},
   "source": [
    "### 1.1 Filter for Category 'News & Politics' <a class=\"anchor\" id=\"filter_data-category\"></a>"
   ]
  },
  {
   "cell_type": "code",
   "execution_count": 3,
   "metadata": {},
   "outputs": [
    {
     "name": "stdout",
     "output_type": "stream",
     "text": [
      "Number of channels in category 'News & Politics': 2263\n"
     ]
    }
   ],
   "source": [
    "pl_df_f = pl.read_csv(path_df_channels_en, separator=\"\\t\")\n",
    "\n",
    "filtered_df_ch = filters.filter_df(pl_df_f, column_name=\"category_cc\", \n",
    "                                   value=\"News & Politics\", cmpstr=\"==\")\n",
    "\n",
    "print(f\"Number of channels in category 'News & Politics': {len(filtered_df_ch)}\")"
   ]
  },
  {
   "cell_type": "markdown",
   "metadata": {},
   "source": [
    "### 1.2 Filter for Active Channels <a class=\"anchor\" id=\"filter_data-active\"></a>"
   ]
  },
  {
   "cell_type": "code",
   "execution_count": 4,
   "metadata": {},
   "outputs": [],
   "source": [
    "df_timeseries = pl.read_csv(path_df_timeseries, separator=\"\\t\")\n",
    "\n",
    "filtered_df_timeseries = filters.filter_df_isin(df_timeseries, column_name=\"channel\", \n",
    "                                                values=filtered_df_ch[\"channel\"]) #.write_csv(\"../Youniverse/filtered_df_timeseries_en.tsv\", include_header=True, separator=\"\\t\")"
   ]
  },
  {
   "cell_type": "code",
   "execution_count": 6,
   "metadata": {},
   "outputs": [],
   "source": [
    "grouped_df = filtered_df_timeseries.group_by('channel').agg(pl.col('activity').mean().alias('mean_activity'))\n"
   ]
  },
  {
   "cell_type": "markdown",
   "metadata": {},
   "source": [
    "#### Test activity filter\n",
    "\n",
    "We try to find a threshold by looking at the plot."
   ]
  },
  {
   "cell_type": "code",
   "execution_count": 10,
   "metadata": {},
   "outputs": [
    {
     "data": {
      "image/png": "[encoded data removed]",
      "text/plain": [
       "<Figure size 640x480 with 1 Axes>"
      ]
     },
     "metadata": {},
     "output_type": "display_data"
    }
   ],
   "source": [
    "mean_activities = grouped_df['mean_activity'].to_list()\n",
    "\n",
    "# Plot histogram of the mean activity values\n",
    "plt.hist(mean_activities, bins=100, edgecolor=\"black\", alpha=0.7)\n",
    "plt.xlabel('Mean Activity')\n",
    "plt.ylabel('Frequency')\n",
    "plt.title('Histogram of Mean Activity by Channel')\n",
    "# plt.xscale(\"log\")\n",
    "plt.yscale(\"log\")\n",
    "plt.grid(True, which=\"both\")\n",
    "plt.show()"
   ]
  },
  {
   "cell_type": "markdown",
   "metadata": {},
   "source": [
    "Not real cluster. So we choose reasonable activity as threshold (verifies manually) as 4 videos per day."
   ]
  },
  {
   "cell_type": "markdown",
   "metadata": {},
   "source": [
    "#### filter channels by activity"
   ]
  },
  {
   "cell_type": "code",
   "execution_count": null,
   "metadata": {},
   "outputs": [
    {
     "name": "stdout",
     "output_type": "stream",
     "text": [
      "Number of channels in category 'News & Politics' with more than 4 videos per day: 407\n"
     ]
    }
   ],
   "source": [
    "# merge with channels dataframe\n",
    "filtered_df_ch = filtered_df_ch.join(grouped_df, on=\"channel\", how=\"inner\")\n",
    "\n",
    "filtered_df_ch = filters.filter_df(filtered_df_ch, \"mean_activity\", 56, \">\")\n",
    "\n",
    "# filtered_df_ch.sort(by=\"mean_activity\", descending=True).head(10)\n",
    "\n",
    "print(\"Number of channels in category 'News & Politics' with more than 4 videos per\",\\\n",
    "      f\"day: {len(filtered_df_ch)}\")"
   ]
  },
  {
   "cell_type": "markdown",
   "metadata": {},
   "source": [
    "#### filter yt_metadata by channels obtained before"
   ]
  },
  {
   "cell_type": "markdown",
   "metadata": {},
   "source": [
    "#### Transform feather into csv"
   ]
  },
  {
   "cell_type": "code",
   "execution_count": 4,
   "metadata": {},
   "outputs": [],
   "source": [
    "df_vd_f = pd.read_feather(path_yt_metadata_feather)\n",
    "# save to csv\n",
    "df_vd_f.to_csv(path_yt_metadata_feather+\".csv\", sep=\"\\t\", index=False)"
   ]
  },
  {
   "cell_type": "markdown",
   "metadata": {},
   "source": [
    "#### filter yt_metadata feather csv"
   ]
  },
  {
   "cell_type": "code",
   "execution_count": 12,
   "metadata": {},
   "outputs": [
    {
     "name": "stdout",
     "output_type": "stream",
     "text": [
      "processing batch 14555 ...\r"
     ]
    }
   ],
   "source": [
    "filters.df_filter_csv_batched(path_yt_metadata_feather+\".csv\", path_yt_metadata_feather_filtered,\n",
    "                              column_name=\"channel_id\", values=filtered_df_ch[\"channel\"],\n",
    "                              filter_method=\"is_in\")"
   ]
  },
  {
   "cell_type": "markdown",
   "metadata": {},
   "source": [
    "#### Test if filtering worked"
   ]
  },
  {
   "cell_type": "code",
   "execution_count": null,
   "metadata": {},
   "outputs": [
    {
     "name": "stdout",
     "output_type": "stream",
     "text": [
      "Number of videos from channels of interest (CoI): 6812344\n"
     ]
    }
   ],
   "source": [
    "filtered_df_metadata_feather = pl.read_csv(path_yt_metadata_feather_filtered)\n",
    "# filtered_df_metadata_feather.sample(5)\n",
    "print(\"Number of videos from channels of interest (CoI): \"\\\n",
    "      f\"{len(filtered_df_metadata_feather)}\")"
   ]
  },
  {
   "cell_type": "markdown",
   "metadata": {},
   "source": [
    "#### filter yt_metadata.jsonl with channels obtained earlier"
   ]
  },
  {
   "cell_type": "markdown",
   "metadata": {},
   "source": [
    "##### transform yt_metadata-en.jsonl into csv"
   ]
  },
  {
   "cell_type": "code",
   "execution_count": 9,
   "metadata": {},
   "outputs": [
    {
     "name": "stdout",
     "output_type": "stream",
     "text": [
      "Empty DataFrame\n",
      "Columns: [categories, channel_id, crawl_date, description, dislike_count, display_id, duration, like_count, tags, title, upload_date, view_count]\n",
      "Index: []\n",
      "processing batch 145849 \r"
     ]
    }
   ],
   "source": [
    "filters.df_filter_jsonl_batched(path_yt_metadata, path_yt_metadata_filtered, \n",
    "                                column_name=\"channel_id\", \n",
    "                                values=filtered_df_ch[\"channel\"],\n",
    "                                sep=\"\\t\", batch_size=500)"
   ]
  },
  {
   "cell_type": "markdown",
   "metadata": {},
   "source": [
    "### 1.3 Get country of channel <a class=\"anchor\" id=\"filter_data-country\"></a>"
   ]
  },
  {
   "cell_type": "code",
   "execution_count": null,
   "metadata": {},
   "outputs": [],
   "source": [
    "from src.utils import general_utils"
   ]
  },
  {
   "cell_type": "code",
   "execution_count": null,
   "metadata": {},
   "outputs": [
    {
     "name": "stderr",
     "output_type": "stream",
     "text": [
      "C:\\Users\\jeffr\\AppData\\Local\\Temp\\ipykernel_25620\\2021680753.py:1: MapWithoutReturnDtypeWarning: Calling `map_elements` without specifying `return_dtype` can lead to unpredictable results. Specify `return_dtype` to silence this warning.\n",
      "  high_activity_channels = high_activity_channels.with_columns(\n"
     ]
    }
   ],
   "source": [
    "high_activity_channels = filtered_df_ch.with_columns(\n",
    "    pl.col(\"channel\").map_elements(lambda channel_id:general_utils.get_channel_country(channel_id)).alias(\"Channel_country\")\n",
    ")"
   ]
  },
  {
   "cell_type": "markdown",
   "metadata": {},
   "source": [
    "#### Example of filtered channel dataframe with country"
   ]
  },
  {
   "cell_type": "code",
   "execution_count": null,
   "metadata": {},
   "outputs": [
    {
     "name": "stdout",
     "output_type": "stream",
     "text": [
      "shape: (10, 10)\n",
      "┌────────────┬───────────┬───────────┬───────────┬───┬───────────┬─────────┬───────────┬───────────┐\n",
      "│ category_c ┆ join_date ┆ channel   ┆ name_cc   ┆ … ┆ subscribe ┆ weights ┆ mean_acti ┆ Channel_c │\n",
      "│ c          ┆ ---       ┆ ---       ┆ ---       ┆   ┆ r_rank_sb ┆ ---     ┆ vity      ┆ ountry    │\n",
      "│ ---        ┆ str       ┆ str       ┆ str       ┆   ┆ ---       ┆ f64     ┆ ---       ┆ ---       │\n",
      "│ str        ┆           ┆           ┆           ┆   ┆ f64       ┆         ┆ f64       ┆ str       │\n",
      "╞════════════╪═══════════╪═══════════╪═══════════╪═══╪═══════════╪═════════╪═══════════╪═══════════╡\n",
      "│ News &     ┆ 2017-02-1 ┆ UCMYlXK0j ┆ 10News    ┆ … ┆ 520837.0  ┆ 9.63    ┆ 93.886179 ┆ US        │\n",
      "│ Politics   ┆ 7         ┆ yerVnc3dm ┆ WTSP      ┆   ┆           ┆         ┆           ┆           │\n",
      "│            ┆           ┆ z-vjCA    ┆           ┆   ┆           ┆         ┆           ┆           │\n",
      "│ News &     ┆ 2011-07-0 ┆ UCczsYSRG ┆ Himalaya  ┆ … ┆ 32797.0   ┆ 3.2005  ┆ 89.147436 ┆ NP        │\n",
      "│ Politics   ┆ 6         ┆ ukY9LA7Fd ┆ TV        ┆   ┆           ┆         ┆           ┆           │\n",
      "│            ┆           ┆ _govMw    ┆           ┆   ┆           ┆         ┆           ┆           │\n",
      "│ News &     ┆ 2017-06-1 ┆ UC35KuZBN ┆ GNN       ┆ … ┆ 23812.0   ┆ 2.9445  ┆ 430.84821 ┆ PK        │\n",
      "│ Politics   ┆ 3         ┆ Ij4S5Ls0y ┆           ┆   ┆           ┆         ┆ 4         ┆           │\n",
      "│            ┆           ┆ jY-UHQ    ┆           ┆   ┆           ┆         ┆           ┆           │\n",
      "│ News &     ┆ 2011-12-0 ┆ UCaXkIU1Q ┆ MSNBC     ┆ … ┆ 5600.0    ┆ 2.444   ┆ 253.72258 ┆ Country   │\n",
      "│ Politics   ┆ 1         ┆ idjPwiAYu ┆           ┆   ┆           ┆         ┆ 1         ┆ not       │\n",
      "│            ┆           ┆ 6GcHjg    ┆           ┆   ┆           ┆         ┆           ┆ available │\n",
      "│ News &     ┆ 2011-08-0 ┆ UC_2irx_B ┆ ABN       ┆ … ┆ 4730.0    ┆ 2.3745  ┆ 391.20645 ┆ IN        │\n",
      "│ Politics   ┆ 9         ┆ QR7RsBKmU ┆ Telugu    ┆   ┆           ┆         ┆ 2         ┆           │\n",
      "│            ┆           ┆ V9fePQ    ┆           ┆   ┆           ┆         ┆           ┆           │\n",
      "│ News &     ┆ 2016-04-0 ┆ UC-LGacAu ┆ Newsone   ┆ … ┆ 59946.0   ┆ 3.5715  ┆ 651.68323 ┆ US        │\n",
      "│ Politics   ┆ 5         ┆ 72ou9bsBT ┆ Breaking  ┆   ┆           ┆         ┆           ┆           │\n",
      "│            ┆           ┆ j0I1oQ    ┆           ┆   ┆           ┆         ┆           ┆           │\n",
      "│ News &     ┆ 2017-02-2 ┆ UCsDb5pOn ┆ New Waves ┆ … ┆ 36827.0   ┆ 3.2085  ┆ 223.0     ┆ IN        │\n",
      "│ Politics   ┆ 4         ┆ 303kWylYM ┆           ┆   ┆           ┆         ┆           ┆           │\n",
      "│            ┆           ┆ jlLUWA    ┆           ┆   ┆           ┆         ┆           ┆           │\n",
      "│ News &     ┆ 2010-03-0 ┆ UC4SH8rh0 ┆ Paul      ┆ … ┆ 55146.0   ┆ 3.495   ┆ 71.496774 ┆ US        │\n",
      "│ Politics   ┆ 1         ┆ OjYV3zwqn ┆ Begley    ┆   ┆           ┆         ┆           ┆           │\n",
      "│            ┆           ┆ IfqNbA    ┆           ┆   ┆           ┆         ┆           ┆           │\n",
      "│ News &     ┆ 2017-07-0 ┆ UC_YFbvKe ┆ News4JAX  ┆ … ┆ 554929.0  ┆ 9.622   ┆ 432.65277 ┆ US        │\n",
      "│ Politics   ┆ 3         ┆ djnVjqrZq ┆           ┆   ┆           ┆         ┆ 8         ┆           │\n",
      "│            ┆           ┆ BR4L8Q    ┆           ┆   ┆           ┆         ┆           ┆           │\n",
      "│ News &     ┆ 2015-10-2 ┆ UCxHoBXkY ┆ SOMOY TV  ┆ … ┆ 2114.0    ┆ 2.131   ┆ 377.27777 ┆ US        │\n",
      "│ Politics   ┆ 1         ┆ 88Tb8z1Ss ┆           ┆   ┆           ┆         ┆ 8         ┆           │\n",
      "│            ┆           ┆ j6CWsQ    ┆           ┆   ┆           ┆         ┆           ┆           │\n",
      "└────────────┴───────────┴───────────┴───────────┴───┴───────────┴─────────┴───────────┴───────────┘\n"
     ]
    }
   ],
   "source": [
    "high_activity_channels.write_csv(\"data/high_activity_channels_with_country\")\n",
    "print(high_activity_channels.sample(10))\n"
   ]
  },
  {
   "cell_type": "markdown",
   "metadata": {},
   "source": [
    "### 1.4 Get if channel is english-speaking with CHATGPT LLM API <a class=\"anchor\" id=\"filter_data-english\"></a>\n",
    "\n",
    "Task: Use `filtered_yt_metadata.csv` and `high_activity_channels_with_country.csv` to filter for english videos\n",
    "\n",
    "Since the youtube metadata dataset contains videos that are not from english speaking channels, awe need to do further processing. We use the CHATGPT API to analyze 5 videos and descriptions and if any video is not classified as english, the channel is marked as non-english"
   ]
  },
  {
   "cell_type": "code",
   "execution_count": null,
   "metadata": {},
   "outputs": [],
   "source": [
    "# Load the second dataset (with the list of channel IDs to compare against)\n",
    "channels_df = pd.read_csv(\"data/high_activity_channels_with_country.csv\") \n",
    "channel_ids = set(channels_df['channel'].unique())  \n",
    "chunk_reader = pd.read_csv(\"data/filtered_yt_metadata.csv\", chunksize=5000)\n",
    "\n",
    "matching_videos = []\n",
    "# Dictionary to track how many videos are saved for each channel\n",
    "channel_video_count = {channel_id: 0 for channel_id in channel_ids}\n",
    "\n",
    "for chunk in chunk_reader:\n",
    "    # Filter rows where channel_id in chunk is in the set of channel_ids from channels_df\n",
    "    matching_rows = chunk[chunk['channel_id'].isin(channel_ids)]\n",
    "    for channel_id, group in matching_rows.groupby('channel_id'):\n",
    "        # If we've already saved 5 videos for this channel, skip it\n",
    "        if channel_video_count[channel_id] >= 5:\n",
    "            continue\n",
    "        # Get the first 5 videos for this channel (or fewer if there are less than 5)\n",
    "        first_5_videos = group.head(5 - channel_video_count[channel_id])  # Adjust to avoid exceeding 5\n",
    "        # Add the number of videos saved for this channel\n",
    "        channel_video_count[channel_id] += len(first_5_videos)\n",
    "        matching_videos.append(first_5_videos)\n",
    "\n",
    "# Convert the list into DataFrame\n",
    "final_df = pd.concat(matching_videos, ignore_index=True)\n",
    "final_df.to_csv('data/matching_videos.csv', index=False)\n"
   ]
  },
  {
   "cell_type": "markdown",
   "metadata": {},
   "source": [
    "#### Parsing the video title and description with CHATGPT API"
   ]
  },
  {
   "cell_type": "code",
   "execution_count": 42,
   "metadata": {},
   "outputs": [
    {
     "name": "stdout",
     "output_type": "stream",
     "text": [
      "channel is english\n"
     ]
    }
   ],
   "source": [
    "## TESTING THE FUNCTION \n",
    "\n",
    "from src.utils import general_utils\n",
    "import importlib\n",
    "\n",
    "importlib.reload(general_utils) \n",
    "final_df = pd.read_csv(\"data/matching_videos.csv\")\n",
    "# videos = final_df.loc[final_df['channel_id'] == \"UClMs26ViHFMy7MS897Alcxw\"]\n",
    "result = general_utils.check_channel_english(final_df, \"UClMs26ViHFMy7MS897Alcxw\")"
   ]
  },
  {
   "cell_type": "code",
   "execution_count": null,
   "metadata": {},
   "outputs": [],
   "source": [
    "# Iterate through pandas dataframe and check if channel is english\n",
    "# Check each channel and store results\n",
    "high_activity_channels = high_activity_channels.with_columns(\n",
    "    pl.col(\"channel\").map_elements(lambda channel_id:general_utils.check_channel_english(final_df, channel_id)).alias(\"Is_English\")\n",
    ")"
   ]
  },
  {
   "cell_type": "code",
   "execution_count": null,
   "metadata": {},
   "outputs": [],
   "source": [
    "high_activity_channels.write_csv(\"data/high_activity_channels_country_and_english.csv\")"
   ]
  },
  {
   "cell_type": "markdown",
   "metadata": {},
   "source": [
    "#### Printing value counts for which country channels that speak english and do not speak english are"
   ]
  },
  {
   "cell_type": "code",
   "execution_count": null,
   "metadata": {},
   "outputs": [],
   "source": [
    "filtered = pd.read_csv(\"data/high_activity_channels_country_and_english.csv\")"
   ]
  },
  {
   "cell_type": "code",
   "execution_count": 17,
   "metadata": {},
   "outputs": [
    {
     "name": "stdout",
     "output_type": "stream",
     "text": [
      "278\n",
      "english\n",
      "Channel_country\n",
      "US                   149\n",
      "IN                    49\n",
      "PK                    13\n",
      "Channel not found      9\n",
      "CA                     8\n",
      "GB                     7\n",
      "NG                     6\n",
      "ZA                     4\n",
      "KE                     4\n",
      "PH                     3\n",
      "CN                     3\n",
      "FR                     2\n",
      "GH                     2\n",
      "IL                     2\n",
      "MY                     2\n",
      "QA                     1\n",
      "UK                     1\n",
      "CH                     1\n",
      "UG                     1\n",
      "BZ                     1\n",
      "TR                     1\n",
      "DE                     1\n",
      "EC                     1\n",
      "BD                     1\n",
      "GU                     1\n",
      "PG                     1\n",
      "AU                     1\n",
      "LK                     1\n",
      "SG                     1\n",
      "TH                     1\n",
      "Name: count, dtype: int64\n",
      "not_english\n",
      "Channel_country\n",
      "IN                   81\n",
      "PK                   11\n",
      "US                   10\n",
      "Channel not found     6\n",
      "PH                    5\n",
      "NP                    4\n",
      "BD                    3\n",
      "KE                    2\n",
      "UG                    1\n",
      "GH                    1\n",
      "AE                    1\n",
      "BA                    1\n",
      "LB                    1\n",
      "LK                    1\n",
      "CA                    1\n",
      "Name: count, dtype: int64\n"
     ]
    }
   ],
   "source": [
    "# filtered[\"Is_English\"].value_counts()\n",
    "english = filtered[filtered[\"Is_English\"] == True]\n",
    "print(len(english))\n",
    "print(\"english\")\n",
    "print(english[\"Channel_country\"].value_counts())\n",
    "\n",
    "not_english = filtered[filtered[\"Is_English\"] == False]\n",
    "print(\"not_english\")\n",
    "print(not_english[\"Channel_country\"].value_counts())"
   ]
  },
  {
   "cell_type": "markdown",
   "metadata": {},
   "source": [
    "### 1.5 Filter for language and country and save all the final dataframes <a class=\"anchor\" id=\"filter_data-save\"></a>"
   ]
  },
  {
   "cell_type": "code",
   "execution_count": null,
   "metadata": {},
   "outputs": [],
   "source": [
    "df_final_channels = pl.read_csv(\"data/high_activity_channels_country_and_english.csv\", separator=\",\")\n",
    "df_final_channels = df_final_channels.filter((pl.col(\"Channel_country\") == \"US\") & (pl.col(\"Is_English\") == True))\n",
    "df_final_channels = df_final_channels.rename({\"Is_English\": \"is_english\", \"Channel_country\": \"channel_country\"})\n",
    "\n",
    "df_final_channels.write_csv(path_final_channels, include_header=True, separator=\",\")"
   ]
  },
  {
   "cell_type": "code",
   "execution_count": null,
   "metadata": {},
   "outputs": [
    {
     "name": "stdout",
     "output_type": "stream",
     "text": [
      "processing batch 1366 ...\r"
     ]
    }
   ],
   "source": [
    "# metadata feather\n",
    "filters.df_filter_csv_batched(path_yt_metadata_feather_filtered, path_final_yt_metadata_feather,\n",
    "                              column_name=\"channel_id\", values=df_final_channels[\"channel\"],\n",
    "                              filter_method=\"is_in\", sep_in=\"\\t\", sep_out=\",\")"
   ]
  },
  {
   "cell_type": "code",
   "execution_count": null,
   "metadata": {},
   "outputs": [],
   "source": [
    "# metadata\n",
    "df_final_yt_metadata = pl.read_csv(path_yt_metadata_filtered, has_header=True, \n",
    "                                   separator=\"\\t\", infer_schema=False)\n",
    "df_final_yt_metadata = filters.filter_df_isin(df_final_yt_metadata, \"channel_id\", df_final_channels[\"channel\"])\n",
    "df_final_yt_metadata.write_csv(path_final_yt_metadata, include_header=True, separator=\",\")\n"
   ]
  },
  {
   "cell_type": "code",
   "execution_count": null,
   "metadata": {},
   "outputs": [],
   "source": [
    "# timeseries\n",
    "df_final_timeseries = pl.read_csv(path_df_timeseries, separator=\"\\t\", has_header=True)\n",
    "df_final_timeseries = filters.filter_df_isin(df_final_timeseries, column_name=\"channel\", \n",
    "                                                values=df_final_channels[\"channel\"])\n",
    "df_final_timeseries.write_csv(path_final_timeseries, include_header=True, separator=\",\")\n"
   ]
  },
  {
   "cell_type": "markdown",
   "metadata": {},
   "source": [
    "Summary of Filtering:"
   ]
  },
  {
   "cell_type": "code",
   "execution_count": null,
   "metadata": {},
   "outputs": [
    {
     "name": "stdout",
     "output_type": "stream",
     "text": [
      "Final Number of videos from channels of interest (CoI): 2548064\n",
      "Final channels of interest (CoI): 149\n"
     ]
    }
   ],
   "source": [
    "print(\"Final Number of videos from channels of interest (CoI): \"\\\n",
    "      f\"{len(df_final_yt_metadata)}\")\n",
    "\n",
    "print(\"Final channels of interest (CoI): \"\\\n",
    "      f\"{len(df_final_channels)}\")"
   ]
  },
  {
   "cell_type": "markdown",
   "metadata": {},
   "source": [
    "#### 1.5.1 Filtering relevant comments <a class=\"anchor\" id=\"filter_data-comments\"></a> \n",
    "\n",
    "We want to filter out the comments related the videos in the df_final_yt_metadata. To do this, we initially tried using our personal PCs to filter out the youtube_comments.tsv.gz dataset, but found that it would take multiple months. To address this lack of resources, we use AWS resources for more powerful computations. The code below is running on Amazon Sagemaker and the dataset is stored in a S3 bucket."
   ]
  },
  {
   "cell_type": "code",
   "execution_count": null,
   "metadata": {},
   "outputs": [],
   "source": [
    "import boto3\n",
    "import polars as pl\n",
    "import pandas as pd\n",
    "import s3fs\n",
    "from urllib.parse import urlparse"
   ]
  },
  {
   "cell_type": "code",
   "execution_count": null,
   "metadata": {},
   "outputs": [],
   "source": [
    "# Define the S3 bucket name and any prefix you want to use\n",
    "bucket_name = 'adaproject-lil0mohammedali'\n",
    "\n",
    "# Initialize a session using Boto3\n",
    "s3 = boto3.resource('s3')\n",
    "bucket = s3.Bucket(bucket_name)\n",
    "\n",
    "for obj in bucket.objects.filter():\n",
    "    print(obj.key)\n"
   ]
  },
  {
   "cell_type": "code",
   "execution_count": null,
   "metadata": {},
   "outputs": [],
   "source": [
    "s3_feather_path = \"s3://adaproject-lil0mohammedali/final_yt_metadata_helper.csv\"\n",
    "filtered_df_metadata_feather = pl.read_csv(s3_feather_path)\n",
    "s3_comments_path = \"s3://adaproject-lil0mohammedali/youtube_comments.tsv.gz\"\n",
    "\n",
    "# Initialize S3 filesystem\n",
    "fs = s3fs.S3FileSystem()\n",
    "\n",
    "# Define S3 path and batch size\n",
    "s3_path = s3_comments_path\n",
    "batch_size = 8600000000/100000\n",
    "total_batches = 8600000000/batch_size\n",
    "\n",
    "s3_output_path = 's3://adaproject-lil0mohammedali/filtered_youtube_comments.tsv'  # Output path in S3\n",
    "\n",
    "i = 0\n",
    "# Open the output file on S3 for writing\n",
    "with fs.open(s3_output_path, \"wb\") as output_file:\n",
    "    # Read the file in chunks directly from S3\n",
    "    with fs.open(s3_path, \"rb\") as f:\n",
    "        for chunk in pd.read_csv(f, sep='\\t', compression='gzip', chunksize=batch_size):\n",
    "            # Convert chunk to Polars DataFrame\n",
    "            batch = pl.DataFrame(chunk)\n",
    "            # Filter data based on video_id\n",
    "            filtered_batch = batch.filter(pl.col(\"video_id\").is_in(filtered_df_metadata_feather[\"display_id\"])) \n",
    "            \n",
    "            # For the first batch, include the header\n",
    "            if i == 0:\n",
    "                filtered_batch.write_csv(output_file, include_header=True)\n",
    "            else:\n",
    "                # For subsequent batches, append without the header\n",
    "                filtered_batch.write_csv(output_file, include_header=False)\n",
    "            \n",
    "            i += 1\n",
    "            print(f\"batch {i} / {total_batches} \\r\", end='')"
   ]
  },
  {
   "cell_type": "markdown",
   "metadata": {},
   "source": [
    "## 2 How US News report on different events <a class=\"anchor\" id=\"status_quo\"></a>"
   ]
  },
  {
   "cell_type": "markdown",
   "metadata": {},
   "source": [
    "### 2.1 Get relevant videos per event <a class=\"anchor\" id=\"status_quo-videos_per_event\"></a>\n",
    "\n",
    "TODO: USING JADS CODE AND PLOTS"
   ]
  },
  {
   "cell_type": "markdown",
   "metadata": {},
   "source": [
    "### 2.2 Extract video and channel features<a class=\"anchor\" id=\"status_quo-features\"></a>"
   ]
  },
  {
   "cell_type": "markdown",
   "metadata": {},
   "source": [
    "### 2.3 Results and Comparison between Events <a class=\"anchor\" id=\"status_quo-results\"></a>\n",
    "\n",
    "USE PLOTS"
   ]
  },
  {
   "cell_type": "markdown",
   "metadata": {},
   "source": [
    "## 3 How does the public response to events <a class=\"anchor\" id=\"public_response\"></a>"
   ]
  },
  {
   "cell_type": "markdown",
   "metadata": {},
   "source": [
    "### 3.1 Compute Public Response Metrics <a class=\"anchor\" id=\"public_response-metrics\"></a>"
   ]
  },
  {
   "cell_type": "markdown",
   "metadata": {},
   "source": [
    "#### Replies to comments and number of comments\n",
    "\n",
    "The number of comments per video is given in `final_num_comments.csv`, so no need to compute them. For average replies per comment per video, we can compute it using `final_yt_comments.csv`.\n",
    "\n",
    "**Disclaimer**:\n",
    "At this point of our project we have not yet filtered the comments for the videos we are interested in. Therefore we will only propose a pipeline for the computation of the metrics."
   ]
  },
  {
   "cell_type": "code",
   "execution_count": 4,
   "metadata": {},
   "outputs": [],
   "source": [
    "# load a sample comments dataset\n",
    "path_final_comments = 'data/filtered_youtube_comments_example.tsv'\n",
    "\n",
    "df_comments = pl.read_csv(path_final_comments, separator=\",\", has_header=True)"
   ]
  },
  {
   "cell_type": "code",
   "execution_count": null,
   "metadata": {},
   "outputs": [],
   "source": [
    "replies_metrics = analysis_tools.comment_replies_metrics(df_comments)\n",
    "response_metrics = response_metrics.join(replies_metrics, on=\"video_id\", how=\"inner\")\n",
    "response_metrics"
   ]
  },
  {
   "cell_type": "markdown",
   "metadata": {},
   "source": [
    "### 3.2 Compute Correlation between Video Features and Response Metrics <a class=\"anchor\" id=\"public_response-correlation\"></a>"
   ]
  },
  {
   "cell_type": "markdown",
   "metadata": {},
   "source": [
    "### 3.3 Compute F- and T-tests <a class=\"anchor\" id=\"public_response-ttest\"></a>"
   ]
  },
  {
   "cell_type": "markdown",
   "metadata": {},
   "source": [
    "## 4 Conclusion <a class=\"anchor\" id=\"conclusion\"></a>"
   ]
  }
 ],
 "metadata": {
  "kernelspec": {
   "display_name": "ada",
   "language": "python",
   "name": "python3"
  },
  "language_info": {
   "codemirror_mode": {
    "name": "ipython",
    "version": 3
   },
   "file_extension": ".py",
   "mimetype": "text/x-python",
   "name": "python",
   "nbconvert_exporter": "python",
   "pygments_lexer": "ipython3",
   "version": "3.11.9"
  }
 },
 "nbformat": 4,
 "nbformat_minor": 2
}
