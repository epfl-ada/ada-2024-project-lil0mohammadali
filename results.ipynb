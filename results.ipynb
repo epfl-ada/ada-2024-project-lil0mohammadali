{
 "cells": [
  {
   "cell_type": "markdown",
   "metadata": {},
   "source": [
    "#### imports"
   ]
  },
  {
   "cell_type": "code",
   "execution_count": 2,
   "metadata": {},
   "outputs": [],
   "source": [
    "import pandas as pd\n",
    "import numpy as np\n",
    "import polars as pl\n",
    "from matplotlib import pyplot as plt\n",
    "\n",
    "from src.scripts import filters"
   ]
  },
  {
   "cell_type": "markdown",
   "metadata": {},
   "source": [
    "#### path definitions"
   ]
  },
  {
   "cell_type": "code",
   "execution_count": 3,
   "metadata": {},
   "outputs": [],
   "source": [
    "path_df_channels_en = 'data/df_channels_en.tsv'\n",
    "# TODO: not used yet path_df_channels_filtered = 'data/filtered_df_channels_en.csv'\n",
    "\n",
    "path_df_timeseries = 'data/df_timeseries_en.tsv'\n",
    "\n",
    "path_yt_metadata_feather = 'data/yt_metadata_helper.feather'\n",
    "path_yt_metadata_feather_filtered = 'data/filtered_yt_metadata_helper.feather.csv'\n",
    "\n",
    "path_yt_metadata = 'data/yt_metadata_en.jsonl'\n",
    "path_yt_metadata_filtered = 'data/filtered_yt_metadata.csv'\n",
    "\n",
    "path_final_channels = 'data/final_channels.csv'\n",
    "path_final_timeseries = 'data/final_timeseries.csv'\n",
    "path_final_yt_metadata_feather = 'data/final_yt_metadata_helper.csv'\n",
    "path_final_yt_metadata = 'data/final_yt_metadata.csv'"
   ]
  },
  {
   "cell_type": "markdown",
   "metadata": {},
   "source": [
    "### strcuture of different datasets"
   ]
  },
  {
   "cell_type": "markdown",
   "metadata": {},
   "source": [
    "#### df_channels_en.tsv\n",
    "\n",
    "CSV file, having the following structure:\n",
    "| **category_cc** | **join_date** | **channel**              | **name_cc**             | **subscribers_cc** | **videos_cc** | **subsriber_rank_sb** | **weights** |\n",
    "|-----------------|---------------|--------------------------|-------------------------|--------------------|---------------|-----------------------|-------------|\n",
    "| News & Politics | 2013-03-11    | UCcRgZlgsk5m-aDQa_d6BTkQ | NorthWestLibertyNews... | 16700              | 845           | 639043.0              | 10.0035     |\n",
    "| Gaming          |    2012-01-15 | UCnnXR0VIJVpeL1wEr-bBaRw | Felix Guaman            | 112000             | 703           | 137318.0              | 5.4915      |\n",
    "\n",
    "With:\n",
    "- `category_cc`: most frequent category of the channel. One of: ['Gaming', 'Education', 'Entertainment', 'Howto & Style', 'Sports', 'Music', 'Film and Animation', 'Comedy', 'Nonprofits & Activism', 'People & Blogs', 'News & Politics', 'Science & Technology', 'Pets & Animals', 'Autos & Vehicles', 'Travel & Events', nan]\n",
    "- `join_date`: join date of the channel.\n",
    "- `channel`: unique channel id.\n",
    "- `name_cc`: name of the channel.\n",
    "- `subscribers_cc`: number of subscribers.\n",
    "- `videos_cc`: number of videos.\n",
    "- `subscriber_rank_sb`: rank in terms of number of subscribers.\n",
    "- `weights`: weights cal\n"
   ]
  },
  {
   "cell_type": "markdown",
   "metadata": {},
   "source": [
    "\n",
    "#### yt_metadata_helper.feather   (yt_metadata_helper.feather.csv, filtered_yt_metadata_helper.feather.csv)\n",
    "<div>\n",
    "<style scoped>\n",
    "    .dataframe tbody tr th:only-of-type {\n",
    "        vertical-align: middle;\n",
    "    }\n",
    "\n",
    "    .dataframe tbody tr th {\n",
    "        vertical-align: top;\n",
    "    }\n",
    "\n",
    "    .dataframe thead th {\n",
    "        text-align: right;\n",
    "    }\n",
    "</style>\n",
    "<table border=\"1\" class=\"dataframe\">\n",
    "  <thead>\n",
    "    <tr style=\"text-align: right;\">\n",
    "      <th>categories</th>\n",
    "      <th>channel_id</th>\n",
    "      <th>dislike_count</th>\n",
    "      <th>display_id</th>\n",
    "      <th>duration</th>\n",
    "      <th>like_count</th>\n",
    "      <th>upload_date</th>\n",
    "      <th>view_count</th>\n",
    "    </tr>\n",
    "  </thead>\n",
    "  <tbody>\n",
    "    <tr>\n",
    "      <td>Film &amp; Animation</td>\n",
    "      <td>UCy6sWF4taso5GtrfDGhwpBA</td>\n",
    "      <td>0.0</td>\n",
    "      <td>EXOviJ_EJDo</td>\n",
    "      <td>68</td>\n",
    "      <td>0.0</td>\n",
    "      <td>2011-12-07</td>\n",
    "      <td>76.0</td>\n",
    "    </tr>\n",
    "    <tr>\n",
    "      <td>Gaming</td>\n",
    "      <td>UCEPYwwuGhgA9wfO2It11OXw</td>\n",
    "      <td>0.0</td>\n",
    "      <td>xSKA6VX7Tdo</td>\n",
    "      <td>125</td>\n",
    "      <td>6.0</td>\n",
    "      <td>2016-10-04</td>\n",
    "      <td>198.0</td>\n",
    "    </tr>\n",
    "    <tr>\n",
    "      <td>News &amp; Politics</td>\n",
    "      <td>UCojNA7ZvnmGuIvYnm44wl3Q</td>\n",
    "      <td>NaN</td>\n",
    "      <td>FsucWMijKA4</td>\n",
    "      <td>130</td>\n",
    "      <td>NaN</td>\n",
    "      <td>2010-11-18</td>\n",
    "      <td>106.0</td>\n",
    "    </tr>\n",
    "  </tbody>\n",
    "</table>\n",
    "</div>\n",
    "\n",
    "With (values were crawled from YouTube between 2019-10-29 and 2019-11-23):\n",
    "- `categories`: category (self-defined when they upload a video to YouTube)\n",
    "- `channel_id`: unique channel id\n",
    "- `dislike_count`: dislikes of the video\n",
    "- `display_id`: unique video id\n",
    "- `duration`: duration of the video\n",
    "- `like_count`:likes of the video.\n",
    "- `upload_date`: upload date\n",
    "- `view_count`: views of the video."
   ]
  },
  {
   "cell_type": "markdown",
   "metadata": {},
   "source": [
    "\n",
    "#### yt_metadata.jsonl\n",
    "<div>\n",
    "<style scoped>\n",
    "    .dataframe tbody tr th:only-of-type {\n",
    "        vertical-align: middle;\n",
    "    }\n",
    "\n",
    "    .dataframe tbody tr th {\n",
    "        vertical-align: top;\n",
    "    }\n",
    "\n",
    "    .dataframe thead th {\n",
    "        text-align: right;\n",
    "    }\n",
    "</style>\n",
    "<table border=\"1\" class=\"dataframe\">\n",
    "  <thead>\n",
    "    <tr style=\"text-align: right;\">\n",
    "      <th>categories</th>\n",
    "      <th>channel_id</th>\n",
    "      <th>crawl_date</th>\n",
    "      <th>description</th>\n",
    "      <th>dislike_count</th>\n",
    "      <th>display_id</th>\n",
    "      <th>duration</th>\n",
    "      <th>like_count</th>\n",
    "      <th>tags</th>\n",
    "      <th>title</th>\n",
    "      <th>upload_date</th>\n",
    "      <th>view_count</th>\n",
    "    </tr>\n",
    "  </thead>\n",
    "  <tbody>\n",
    "    <tr>\n",
    "      <td>Film &amp; Animation</td>\n",
    "      <td>UCy6sWF4taso5GtrfDGhwpBA</td>\n",
    "      <td>2019-10-29</td>\n",
    "      <td>description</td>\n",
    "      <td>0.0</td>\n",
    "      <td>EXOviJ_EJDo</td>\n",
    "      <td>68</td>\n",
    "      <td>0.0</td>\n",
    "      <td>tags</td>\n",
    "      <td>title</td>\n",
    "      <td>2011-12-07</td>\n",
    "      <td>76.0</td>\n",
    "    </tr>\n",
    "    <tr>\n",
    "      <td>Gaming</td>\n",
    "      <td>UCEPYwwuGhgA9wfO2It11OXw</td>\n",
    "      <td>2019-10-29</td>\n",
    "      <td>description</td>\n",
    "      <td>0.0</td>\n",
    "      <td>xSKA6VX7Tdo</td>\n",
    "      <td>125</td>\n",
    "      <td>6.0</td>\n",
    "      <td>tags</td>\n",
    "      <td>title</td>\n",
    "      <td>2016-10-04</td>\n",
    "      <td>198.0</td>\n",
    "    </tr>\n",
    "    <tr>\n",
    "      <td>News &amp; Politics</td>\n",
    "      <td>UCojNA7ZvnmGuIvYnm44wl3Q</td>\n",
    "      <td>2019-10-29</td>\n",
    "      <td>description</td>\n",
    "      <td>NaN</td>\n",
    "      <td>FsucWMijKA4</td>\n",
    "      <td>130</td>\n",
    "      <td>NaN</td>\n",
    "      <td>tags</td>\n",
    "      <td>title</td>\n",
    "      <td>2010-11-18</td>\n",
    "      <td>106.0</td>\n",
    "    </tr>\n",
    "  </tbody>\n",
    "</table>\n",
    "</div>\n",
    "\n",
    "With (values were crawled from YouTube between 2019-10-29 and 2019-11-23):\n",
    "- `categories`: category (self-defined when they upload a video to YouTube)\n",
    "- `channel_id`: unique channel id\n",
    "- `dislike_count`: dislikes of the video\n",
    "- `display_id`: unique video id\n",
    "- `duration`: duration of the video\n",
    "- `like_count`:likes of the video.\n",
    "- `upload_date`: upload date\n",
    "- `view_count`: views of the video."
   ]
  },
  {
   "cell_type": "markdown",
   "metadata": {},
   "source": [
    "#### df_timeseries_en.tsv\n",
    "\n",
    "| **channel**              | **category**       | **datetime** | **views**   | **delta_views** | **subs** | **delta_subs** | **videos** | **delta_videos** | **activity** |\n",
    "|--------------------------|--------------------|--------------|-------------|-----------------|----------|----------------|------------|------------------|--------------|\n",
    "| UCBJuEqXfXTdcPSbGO9qqn1g | Film and Animation | 2017-07-03 | 202495  |           0 |  650 |   0        |      5 |            0 |        3 |\n",
    "| UCBJuEqXfXTdcPSbGO9qqn1g | Film and Animation | 2017-07-10 | 394086  |      191591 | 1046 | 396        |      6 |            1 |        1 |\n",
    "\n",
    "With:\n",
    "- `channel`: channel id.\n",
    "- `category`: category of the channel as assigned by `socialblade.com` according to the last 10 videos at time of crawl.\n",
    "- `datetime`: Week related to the data point.\n",
    "- `views`: Total number of views the channel had this week.\n",
    "- `delta_views`: Delta views obtained this week.\n",
    "- `subs`: Total number of subscribers the channel had this week.\n",
    "- `delta_subs`: Delta subscribers obtained this week.\n",
    "- `videos`: Total number of videos the channel had this week.\n",
    "- `delta_videos`: Delta videos obtained this week.\n",
    "- `activity`: Number of videos published in the last 15 days.\n"
   ]
  },
  {
   "cell_type": "markdown",
   "metadata": {},
   "source": [
    "#### youtube_comments.tsv\n",
    "\n",
    "| **author** | **video_id**      |  **likes** |  **replies** |\n",
    "|------|--------------|-------|---------|\n",
    "| 1      | Gkb1QMHrGvA   |  2     |  0       |\n",
    "| 1      | CNtp0xqoods   |  0     |  0       |\n",
    "| 1      | 249EEzQmVmQ   |  1     |  0       |\n",
    "\n",
    "With (data obtained at crawl time between 2019-09-12 and 2019-09-17):\n",
    "- `author`: anonymized author id (unique)\n",
    "- `video_id`: unique video id of the video the comment was written\n",
    "- `likes`: likes for the comment\n",
    "- `replies`: replies for the comment"
   ]
  },
  {
   "cell_type": "markdown",
   "metadata": {},
   "source": [
    "## Filter channels by category \"News & Politics\" and activity"
   ]
  },
  {
   "cell_type": "code",
   "execution_count": 4,
   "metadata": {},
   "outputs": [
    {
     "name": "stdout",
     "output_type": "stream",
     "text": [
      "Number of channels in category 'News & Politics': 2263\n"
     ]
    }
   ],
   "source": [
    "pl_df_f = pl.read_csv(path_df_channels_en, separator=\"\\t\")\n",
    "\n",
    "filtered_df_ch = filters.filter_df(pl_df_f, column_name=\"category_cc\", \n",
    "                                   value=\"News & Politics\", cmpstr=\"==\")\n",
    "\n",
    "print(f\"Number of channels in category 'News & Politics': {len(filtered_df_ch)}\")"
   ]
  },
  {
   "cell_type": "markdown",
   "metadata": {},
   "source": [
    "### Load timeseries dataframe"
   ]
  },
  {
   "cell_type": "code",
   "execution_count": 5,
   "metadata": {},
   "outputs": [],
   "source": [
    "df_timeseries = pl.read_csv(path_df_timeseries, separator=\"\\t\")\n",
    "\n",
    "filtered_df_timeseries = filters.filter_df_isin(df_timeseries, column_name=\"channel\", \n",
    "                                                values=filtered_df_ch[\"channel\"]) #.write_csv(\"../Youniverse/filtered_df_timeseries_en.tsv\", include_header=True, separator=\"\\t\")"
   ]
  },
  {
   "cell_type": "code",
   "execution_count": 6,
   "metadata": {},
   "outputs": [],
   "source": [
    "grouped_df = filtered_df_timeseries.group_by('channel').agg(pl.col('activity').mean().alias('mean_activity'))\n"
   ]
  },
  {
   "cell_type": "markdown",
   "metadata": {},
   "source": [
    "#### Test activity filter\n",
    "\n",
    "We try to find a threshold by looking at the plot."
   ]
  },
  {
   "cell_type": "code",
   "execution_count": 7,
   "metadata": {},
   "outputs": [
    {
     "data": {
      "image/png": "[encoded data removed]",
      "text/plain": [
       "<Figure size 640x480 with 1 Axes>"
      ]
     },
     "metadata": {},
     "output_type": "display_data"
    }
   ],
   "source": [
    "mean_activities = grouped_df['mean_activity'].to_list()\n",
    "\n",
    "# Plot histogram of the mean activity values\n",
    "plt.hist(mean_activities, bins=100, edgecolor=\"black\", alpha=0.7)\n",
    "plt.xlabel('Mean Activity')\n",
    "plt.ylabel('Frequency')\n",
    "plt.title('Histogram of Mean Activity by Channel')\n",
    "# plt.xscale(\"log\")\n",
    "plt.yscale(\"log\")\n",
    "plt.grid(True, which=\"both\")\n",
    "plt.show()"
   ]
  },
  {
   "cell_type": "markdown",
   "metadata": {},
   "source": [
    "Not real cluster. So we choose reasonable activity as threshold (verifies manually) as 4 videos per day."
   ]
  },
  {
   "cell_type": "markdown",
   "metadata": {},
   "source": [
    "#### filter channels by activity"
   ]
  },
  {
   "cell_type": "code",
   "execution_count": 8,
   "metadata": {},
   "outputs": [
    {
     "name": "stdout",
     "output_type": "stream",
     "text": [
      "Number of channels in category 'News & Politics' with more than 4 videos per day: 407\n"
     ]
    }
   ],
   "source": [
    "# merge with channels dataframe\n",
    "filtered_df_ch = filtered_df_ch.join(grouped_df, on=\"channel\", how=\"inner\")\n",
    "\n",
    "filtered_df_ch = filters.filter_df(filtered_df_ch, \"mean_activity\", 56, \">\")\n",
    "\n",
    "# filtered_df_ch.sort(by=\"mean_activity\", descending=True).head(10)\n",
    "\n",
    "print(\"Number of channels in category 'News & Politics' with more than 4 videos per\",\\\n",
    "      f\"day: {len(filtered_df_ch)}\")"
   ]
  },
  {
   "cell_type": "markdown",
   "metadata": {},
   "source": [
    "### filter yt_metadata by channels obtained before"
   ]
  },
  {
   "cell_type": "markdown",
   "metadata": {},
   "source": [
    "#### Transform feather into csv"
   ]
  },
  {
   "cell_type": "code",
   "execution_count": 4,
   "metadata": {},
   "outputs": [],
   "source": [
    "df_vd_f = pd.read_feather(path_yt_metadata_feather)\n",
    "# save to csv\n",
    "df_vd_f.to_csv(path_yt_metadata_feather+\".csv\", sep=\"\\t\", index=False)"
   ]
  },
  {
   "cell_type": "markdown",
   "metadata": {},
   "source": [
    "#### filter yt_metadata feather csv"
   ]
  },
  {
   "cell_type": "code",
   "execution_count": 12,
   "metadata": {},
   "outputs": [
    {
     "name": "stdout",
     "output_type": "stream",
     "text": [
      "processing batch 14555 ...\r"
     ]
    }
   ],
   "source": [
    "filters.df_filter_csv_batched(path_yt_metadata_feather+\".csv\", path_yt_metadata_feather_filtered,\n",
    "                              column_name=\"channel_id\", values=filtered_df_ch[\"channel\"],\n",
    "                              filter_method=\"is_in\")"
   ]
  },
  {
   "cell_type": "markdown",
   "metadata": {},
   "source": [
    "#### Test if filtering worked"
   ]
  },
  {
   "cell_type": "code",
   "execution_count": null,
   "metadata": {},
   "outputs": [
    {
     "name": "stdout",
     "output_type": "stream",
     "text": [
      "Number of videos from channels of interest (CoI): 6812344\n"
     ]
    }
   ],
   "source": [
    "filtered_df_metadata_feather = pl.read_csv(path_yt_metadata_feather_filtered)\n",
    "# filtered_df_metadata_feather.sample(5)\n",
    "print(\"Number of videos from channels of interest (CoI): \"\\\n",
    "      f\"{len(filtered_df_metadata_feather)}\")"
   ]
  },
  {
   "cell_type": "markdown",
   "metadata": {},
   "source": [
    "#### filter yt_metadata.jsonl with channels obtained earlier"
   ]
  },
  {
   "cell_type": "markdown",
   "metadata": {},
   "source": [
    "##### transform yt_metadata-en.jsonl into csv"
   ]
  },
  {
   "cell_type": "code",
   "execution_count": 9,
   "metadata": {},
   "outputs": [
    {
     "name": "stdout",
     "output_type": "stream",
     "text": [
      "Empty DataFrame\n",
      "Columns: [categories, channel_id, crawl_date, description, dislike_count, display_id, duration, like_count, tags, title, upload_date, view_count]\n",
      "Index: []\n",
      "processing batch 145849 \r"
     ]
    }
   ],
   "source": [
    "filters.df_filter_jsonl_batched(path_yt_metadata, path_yt_metadata_filtered, \n",
    "                                column_name=\"channel_id\", \n",
    "                                values=filtered_df_ch[\"channel\"],\n",
    "                                sep=\"\\t\", batch_size=500)"
   ]
  },
  {
   "cell_type": "markdown",
   "metadata": {},
   "source": [
    "# Get country of channel"
   ]
  },
  {
   "cell_type": "code",
   "execution_count": 11,
   "metadata": {},
   "outputs": [
    {
     "data": {
      "text/plain": [
       "<module 'src.utils.general_utils' from 'c:\\\\EPFL\\\\Fall_2024\\\\ADA\\\\Project\\\\src\\\\utils\\\\general_utils.py'>"
      ]
     },
     "execution_count": 11,
     "metadata": {},
     "output_type": "execute_result"
    }
   ],
   "source": [
    "import importlib\n",
    "from src.utils import general_utils\n",
    "importlib.reload(general_utils)"
   ]
  },
  {
   "cell_type": "code",
   "execution_count": 12,
   "metadata": {},
   "outputs": [
    {
     "name": "stderr",
     "output_type": "stream",
     "text": [
      "C:\\Users\\jeffr\\AppData\\Local\\Temp\\ipykernel_27572\\2611294059.py:1: MapWithoutReturnDtypeWarning: Calling `map_elements` without specifying `return_dtype` can lead to unpredictable results. Specify `return_dtype` to silence this warning.\n",
      "  high_activity_channels = filtered_df_ch.with_columns(\n"
     ]
    }
   ],
   "source": [
    "high_activity_channels = filtered_df_ch.with_columns(\n",
    "    pl.col(\"channel\").map_elements(lambda channel_id:general_utils.get_channel_country(channel_id)).alias(\"Channel_country\")\n",
    ")"
   ]
  },
  {
   "cell_type": "markdown",
   "metadata": {},
   "source": [
    "## Example of filtered channel dataframe with country"
   ]
  },
  {
   "cell_type": "code",
   "execution_count": null,
   "metadata": {},
   "outputs": [
    {
     "name": "stdout",
     "output_type": "stream",
     "text": [
      "shape: (10, 10)\n",
      "┌────────────┬───────────┬───────────┬───────────┬───┬───────────┬─────────┬───────────┬───────────┐\n",
      "│ category_c ┆ join_date ┆ channel   ┆ name_cc   ┆ … ┆ subscribe ┆ weights ┆ mean_acti ┆ Channel_c │\n",
      "│ c          ┆ ---       ┆ ---       ┆ ---       ┆   ┆ r_rank_sb ┆ ---     ┆ vity      ┆ ountry    │\n",
      "│ ---        ┆ str       ┆ str       ┆ str       ┆   ┆ ---       ┆ f64     ┆ ---       ┆ ---       │\n",
      "│ str        ┆           ┆           ┆           ┆   ┆ f64       ┆         ┆ f64       ┆ str       │\n",
      "╞════════════╪═══════════╪═══════════╪═══════════╪═══╪═══════════╪═════════╪═══════════╪═══════════╡\n",
      "│ News &     ┆ 2012-12-2 ┆ UCsNdeLwE ┆ News      ┆ … ┆ 7347.0    ┆ 2.5415  ┆ 156.30322 ┆ IN        │\n",
      "│ Politics   ┆ 7         ┆ Zf86swPD3 ┆ Nation    ┆   ┆           ┆         ┆ 6         ┆           │\n",
      "│            ┆           ┆ qJJ7Dw    ┆           ┆   ┆           ┆         ┆           ┆           │\n",
      "│ News &     ┆ 2016-12-1 ┆ UCa8MaD6g ┆ Vesti     ┆ … ┆ 162669.0  ┆ 5.45    ┆ 80.834483 ┆ Channel   │\n",
      "│ Politics   ┆ 2         ┆ Qscto_Nq1 ┆ News      ┆   ┆           ┆         ┆           ┆ not found │\n",
      "│            ┆           ┆ i49iew    ┆           ┆   ┆           ┆         ┆           ┆           │\n",
      "│ News &     ┆ 2006-01-2 ┆ UC5DOK_H_ ┆ WAVY TV   ┆ … ┆ 272526.0  ┆ 6.067   ┆ 224.84659 ┆ US        │\n",
      "│ Politics   ┆ 5         ┆ fkhHBw_7p ┆ 10        ┆   ┆           ┆         ┆ 1         ┆           │\n",
      "│            ┆           ┆ l0TViQ    ┆           ┆   ┆           ┆         ┆           ┆           │\n",
      "│ News &     ┆ 2006-09-2 ┆ UC8p1vwvW ┆ CBS News  ┆ … ┆ 5857.0    ┆ 2.4595  ┆ 311.03205 ┆ US        │\n",
      "│ Politics   ┆ 7         ┆ tl6T73JiE ┆           ┆   ┆           ┆         ┆ 1         ┆           │\n",
      "│            ┆           ┆ xfWs1g    ┆           ┆   ┆           ┆         ┆           ┆           │\n",
      "│ News &     ┆ 2016-11-2 ┆ UCMuseXfH ┆ News1     ┆ … ┆ 112366.0  ┆ 4.895   ┆ 221.16666 ┆ Channel   │\n",
      "│ Politics   ┆ 3         ┆ e2dNgFM6w ┆ India     ┆   ┆           ┆         ┆ 7         ┆ not found │\n",
      "│            ┆           ┆ shlUjw    ┆           ┆   ┆           ┆         ┆           ┆           │\n",
      "│ News &     ┆ 2009-11-3 ┆ UC6ZFN9Tx ┆ PBS       ┆ … ┆ 9056.0    ┆ 2.543   ┆ 145.11612 ┆ US        │\n",
      "│ Politics   ┆ 0         ┆ 6xh-skXCu ┆ NewsHour  ┆   ┆           ┆         ┆ 9         ┆           │\n",
      "│            ┆           ┆ RHCDpQ    ┆           ┆   ┆           ┆         ┆           ┆           │\n",
      "│ News &     ┆ 2007-10-1 ┆ UCKjU3Kzd ┆ CBC News: ┆ … ┆ 28885.0   ┆ 2.9845  ┆ 98.871795 ┆ CA        │\n",
      "│ Politics   ┆ 7         ┆ bJE1EFcHV ┆ The       ┆   ┆           ┆         ┆           ┆           │\n",
      "│            ┆           ┆ qXC3_g    ┆ Nation... ┆   ┆           ┆         ┆           ┆           │\n",
      "│ News &     ┆ 2016-05-1 ┆ UCoRpKmC6 ┆ ANI News  ┆ … ┆ 97629.0   ┆ 3.4125  ┆ 277.53374 ┆ IN        │\n",
      "│ Politics   ┆ 3         ┆ a-DdEa1oh ┆ Official  ┆   ┆           ┆         ┆ 2         ┆           │\n",
      "│            ┆           ┆ xlCgUA    ┆           ┆   ┆           ┆         ┆           ┆           │\n",
      "│ News &     ┆ 2018-07-1 ┆ UCFRlIV1m ┆ NewsFirst ┆ … ┆ 62489.0   ┆ 3.8555  ┆ 65.0      ┆ IN        │\n",
      "│ Politics   ┆ 6         ┆ X-traJb5f ┆ Kannada   ┆   ┆           ┆         ┆           ┆           │\n",
      "│            ┆           ┆ d7S3nw    ┆           ┆   ┆           ┆         ┆           ┆           │\n",
      "│ News &     ┆ 2017-08-2 ┆ UCZhOl-mA ┆ Solika    ┆ … ┆ 189018.0  ┆ 5.9305  ┆ 79.393939 ┆ Channel   │\n",
      "│ Politics   ┆ 1         ┆ JwNMFSl9N ┆ News      ┆   ┆           ┆         ┆           ┆ not found │\n",
      "│            ┆           ┆ q1a8cQ    ┆           ┆   ┆           ┆         ┆           ┆           │\n",
      "└────────────┴───────────┴───────────┴───────────┴───┴───────────┴─────────┴───────────┴───────────┘\n"
     ]
    }
   ],
   "source": [
    "high_activity_channels.write_csv(\"data/high_activity_channels_with_country\")\n",
    "print(high_activity_channels.sample(10))"
   ]
  },
  {
   "cell_type": "markdown",
   "metadata": {},
   "source": [
    "# Filtering out english speaking channels with CHATGPT LLM API\n",
    "\n",
    "Task:Use filtered_yt_metadata.csv and high_activity_channels_with_country.csv to filter for english videos\n",
    "\n",
    "Since the youtube metadata dataset contains videos that are not from english speaking channels, awe need to do further processing. We use the CHATGPT API to analyze 5 videos and descriptions and if any video is not classified as english, the channel is marked as non-english"
   ]
  },
  {
   "cell_type": "code",
   "execution_count": 14,
   "metadata": {},
   "outputs": [],
   "source": [
    "# Load the second dataset (with the list of channel IDs to compare against)\n",
    "channels_df = pd.read_csv(\"data/high_activity_channels_with_country.csv\") \n",
    "channel_ids = set(channels_df['channel'].unique())  \n",
    "chunk_reader = pd.read_csv(\"data/filtered_yt_metadata.csv\", chunksize=5000)\n",
    "\n",
    "matching_videos = []\n",
    "# Dictionary to track how many videos are saved for each channel\n",
    "channel_video_count = {channel_id: 0 for channel_id in channel_ids}\n",
    "\n",
    "for chunk in chunk_reader:\n",
    "    # Filter rows where channel_id in chunk is in the set of channel_ids from channels_df\n",
    "    matching_rows = chunk[chunk['channel_id'].isin(channel_ids)]\n",
    "    for channel_id, group in matching_rows.groupby('channel_id'):\n",
    "        # If we've already saved 5 videos for this channel, skip it\n",
    "        if channel_video_count[channel_id] >= 5:\n",
    "            continue\n",
    "        # Get the first 5 videos for this channel (or fewer if there are less than 5)\n",
    "        first_5_videos = group.head(5 - channel_video_count[channel_id])  # Adjust to avoid exceeding 5\n",
    "        # Add the number of videos saved for this channel\n",
    "        channel_video_count[channel_id] += len(first_5_videos)\n",
    "        matching_videos.append(first_5_videos)\n",
    "\n",
    "# Convert the list into DataFrame\n",
    "final_df = pd.concat(matching_videos, ignore_index=True)\n",
    "final_df.to_csv('data/matching_videos.csv', index=False)\n"
   ]
  },
  {
   "cell_type": "markdown",
   "metadata": {},
   "source": [
    "### Parsing the video title and description with CHATGPT API"
   ]
  },
  {
   "cell_type": "code",
   "execution_count": null,
   "metadata": {},
   "outputs": [
    {
     "name": "stdout",
     "output_type": "stream",
     "text": [
      "channel is english\n"
     ]
    }
   ],
   "source": [
    "## TESTING THE FUNCTION \n",
    "final_df = pd.read_csv(\"data/matching_videos.csv\")\n",
    "result = general_utils.check_channel_english(final_df, \"UClMs26ViHFMy7MS897Alcxw\")"
   ]
  },
  {
   "cell_type": "code",
   "execution_count": null,
   "metadata": {},
   "outputs": [],
   "source": [
    "# Iterate through pandas dataframe and check if channel is english\n",
    "# Check each channel and store results\n",
    "high_activity_channels = high_activity_channels.with_columns(\n",
    "    pl.col(\"channel\").map_elements(lambda channel_id:general_utils.check_channel_english(final_df, channel_id)).alias(\"Is_English\")\n",
    ")"
   ]
  },
  {
   "cell_type": "code",
   "execution_count": null,
   "metadata": {},
   "outputs": [],
   "source": [
    "high_activity_channels.write_csv(\"data/high_activity_channels_country_and_english.csv\")"
   ]
  },
  {
   "cell_type": "markdown",
   "metadata": {},
   "source": [
    "### Printing value counts for which country channels that speak english and do not speak english are"
   ]
  },
  {
   "cell_type": "code",
   "execution_count": 16,
   "metadata": {},
   "outputs": [],
   "source": [
    "filtered = pd.read_csv(\"data/high_activity_channels_country_and_english.csv\")"
   ]
  },
  {
   "cell_type": "code",
   "execution_count": 17,
   "metadata": {},
   "outputs": [
    {
     "name": "stdout",
     "output_type": "stream",
     "text": [
      "English channels\n",
      "Channel_country\n",
      "US                   149\n",
      "IN                    49\n",
      "PK                    13\n",
      "Channel not found      9\n",
      "CA                     8\n",
      "GB                     7\n",
      "NG                     6\n",
      "ZA                     4\n",
      "KE                     4\n",
      "PH                     3\n",
      "CN                     3\n",
      "FR                     2\n",
      "GH                     2\n",
      "IL                     2\n",
      "MY                     2\n",
      "QA                     1\n",
      "UK                     1\n",
      "CH                     1\n",
      "UG                     1\n",
      "BZ                     1\n",
      "TR                     1\n",
      "DE                     1\n",
      "EC                     1\n",
      "BD                     1\n",
      "GU                     1\n",
      "PG                     1\n",
      "AU                     1\n",
      "LK                     1\n",
      "SG                     1\n",
      "TH                     1\n",
      "Name: count, dtype: int64\n",
      "Not channels\n",
      "Channel_country\n",
      "IN                   81\n",
      "PK                   11\n",
      "US                   10\n",
      "Channel not found     6\n",
      "PH                    5\n",
      "NP                    4\n",
      "BD                    3\n",
      "KE                    2\n",
      "UG                    1\n",
      "GH                    1\n",
      "AE                    1\n",
      "BA                    1\n",
      "LB                    1\n",
      "LK                    1\n",
      "CA                    1\n",
      "Name: count, dtype: int64\n"
     ]
    }
   ],
   "source": [
    "english = filtered[filtered[\"Is_English\"] == True]\n",
    "print(\"English channels\")\n",
    "print(english[\"Channel_country\"].value_counts())\n",
    "\n",
    "not_english = filtered[filtered[\"Is_English\"] == False]\n",
    "print(\"Not channels\")\n",
    "print(not_english[\"Channel_country\"].value_counts())"
   ]
  },
  {
   "cell_type": "markdown",
   "metadata": {},
   "source": [
    "## Save all the final dataframes"
   ]
  },
  {
   "cell_type": "code",
   "execution_count": null,
   "metadata": {},
   "outputs": [],
   "source": [
    "df_final_channels = pl.read_csv(\"data/high_activity_channels_country_and_english.csv\", separator=\",\")\n",
    "df_final_channels = df_final_channels.filter((pl.col(\"Channel_country\") == \"US\") & (pl.col(\"Is_English\") == True))\n",
    "df_final_channels = df_final_channels.rename({\"Is_English\": \"is_english\", \"Channel_country\": \"channel_country\"})\n",
    "\n",
    "df_final_channels.write_csv(path_final_channels, include_header=True, separator=\",\")"
   ]
  },
  {
   "cell_type": "code",
   "execution_count": null,
   "metadata": {},
   "outputs": [
    {
     "name": "stdout",
     "output_type": "stream",
     "text": [
      "processing batch 1366 ...\r"
     ]
    }
   ],
   "source": [
    "# metadata feather\n",
    "filters.df_filter_csv_batched(path_yt_metadata_feather_filtered, path_final_yt_metadata_feather,\n",
    "                              column_name=\"channel_id\", values=df_final_channels[\"channel\"],\n",
    "                              filter_method=\"is_in\", sep_in=\"\\t\", sep_out=\",\")"
   ]
  },
  {
   "cell_type": "code",
   "execution_count": null,
   "metadata": {},
   "outputs": [],
   "source": [
    "# metadata\n",
    "df_final_yt_metadata = pl.read_csv(path_yt_metadata_filtered, has_header=True, \n",
    "                                   separator=\"\\t\", infer_schema=False)\n",
    "df_final_yt_metadata = filters.filter_df_isin(df_final_yt_metadata, \"channel_id\", df_final_channels[\"channel\"])\n",
    "df_final_yt_metadata.write_csv(path_final_yt_metadata, include_header=True, separator=\",\")\n"
   ]
  },
  {
   "cell_type": "code",
   "execution_count": null,
   "metadata": {},
   "outputs": [],
   "source": [
    "# timeseries\n",
    "df_final_timeseries = pl.read_csv(path_df_timeseries, separator=\"\\t\", has_header=True)\n",
    "df_final_timeseries = filters.filter_df_isin(df_final_timeseries, column_name=\"channel\", \n",
    "                                                values=df_final_channels[\"channel\"])\n",
    "df_final_timeseries.write_csv(path_final_timeseries, include_header=True, separator=\",\")\n"
   ]
  },
  {
   "cell_type": "markdown",
   "metadata": {},
   "source": [
    "Summary of Filtering:"
   ]
  },
  {
   "cell_type": "code",
   "execution_count": null,
   "metadata": {},
   "outputs": [
    {
     "name": "stdout",
     "output_type": "stream",
     "text": [
      "Final Number of videos from channels of interest (CoI): 2548064\n",
      "Final channels of interest (CoI): 149\n"
     ]
    }
   ],
   "source": [
    "print(\"Final Number of videos from channels of interest (CoI): \"\\\n",
    "      f\"{len(df_final_yt_metadata)}\")\n",
    "\n",
    "print(\"Final channels of interest (CoI): \"\\\n",
    "      f\"{len(df_final_channels)}\")"
   ]
  },
  {
   "cell_type": "markdown",
   "metadata": {},
   "source": [
    "## Filtering relevant comments\n",
    "\n",
    "We want to filter out the comments related the videos in the df_final_yt_metadata. To do this, we initially tried using our personal PCs to filter out the youtube_comments.tsv.gz dataset, but found that it would take multiple months. To address this lack of resources, we use AWS resources for more powerful computations. The code below is running on Amazon Sagemaker and the dataset is stored in a S3 bucket."
   ]
  },
  {
   "cell_type": "code",
   "execution_count": null,
   "metadata": {},
   "outputs": [],
   "source": [
    "import boto3\n",
    "import polars as pl\n",
    "import pandas as pd\n",
    "import s3fs\n",
    "from urllib.parse import urlparse"
   ]
  },
  {
   "cell_type": "code",
   "execution_count": null,
   "metadata": {},
   "outputs": [],
   "source": [
    "# Define the S3 bucket name and any prefix you want to use\n",
    "bucket_name = 'adaproject-lil0mohammedali'\n",
    "\n",
    "# Initialize a session using Boto3\n",
    "s3 = boto3.resource('s3')\n",
    "bucket = s3.Bucket(bucket_name)\n",
    "\n",
    "for obj in bucket.objects.filter():\n",
    "    print(obj.key)\n"
   ]
  },
  {
   "cell_type": "code",
   "execution_count": null,
   "metadata": {},
   "outputs": [],
   "source": [
    "fs = s3fs.S3FileSystem()\n",
    "\n",
    "s3_metadata_path = \"s3://adaproject-lil0mohammedali/final_yt_metadata_helper.csv\"\n",
    "s3_comments_path = \"s3://adaproject-lil0mohammedali/youtube_comments.tsv.gz\"\n",
    "s3_output_path = \"s3://adaproject-lil0mohammedali/filtered_youtube_comments.tsv\"\n",
    "\n",
    "batch_size = int(8600000000 / 100000)  \n",
    "total_batches = 8600000000 / batch_size  \n",
    "\n",
    "filtered_df_metadata_feather = pl.read_csv(s3_metadata_path)\n",
    "\n",
    "with fs.open(s3_output_path, \"wb\") as output_file:\n",
    "    # Open the input comments file on S3\n",
    "    with fs.open(s3_comments_path, \"rb\") as f:\n",
    "        for i, chunk in enumerate(\n",
    "            pl.read_csv(f, sep='\\t', compression='gzip', batch_size=batch_size,\n",
    "            )\n",
    "        ):\n",
    "            filtered_batch = chunk.filter(\n",
    "                pl.col(\"video_id\").is_in(filtered_df_metadata_feather[\"display_id\"])\n",
    "            )\n",
    "            \n",
    "            # For the first batch, include the header; otherwise, append without header\n",
    "            if i == 0:\n",
    "                include_header = 1 \n",
    "            else:\n",
    "                include_header = 0\n",
    "            filtered_batch.write_csv(output_file, include_header=include_header)\n",
    "            \n",
    "            print(f\"Processed batch {i + 1} / {int(total_batches)} \\r\", end=\"\")"
   ]
  },
  {
   "cell_type": "markdown",
   "metadata": {},
   "source": [
    "## FILTER COMMENTS UPDATED"
   ]
  },
  {
   "cell_type": "code",
   "execution_count": null,
   "metadata": {},
   "outputs": [],
   "source": [
    "# # load yt metadata in chunks and filter for videos contained in filtered_df_ch\n",
    "# # df.filter(pl.col(\"categories\") == \"News & Politics\") to filter for categories of videos instead\n",
    "import polars as pl\n",
    "import pandas as pd\n",
    "import time \n",
    "import os\n",
    "\n",
    "# iterate through the comment files \n",
    "tsv_gz_files = []\n",
    "directory = 'comments_line_separated'\n",
    "for root, _, files in os.walk(directory):\n",
    "    for file in files:\n",
    "        if file.endswith(\".gz\"):\n",
    "            tsv_gz_files.append(os.path.join(root, file))\n",
    "            \n",
    "print(tsv_gz_files)\n",
    "video_metadata_df = pl.read_csv(\"data/final_yt_metadata_helper.csv\")\n",
    "# Define the chunk size (number of rows per chunk)\n",
    "chunk_size = 100000\n",
    "NUM_ROWS = 400000000\n",
    "total_chunks = NUM_ROWS / chunk_size\n",
    "# print(video_metadata_df.shape)\n",
    "\n",
    "for i in range(len(tsv_gz_files)):\n",
    "    file_path = tsv_gz_files[i]\n",
    "    print(\"Currently processing: \", file_path)\n",
    "    \n",
    "    start_time = time.time()\n",
    "\n",
    "    # create an iterator for processing the file in chunks, set header=None if part is not \"aa\"\n",
    "    chunk_iterator = pd.read_csv(file_path, \n",
    "                                sep='\\t',  \n",
    "                                compression='gzip',  \n",
    "                                chunksize=chunk_size,\n",
    "                                header=None, \n",
    "                                iterator=True)\n",
    "\n",
    "    out_file = os.path.basename(tsv_gz_files[i])\n",
    "    out_file = out_file[:-3]\n",
    "    out_file = out_file + \"_filtered.csv\"\n",
    "    print(out_file)\n",
    "    \n",
    "    for chunk_number, chunk in enumerate(chunk_iterator):\n",
    "        pl_chunk = pl.from_pandas(chunk)\n",
    "        \n",
    "        filtered_chunk = pl_chunk.filter(pl.col(\"1\").is_in(video_metadata_df[\"display_id\"]))\n",
    "        if chunk_number == 0:\n",
    "            filtered_chunk.write_csv(out_file, include_header=True)\n",
    "        else:\n",
    "            with open(out_file, mode=\"a\") as f:\n",
    "                filtered_chunk.write_csv(f, include_header=False)\n",
    "        if chunk_number % 20 == 0:\n",
    "            print(f\"{chunk_number} / {total_chunks} processed\" )\n",
    "            \n",
    "            \n",
    "    # print time to process files\n",
    "    end_time = time.time()\n",
    "    elapsed_seconds = end_time - start_time\n",
    "\n",
    "    hours, remainder = divmod(elapsed_seconds, 3600)\n",
    "    minutes, seconds = divmod(remainder, 60)\n",
    "\n",
    "    print(f\"Total processing time for file {os.path.basename(file_path)}: {int(hours)} hours, {int(minutes)} minutes, {seconds:.2f} seconds\")"
   ]
  },
  {
   "cell_type": "markdown",
   "metadata": {},
   "source": [
    "Combining the smaller csv files into one filtered csv"
   ]
  },
  {
   "cell_type": "code",
   "execution_count": null,
   "metadata": {},
   "outputs": [],
   "source": [
    "import os\n",
    "import polars as pl\n",
    "\n",
    "def combine_csv_files_polars(input_directory, output_file):\n",
    "    combined_data = []\n",
    "\n",
    "    for root, _, files in os.walk(input_directory):\n",
    "        for file in files:\n",
    "            if file.endswith(\".csv\"): \n",
    "                file_path = os.path.join(root, file)\n",
    "                print(f\"Reading: {file_path}\")\n",
    "                df = pl.read_csv(file_path)\n",
    "                combined_data.append(df)\n",
    "\n",
    "    combined_df = pl.concat(combined_data)\n",
    "        \n",
    "    combined_df.write_csv(output_file)\n",
    "    print(f\"Combined CSV saved to: {output_file}\")\n",
    "\n",
    "input_directory = \"filtered_comments\"  \n",
    "output_file = \"news_videos_filtered_comments.csv\"  \n",
    "\n",
    "combine_csv_files_polars(input_directory, output_file)"
   ]
  },
  {
   "cell_type": "code",
   "execution_count": null,
   "metadata": {},
   "outputs": [
    {
     "name": "stdout",
     "output_type": "stream",
     "text": [
      "shape: (100, 4)\n",
      "┌───────────┬─────────────┬───────┬─────────┐\n",
      "│ author    ┆ video_id    ┆ likes ┆ replies │\n",
      "│ ---       ┆ ---         ┆ ---   ┆ ---     │\n",
      "│ i64       ┆ str         ┆ i64   ┆ i64     │\n",
      "╞═══════════╪═════════════╪═══════╪═════════╡\n",
      "│ 187550223 ┆ ll61nxDqImc ┆ 0     ┆ 1       │\n",
      "│ 187550231 ┆ KMxWRrnQlTs ┆ 0     ┆ 0       │\n",
      "│ 187550303 ┆ GsQY5hcsQcY ┆ 0     ┆ 0       │\n",
      "│ 187550303 ┆ 32aO7vmHHKM ┆ 4     ┆ 0       │\n",
      "│ 187550303 ┆ jQESa88NIjU ┆ 0     ┆ 1       │\n",
      "│ …         ┆ …           ┆ …     ┆ …       │\n",
      "│ 187550571 ┆ 17Xl75GwOaM ┆ 0     ┆ 0       │\n",
      "│ 187550571 ┆ ySPSZ-s2fzM ┆ 0     ┆ 0       │\n",
      "│ 187550571 ┆ EF89VB-nUyM ┆ 3     ┆ 2       │\n",
      "│ 187550571 ┆ L_S3KauQWqk ┆ 0     ┆ 0       │\n",
      "│ 187550571 ┆ G8hnDuPlLI4 ┆ 0     ┆ 1       │\n",
      "└───────────┴─────────────┴───────┴─────────┘\n"
     ]
    }
   ],
   "source": [
    "import polars as pl\n",
    "\n",
    "df = pl.read_csv('news_videos_filtered_comments.csv', n_rows=100)\n",
    "print(df)"
   ]
  },
  {
   "cell_type": "code",
   "execution_count": null,
   "metadata": {},
   "outputs": [],
   "source": [
    "import shutil\n",
    "\n",
    "# updating the header of the filtered comments file\n",
    "\n",
    "from_file = open(\"news_videos_filtered_comments.csv\", 'r')\n",
    "to_file = open(\"updated_news_videos_filtered_comments.csv\", 'w')\n",
    "\n",
    "replacement_line = 'author,video_id,likes,replies\\n'\n",
    "from_file.readline() # and discard\n",
    "to_file.write(replacement_line)\n",
    "shutil.copyfileobj(from_file, to_file)   \n",
    "    "
   ]
  }
 ],
 "metadata": {
  "kernelspec": {
   "display_name": "ada",
   "language": "python",
   "name": "python3"
  },
  "language_info": {
   "codemirror_mode": {
    "name": "ipython",
    "version": 3
   },
   "file_extension": ".py",
   "mimetype": "text/x-python",
   "name": "python",
   "nbconvert_exporter": "python",
   "pygments_lexer": "ipython3",
   "version": "3.11.10"
  }
 },
 "nbformat": 4,
 "nbformat_minor": 2
}
