{
 "cells": [
  {
   "cell_type": "markdown",
   "metadata": {},
   "source": [
    "#### imports"
   ]
  },
  {
   "cell_type": "code",
   "execution_count": 7,
   "metadata": {},
   "outputs": [],
   "source": [
    "import pandas as pd\n",
    "import numpy as np\n",
    "import polars as pl\n",
    "from matplotlib import pyplot as plt\n",
    "\n",
    "from src.scripts import filters"
   ]
  },
  {
   "cell_type": "markdown",
   "metadata": {},
   "source": [
    "#### path definitions"
   ]
  },
  {
   "cell_type": "code",
   "execution_count": null,
   "metadata": {},
   "outputs": [],
   "source": [
    "path_df_channels_en = 'data/df_channels_en.tsv'\n",
    "# TODO: not used yet path_df_channels_filtered = 'data/filtered_df_channels_en.csv'\n",
    "\n",
    "path_df_timeseries = 'data/df_timeseries_en.tsv'\n",
    "\n",
    "path_yt_metadata_feather = 'data/yt_metadata_helper.feather'\n",
    "path_yt_metadata_feather_filtered = 'data/filtered_yt_metadata_helper.feather.csv'\n",
    "\n",
    "path_yt_metadata = 'data/yt_metadata_en.jsonl'\n",
    "path_yt_metadata_filtered = 'data/filtered_yt_metadata.csv'\n",
    "\n",
    "path_final_channels = 'data/final_channels.csv'\n",
    "path_final_timeseries = 'data/final_timeseries.csv'\n",
    "path_final_yt_metadata_feather = 'data/final_yt_metadata_helper.csv'\n",
    "path_final_yt_metadata = 'data/final_yt_metadata.csv'"
   ]
  },
  {
   "cell_type": "markdown",
   "metadata": {},
   "source": [
    "### strcuture of different datasets"
   ]
  },
  {
   "cell_type": "markdown",
   "metadata": {},
   "source": [
    "#### df_channels_en.tsv\n",
    "\n",
    "CSV file, having the following structure:\n",
    "| **category_cc** | **join_date** | **channel**              | **name_cc**             | **subscribers_cc** | **videos_cc** | **subsriber_rank_sb** | **weights** |\n",
    "|-----------------|---------------|--------------------------|-------------------------|--------------------|---------------|-----------------------|-------------|\n",
    "| News & Politics | 2013-03-11    | UCcRgZlgsk5m-aDQa_d6BTkQ | NorthWestLibertyNews... | 16700              | 845           | 639043.0              | 10.0035     |\n",
    "| Gaming          |    2012-01-15 | UCnnXR0VIJVpeL1wEr-bBaRw | Felix Guaman            | 112000             | 703           | 137318.0              | 5.4915      |\n",
    "\n",
    "With:\n",
    "- `category_cc`: most frequent category of the channel. One of: ['Gaming', 'Education', 'Entertainment', 'Howto & Style', 'Sports', 'Music', 'Film and Animation', 'Comedy', 'Nonprofits & Activism', 'People & Blogs', 'News & Politics', 'Science & Technology', 'Pets & Animals', 'Autos & Vehicles', 'Travel & Events', nan]\n",
    "- `join_date`: join date of the channel.\n",
    "- `channel`: unique channel id.\n",
    "- `name_cc`: name of the channel.\n",
    "- `subscribers_cc`: number of subscribers.\n",
    "- `videos_cc`: number of videos.\n",
    "- `subscriber_rank_sb`: rank in terms of number of subscribers.\n",
    "- `weights`: weights cal\n"
   ]
  },
  {
   "cell_type": "markdown",
   "metadata": {},
   "source": [
    "\n",
    "#### yt_metadata_helper.feather   (yt_metadata_helper.feather.csv, filtered_yt_metadata_helper.feather.csv)\n",
    "<div>\n",
    "<style scoped>\n",
    "    .dataframe tbody tr th:only-of-type {\n",
    "        vertical-align: middle;\n",
    "    }\n",
    "\n",
    "    .dataframe tbody tr th {\n",
    "        vertical-align: top;\n",
    "    }\n",
    "\n",
    "    .dataframe thead th {\n",
    "        text-align: right;\n",
    "    }\n",
    "</style>\n",
    "<table border=\"1\" class=\"dataframe\">\n",
    "  <thead>\n",
    "    <tr style=\"text-align: right;\">\n",
    "      <th>categories</th>\n",
    "      <th>channel_id</th>\n",
    "      <th>dislike_count</th>\n",
    "      <th>display_id</th>\n",
    "      <th>duration</th>\n",
    "      <th>like_count</th>\n",
    "      <th>upload_date</th>\n",
    "      <th>view_count</th>\n",
    "    </tr>\n",
    "  </thead>\n",
    "  <tbody>\n",
    "    <tr>\n",
    "      <td>Film &amp; Animation</td>\n",
    "      <td>UCy6sWF4taso5GtrfDGhwpBA</td>\n",
    "      <td>0.0</td>\n",
    "      <td>EXOviJ_EJDo</td>\n",
    "      <td>68</td>\n",
    "      <td>0.0</td>\n",
    "      <td>2011-12-07</td>\n",
    "      <td>76.0</td>\n",
    "    </tr>\n",
    "    <tr>\n",
    "      <td>Gaming</td>\n",
    "      <td>UCEPYwwuGhgA9wfO2It11OXw</td>\n",
    "      <td>0.0</td>\n",
    "      <td>xSKA6VX7Tdo</td>\n",
    "      <td>125</td>\n",
    "      <td>6.0</td>\n",
    "      <td>2016-10-04</td>\n",
    "      <td>198.0</td>\n",
    "    </tr>\n",
    "    <tr>\n",
    "      <td>News &amp; Politics</td>\n",
    "      <td>UCojNA7ZvnmGuIvYnm44wl3Q</td>\n",
    "      <td>NaN</td>\n",
    "      <td>FsucWMijKA4</td>\n",
    "      <td>130</td>\n",
    "      <td>NaN</td>\n",
    "      <td>2010-11-18</td>\n",
    "      <td>106.0</td>\n",
    "    </tr>\n",
    "  </tbody>\n",
    "</table>\n",
    "</div>\n",
    "\n",
    "With (values were crawled from YouTube between 2019-10-29 and 2019-11-23):\n",
    "- `categories`: category (self-defined when they upload a video to YouTube)\n",
    "- `channel_id`: unique channel id\n",
    "- `dislike_count`: dislikes of the video\n",
    "- `display_id`: unique video id\n",
    "- `duration`: duration of the video\n",
    "- `like_count`:likes of the video.\n",
    "- `upload_date`: upload date\n",
    "- `view_count`: views of the video."
   ]
  },
  {
   "cell_type": "markdown",
   "metadata": {},
   "source": [
    "\n",
    "#### yt_metadata.jsonl\n",
    "<div>\n",
    "<style scoped>\n",
    "    .dataframe tbody tr th:only-of-type {\n",
    "        vertical-align: middle;\n",
    "    }\n",
    "\n",
    "    .dataframe tbody tr th {\n",
    "        vertical-align: top;\n",
    "    }\n",
    "\n",
    "    .dataframe thead th {\n",
    "        text-align: right;\n",
    "    }\n",
    "</style>\n",
    "<table border=\"1\" class=\"dataframe\">\n",
    "  <thead>\n",
    "    <tr style=\"text-align: right;\">\n",
    "      <th>categories</th>\n",
    "      <th>channel_id</th>\n",
    "      <th>crawl_date</th>\n",
    "      <th>description</th>\n",
    "      <th>dislike_count</th>\n",
    "      <th>display_id</th>\n",
    "      <th>duration</th>\n",
    "      <th>like_count</th>\n",
    "      <th>tags</th>\n",
    "      <th>title</th>\n",
    "      <th>upload_date</th>\n",
    "      <th>view_count</th>\n",
    "    </tr>\n",
    "  </thead>\n",
    "  <tbody>\n",
    "    <tr>\n",
    "      <td>Film &amp; Animation</td>\n",
    "      <td>UCy6sWF4taso5GtrfDGhwpBA</td>\n",
    "      <td>2019-10-29</td>\n",
    "      <td>description</td>\n",
    "      <td>0.0</td>\n",
    "      <td>EXOviJ_EJDo</td>\n",
    "      <td>68</td>\n",
    "      <td>0.0</td>\n",
    "      <td>tags</td>\n",
    "      <td>title</td>\n",
    "      <td>2011-12-07</td>\n",
    "      <td>76.0</td>\n",
    "    </tr>\n",
    "    <tr>\n",
    "      <td>Gaming</td>\n",
    "      <td>UCEPYwwuGhgA9wfO2It11OXw</td>\n",
    "      <td>2019-10-29</td>\n",
    "      <td>description</td>\n",
    "      <td>0.0</td>\n",
    "      <td>xSKA6VX7Tdo</td>\n",
    "      <td>125</td>\n",
    "      <td>6.0</td>\n",
    "      <td>tags</td>\n",
    "      <td>title</td>\n",
    "      <td>2016-10-04</td>\n",
    "      <td>198.0</td>\n",
    "    </tr>\n",
    "    <tr>\n",
    "      <td>News &amp; Politics</td>\n",
    "      <td>UCojNA7ZvnmGuIvYnm44wl3Q</td>\n",
    "      <td>2019-10-29</td>\n",
    "      <td>description</td>\n",
    "      <td>NaN</td>\n",
    "      <td>FsucWMijKA4</td>\n",
    "      <td>130</td>\n",
    "      <td>NaN</td>\n",
    "      <td>tags</td>\n",
    "      <td>title</td>\n",
    "      <td>2010-11-18</td>\n",
    "      <td>106.0</td>\n",
    "    </tr>\n",
    "  </tbody>\n",
    "</table>\n",
    "</div>\n",
    "\n",
    "With (values were crawled from YouTube between 2019-10-29 and 2019-11-23):\n",
    "- `categories`: category (self-defined when they upload a video to YouTube)\n",
    "- `channel_id`: unique channel id\n",
    "- `dislike_count`: dislikes of the video\n",
    "- `display_id`: unique video id\n",
    "- `duration`: duration of the video\n",
    "- `like_count`:likes of the video.\n",
    "- `upload_date`: upload date\n",
    "- `view_count`: views of the video."
   ]
  },
  {
   "cell_type": "markdown",
   "metadata": {},
   "source": [
    "#### df_timeseries_en.tsv\n",
    "\n",
    "| **channel**              | **category**       | **datetime** | **views**   | **delta_views** | **subs** | **delta_subs** | **videos** | **delta_videos** | **activity** |\n",
    "|--------------------------|--------------------|--------------|-------------|-----------------|----------|----------------|------------|------------------|--------------|\n",
    "| UCBJuEqXfXTdcPSbGO9qqn1g | Film and Animation | 2017-07-03 | 202495  |           0 |  650 |   0        |      5 |            0 |        3 |\n",
    "| UCBJuEqXfXTdcPSbGO9qqn1g | Film and Animation | 2017-07-10 | 394086  |      191591 | 1046 | 396        |      6 |            1 |        1 |\n",
    "\n",
    "With:\n",
    "- `channel`: channel id.\n",
    "- `category`: category of the channel as assigned by `socialblade.com` according to the last 10 videos at time of crawl.\n",
    "- `datetime`: Week related to the data point.\n",
    "- `views`: Total number of views the channel had this week.\n",
    "- `delta_views`: Delta views obtained this week.\n",
    "- `subs`: Total number of subscribers the channel had this week.\n",
    "- `delta_subs`: Delta subscribers obtained this week.\n",
    "- `videos`: Total number of videos the channel had this week.\n",
    "- `delta_videos`: Delta videos obtained this week.\n",
    "- `activity`: Number of videos published in the last 15 days.\n"
   ]
  },
  {
   "cell_type": "markdown",
   "metadata": {},
   "source": [
    "#### youtube_comments.tsv\n",
    "\n",
    "| **author** | **video_id**      |  **likes** |  **replies** |\n",
    "|------|--------------|-------|---------|\n",
    "| 1      | Gkb1QMHrGvA   |  2     |  0       |\n",
    "| 1      | CNtp0xqoods   |  0     |  0       |\n",
    "| 1      | 249EEzQmVmQ   |  1     |  0       |\n",
    "\n",
    "With (data obtained at crawl time between 2019-09-12 and 2019-09-17):\n",
    "- `author`: anonymized author id (unique)\n",
    "- `video_id`: unique video id of the video the comment was written\n",
    "- `likes`: likes for the comment\n",
    "- `replies`: replies for the comment"
   ]
  },
  {
   "cell_type": "markdown",
   "metadata": {},
   "source": [
    "## Filter channels by category \"News & Politics\" and activity"
   ]
  },
  {
   "cell_type": "code",
   "execution_count": 3,
   "metadata": {},
   "outputs": [
    {
     "name": "stdout",
     "output_type": "stream",
     "text": [
      "Number of channels in category 'News & Politics': 2263\n"
     ]
    }
   ],
   "source": [
    "pl_df_f = pl.read_csv(path_df_channels_en, separator=\"\\t\")\n",
    "\n",
    "filtered_df_ch = filters.filter_df(pl_df_f, column_name=\"category_cc\", \n",
    "                                   value=\"News & Politics\", cmpstr=\"==\")\n",
    "\n",
    "print(f\"Number of channels in category 'News & Politics': {len(filtered_df_ch)}\")"
   ]
  },
  {
   "cell_type": "markdown",
   "metadata": {},
   "source": [
    "### Load timeseries dataframe"
   ]
  },
  {
   "cell_type": "code",
   "execution_count": null,
   "metadata": {},
   "outputs": [],
   "source": [
    "df_timeseries = pl.read_csv(path_df_timeseries, separator=\"\\t\")\n",
    "\n",
    "filtered_df_timeseries = filters.filter_df_isin(df_timeseries, column_name=\"channel\", \n",
    "                                                values=filtered_df_ch[\"channel\"]) "
   ]
  },
  {
   "cell_type": "code",
   "execution_count": 6,
   "metadata": {},
   "outputs": [],
   "source": [
    "grouped_df = filtered_df_timeseries.group_by('channel').agg(pl.col('activity').mean().alias('mean_activity'))\n"
   ]
  },
  {
   "cell_type": "markdown",
   "metadata": {},
   "source": [
    "#### Test activity filter\n",
    "\n",
    "We try to find a threshold by looking at the plot."
   ]
  },
  {
   "cell_type": "code",
   "execution_count": 10,
   "metadata": {},
   "outputs": [
    {
     "data": {
      "image/png": "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",
      "text/plain": [
       "<Figure size 640x480 with 1 Axes>"
      ]
     },
     "metadata": {},
     "output_type": "display_data"
    }
   ],
   "source": [
    "mean_activities = grouped_df['mean_activity'].to_list()\n",
    "\n",
    "# Plot histogram of the mean activity values\n",
    "plt.hist(mean_activities, bins=100, edgecolor=\"black\", alpha=0.7)\n",
    "plt.xlabel('Mean Activity')\n",
    "plt.ylabel('Frequency')\n",
    "plt.title('Histogram of Mean Activity by Channel')\n",
    "# plt.xscale(\"log\")\n",
    "plt.yscale(\"log\")\n",
    "plt.grid(True, which=\"both\")\n",
    "plt.show()"
   ]
  },
  {
   "cell_type": "markdown",
   "metadata": {},
   "source": [
    "Not real cluster. So we choose reasonable activity as threshold (verifies manually) as 4 videos per day."
   ]
  },
  {
   "cell_type": "markdown",
   "metadata": {},
   "source": [
    "#### filter channels by activity"
   ]
  },
  {
   "cell_type": "code",
   "execution_count": null,
   "metadata": {},
   "outputs": [
    {
     "name": "stdout",
     "output_type": "stream",
     "text": [
      "Number of channels in category 'News & Politics' with more than 4 videos per day: 407\n"
     ]
    }
   ],
   "source": [
    "# merge with channels dataframe\n",
    "filtered_df_ch = filtered_df_ch.join(grouped_df, on=\"channel\", how=\"inner\")\n",
    "\n",
    "filtered_df_ch = filters.filter_df(filtered_df_ch, \"mean_activity\", 56, \">\")\n",
    "\n",
    "# filtered_df_ch.sort(by=\"mean_activity\", descending=True).head(10)\n",
    "\n",
    "print(\"Number of channels in category 'News & Politics' with more than 4 videos per\",\\\n",
    "      f\"day: {len(filtered_df_ch)}\")"
   ]
  },
  {
   "cell_type": "markdown",
   "metadata": {},
   "source": [
    "### filter yt_metadata by channels obtained before"
   ]
  },
  {
   "cell_type": "markdown",
   "metadata": {},
   "source": [
    "#### Transform feather into csv"
   ]
  },
  {
   "cell_type": "code",
   "execution_count": null,
   "metadata": {},
   "outputs": [],
   "source": [
    "df_vd_f = pd.read_feather(path_yt_metadata_feather)\n",
    "# save to csv\n",
    "df_vd_f.to_csv(path_yt_metadata_feather+\".csv\", sep=\"\\t\", index=False)"
   ]
  },
  {
   "cell_type": "markdown",
   "metadata": {},
   "source": [
    "#### filter yt_metadata feather csv"
   ]
  },
  {
   "cell_type": "code",
   "execution_count": 12,
   "metadata": {},
   "outputs": [
    {
     "name": "stdout",
     "output_type": "stream",
     "text": [
      "processing batch 14555 ...\r"
     ]
    }
   ],
   "source": [
    "filters.df_filter_csv_batched(path_yt_metadata_feather+\".csv\", path_yt_metadata_feather_filtered,\n",
    "                              column_name=\"channel_id\", values=filtered_df_ch[\"channel\"],\n",
    "                              filter_method=\"is_in\")"
   ]
  },
  {
   "cell_type": "markdown",
   "metadata": {},
   "source": [
    "#### Test if filtering worked"
   ]
  },
  {
   "cell_type": "code",
   "execution_count": null,
   "metadata": {},
   "outputs": [
    {
     "name": "stdout",
     "output_type": "stream",
     "text": [
      "Number of videos from channels of interest (CoI): 6812344\n"
     ]
    }
   ],
   "source": [
    "filtered_df_metadata_feather = pl.read_csv(path_yt_metadata_feather_filtered)\n",
    "# filtered_df_metadata_feather.sample(5)\n",
    "print(\"Number of videos from channels of interest (CoI): \"\\\n",
    "      f\"{len(filtered_df_metadata_feather)}\")"
   ]
  },
  {
   "cell_type": "markdown",
   "metadata": {},
   "source": [
    "#### filter yt_metadata.jsonl with channels obtained earlier"
   ]
  },
  {
   "cell_type": "markdown",
   "metadata": {},
   "source": [
    "##### transform yt_metadata-en.jsonl into csv"
   ]
  },
  {
   "cell_type": "code",
   "execution_count": 9,
   "metadata": {},
   "outputs": [
    {
     "name": "stdout",
     "output_type": "stream",
     "text": [
      "Empty DataFrame\n",
      "Columns: [categories, channel_id, crawl_date, description, dislike_count, display_id, duration, like_count, tags, title, upload_date, view_count]\n",
      "Index: []\n",
      "processing batch 145849 \r"
     ]
    }
   ],
   "source": [
    "filters.df_filter_jsonl_batched(path_yt_metadata, path_yt_metadata_filtered, \n",
    "                                column_name=\"channel_id\", \n",
    "                                values=filtered_df_ch[\"channel\"],\n",
    "                                sep=\"\\t\", batch_size=500)"
   ]
  },
  {
   "cell_type": "markdown",
   "metadata": {},
   "source": [
<<<<<<< HEAD
    "##### NOT USED"
   ]
  },
  {
   "cell_type": "code",
   "execution_count": null,
   "metadata": {},
   "outputs": [],
   "source": [
    "filters.df_filter_csv_batched(path, path_yt_metadata_feather_filtered,\n",
    "                              column_name=\"channel_id\", values=filtered_df_ch[\"channel\"],\n",
    "                              filter_method=\"is_in\", batch_size=10000)"
   ]
  },
  {
   "cell_type": "code",
   "execution_count": null,
   "metadata": {},
   "outputs": [],
   "source": [
    "# load yt metadata in chunks and filter for videos contained in filtered_df_ch\n",
    "# df.filter(pl.col(\"categories\") == \"News & Politics\") to filter for categories of videos instead\n",
    "batch_size = 10000\n",
    "reader = pl.read_csv_batched(\n",
    "    \"../Youniverse/youtube_comments.tsv\",\n",
    "    separator=\"\\t\",\n",
    "    batch_size= batch_size\n",
    ")\n",
    "\n",
    "total_batches = 8600000000/batch_size\n",
    "\n",
    "batches = reader.next_batches(5)  \n",
    "i = 0\n",
    "while batches:\n",
    "    for df in batches:\n",
    "        if i == 0:\n",
    "            # df.filter(pl.col(\"video_id\").is_in(filtered_df_metadata_feather[\"display_id\"])).write_csv(\"../Youniverse/filtered_youtube_comments.tsv\", include_header=True)\n",
    "            df.filter(pl.col(\"video_id\") == \"fXN0ABkfZ7M\").write_csv(\"../Youniverse/filtered_youtube_comments.tsv\", include_header=True)\n",
    "        else:\n",
    "            with open(\"../Youniverse/filtered_youtube_comments.tsv\", \"a\") as fh:\n",
    "                fh.write(df.filter(pl.col(\"video_id\") == \"fXN0ABkfZ7M\").write_csv(file=None, include_header=False))\n",
    "        i = i+1\n",
    "        print(f\"batch {i} / {total_batches} \\r\", end='')\n",
    "    batches = reader.next_batches(5)"
   ]
  },
  {
   "cell_type": "markdown",
   "metadata": {},
   "source": [
    "#### Helper function to save polars df to csv"
=======
    "## Jeffereys part"
>>>>>>> refs/remotes/origin/filter_data
   ]
  },
  {
   "cell_type": "code",
   "execution_count": null,
   "metadata": {},
   "outputs": [],
   "source": [
    "def write_polars_to_csv(polars_dataframe, name):\n",
    "# # Convert to pandas DataFrame\n",
    "    polars_dataframe = polars_dataframe.to_pandas()\n",
    "\n",
    "    # Write the DataFrame to a CSV file\n",
    "    polars_dataframe.to_csv(f\"{name}.csv\", index=False)"
   ]
  },
  {
   "cell_type": "markdown",
   "metadata": {},
   "source": [
    "# Get country of channel"
   ]
  },
  {
   "cell_type": "code",
   "execution_count": null,
   "metadata": {},
   "outputs": [],
   "source": [
    "import keys\n",
    "YOUTUBE_KEY = keys.YOUTUBE_API_KEY\n",
    "OPEN_API_KEY = keys.OPENAI_API_KEY"
   ]
  },
  {
   "cell_type": "code",
   "execution_count": null,
   "metadata": {},
   "outputs": [],
   "source": [
    "from googleapiclient.discovery import build\n",
    "\n",
    "youtube = build('youtube', 'v3', developerKey=YOUTUBE_KEY)\n",
    "\n",
    "def get_channel_country(channel_id):\n",
    "    request = youtube.channels().list(\n",
    "        part=\"snippet\",\n",
    "        id=channel_id\n",
    "    )\n",
    "    \n",
    "    response = request.execute()\n",
    "    \n",
    "    # Check if the response contains the necessary information\n",
    "    if \"items\" in response and len(response[\"items\"]) > 0:\n",
    "        country = response[\"items\"][0][\"snippet\"].get(\"country\", \"Country not available\")\n",
    "        return country\n",
    "    else:\n",
    "        return \"Channel not found\"\n"
   ]
  },
  {
   "cell_type": "code",
   "execution_count": null,
   "metadata": {},
   "outputs": [
    {
     "name": "stderr",
     "output_type": "stream",
     "text": [
      "C:\\Users\\jeffr\\AppData\\Local\\Temp\\ipykernel_25620\\2021680753.py:1: MapWithoutReturnDtypeWarning: Calling `map_elements` without specifying `return_dtype` can lead to unpredictable results. Specify `return_dtype` to silence this warning.\n",
      "  high_activity_channels = high_activity_channels.with_columns(\n"
     ]
    }
   ],
   "source": [
    "high_activity_channels = filtered_df_ch.with_columns(\n",
    "    pl.col(\"channel\").map_elements(lambda channel_id:get_channel_country(channel_id)).alias(\"Channel_country\")\n",
    ")"
   ]
  },
  {
   "cell_type": "markdown",
   "metadata": {},
   "source": [
    "## Example of filtered channel dataframe with country"
   ]
  },
  {
   "cell_type": "code",
   "execution_count": null,
   "metadata": {},
   "outputs": [
    {
     "name": "stdout",
     "output_type": "stream",
     "text": [
      "shape: (10, 10)\n",
      "┌────────────┬───────────┬───────────┬───────────┬───┬───────────┬─────────┬───────────┬───────────┐\n",
      "│ category_c ┆ join_date ┆ channel   ┆ name_cc   ┆ … ┆ subscribe ┆ weights ┆ mean_acti ┆ Channel_c │\n",
      "│ c          ┆ ---       ┆ ---       ┆ ---       ┆   ┆ r_rank_sb ┆ ---     ┆ vity      ┆ ountry    │\n",
      "│ ---        ┆ str       ┆ str       ┆ str       ┆   ┆ ---       ┆ f64     ┆ ---       ┆ ---       │\n",
      "│ str        ┆           ┆           ┆           ┆   ┆ f64       ┆         ┆ f64       ┆ str       │\n",
      "╞════════════╪═══════════╪═══════════╪═══════════╪═══╪═══════════╪═════════╪═══════════╪═══════════╡\n",
      "│ News &     ┆ 2017-02-1 ┆ UCMYlXK0j ┆ 10News    ┆ … ┆ 520837.0  ┆ 9.63    ┆ 93.886179 ┆ US        │\n",
      "│ Politics   ┆ 7         ┆ yerVnc3dm ┆ WTSP      ┆   ┆           ┆         ┆           ┆           │\n",
      "│            ┆           ┆ z-vjCA    ┆           ┆   ┆           ┆         ┆           ┆           │\n",
      "│ News &     ┆ 2011-07-0 ┆ UCczsYSRG ┆ Himalaya  ┆ … ┆ 32797.0   ┆ 3.2005  ┆ 89.147436 ┆ NP        │\n",
      "│ Politics   ┆ 6         ┆ ukY9LA7Fd ┆ TV        ┆   ┆           ┆         ┆           ┆           │\n",
      "│            ┆           ┆ _govMw    ┆           ┆   ┆           ┆         ┆           ┆           │\n",
      "│ News &     ┆ 2017-06-1 ┆ UC35KuZBN ┆ GNN       ┆ … ┆ 23812.0   ┆ 2.9445  ┆ 430.84821 ┆ PK        │\n",
      "│ Politics   ┆ 3         ┆ Ij4S5Ls0y ┆           ┆   ┆           ┆         ┆ 4         ┆           │\n",
      "│            ┆           ┆ jY-UHQ    ┆           ┆   ┆           ┆         ┆           ┆           │\n",
      "│ News &     ┆ 2011-12-0 ┆ UCaXkIU1Q ┆ MSNBC     ┆ … ┆ 5600.0    ┆ 2.444   ┆ 253.72258 ┆ Country   │\n",
      "│ Politics   ┆ 1         ┆ idjPwiAYu ┆           ┆   ┆           ┆         ┆ 1         ┆ not       │\n",
      "│            ┆           ┆ 6GcHjg    ┆           ┆   ┆           ┆         ┆           ┆ available │\n",
      "│ News &     ┆ 2011-08-0 ┆ UC_2irx_B ┆ ABN       ┆ … ┆ 4730.0    ┆ 2.3745  ┆ 391.20645 ┆ IN        │\n",
      "│ Politics   ┆ 9         ┆ QR7RsBKmU ┆ Telugu    ┆   ┆           ┆         ┆ 2         ┆           │\n",
      "│            ┆           ┆ V9fePQ    ┆           ┆   ┆           ┆         ┆           ┆           │\n",
      "│ News &     ┆ 2016-04-0 ┆ UC-LGacAu ┆ Newsone   ┆ … ┆ 59946.0   ┆ 3.5715  ┆ 651.68323 ┆ US        │\n",
      "│ Politics   ┆ 5         ┆ 72ou9bsBT ┆ Breaking  ┆   ┆           ┆         ┆           ┆           │\n",
      "│            ┆           ┆ j0I1oQ    ┆           ┆   ┆           ┆         ┆           ┆           │\n",
      "│ News &     ┆ 2017-02-2 ┆ UCsDb5pOn ┆ New Waves ┆ … ┆ 36827.0   ┆ 3.2085  ┆ 223.0     ┆ IN        │\n",
      "│ Politics   ┆ 4         ┆ 303kWylYM ┆           ┆   ┆           ┆         ┆           ┆           │\n",
      "│            ┆           ┆ jlLUWA    ┆           ┆   ┆           ┆         ┆           ┆           │\n",
      "│ News &     ┆ 2010-03-0 ┆ UC4SH8rh0 ┆ Paul      ┆ … ┆ 55146.0   ┆ 3.495   ┆ 71.496774 ┆ US        │\n",
      "│ Politics   ┆ 1         ┆ OjYV3zwqn ┆ Begley    ┆   ┆           ┆         ┆           ┆           │\n",
      "│            ┆           ┆ IfqNbA    ┆           ┆   ┆           ┆         ┆           ┆           │\n",
      "│ News &     ┆ 2017-07-0 ┆ UC_YFbvKe ┆ News4JAX  ┆ … ┆ 554929.0  ┆ 9.622   ┆ 432.65277 ┆ US        │\n",
      "│ Politics   ┆ 3         ┆ djnVjqrZq ┆           ┆   ┆           ┆         ┆ 8         ┆           │\n",
      "│            ┆           ┆ BR4L8Q    ┆           ┆   ┆           ┆         ┆           ┆           │\n",
      "│ News &     ┆ 2015-10-2 ┆ UCxHoBXkY ┆ SOMOY TV  ┆ … ┆ 2114.0    ┆ 2.131   ┆ 377.27777 ┆ US        │\n",
      "│ Politics   ┆ 1         ┆ 88Tb8z1Ss ┆           ┆   ┆           ┆         ┆ 8         ┆           │\n",
      "│            ┆           ┆ j6CWsQ    ┆           ┆   ┆           ┆         ┆           ┆           │\n",
      "└────────────┴───────────┴───────────┴───────────┴───┴───────────┴─────────┴───────────┴───────────┘\n"
     ]
    }
   ],
   "source": [
    "write_polars_to_csv(high_activity_channels, \"high_activity_channels_with_country\")\n",
    "print(high_activity_channels.sample(10))\n"
   ]
  },
  {
   "cell_type": "markdown",
   "metadata": {},
   "source": [
    "# Filtering out english speaking channels with CHATGPT LLM API"
   ]
  },
  {
   "cell_type": "code",
   "execution_count": null,
   "metadata": {},
   "outputs": [
    {
     "name": "stdout",
     "output_type": "stream",
     "text": [
      "        categories                channel_id                  crawl_date  \\\n",
      "0  News & Politics  UCzUV5283-l5c0oKRtyenj6Q  2019-11-22 08:47:10.520209   \n",
      "1  News & Politics  UCzUV5283-l5c0oKRtyenj6Q  2019-11-22 08:46:16.481889   \n",
      "2  News & Politics  UCzUV5283-l5c0oKRtyenj6Q  2019-11-22 08:46:17.137786   \n",
      "3  News & Politics  UCzUV5283-l5c0oKRtyenj6Q  2019-11-22 08:46:17.823119   \n",
      "4  News & Politics  UCzUV5283-l5c0oKRtyenj6Q  2019-11-22 08:46:18.497042   \n",
      "\n",
      "                                         description  dislike_count  \\\n",
      "0  👕 Order your shirts here: https://Teespring.co...          195.0   \n",
      "1  👕 Order your shirts here: https://Teespring.co...          114.0   \n",
      "2  👕 Order your shirts here: https://Teespring.co...          143.0   \n",
      "3  👕 Order your shirts here: https://Teespring.co...          193.0   \n",
      "4  👕 Order your shirts here: https://Teespring.co...          136.0   \n",
      "\n",
      "    display_id  duration  like_count  \\\n",
      "0  MBgzne7djFU       378     47027.0   \n",
      "1  AbH3pJnFgY8       278     36384.0   \n",
      "2  QBuwj_h1SH4       385     40597.0   \n",
      "3  Reogq26-KpI       419     42658.0   \n",
      "4  uBY9OtlSnX8       414     44246.0   \n",
      "\n",
      "                                                tags  \\\n",
      "0  Funny,Entertainment,Fun,Laughing,Educational,L...   \n",
      "1  Funny,Entertainment,Fun,Laughing,Educational,L...   \n",
      "2  Funny,Entertainment,Fun,Laughing,Educational,L...   \n",
      "3  Funny,Entertainment,Fun,Laughing,Educational,L...   \n",
      "4  Funny,Entertainment,Laughing,Educational,Learn...   \n",
      "\n",
      "                                               title          upload_date  \\\n",
      "0  Elizabeth Warren Gets a Big Surprise at the Ai...  2019-10-03 00:00:00   \n",
      "1                                 No More Twitter? 😂  2019-10-02 00:00:00   \n",
      "2                     The Only Thing Stopping Them 😂  2019-10-01 00:00:00   \n",
      "3                              Speaking of Losers...  2019-09-30 00:00:00   \n",
      "4                              The Circus Continues!  2019-09-27 00:00:00   \n",
      "\n",
      "   view_count  \n",
      "0      374711  \n",
      "1      245617  \n",
      "2      299535  \n",
      "3      357126  \n",
      "4      297704  \n"
     ]
    }
   ],
   "source": [
    "# Initialize the chunk reader\n",
    "chunk_reader = pd.read_csv(\"data/filtered_yt_metadata.csv\", chunksize=5000)\n",
    "chunk = next(chunk_reader)  \n",
    "print(chunk.head())  "
   ]
  },
  {
   "cell_type": "markdown",
   "metadata": {},
   "source": [
    "## Use filtered_yt_metadata.csv and high_activity_channels_with_country.csv to filter for english videos\n",
    "\n",
    "Since the youtube metadata dataset contains videos that are not from english speaking channels, awe need to do further processing. We use the CHATGPT API to analyze 5 videos and descriptions and if any video is not classified as english, the channel is marked as non-english"
   ]
  },
  {
   "cell_type": "code",
   "execution_count": null,
   "metadata": {},
   "outputs": [],
   "source": [
    "# Load the second dataset (with the list of channel IDs to compare against)\n",
    "channels_df = pd.read_csv(\"data/high_activity_channels_with_country.csv\") \n",
    "channel_ids = set(channels_df['channel'].unique())  \n",
    "chunk_reader = pd.read_csv(\"data/filtered_yt_metadata.csv\", chunksize=5000)\n",
    "\n",
    "matching_videos = []\n",
    "# Dictionary to track how many videos are saved for each channel\n",
    "channel_video_count = {channel_id: 0 for channel_id in channel_ids}\n",
    "\n",
    "for chunk in chunk_reader:\n",
    "    # Filter rows where channel_id in chunk is in the set of channel_ids from channels_df\n",
    "    matching_rows = chunk[chunk['channel_id'].isin(channel_ids)]\n",
    "    for channel_id, group in matching_rows.groupby('channel_id'):\n",
    "        # If we've already saved 5 videos for this channel, skip it\n",
    "        if channel_video_count[channel_id] >= 5:\n",
    "            continue\n",
    "        # Get the first 5 videos for this channel (or fewer if there are less than 5)\n",
    "        first_5_videos = group.head(5 - channel_video_count[channel_id])  # Adjust to avoid exceeding 5\n",
    "        # Add the number of videos saved for this channel\n",
    "        channel_video_count[channel_id] += len(first_5_videos)\n",
    "        matching_videos.append(first_5_videos)\n",
    "\n",
    "# Convert the list into DataFrame\n",
    "final_df = pd.concat(matching_videos, ignore_index=True)\n",
    "final_df.to_csv('data/matching_videos.csv', index=False)\n"
   ]
  },
  {
   "cell_type": "markdown",
   "metadata": {},
   "source": [
    "### Parsing the video and description with CHATGPT API"
   ]
  },
  {
   "cell_type": "code",
   "execution_count": null,
   "metadata": {},
   "outputs": [],
   "source": [
    "from openai import OpenAI\n",
    "import time\n",
    "\n",
    "client = OpenAI(api_key=OPEN_API_KEY)\n",
    "\n",
    "# Define the function to detect the language using ChatGPT\n",
    "def check_video_language(video_title, video_description, closed_captions=\"\"):\n",
    "    # Combine title, description, and captions to form the text to be checked\n",
    "    print(\"title: \", video_title)\n",
    "    print(\"description: \", video_description)\n",
    "\n",
    "    messages = [\n",
    "        {\"role\": \"system\", \"content\": \"You are a helpful assistant who only focuses on language identification.\"},\n",
    "        {\"role\": \"user\", \"content\": f\"\"\"\n",
    "        Given the title and description of a YouTube video, please determine if the text is in English. Ignore URLs and non-English symbols. \n",
    "        Respond with \"yes\" if you think the text is in English, and \"no\" if you think it is not.\n",
    "\n",
    "        Title: \"{video_title}\"\n",
    "        Description: \"{video_description}\"\n",
    "\n",
    "        Is the text in English?\n",
    "        \"\"\"}\n",
    "    ]\n",
    "\n",
    "    completion = client.chat.completions.create(\n",
    "        model=\"gpt-4o-mini\",\n",
    "        temperature=0.2,\n",
    "        messages=messages\n",
    "    )\n",
    "\n",
    "    response = completion.choices[0].message.content\n",
    "\n",
    "    print(\"Chat response: \", response)\n",
    "    # Check if the response includes \"yes\"\n",
    "    return \"yes\" in response\n",
    "\n",
    "def check_channel_english(channel_id):\n",
    "    videos = final_df.loc[final_df['channel_id'] == channel_id]\n",
    "    # print(videos)\n",
    "    for index, video in videos.iterrows():\n",
    "        # Check if the text is in English using CHATGPT API\n",
    "        is_english = check_video_language(video_title=video['title'], video_description=video['description'])\n",
    "        if not is_english:\n",
    "            print(\"channel is not english\")\n",
    "            return False  # If any video is not English, return False\n",
    "        time.sleep(0.5)\n",
    "    print(\"channel is english\")\n",
    "    return True  # If all videos checked are English, return True"
   ]
  },
  {
   "cell_type": "code",
   "execution_count": null,
   "metadata": {},
   "outputs": [
    {
     "name": "stdout",
     "output_type": "stream",
     "text": [
      "          categories                channel_id                  crawl_date  \\\n",
      "200  News & Politics  UClMs26ViHFMy7MS897Alcxw  2019-10-30 19:30:00.943882   \n",
      "201  News & Politics  UClMs26ViHFMy7MS897Alcxw  2019-10-30 19:30:02.846371   \n",
      "202  News & Politics  UClMs26ViHFMy7MS897Alcxw  2019-10-30 19:30:04.732614   \n",
      "203  News & Politics  UClMs26ViHFMy7MS897Alcxw  2019-10-30 19:30:06.660005   \n",
      "204  News & Politics  UClMs26ViHFMy7MS897Alcxw  2019-10-30 19:30:08.529586   \n",
      "\n",
      "                                           description dislike_count  \\\n",
      "200                                                NaN           1.0   \n",
      "201                                                NaN           0.0   \n",
      "202  The Mississippi River continues to be in the m...           1.0   \n",
      "203  St. Louis County Councilman Tim Fitch calls on...           1.0   \n",
      "204  April is Distracted Driving month and Illinois...           1.0   \n",
      "\n",
      "      display_id duration like_count                                    tags  \\\n",
      "200  -fzwj0Gq2UQ      215        0.0                                     NaN   \n",
      "201  ihx1cqpn7eA      170        1.0                                     NaN   \n",
      "202  5BZ_7DkjTao      151        8.0  flooding,Mississippi River,Clarksville   \n",
      "203  QepvPGZSRJ8      112        2.0     Stenger,federal investigation,Fitch   \n",
      "204  q8mZDYj2lsU       88        0.0                                   crash   \n",
      "\n",
      "                                                 title          upload_date  \\\n",
      "200     Fox 2 9AM Cardinals Gear from St  Clair Square  2019-04-02 00:00:00   \n",
      "201             Fox 2 9AM Easter Bunny and Bunny Cares  2019-04-02 00:00:00   \n",
      "202                               Clarksville flooding  2019-04-02 00:00:00   \n",
      "203  Stenger facing calls to resign over federal in...  2019-04-02 00:00:00   \n",
      "204         Heightened enforcement throughout Illinois  2019-04-02 00:00:00   \n",
      "\n",
      "     view_count  \n",
      "200        20.0  \n",
      "201        53.0  \n",
      "202      1150.0  \n",
      "203       112.0  \n",
      "204       162.0  \n",
      "title:  Fox 2 9AM Cardinals Gear from St  Clair Square\n",
      "description:  nan\n",
      "Chat response:  yes\n",
      "title:  Fox 2 9AM Easter Bunny and Bunny Cares\n",
      "description:  nan\n",
      "Chat response:  yes\n",
      "title:  Clarksville flooding\n",
      "description:  The Mississippi River continues to be in the major flood category at Clarksville.\n",
      "Chat response:  yes\n",
      "title:  Stenger facing calls to resign over federal investigation\n",
      "description:  St. Louis County Councilman Tim Fitch calls on County Executive Steve Stenger to resign so that county government can work better for the people. He feels the relationship between Stenger and the council is horrible.\n",
      "Chat response:  yes\n",
      "title:  Heightened enforcement throughout Illinois\n",
      "description:  April is Distracted Driving month and Illinois State Police along with law enforcement agencies across the country are reminding drivers to put down their phones and pay attention to the road.\n",
      "Chat response:  yes\n",
      "channel is english\n"
     ]
    },
    {
     "data": {
      "text/plain": [
       "True"
      ]
     },
     "execution_count": 63,
     "metadata": {},
     "output_type": "execute_result"
    }
   ],
   "source": [
    "## TESTING THE FUNCTION \n",
    "check_channel_english(\"UClMs26ViHFMy7MS897Alcxw\")"
   ]
  },
  {
   "cell_type": "code",
   "execution_count": null,
   "metadata": {},
   "outputs": [],
   "source": [
    "# Iterate through pandas dataframe and check if channel is english\n",
    "# Check each channel and store results\n",
    "high_activity_channels = high_activity_channels.with_columns(\n",
    "    pl.col(\"channel\").map_elements(lambda channel_id:check_channel_english(channel_id)).alias(\"Is_English\")\n",
    ")"
   ]
  },
  {
   "cell_type": "code",
   "execution_count": null,
   "metadata": {},
   "outputs": [],
   "source": [
    "write_polars_to_csv(high_activity_channels, \"data/high_activity_channels_country_and_english.csv\")"
   ]
  },
  {
   "cell_type": "markdown",
   "metadata": {},
   "source": [
    "### Printing value counts for which country channels that speak english and do not speak english are"
   ]
  },
  {
   "cell_type": "code",
<<<<<<< HEAD
   "execution_count": null,
=======
   "execution_count": 13,
>>>>>>> refs/remotes/origin/filter_data
   "metadata": {},
   "outputs": [],
   "source": [
    "filtered = pd.read_csv(\"data/high_activity_channels_country_and_english.csv\")"
   ]
  },
  {
   "cell_type": "code",
   "execution_count": 17,
   "metadata": {},
   "outputs": [
    {
     "name": "stdout",
     "output_type": "stream",
     "text": [
      "278\n",
      "english\n",
      "Channel_country\n",
      "US                   149\n",
      "IN                    49\n",
      "PK                    13\n",
      "Channel not found      9\n",
      "CA                     8\n",
      "GB                     7\n",
      "NG                     6\n",
      "ZA                     4\n",
      "KE                     4\n",
      "PH                     3\n",
      "CN                     3\n",
      "FR                     2\n",
      "GH                     2\n",
      "IL                     2\n",
      "MY                     2\n",
      "QA                     1\n",
      "UK                     1\n",
      "CH                     1\n",
      "UG                     1\n",
      "BZ                     1\n",
      "TR                     1\n",
      "DE                     1\n",
      "EC                     1\n",
      "BD                     1\n",
      "GU                     1\n",
      "PG                     1\n",
      "AU                     1\n",
      "LK                     1\n",
      "SG                     1\n",
      "TH                     1\n",
      "Name: count, dtype: int64\n",
      "not_english\n",
      "Channel_country\n",
      "IN                   81\n",
      "PK                   11\n",
      "US                   10\n",
      "Channel not found     6\n",
      "PH                    5\n",
      "NP                    4\n",
      "BD                    3\n",
      "KE                    2\n",
      "UG                    1\n",
      "GH                    1\n",
      "AE                    1\n",
      "BA                    1\n",
      "LB                    1\n",
      "LK                    1\n",
      "CA                    1\n",
      "Name: count, dtype: int64\n"
     ]
    }
   ],
   "source": [
    "# filtered[\"Is_English\"].value_counts()\n",
    "english = filtered[filtered[\"Is_English\"] == True]\n",
    "print(len(english))\n",
    "print(\"english\")\n",
    "print(english[\"Channel_country\"].value_counts())\n",
    "\n",
    "not_english = filtered[filtered[\"Is_English\"] == False]\n",
    "print(\"not_english\")\n",
    "print(not_english[\"Channel_country\"].value_counts())"
   ]
  },
  {
   "cell_type": "markdown",
   "metadata": {},
   "source": [
    "## Save all the final dataframes"
   ]
  },
  {
   "cell_type": "code",
   "execution_count": 40,
   "metadata": {},
   "outputs": [],
   "source": [
    "df_final_channels = pl.read_csv(\"data/high_activity_channels_country_and_english.csv\", separator=\",\")\n",
    "df_final_channels = df_final_channels.filter((pl.col(\"Channel_country\") == \"US\") & (pl.col(\"Is_English\") == True))\n",
    "df_final_channels = df_final_channels.rename({\"Is_English\": \"is_english\", \"Channel_country\": \"channel_country\"})\n",
    "\n",
    "df_final_channels.write_csv(path_final_channels, include_header=True, separator=\",\")"
   ]
  },
  {
   "cell_type": "code",
   "execution_count": null,
   "metadata": {},
   "outputs": [
    {
     "name": "stdout",
     "output_type": "stream",
     "text": [
      "processing batch 1366 ...\r"
     ]
    }
   ],
   "source": [
    "# metadata feather\n",
    "filters.df_filter_csv_batched(path_yt_metadata_feather_filtered, path_final_yt_metadata_feather,\n",
    "                              column_name=\"channel_id\", values=df_final_channels[\"channel\"],\n",
    "                              filter_method=\"is_in\", sep_in=\"\\t\", sep_out=\",\")"
   ]
  },
  {
   "cell_type": "code",
   "execution_count": null,
   "metadata": {},
   "outputs": [],
   "source": [
    "# metadata\n",
    "df_final_yt_metadata = pl.read_csv(path_yt_metadata_filtered, has_header=True, \n",
    "                                   separator=\"\\t\", infer_schema=False)\n",
    "df_final_yt_metadata = filters.filter_df_isin(df_final_yt_metadata, \"channel_id\", df_final_channels[\"channel\"])\n",
    "df_final_yt_metadata.write_csv(path_final_yt_metadata, include_header=True, separator=\",\")\n"
   ]
  },
  {
   "cell_type": "code",
   "execution_count": null,
   "metadata": {},
   "outputs": [],
   "source": [
    "# timeseries\n",
    "df_final_timeseries = pl.read_csv(path_df_timeseries, separator=\"\\t\", has_header=True)\n",
    "df_final_timeseries = filters.filter_df_isin(df_final_timeseries, column_name=\"channel\", \n",
    "                                                values=df_final_channels[\"channel\"])\n",
    "df_final_timeseries.write_csv(path_final_timeseries, include_header=True, separator=\",\")\n"
   ]
  },
  {
   "cell_type": "markdown",
   "metadata": {},
   "source": [
    "Summary of Filtering:"
   ]
  },
  {
   "cell_type": "code",
   "execution_count": null,
   "metadata": {},
   "outputs": [
    {
     "name": "stdout",
     "output_type": "stream",
     "text": [
      "Final Number of videos from channels of interest (CoI): 2548064\n",
      "Final channels of interest (CoI): 149\n"
     ]
    }
   ],
   "source": [
    "print(\"Final Number of videos from channels of interest (CoI): \"\\\n",
    "      f\"{len(df_final_yt_metadata)}\")\n",
    "\n",
    "print(\"Final channels of interest (CoI): \"\\\n",
    "      f\"{len(df_final_channels)}\")"
   ]
  }
 ],
 "metadata": {
  "kernelspec": {
   "display_name": "ada",
   "language": "python",
   "name": "python3"
  },
  "language_info": {
   "codemirror_mode": {
    "name": "ipython",
    "version": 3
   },
   "file_extension": ".py",
   "mimetype": "text/x-python",
   "name": "python",
   "nbconvert_exporter": "python",
   "pygments_lexer": "ipython3",
   "version": "3.11.9"
  }
 },
 "nbformat": 4,
 "nbformat_minor": 2
}
