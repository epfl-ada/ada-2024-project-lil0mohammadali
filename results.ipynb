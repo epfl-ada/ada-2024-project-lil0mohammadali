{
 "cells": [
  {
   "cell_type": "markdown",
   "metadata": {},
   "source": [
    "#### imports"
   ]
  },
  {
   "cell_type": "code",
   "execution_count": 1,
   "metadata": {},
   "outputs": [],
   "source": [
    "import pandas as pd\n",
    "import numpy as np\n",
    "import polars as pl"
   ]
  },
  {
   "cell_type": "markdown",
   "metadata": {},
   "source": [
    "### strcuture of different datasets"
   ]
  },
  {
   "cell_type": "markdown",
   "metadata": {},
   "source": [
    "#### df_channels_en.tsv\n",
    "\n",
    "CSV file, having the following structure:\n",
    "| **category_cc** | **join_date** | **channel**              | **name_cc**             | **subscribers_cc** | **videos_cc** | **subsriber_rank_sb** | **weights** |\n",
    "|-----------------|---------------|--------------------------|-------------------------|--------------------|---------------|-----------------------|-------------|\n",
    "| News & Politics | 2013-03-11    | UCcRgZlgsk5m-aDQa_d6BTkQ | NorthWestLibertyNews... | 16700              | 845           | 639043.0              | 10.0035     |\n",
    "| Gaming          |    2012-01-15 | UCnnXR0VIJVpeL1wEr-bBaRw | Felix Guaman            | 112000             | 703           | 137318.0              | 5.4915      |\n",
    "\n",
    "With:\n",
    "- `category_cc`: most frequent category of the channel. One of: ['Gaming', 'Education', 'Entertainment', 'Howto & Style', 'Sports', 'Music', 'Film and Animation', 'Comedy', 'Nonprofits & Activism', 'People & Blogs', 'News & Politics', 'Science & Technology', 'Pets & Animals', 'Autos & Vehicles', 'Travel & Events', nan]\n",
    "- `join_date`: join date of the channel.\n",
    "- `channel`: unique channel id.\n",
    "- `name_cc`: name of the channel.\n",
    "- `subscribers_cc`: number of subscribers.\n",
    "- `videos_cc`: number of videos.\n",
    "- `subscriber_rank_sb`: rank in terms of number of subscribers.\n",
    "- `weights`: weights cal\n"
   ]
  },
  {
   "cell_type": "markdown",
   "metadata": {},
   "source": [
    "\n",
    "#### yt_metadata_helper.feather   (yt_metadata_helper.feather.csv, filtered_yt_metadata_helper.feather.csv)\n",
    "<div>\n",
    "<style scoped>\n",
    "    .dataframe tbody tr th:only-of-type {\n",
    "        vertical-align: middle;\n",
    "    }\n",
    "\n",
    "    .dataframe tbody tr th {\n",
    "        vertical-align: top;\n",
    "    }\n",
    "\n",
    "    .dataframe thead th {\n",
    "        text-align: right;\n",
    "    }\n",
    "</style>\n",
    "<table border=\"1\" class=\"dataframe\">\n",
    "  <thead>\n",
    "    <tr style=\"text-align: right;\">\n",
    "      <th>categories</th>\n",
    "      <th>channel_id</th>\n",
    "      <th>dislike_count</th>\n",
    "      <th>display_id</th>\n",
    "      <th>duration</th>\n",
    "      <th>like_count</th>\n",
    "      <th>upload_date</th>\n",
    "      <th>view_count</th>\n",
    "    </tr>\n",
    "  </thead>\n",
    "  <tbody>\n",
    "    <tr>\n",
    "      <td>Film &amp; Animation</td>\n",
    "      <td>UCy6sWF4taso5GtrfDGhwpBA</td>\n",
    "      <td>0.0</td>\n",
    "      <td>EXOviJ_EJDo</td>\n",
    "      <td>68</td>\n",
    "      <td>0.0</td>\n",
    "      <td>2011-12-07</td>\n",
    "      <td>76.0</td>\n",
    "    </tr>\n",
    "    <tr>\n",
    "      <td>Gaming</td>\n",
    "      <td>UCEPYwwuGhgA9wfO2It11OXw</td>\n",
    "      <td>0.0</td>\n",
    "      <td>xSKA6VX7Tdo</td>\n",
    "      <td>125</td>\n",
    "      <td>6.0</td>\n",
    "      <td>2016-10-04</td>\n",
    "      <td>198.0</td>\n",
    "    </tr>\n",
    "    <tr>\n",
    "      <td>News &amp; Politics</td>\n",
    "      <td>UCojNA7ZvnmGuIvYnm44wl3Q</td>\n",
    "      <td>NaN</td>\n",
    "      <td>FsucWMijKA4</td>\n",
    "      <td>130</td>\n",
    "      <td>NaN</td>\n",
    "      <td>2010-11-18</td>\n",
    "      <td>106.0</td>\n",
    "    </tr>\n",
    "  </tbody>\n",
    "</table>\n",
    "</div>\n",
    "\n",
    "With (values were crawled from YouTube between 2019-10-29 and 2019-11-23):\n",
    "- `categories`: category (self-defined when they upload a video to YouTube)\n",
    "- `channel_id`: unique channel id\n",
    "- `dislike_count`: dislikes of the video\n",
    "- `display_id`: unique video id\n",
    "- `duration`: duration of the video\n",
    "- `like_count`:likes of the video.\n",
    "- `upload_date`: upload date\n",
    "- `view_count`: views of the video."
   ]
  },
  {
   "cell_type": "markdown",
   "metadata": {},
   "source": [
    "#### df_timeseries_en.tsv\n",
    "\n",
    "| **channel**              | **category**       | **datetime** | **views**   | **delta_views** | **subs** | **delta_subs** | **videos** | **delta_videos** | **activity** |\n",
    "|--------------------------|--------------------|--------------|-------------|-----------------|----------|----------------|------------|------------------|--------------|\n",
    "| UCBJuEqXfXTdcPSbGO9qqn1g | Film and Animation | 2017-07-03 | 202495  |           0 |  650 |   0        |      5 |            0 |        3 |\n",
    "| UCBJuEqXfXTdcPSbGO9qqn1g | Film and Animation | 2017-07-10 | 394086  |      191591 | 1046 | 396        |      6 |            1 |        1 |\n",
    "\n",
    "With:\n",
    "- `channel`: channel id.\n",
    "- `category`: category of the channel as assigned by `socialblade.com` according to the last 10 videos at time of crawl.\n",
    "- `datetime`: Week related to the data point.\n",
    "- `views`: Total number of views the channel had this week.\n",
    "- `delta_views`: Delta views obtained this week.\n",
    "- `subs`: Total number of subscribers the channel had this week.\n",
    "- `delta_subs`: Delta subscribers obtained this week.\n",
    "- `videos`: Total number of videos the channel had this week.\n",
    "- `delta_videos`: Delta videos obtained this week.\n",
    "- `activity`: Number of videos published in the last 15 days.\n"
   ]
  },
  {
   "cell_type": "markdown",
   "metadata": {},
   "source": [
    "#### youtube_comments.tsv\n",
    "\n",
    "| **author** | **video_id**      |  **likes** |  **replies** |\n",
    "|------|--------------|-------|---------|\n",
    "| 1      | Gkb1QMHrGvA   |  2     |  0       |\n",
    "| 1      | CNtp0xqoods   |  0     |  0       |\n",
    "| 1      | 249EEzQmVmQ   |  1     |  0       |\n",
    "\n",
    "With (data obtained at crawl time between 2019-09-12 and 2019-09-17):\n",
    "- `author`: anonymized author id (unique)\n",
    "- `video_id`: unique video id of the video the comment was written\n",
    "- `likes`: likes for the comment\n",
    "- `replies`: replies for the comment"
   ]
  },
  {
   "cell_type": "code",
   "execution_count": 2,
   "metadata": {},
   "outputs": [
    {
     "data": {
      "text/html": [
       "<div><style>\n",
       ".dataframe > thead > tr,\n",
       ".dataframe > tbody > tr {\n",
       "  text-align: right;\n",
       "  white-space: pre-wrap;\n",
       "}\n",
       "</style>\n",
       "<small>shape: (5, 8)</small><table border=\"1\" class=\"dataframe\"><thead><tr><th>category_cc</th><th>join_date</th><th>channel</th><th>name_cc</th><th>subscribers_cc</th><th>videos_cc</th><th>subscriber_rank_sb</th><th>weights</th></tr><tr><td>str</td><td>str</td><td>str</td><td>str</td><td>i64</td><td>i64</td><td>f64</td><td>f64</td></tr></thead><tbody><tr><td>&quot;People &amp; Blogs&quot;</td><td>&quot;2014-04-27&quot;</td><td>&quot;UCygbRxfq8g4GCmHZAN5Aolw&quot;</td><td>&quot;BeastWithAesthetics&quot;</td><td>23526</td><td>447</td><td>511586.0</td><td>8.9545</td></tr><tr><td>&quot;Comedy&quot;</td><td>&quot;2006-07-06&quot;</td><td>&quot;UCguU4Tey59bTXw98WmeVICA&quot;</td><td>&quot;Willis Clinton Harri...&quot;</td><td>14100</td><td>92</td><td>494028.0</td><td>7.6945</td></tr><tr><td>&quot;People &amp; Blogs&quot;</td><td>&quot;2013-08-13&quot;</td><td>&quot;UCcbBHQXuSkw8Me1vnY-u4bw&quot;</td><td>&quot;Prophet Shepherd Bus...&quot;</td><td>353000</td><td>1777</td><td>45863.0</td><td>3.285</td></tr><tr><td>&quot;Entertainment&quot;</td><td>&quot;2014-10-08&quot;</td><td>&quot;UC2SyTi1cPbBJWR-StNbI01Q&quot;</td><td>&quot;ZiGGy Toys&quot;</td><td>104000</td><td>60</td><td>162805.0</td><td>5.461</td></tr><tr><td>&quot;Film and Animation&quot;</td><td>&quot;2006-05-09&quot;</td><td>&quot;UCgY-h0zGG5EOa3f_k22wMJg&quot;</td><td>&quot;Sainsbury&#x27;s&quot;</td><td>109000</td><td>407</td><td>145967.0</td><td>4.1</td></tr></tbody></table></div>"
      ],
      "text/plain": [
       "shape: (5, 8)\n",
       "┌────────────┬────────────┬────────────┬────────────┬────────────┬───────────┬───────────┬─────────┐\n",
       "│ category_c ┆ join_date  ┆ channel    ┆ name_cc    ┆ subscriber ┆ videos_cc ┆ subscribe ┆ weights │\n",
       "│ c          ┆ ---        ┆ ---        ┆ ---        ┆ s_cc       ┆ ---       ┆ r_rank_sb ┆ ---     │\n",
       "│ ---        ┆ str        ┆ str        ┆ str        ┆ ---        ┆ i64       ┆ ---       ┆ f64     │\n",
       "│ str        ┆            ┆            ┆            ┆ i64        ┆           ┆ f64       ┆         │\n",
       "╞════════════╪════════════╪════════════╪════════════╪════════════╪═══════════╪═══════════╪═════════╡\n",
       "│ People &   ┆ 2014-04-27 ┆ UCygbRxfq8 ┆ BeastWithA ┆ 23526      ┆ 447       ┆ 511586.0  ┆ 8.9545  │\n",
       "│ Blogs      ┆            ┆ g4GCmHZAN5 ┆ esthetics  ┆            ┆           ┆           ┆         │\n",
       "│            ┆            ┆ Aolw       ┆            ┆            ┆           ┆           ┆         │\n",
       "│ Comedy     ┆ 2006-07-06 ┆ UCguU4Tey5 ┆ Willis     ┆ 14100      ┆ 92        ┆ 494028.0  ┆ 7.6945  │\n",
       "│            ┆            ┆ 9bTXw98Wme ┆ Clinton    ┆            ┆           ┆           ┆         │\n",
       "│            ┆            ┆ VICA       ┆ Harri...   ┆            ┆           ┆           ┆         │\n",
       "│ People &   ┆ 2013-08-13 ┆ UCcbBHQXuS ┆ Prophet    ┆ 353000     ┆ 1777      ┆ 45863.0   ┆ 3.285   │\n",
       "│ Blogs      ┆            ┆ kw8Me1vnY- ┆ Shepherd   ┆            ┆           ┆           ┆         │\n",
       "│            ┆            ┆ u4bw       ┆ Bus...     ┆            ┆           ┆           ┆         │\n",
       "│ Entertainm ┆ 2014-10-08 ┆ UC2SyTi1cP ┆ ZiGGy Toys ┆ 104000     ┆ 60        ┆ 162805.0  ┆ 5.461   │\n",
       "│ ent        ┆            ┆ bBJWR-StNb ┆            ┆            ┆           ┆           ┆         │\n",
       "│            ┆            ┆ I01Q       ┆            ┆            ┆           ┆           ┆         │\n",
       "│ Film and   ┆ 2006-05-09 ┆ UCgY-h0zGG ┆ Sainsbury' ┆ 109000     ┆ 407       ┆ 145967.0  ┆ 4.1     │\n",
       "│ Animation  ┆            ┆ 5EOa3f_k22 ┆ s          ┆            ┆           ┆           ┆         │\n",
       "│            ┆            ┆ wMJg       ┆            ┆            ┆           ┆           ┆         │\n",
       "└────────────┴────────────┴────────────┴────────────┴────────────┴───────────┴───────────┴─────────┘"
      ]
     },
     "execution_count": 2,
     "metadata": {},
     "output_type": "execute_result"
    }
   ],
   "source": [
    "df_ch_f = pd.read_csv(\"../Youniverse/df_channels_en.tsv.gz\", compression=\"infer\", sep=\"\\t\")\n",
    "\n",
    "pl_df_f = pl.read_csv(\"../Youniverse/df_channels_en.tsv\", separator=\"\\t\")\n",
    "\n",
    "filtered_df_ch = pl_df_f.filter(pl.col(\"category_cc\") == \"News & Politics\")\n",
    "pl_df_f.sample(5)"
   ]
  },
  {
   "cell_type": "code",
   "execution_count": null,
   "metadata": {},
   "outputs": [
    {
     "data": {
      "text/html": [
       "<div>\n",
       "<style scoped>\n",
       "    .dataframe tbody tr th:only-of-type {\n",
       "        vertical-align: middle;\n",
       "    }\n",
       "\n",
       "    .dataframe tbody tr th {\n",
       "        vertical-align: top;\n",
       "    }\n",
       "\n",
       "    .dataframe thead th {\n",
       "        text-align: right;\n",
       "    }\n",
       "</style>\n",
       "<table border=\"1\" class=\"dataframe\">\n",
       "  <thead>\n",
       "    <tr style=\"text-align: right;\">\n",
       "      <th></th>\n",
       "      <th>categories</th>\n",
       "      <th>channel_id</th>\n",
       "      <th>dislike_count</th>\n",
       "      <th>display_id</th>\n",
       "      <th>duration</th>\n",
       "      <th>like_count</th>\n",
       "      <th>upload_date</th>\n",
       "      <th>view_count</th>\n",
       "    </tr>\n",
       "  </thead>\n",
       "  <tbody>\n",
       "    <tr>\n",
       "      <th>16583269</th>\n",
       "      <td>Film &amp; Animation</td>\n",
       "      <td>UCy6sWF4taso5GtrfDGhwpBA</td>\n",
       "      <td>0.0</td>\n",
       "      <td>EXOviJ_EJDo</td>\n",
       "      <td>68</td>\n",
       "      <td>0.0</td>\n",
       "      <td>2011-12-07</td>\n",
       "      <td>76.0</td>\n",
       "    </tr>\n",
       "    <tr>\n",
       "      <th>51429663</th>\n",
       "      <td>Gaming</td>\n",
       "      <td>UCEPYwwuGhgA9wfO2It11OXw</td>\n",
       "      <td>0.0</td>\n",
       "      <td>xSKA6VX7Tdo</td>\n",
       "      <td>125</td>\n",
       "      <td>6.0</td>\n",
       "      <td>2016-10-04</td>\n",
       "      <td>198.0</td>\n",
       "    </tr>\n",
       "    <tr>\n",
       "      <th>4222786</th>\n",
       "      <td>News &amp; Politics</td>\n",
       "      <td>UCojNA7ZvnmGuIvYnm44wl3Q</td>\n",
       "      <td>NaN</td>\n",
       "      <td>FsucWMijKA4</td>\n",
       "      <td>130</td>\n",
       "      <td>NaN</td>\n",
       "      <td>2010-11-18</td>\n",
       "      <td>106.0</td>\n",
       "    </tr>\n",
       "    <tr>\n",
       "      <th>61632041</th>\n",
       "      <td>Music</td>\n",
       "      <td>UC6SemiBqCDvv2XsWVqD8mgg</td>\n",
       "      <td>0.0</td>\n",
       "      <td>3PGYujlHr38</td>\n",
       "      <td>290</td>\n",
       "      <td>0.0</td>\n",
       "      <td>2018-06-09</td>\n",
       "      <td>0.0</td>\n",
       "    </tr>\n",
       "    <tr>\n",
       "      <th>31333325</th>\n",
       "      <td>Sports</td>\n",
       "      <td>UCTtkVP_v56wU8zXpVBpdaZQ</td>\n",
       "      <td>0.0</td>\n",
       "      <td>BKvxa7AbuMI</td>\n",
       "      <td>263</td>\n",
       "      <td>2.0</td>\n",
       "      <td>2016-08-26</td>\n",
       "      <td>1201.0</td>\n",
       "    </tr>\n",
       "  </tbody>\n",
       "</table>\n",
       "</div>"
      ],
      "text/plain": [
       "                categories                channel_id  dislike_count  \\\n",
       "16583269  Film & Animation  UCy6sWF4taso5GtrfDGhwpBA            0.0   \n",
       "51429663            Gaming  UCEPYwwuGhgA9wfO2It11OXw            0.0   \n",
       "4222786    News & Politics  UCojNA7ZvnmGuIvYnm44wl3Q            NaN   \n",
       "61632041             Music  UC6SemiBqCDvv2XsWVqD8mgg            0.0   \n",
       "31333325            Sports  UCTtkVP_v56wU8zXpVBpdaZQ            0.0   \n",
       "\n",
       "           display_id  duration  like_count upload_date  view_count  \n",
       "16583269  EXOviJ_EJDo        68         0.0  2011-12-07        76.0  \n",
       "51429663  xSKA6VX7Tdo       125         6.0  2016-10-04       198.0  \n",
       "4222786   FsucWMijKA4       130         NaN  2010-11-18       106.0  \n",
       "61632041  3PGYujlHr38       290         0.0  2018-06-09         0.0  \n",
       "31333325  BKvxa7AbuMI       263         2.0  2016-08-26      1201.0  "
      ]
     },
     "execution_count": 33,
     "metadata": {},
     "output_type": "execute_result"
    }
   ],
   "source": [
    "# df_vd_f = pd.read_feather(\"../Youniverse/yt_metadata_helper.feather\")\n",
    "\n",
    "# df_vd_f.sample(5)"
   ]
  },
  {
   "cell_type": "code",
   "execution_count": null,
   "metadata": {},
   "outputs": [],
   "source": [
    "# save to csv\n",
    "# df_vd_f.to_csv(\"../Youniverse/yt_metadata_helper.feather.csv\", sep=\"\\t\")"
   ]
  },
  {
   "cell_type": "code",
   "execution_count": 5,
   "metadata": {},
   "outputs": [
    {
     "data": {
      "text/html": [
       "<div><style>\n",
       ".dataframe > thead > tr,\n",
       ".dataframe > tbody > tr {\n",
       "  text-align: right;\n",
       "  white-space: pre-wrap;\n",
       "}\n",
       "</style>\n",
       "<small>shape: (2_263, 8)</small><table border=\"1\" class=\"dataframe\"><thead><tr><th>category_cc</th><th>join_date</th><th>channel</th><th>name_cc</th><th>subscribers_cc</th><th>videos_cc</th><th>subscriber_rank_sb</th><th>weights</th></tr><tr><td>str</td><td>str</td><td>str</td><td>str</td><td>i64</td><td>i64</td><td>f64</td><td>f64</td></tr></thead><tbody><tr><td>&quot;News &amp; Politics&quot;</td><td>&quot;2006-08-26&quot;</td><td>&quot;UCttspZesZIDEwwpVIgoZtWQ&quot;</td><td>&quot;IndiaTV&quot;</td><td>15177282</td><td>139814</td><td>199.0</td><td>2.087</td></tr><tr><td>&quot;News &amp; Politics&quot;</td><td>&quot;2012-06-01&quot;</td><td>&quot;UCRWFSbif-RFENbBrSiez1DA&quot;</td><td>&quot;ABP NEWS&quot;</td><td>16274836</td><td>129027</td><td>207.0</td><td>2.087</td></tr><tr><td>&quot;News &amp; Politics&quot;</td><td>&quot;2017-03-03&quot;</td><td>&quot;UCmphdqZNmqL72WJ2uyiNw5w&quot;</td><td>&quot;ABP NEWS HINDI&quot;</td><td>10800000</td><td>51298</td><td>340.0</td><td>2.087</td></tr><tr><td>&quot;News &amp; Politics&quot;</td><td>&quot;2015-03-23&quot;</td><td>&quot;UCx8Z14PpntdaxCt2hakbQLQ&quot;</td><td>&quot;The Lallantop&quot;</td><td>9120000</td><td>9423</td><td>438.0</td><td>2.087</td></tr><tr><td>&quot;News &amp; Politics&quot;</td><td>&quot;2007-06-19&quot;</td><td>&quot;UCIvaYmXn910QMdemBG3v1pQ&quot;</td><td>&quot;Zee News&quot;</td><td>9280000</td><td>102648</td><td>549.0</td><td>2.087</td></tr><tr><td>&hellip;</td><td>&hellip;</td><td>&hellip;</td><td>&hellip;</td><td>&hellip;</td><td>&hellip;</td><td>&hellip;</td><td>&hellip;</td></tr><tr><td>&quot;News &amp; Politics&quot;</td><td>&quot;2010-08-07&quot;</td><td>&quot;UC5rxiCGcNunIi5zI1hMYLMg&quot;</td><td>&quot;Salman Akhtar&quot;</td><td>10400</td><td>40</td><td>962468.0</td><td>53.1435</td></tr><tr><td>&quot;News &amp; Politics&quot;</td><td>&quot;2013-02-01&quot;</td><td>&quot;UCLSEJQ8TWtlEkaytaa4Y7lw&quot;</td><td>&quot;WingsOfChrist&quot;</td><td>10420</td><td>61</td><td>962547.0</td><td>53.1435</td></tr><tr><td>&quot;News &amp; Politics&quot;</td><td>&quot;2012-10-19&quot;</td><td>&quot;UCnkG_c5cyemVVsgCDoHiXew&quot;</td><td>&quot;The American Mirror&quot;</td><td>10500</td><td>329</td><td>963417.0</td><td>53.1435</td></tr><tr><td>&quot;News &amp; Politics&quot;</td><td>&quot;2017-11-25&quot;</td><td>&quot;UC69lWS7UMbBQc-9yqp4nGjA&quot;</td><td>&quot;Patriotism Show&quot;</td><td>10320</td><td>46</td><td>975448.0</td><td>53.1435</td></tr><tr><td>&quot;News &amp; Politics&quot;</td><td>&quot;2017-03-26&quot;</td><td>&quot;UCpbE1CJWNHpu8knuok8YBZQ&quot;</td><td>&quot;Jenny Constantine&quot;</td><td>10200</td><td>30</td><td>978433.0</td><td>53.1435</td></tr></tbody></table></div>"
      ],
      "text/plain": [
       "shape: (2_263, 8)\n",
       "┌────────────┬────────────┬────────────┬────────────┬────────────┬───────────┬───────────┬─────────┐\n",
       "│ category_c ┆ join_date  ┆ channel    ┆ name_cc    ┆ subscriber ┆ videos_cc ┆ subscribe ┆ weights │\n",
       "│ c          ┆ ---        ┆ ---        ┆ ---        ┆ s_cc       ┆ ---       ┆ r_rank_sb ┆ ---     │\n",
       "│ ---        ┆ str        ┆ str        ┆ str        ┆ ---        ┆ i64       ┆ ---       ┆ f64     │\n",
       "│ str        ┆            ┆            ┆            ┆ i64        ┆           ┆ f64       ┆         │\n",
       "╞════════════╪════════════╪════════════╪════════════╪════════════╪═══════════╪═══════════╪═════════╡\n",
       "│ News &     ┆ 2006-08-26 ┆ UCttspZesZ ┆ IndiaTV    ┆ 15177282   ┆ 139814    ┆ 199.0     ┆ 2.087   │\n",
       "│ Politics   ┆            ┆ IDEwwpVIgo ┆            ┆            ┆           ┆           ┆         │\n",
       "│            ┆            ┆ ZtWQ       ┆            ┆            ┆           ┆           ┆         │\n",
       "│ News &     ┆ 2012-06-01 ┆ UCRWFSbif- ┆ ABP NEWS   ┆ 16274836   ┆ 129027    ┆ 207.0     ┆ 2.087   │\n",
       "│ Politics   ┆            ┆ RFENbBrSie ┆            ┆            ┆           ┆           ┆         │\n",
       "│            ┆            ┆ z1DA       ┆            ┆            ┆           ┆           ┆         │\n",
       "│ News &     ┆ 2017-03-03 ┆ UCmphdqZNm ┆ ABP NEWS   ┆ 10800000   ┆ 51298     ┆ 340.0     ┆ 2.087   │\n",
       "│ Politics   ┆            ┆ qL72WJ2uyi ┆ HINDI      ┆            ┆           ┆           ┆         │\n",
       "│            ┆            ┆ Nw5w       ┆            ┆            ┆           ┆           ┆         │\n",
       "│ News &     ┆ 2015-03-23 ┆ UCx8Z14Ppn ┆ The        ┆ 9120000    ┆ 9423      ┆ 438.0     ┆ 2.087   │\n",
       "│ Politics   ┆            ┆ tdaxCt2hak ┆ Lallantop  ┆            ┆           ┆           ┆         │\n",
       "│            ┆            ┆ bQLQ       ┆            ┆            ┆           ┆           ┆         │\n",
       "│ News &     ┆ 2007-06-19 ┆ UCIvaYmXn9 ┆ Zee News   ┆ 9280000    ┆ 102648    ┆ 549.0     ┆ 2.087   │\n",
       "│ Politics   ┆            ┆ 10QMdemBG3 ┆            ┆            ┆           ┆           ┆         │\n",
       "│            ┆            ┆ v1pQ       ┆            ┆            ┆           ┆           ┆         │\n",
       "│ …          ┆ …          ┆ …          ┆ …          ┆ …          ┆ …         ┆ …         ┆ …       │\n",
       "│ News &     ┆ 2010-08-07 ┆ UC5rxiCGcN ┆ Salman     ┆ 10400      ┆ 40        ┆ 962468.0  ┆ 53.1435 │\n",
       "│ Politics   ┆            ┆ unIi5zI1hM ┆ Akhtar     ┆            ┆           ┆           ┆         │\n",
       "│            ┆            ┆ YLMg       ┆            ┆            ┆           ┆           ┆         │\n",
       "│ News &     ┆ 2013-02-01 ┆ UCLSEJQ8TW ┆ WingsOfChr ┆ 10420      ┆ 61        ┆ 962547.0  ┆ 53.1435 │\n",
       "│ Politics   ┆            ┆ tlEkaytaa4 ┆ ist        ┆            ┆           ┆           ┆         │\n",
       "│            ┆            ┆ Y7lw       ┆            ┆            ┆           ┆           ┆         │\n",
       "│ News &     ┆ 2012-10-19 ┆ UCnkG_c5cy ┆ The        ┆ 10500      ┆ 329       ┆ 963417.0  ┆ 53.1435 │\n",
       "│ Politics   ┆            ┆ emVVsgCDoH ┆ American   ┆            ┆           ┆           ┆         │\n",
       "│            ┆            ┆ iXew       ┆ Mirror     ┆            ┆           ┆           ┆         │\n",
       "│ News &     ┆ 2017-11-25 ┆ UC69lWS7UM ┆ Patriotism ┆ 10320      ┆ 46        ┆ 975448.0  ┆ 53.1435 │\n",
       "│ Politics   ┆            ┆ bBQc-9yqp4 ┆ Show       ┆            ┆           ┆           ┆         │\n",
       "│            ┆            ┆ nGjA       ┆            ┆            ┆           ┆           ┆         │\n",
       "│ News &     ┆ 2017-03-26 ┆ UCpbE1CJWN ┆ Jenny Cons ┆ 10200      ┆ 30        ┆ 978433.0  ┆ 53.1435 │\n",
       "│ Politics   ┆            ┆ Hpu8knuok8 ┆ tantine    ┆            ┆           ┆           ┆         │\n",
       "│            ┆            ┆ YBZQ       ┆            ┆            ┆           ┆           ┆         │\n",
       "└────────────┴────────────┴────────────┴────────────┴────────────┴───────────┴───────────┴─────────┘"
      ]
     },
     "execution_count": 5,
     "metadata": {},
     "output_type": "execute_result"
    }
   ],
   "source": [
    "filtered_df_ch.filter(pl.col(\"channel\").is_in(filtered_df_ch[\"channel\"]))"
   ]
  },
  {
   "cell_type": "code",
   "execution_count": null,
   "metadata": {},
   "outputs": [
    {
     "name": "stdout",
     "output_type": "stream",
     "text": [
      "batch 14539\r"
     ]
    }
   ],
   "source": [
    "# load yt metadata in chunks and filter for videos contained in filtered_df_ch\n",
    "# df.filter(pl.col(\"categories\") == \"News & Politics\") to filter for categories of videos instead\n",
    "reader = pl.read_csv_batched(\n",
    "    \"../Youniverse/yt_metadata_helper.feather.csv\",\n",
    "    separator=\"\\t\",\n",
    "    batch_size=5000\n",
    ")\n",
    "\n",
    "\n",
    "batches = reader.next_batches(5)  \n",
    "i = 0\n",
    "while batches:\n",
    "    for df in batches:\n",
    "        if i == 0:\n",
    "            df.filter(pl.col(\"channel_id\").is_in(filtered_df_ch[\"channel\"])).write_csv(\"../Youniverse/filtered_yt_metadata_helper.feather.csv\", include_header=True)\n",
    "        else:\n",
    "            with open(\"../Youniverse/filtered_yt_metadata_helper.feather.csv\", \"a\") as fh:\n",
    "                fh.write(df.filter(pl.col(\"channel_id\").is_in(filtered_df_ch[\"channel\"])).write_csv(file=None, include_header=False))\n",
    "        i = i+1\n",
    "        print(f\"batch {i}\\r\", end='')\n",
    "    batches = reader.next_batches(5)"
   ]
  },
  {
   "cell_type": "code",
   "execution_count": 4,
   "metadata": {},
   "outputs": [
    {
     "data": {
      "text/html": [
       "<div><style>\n",
       ".dataframe > thead > tr,\n",
       ".dataframe > tbody > tr {\n",
       "  text-align: right;\n",
       "  white-space: pre-wrap;\n",
       "}\n",
       "</style>\n",
       "<small>shape: (5, 9)</small><table border=\"1\" class=\"dataframe\"><thead><tr><th></th><th>categories</th><th>channel_id</th><th>dislike_count</th><th>display_id</th><th>duration</th><th>like_count</th><th>upload_date</th><th>view_count</th></tr><tr><td>i64</td><td>str</td><td>str</td><td>f64</td><td>str</td><td>i64</td><td>f64</td><td>str</td><td>f64</td></tr></thead><tbody><tr><td>25924058</td><td>&quot;News &amp; Politics&quot;</td><td>&quot;UCYC4ijpFZY_CtdElWFyy-Gg&quot;</td><td>626.0</td><td>&quot;u-1i6jC5SpI&quot;</td><td>379</td><td>1185.0</td><td>&quot;2017-12-20&quot;</td><td>68429.0</td></tr><tr><td>10858010</td><td>&quot;News &amp; Politics&quot;</td><td>&quot;UCj7wKsOBhRD9Jy4yahkMRMw&quot;</td><td>3.0</td><td>&quot;fXN0ABkfZ7M&quot;</td><td>158</td><td>19.0</td><td>&quot;2019-09-05&quot;</td><td>622.0</td></tr><tr><td>60789420</td><td>&quot;Entertainment&quot;</td><td>&quot;UC6ejCxeEjpMIjHRPD8o5prg&quot;</td><td>1.0</td><td>&quot;bNn-MU6l5zo&quot;</td><td>98</td><td>17.0</td><td>&quot;2017-05-25&quot;</td><td>987.0</td></tr><tr><td>67253323</td><td>&quot;Comedy&quot;</td><td>&quot;UC1vOCYEu3DfoI4fYcfWKmWA&quot;</td><td>null</td><td>&quot;rGpvBxryv1I&quot;</td><td>272</td><td>null</td><td>&quot;2019-04-21&quot;</td><td>4269.0</td></tr><tr><td>52486580</td><td>&quot;News &amp; Politics&quot;</td><td>&quot;UCDS9hpqUEXsXUIcf0qDcBIA&quot;</td><td>1.0</td><td>&quot;c1x-wWsXfCU&quot;</td><td>95</td><td>4.0</td><td>&quot;2018-06-27&quot;</td><td>172.0</td></tr></tbody></table></div>"
      ],
      "text/plain": [
       "shape: (5, 9)\n",
       "┌──────────┬────────────┬───────────┬───────────┬───┬──────────┬───────────┬───────────┬───────────┐\n",
       "│          ┆ categories ┆ channel_i ┆ dislike_c ┆ … ┆ duration ┆ like_coun ┆ upload_da ┆ view_coun │\n",
       "│ ---      ┆ ---        ┆ d         ┆ ount      ┆   ┆ ---      ┆ t         ┆ te        ┆ t         │\n",
       "│ i64      ┆ str        ┆ ---       ┆ ---       ┆   ┆ i64      ┆ ---       ┆ ---       ┆ ---       │\n",
       "│          ┆            ┆ str       ┆ f64       ┆   ┆          ┆ f64       ┆ str       ┆ f64       │\n",
       "╞══════════╪════════════╪═══════════╪═══════════╪═══╪══════════╪═══════════╪═══════════╪═══════════╡\n",
       "│ 25924058 ┆ News &     ┆ UCYC4ijpF ┆ 626.0     ┆ … ┆ 379      ┆ 1185.0    ┆ 2017-12-2 ┆ 68429.0   │\n",
       "│          ┆ Politics   ┆ ZY_CtdElW ┆           ┆   ┆          ┆           ┆ 0         ┆           │\n",
       "│          ┆            ┆ Fyy-Gg    ┆           ┆   ┆          ┆           ┆           ┆           │\n",
       "│ 10858010 ┆ News &     ┆ UCj7wKsOB ┆ 3.0       ┆ … ┆ 158      ┆ 19.0      ┆ 2019-09-0 ┆ 622.0     │\n",
       "│          ┆ Politics   ┆ hRD9Jy4ya ┆           ┆   ┆          ┆           ┆ 5         ┆           │\n",
       "│          ┆            ┆ hkMRMw    ┆           ┆   ┆          ┆           ┆           ┆           │\n",
       "│ 60789420 ┆ Entertainm ┆ UC6ejCxeE ┆ 1.0       ┆ … ┆ 98       ┆ 17.0      ┆ 2017-05-2 ┆ 987.0     │\n",
       "│          ┆ ent        ┆ jpMIjHRPD ┆           ┆   ┆          ┆           ┆ 5         ┆           │\n",
       "│          ┆            ┆ 8o5prg    ┆           ┆   ┆          ┆           ┆           ┆           │\n",
       "│ 67253323 ┆ Comedy     ┆ UC1vOCYEu ┆ null      ┆ … ┆ 272      ┆ null      ┆ 2019-04-2 ┆ 4269.0    │\n",
       "│          ┆            ┆ 3DfoI4fYc ┆           ┆   ┆          ┆           ┆ 1         ┆           │\n",
       "│          ┆            ┆ fWKmWA    ┆           ┆   ┆          ┆           ┆           ┆           │\n",
       "│ 52486580 ┆ News &     ┆ UCDS9hpqU ┆ 1.0       ┆ … ┆ 95       ┆ 4.0       ┆ 2018-06-2 ┆ 172.0     │\n",
       "│          ┆ Politics   ┆ EXsXUIcf0 ┆           ┆   ┆          ┆           ┆ 7         ┆           │\n",
       "│          ┆            ┆ qDcBIA    ┆           ┆   ┆          ┆           ┆           ┆           │\n",
       "└──────────┴────────────┴───────────┴───────────┴───┴──────────┴───────────┴───────────┴───────────┘"
      ]
     },
     "execution_count": 4,
     "metadata": {},
     "output_type": "execute_result"
    }
   ],
   "source": [
    "filtered_df_metadata_feather = pl.read_csv(\"../Youniverse/filtered_yt_metadata_helper.feather.csv\")\n",
    "filtered_df_metadata_feather.sample(5)"
   ]
  },
  {
   "cell_type": "code",
   "execution_count": 18,
   "metadata": {},
   "outputs": [
    {
     "data": {
      "text/plain": [
       "9503610"
      ]
     },
     "execution_count": 18,
     "metadata": {},
     "output_type": "execute_result"
    }
   ],
   "source": [
    "len(filtered_df_metadata_feather)"
   ]
  },
  {
   "cell_type": "code",
   "execution_count": 5,
   "metadata": {},
   "outputs": [
    {
     "data": {
      "text/plain": [
       "['Nonprofits & Activism',\n",
       " 'People & Blogs',\n",
       " 'Pets & Animals',\n",
       " 'Howto & Style',\n",
       " 'Education',\n",
       " None,\n",
       " 'Comedy',\n",
       " 'Entertainment',\n",
       " 'Gaming',\n",
       " 'Autos & Vehicles',\n",
       " 'Travel & Events',\n",
       " 'Film & Animation',\n",
       " 'Sports',\n",
       " 'News & Politics',\n",
       " 'Science & Technology',\n",
       " 'Music']"
      ]
     },
     "execution_count": 5,
     "metadata": {},
     "output_type": "execute_result"
    }
   ],
   "source": [
    "list(filtered_df_metadata_feather[\"categories\"].unique())"
   ]
  },
  {
   "cell_type": "code",
   "execution_count": 10,
   "metadata": {},
   "outputs": [
    {
     "data": {
      "text/html": [
       "<div><style>\n",
       ".dataframe > thead > tr,\n",
       ".dataframe > tbody > tr {\n",
       "  text-align: right;\n",
       "  white-space: pre-wrap;\n",
       "}\n",
       "</style>\n",
       "<small>shape: (16, 2)</small><table border=\"1\" class=\"dataframe\"><thead><tr><th>categories</th><th>count</th></tr><tr><td>str</td><td>u32</td></tr></thead><tbody><tr><td>&quot;News &amp; Politics&quot;</td><td>8261387</td></tr><tr><td>&quot;Entertainment&quot;</td><td>398379</td></tr><tr><td>&quot;People &amp; Blogs&quot;</td><td>389905</td></tr><tr><td>&quot;Sports&quot;</td><td>116509</td></tr><tr><td>&quot;Education&quot;</td><td>72252</td></tr><tr><td>&hellip;</td><td>&hellip;</td></tr><tr><td>&quot;Comedy&quot;</td><td>21957</td></tr><tr><td>&quot;Pets &amp; Animals&quot;</td><td>12286</td></tr><tr><td>&quot;Autos &amp; Vehicles&quot;</td><td>10680</td></tr><tr><td>&quot;Gaming&quot;</td><td>6950</td></tr><tr><td>null</td><td>79</td></tr></tbody></table></div>"
      ],
      "text/plain": [
       "shape: (16, 2)\n",
       "┌──────────────────┬─────────┐\n",
       "│ categories       ┆ count   │\n",
       "│ ---              ┆ ---     │\n",
       "│ str              ┆ u32     │\n",
       "╞══════════════════╪═════════╡\n",
       "│ News & Politics  ┆ 8261387 │\n",
       "│ Entertainment    ┆ 398379  │\n",
       "│ People & Blogs   ┆ 389905  │\n",
       "│ Sports           ┆ 116509  │\n",
       "│ Education        ┆ 72252   │\n",
       "│ …                ┆ …       │\n",
       "│ Comedy           ┆ 21957   │\n",
       "│ Pets & Animals   ┆ 12286   │\n",
       "│ Autos & Vehicles ┆ 10680   │\n",
       "│ Gaming           ┆ 6950    │\n",
       "│ null             ┆ 79      │\n",
       "└──────────────────┴─────────┘"
      ]
     },
     "execution_count": 10,
     "metadata": {},
     "output_type": "execute_result"
    }
   ],
   "source": [
    "filtered_df_metadata_feather[\"categories\"].value_counts().sort(by=\"count\", descending=True)"
   ]
  },
  {
   "cell_type": "code",
   "execution_count": 7,
   "metadata": {},
   "outputs": [
    {
     "name": "stdout",
     "output_type": "stream",
     "text": [
      "batch 145849 / 145390 \r"
     ]
    }
   ],
   "source": [
    "chunks = pd.read_json(\"../Youniverse/yt_metadata_en.jsonl\", lines=True, chunksize = 500)\n",
    "for i, c in enumerate(chunks):\n",
    "    c = c[c[\"channel_id\"].isin(filtered_df_ch[\"channel\"])]\n",
    "    if i == 0:\n",
    "        c.to_csv(\"../Youniverse/filtered_yt_metadata.csv\", header=True)\n",
    "    else: \n",
    "        with open(\"../Youniverse/filtered_yt_metadata.csv\", \"a\") as fh:\n",
    "            fh.write(c.to_csv(path_or_buf=None, header=False))\n",
    "    print(f\"batch {i} / 145390 \\r\", end=\"\")"
   ]
  },
  {
   "cell_type": "code",
   "execution_count": 9,
   "metadata": {},
   "outputs": [
    {
     "name": "stdout",
     "output_type": "stream",
     "text": [
      "batch 134425 / 860000.0 \r"
     ]
    },
    {
     "ename": "KeyboardInterrupt",
     "evalue": "",
     "output_type": "error",
     "traceback": [
      "\u001b[1;31m---------------------------------------------------------------------------\u001b[0m",
      "\u001b[1;31mKeyboardInterrupt\u001b[0m                         Traceback (most recent call last)",
      "Cell \u001b[1;32mIn[9], line 24\u001b[0m\n\u001b[0;32m     22\u001b[0m     i \u001b[38;5;241m=\u001b[39m i\u001b[38;5;241m+\u001b[39m\u001b[38;5;241m1\u001b[39m\n\u001b[0;32m     23\u001b[0m     \u001b[38;5;28mprint\u001b[39m(\u001b[38;5;124mf\u001b[39m\u001b[38;5;124m\"\u001b[39m\u001b[38;5;124mbatch \u001b[39m\u001b[38;5;132;01m{\u001b[39;00mi\u001b[38;5;132;01m}\u001b[39;00m\u001b[38;5;124m / \u001b[39m\u001b[38;5;132;01m{\u001b[39;00mtotal_batches\u001b[38;5;132;01m}\u001b[39;00m\u001b[38;5;124m \u001b[39m\u001b[38;5;130;01m\\r\u001b[39;00m\u001b[38;5;124m\"\u001b[39m, end\u001b[38;5;241m=\u001b[39m\u001b[38;5;124m'\u001b[39m\u001b[38;5;124m'\u001b[39m)\n\u001b[1;32m---> 24\u001b[0m batches \u001b[38;5;241m=\u001b[39m \u001b[43mreader\u001b[49m\u001b[38;5;241;43m.\u001b[39;49m\u001b[43mnext_batches\u001b[49m\u001b[43m(\u001b[49m\u001b[38;5;241;43m5\u001b[39;49m\u001b[43m)\u001b[49m\n",
      "File \u001b[1;32mc:\\Users\\lisas\\anaconda3\\envs\\ada\\Lib\\site-packages\\polars\\io\\csv\\batched_reader.py:133\u001b[0m, in \u001b[0;36mBatchedCsvReader.next_batches\u001b[1;34m(self, n)\u001b[0m\n\u001b[0;32m    109\u001b[0m \u001b[38;5;28;01mdef\u001b[39;00m \u001b[38;5;21mnext_batches\u001b[39m(\u001b[38;5;28mself\u001b[39m, n: \u001b[38;5;28mint\u001b[39m) \u001b[38;5;241m-\u001b[39m\u001b[38;5;241m>\u001b[39m \u001b[38;5;28mlist\u001b[39m[DataFrame] \u001b[38;5;241m|\u001b[39m \u001b[38;5;28;01mNone\u001b[39;00m:\n\u001b[0;32m    110\u001b[0m \u001b[38;5;250m    \u001b[39m\u001b[38;5;124;03m\"\"\"\u001b[39;00m\n\u001b[0;32m    111\u001b[0m \u001b[38;5;124;03m    Read `n` batches from the reader.\u001b[39;00m\n\u001b[0;32m    112\u001b[0m \n\u001b[1;32m   (...)\u001b[0m\n\u001b[0;32m    131\u001b[0m \u001b[38;5;124;03m    list of DataFrames\u001b[39;00m\n\u001b[0;32m    132\u001b[0m \u001b[38;5;124;03m    \"\"\"\u001b[39;00m\n\u001b[1;32m--> 133\u001b[0m     \u001b[38;5;28;01mif\u001b[39;00m (batches \u001b[38;5;241m:=\u001b[39m \u001b[38;5;28;43mself\u001b[39;49m\u001b[38;5;241;43m.\u001b[39;49m\u001b[43m_reader\u001b[49m\u001b[38;5;241;43m.\u001b[39;49m\u001b[43mnext_batches\u001b[49m\u001b[43m(\u001b[49m\u001b[43mn\u001b[49m\u001b[43m)\u001b[49m) \u001b[38;5;129;01mis\u001b[39;00m \u001b[38;5;129;01mnot\u001b[39;00m \u001b[38;5;28;01mNone\u001b[39;00m:\n\u001b[0;32m    134\u001b[0m         \u001b[38;5;28;01mif\u001b[39;00m \u001b[38;5;28mself\u001b[39m\u001b[38;5;241m.\u001b[39mnew_columns:\n\u001b[0;32m    135\u001b[0m             \u001b[38;5;28;01mreturn\u001b[39;00m [\n\u001b[0;32m    136\u001b[0m                 _update_columns(wrap_df(df), \u001b[38;5;28mself\u001b[39m\u001b[38;5;241m.\u001b[39mnew_columns) \u001b[38;5;28;01mfor\u001b[39;00m df \u001b[38;5;129;01min\u001b[39;00m batches\n\u001b[0;32m    137\u001b[0m             ]\n",
      "\u001b[1;31mKeyboardInterrupt\u001b[0m: "
     ]
    }
   ],
   "source": [
    "# load yt metadata in chunks and filter for videos contained in filtered_df_ch\n",
    "# df.filter(pl.col(\"categories\") == \"News & Politics\") to filter for categories of videos instead\n",
    "batch_size = 10000\n",
    "reader = pl.read_csv_batched(\n",
    "    \"../Youniverse/youtube_comments.tsv\",\n",
    "    separator=\"\\t\",\n",
    "    batch_size= batch_size\n",
    ")\n",
    "\n",
    "total_batches = 8600000000/batch_size\n",
    "\n",
    "batches = reader.next_batches(5)  \n",
    "i = 0\n",
    "while batches:\n",
    "    for df in batches:\n",
    "        if i == 0:\n",
    "            # df.filter(pl.col(\"video_id\").is_in(filtered_df_metadata_feather[\"display_id\"])).write_csv(\"../Youniverse/filtered_youtube_comments.tsv\", include_header=True)\n",
    "            df.filter(pl.col(\"video_id\") == \"fXN0ABkfZ7M\").write_csv(\"../Youniverse/filtered_youtube_comments.tsv\", include_header=True)\n",
    "        else:\n",
    "            with open(\"../Youniverse/filtered_youtube_comments.tsv\", \"a\") as fh:\n",
    "                fh.write(df.filter(pl.col(\"video_id\") == \"fXN0ABkfZ7M\").write_csv(file=None, include_header=False))\n",
    "        i = i+1\n",
    "        print(f\"batch {i} / {total_batches} \\r\", end='')\n",
    "    batches = reader.next_batches(5)"
   ]
  },
  {
   "cell_type": "code",
   "execution_count": null,
   "metadata": {},
   "outputs": [
    {
     "name": "stdout",
     "output_type": "stream",
     "text": [
      "shape: (4_600, 4)\n",
      "┌────────┬─────────────┬───────┬─────────┐\n",
      "│ author ┆ video_id    ┆ likes ┆ replies │\n",
      "│ ---    ┆ ---         ┆ ---   ┆ ---     │\n",
      "│ i64    ┆ str         ┆ i64   ┆ i64     │\n",
      "╞════════╪═════════════╪═══════╪═════════╡\n",
      "│ 1      ┆ Gkb1QMHrGvA ┆ 2     ┆ 0       │\n",
      "│ 1      ┆ CNtp0xqoods ┆ 0     ┆ 0       │\n",
      "│ 1      ┆ 249EEzQmVmQ ┆ 1     ┆ 0       │\n",
      "│ 1      ┆ _U443T2K_Bs ┆ 0     ┆ 0       │\n",
      "│ 1      ┆ rJbjhm0weYc ┆ 0     ┆ 0       │\n",
      "│ …      ┆ …           ┆ …     ┆ …       │\n",
      "│ 314    ┆ cvrCYT7Oyt4 ┆ 0     ┆ 0       │\n",
      "│ 314    ┆ B90EzQj2wOQ ┆ 0     ┆ 0       │\n",
      "│ 314    ┆ BkHuP2ZEtAY ┆ 0     ┆ 0       │\n",
      "│ 314    ┆ 9ndXWa3j91I ┆ 0     ┆ 0       │\n",
      "│ 314    ┆ 9qfNbzqZlBk ┆ 0     ┆ 0       │\n",
      "└────────┴─────────────┴───────┴─────────┘\n",
      "shape: (4_490, 4)\n",
      "┌────────┬─────────────┬───────┬─────────┐\n",
      "│ author ┆ video_id    ┆ likes ┆ replies │\n",
      "│ ---    ┆ ---         ┆ ---   ┆ ---     │\n",
      "│ i64    ┆ str         ┆ i64   ┆ i64     │\n",
      "╞════════╪═════════════╪═══════╪═════════╡\n",
      "│ 314    ┆ LGmLi4RyjIA ┆ 0     ┆ 0       │\n",
      "│ 314    ┆ l9ZuUCPzP5s ┆ 0     ┆ 0       │\n",
      "│ 314    ┆ tORKgibhfBo ┆ 0     ┆ 0       │\n",
      "│ 314    ┆ hYleUsLSd-I ┆ 0     ┆ 0       │\n",
      "│ 314    ┆ TA3BPggtSnQ ┆ 0     ┆ 0       │\n",
      "│ …      ┆ …           ┆ …     ┆ …       │\n",
      "│ 693    ┆ w6NXyxQmMQ0 ┆ 0     ┆ 0       │\n",
      "│ 693    ┆ 34t0QQPlmLs ┆ 0     ┆ 0       │\n",
      "│ 693    ┆ EUPaShlj9BM ┆ 0     ┆ 0       │\n",
      "│ 693    ┆ BuaIbM3GZYA ┆ 0     ┆ 0       │\n",
      "│ 693    ┆ sx7wKmbtm2A ┆ 1     ┆ 1       │\n",
      "└────────┴─────────────┴───────┴─────────┘\n",
      "shape: (4_454, 4)\n",
      "┌────────┬─────────────┬───────┬─────────┐\n",
      "│ author ┆ video_id    ┆ likes ┆ replies │\n",
      "│ ---    ┆ ---         ┆ ---   ┆ ---     │\n",
      "│ i64    ┆ str         ┆ i64   ┆ i64     │\n",
      "╞════════╪═════════════╪═══════╪═════════╡\n",
      "│ 693    ┆ FZB3mm7Egeo ┆ 0     ┆ 0       │\n",
      "│ 693    ┆ v776jlfm7vE ┆ 0     ┆ 0       │\n",
      "│ 693    ┆ vxtkTijn0_A ┆ 1     ┆ 0       │\n",
      "│ 693    ┆ Os_kffCwIO4 ┆ 0     ┆ 0       │\n",
      "│ 693    ┆ vSROSencBss ┆ 0     ┆ 0       │\n",
      "│ …      ┆ …           ┆ …     ┆ …       │\n",
      "│ 1047   ┆ nVE3g4XLqx8 ┆ 0     ┆ 0       │\n",
      "│ 1047   ┆ DyH11PZQ5Lc ┆ 0     ┆ 0       │\n",
      "│ 1047   ┆ OHELU6I10wQ ┆ 0     ┆ 0       │\n",
      "│ 1047   ┆ OHELU6I10wQ ┆ 1     ┆ 0       │\n",
      "│ 1047   ┆ HyXFtBFXaMo ┆ 1     ┆ 0       │\n",
      "└────────┴─────────────┴───────┴─────────┘\n",
      "shape: (4_280, 4)\n",
      "┌────────┬─────────────┬───────┬─────────┐\n",
      "│ author ┆ video_id    ┆ likes ┆ replies │\n",
      "│ ---    ┆ ---         ┆ ---   ┆ ---     │\n",
      "│ i64    ┆ str         ┆ i64   ┆ i64     │\n",
      "╞════════╪═════════════╪═══════╪═════════╡\n",
      "│ 1047   ┆ 1gHGqkmSSUk ┆ 5     ┆ 0       │\n",
      "│ 1047   ┆ BtjnaKKmHXg ┆ 0     ┆ 0       │\n",
      "│ 1047   ┆ bagj78IQ3l0 ┆ 1     ┆ 0       │\n",
      "│ 1047   ┆ CA4ypEdMj60 ┆ 0     ┆ 0       │\n",
      "│ 1047   ┆ SeL9x6ng9Gc ┆ 0     ┆ 0       │\n",
      "│ …      ┆ …           ┆ …     ┆ …       │\n",
      "│ 1404   ┆ EYCPGi4hvLg ┆ 0     ┆ 0       │\n",
      "│ 1404   ┆ YuCS_l_HvSo ┆ 0     ┆ 0       │\n",
      "│ 1404   ┆ YuCS_l_HvSo ┆ 0     ┆ 0       │\n",
      "│ 1404   ┆ Zp1BYzIVi0U ┆ 0     ┆ 0       │\n",
      "│ 1404   ┆ 8EGn_SNljH8 ┆ 0     ┆ 0       │\n",
      "└────────┴─────────────┴───────┴─────────┘\n",
      "shape: (4_282, 4)\n",
      "┌────────┬─────────────┬───────┬─────────┐\n",
      "│ author ┆ video_id    ┆ likes ┆ replies │\n",
      "│ ---    ┆ ---         ┆ ---   ┆ ---     │\n",
      "│ i64    ┆ str         ┆ i64   ┆ i64     │\n",
      "╞════════╪═════════════╪═══════╪═════════╡\n",
      "│ 1404   ┆ pb6w_v25JxI ┆ 0     ┆ 0       │\n",
      "│ 1404   ┆ l1hZFRe8cH4 ┆ 0     ┆ 0       │\n",
      "│ 1404   ┆ JrrHUgf6VU4 ┆ 0     ┆ 0       │\n",
      "│ 1404   ┆ Qls7ElVrSQg ┆ 0     ┆ 0       │\n",
      "│ 1404   ┆ lwDjctDw9KI ┆ 0     ┆ 0       │\n",
      "│ …      ┆ …           ┆ …     ┆ …       │\n",
      "│ 1695   ┆ gJGqJb8pauE ┆ 0     ┆ 0       │\n",
      "│ 1695   ┆ UQmlu96Y3Ts ┆ 0     ┆ 0       │\n",
      "│ 1695   ┆ HN-SjWyCrwo ┆ 0     ┆ 0       │\n",
      "│ 1695   ┆ zpBRcec_82k ┆ 0     ┆ 0       │\n",
      "│ 1695   ┆ C7BFZTwfYJk ┆ 1     ┆ 0       │\n",
      "└────────┴─────────────┴───────┴─────────┘\n"
     ]
    }
   ],
   "source": [
    "# load yt metadata in chunks and filter for videos contained in filtered_df_ch\n",
    "reader = pl.read_csv_batched(\n",
    "    \"../Youniverse/num_comments_authors.tsv\",\n",
    "    separator=\"\\t\",\n",
    "    batch_size=5000\n",
    ")  \n",
    "batches = reader.next_batches(5)  \n",
    "for df in batches:  \n",
    "    print(df)"
   ]
  },
  {
   "cell_type": "code",
   "execution_count": 18,
   "metadata": {},
   "outputs": [
    {
     "data": {
      "text/plain": [
       "['People & Blogs',\n",
       " 'Pets & Animals',\n",
       " 'Music',\n",
       " 'Travel & Events',\n",
       " 'Science & Technology',\n",
       " 'Gaming',\n",
       " 'News & Politics',\n",
       " 'Entertainment',\n",
       " 'Autos & Vehicles',\n",
       " None,\n",
       " 'Film and Animation',\n",
       " 'Howto & Style',\n",
       " 'Education',\n",
       " 'Sports',\n",
       " 'Comedy',\n",
       " 'Nonprofits & Activism']"
      ]
     },
     "execution_count": 18,
     "metadata": {},
     "output_type": "execute_result"
    }
   ],
   "source": [
    "list(pl_df_f[\"category_cc\"].unique())"
   ]
  }
 ],
 "metadata": {
  "kernelspec": {
   "display_name": "ada",
   "language": "python",
   "name": "python3"
  },
  "language_info": {
   "codemirror_mode": {
    "name": "ipython",
    "version": 3
   },
   "file_extension": ".py",
   "mimetype": "text/x-python",
   "name": "python",
   "nbconvert_exporter": "python",
   "pygments_lexer": "ipython3",
   "version": "3.11.10"
  }
 },
 "nbformat": 4,
 "nbformat_minor": 2
}
