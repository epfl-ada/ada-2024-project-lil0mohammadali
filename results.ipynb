{
 "cells": [
  {
   "cell_type": "markdown",
   "metadata": {},
   "source": [
    "# News spreading on youtube from US Channels\n"
   ]
  },
  {
   "cell_type": "markdown",
   "metadata": {},
   "source": [
    "## Table of Contents\n",
    "* [1 Preprocessing and data filtering](#filter_data)\n",
    "    * [1.1 Filter for Category 'News & Politics'](#filter_data-category)\n",
    "    * [1.2 Filter for Active Channels](#filter_data-active)\n",
    "    * [1.3 Get country of channel](#filter_data-country)\n",
    "    * [1.4 Get if channel is english-speaking](#filter_data-english)\n",
    "    * [1.5 Filter for language and country and save final data](#filter_data-save)\n",
    "        * [1.5.1 Filtering relevant comments](#filter_data-comments)\n",
    "* [2 Selection of Events and filtering for relevant videos](#event_selection)\n",
    "* [3 How US News report on different events](#status_quo)\n",
    "    * [3.1 Get relevant videos per event](#status_quo-videos_per_event)\n",
    "    * [3.2 Extract video and channel features](#status_quo-features)\n",
    "        * [3.2.1 Intial distribution of video metrics](#status_quo-features-distributions)\n",
    "    * [3.3 Results and Comparison between Events](#status_quo-results)\n",
    "* [4 How does the public response to events](#public_response)\n",
    "    * [4.1 Compute Public Response Metrics](#public_response-metrics)\n",
    "    * [4.2 Compute Correlation between Video Features and Response Metrics](#public_response-correlation)\n",
    "    * [4.3 Compute F- and T-tests](#public_response-ttest)\n",
    "* [5 Conclusion](#conclusion)"
   ]
  },
  {
   "cell_type": "markdown",
   "metadata": {},
   "source": [
    "**Global imports**"
   ]
  },
  {
   "cell_type": "code",
   "execution_count": 12,
   "metadata": {},
   "outputs": [],
   "source": [
    "import pandas as pd\n",
    "import numpy as np\n",
    "import polars as pl\n",
    "from matplotlib import pyplot as plt\n",
    "from datetime import date\n",
    "import matplotlib.dates as mdates\n",
    "import importlib\n",
    "\n",
    "\n",
    "\n",
    "from src.utils import keywords\n",
    "from src.utils import analysis_tools\n",
    "from src.scripts import filters, filter_comments\n",
    "from src.plot_utils import channel_activity, filtering_visualization\n",
    "# from src.utils import general_utils"
   ]
  },
  {
   "cell_type": "markdown",
   "metadata": {},
   "source": [
    "**Path definitions**"
   ]
  },
  {
   "cell_type": "code",
   "execution_count": null,
   "metadata": {},
   "outputs": [],
   "source": [
    "# Path to raw files used for preprocessing\n",
    "path_data_dir = 'data/'\n",
    "\n",
    "path_df_channels_en = 'data/df_channels_en.tsv'\n",
    "\n",
    "path_df_timeseries = 'data/df_timeseries_en.tsv'\n",
    "\n",
    "path_yt_metadata_feather = 'data/yt_metadata_helper.feather'\n",
    "path_yt_metadata_feather_filtered = 'data/filtered_yt_metadata_helper.feather.csv'\n",
    "\n",
    "path_yt_metadata = 'data/yt_metadata_en.jsonl'\n",
    "path_yt_metadata_filtered = 'data/filtered_yt_metadata.csv'\n",
    "\n",
    "path_comments_filtered = 'data/filtered_comments.csv'\n",
    "path_comments_filtered_copy = 'data/filtered_comments_copy.csv'\n",
    "path_comments_stats = \"data/comment_stats.csv\"\n",
    "\n",
    "\n",
    "# Path of preprocessed files used for event selection\n",
    "path_final_channels = 'data/final_channels.csv'\n",
    "path_final_timeseries = 'data/final_timeseries.csv'\n",
    "path_final_yt_metadata_feather = 'data/final_yt_metadata_helper.csv'\n",
    "path_final_yt_metadata = 'data/final_yt_metadata.csv'\n",
    "\n",
    "# Path of event-filtered files, used for analysis\n",
    "path_event_yt_metadata = 'data/final_classified_filtered_dataset.csv'\n",
    "\n",
    "\n",
    "path_final_all_features_and_metrics = \"data/final_all_features_and_metrics.csv\"\n",
    "path_subjectivity = \"data/videos_subjectivity.csv\""
   ]
  },
  {
   "cell_type": "markdown",
   "metadata": {},
   "source": [
    "## 1 Preprocessing and data filtering  <a class=\"anchor\" id=\"filter_data\"></a>\n",
    "\n",
    "The most important part of the data analysis is to question how we get the videos related to our questions. So how can we get the videos from US news channels? And how can we find the related videos to the events out of all the videos from those channels?\n",
    "\n",
    "The first question is easier to answer, to get the releveant US news channels we did a filtering in 4 steps:\n",
    "1. Only consider channels which are categorized as 'News & Politics'. The category corresponds to the most frequent category (set per video by the channel) present on the channel.\n",
    "2. As we are interested in News updates we only consider channels showing a high average activity. This we set to be more than 4 videos per day.\n",
    "3. We exclude any non-english speaking channels.\n",
    "4. We exclude any non-US channels.\n",
    "\n",
    "The second question is trickier to answer, as there are a lot of parameters to consider. The detailed approach is described in section [2](#status_quo)."
   ]
  },
  {
   "cell_type": "markdown",
   "metadata": {},
   "source": [
    "### 1.1 Filter for Category 'News & Politics' <a class=\"anchor\" id=\"filter_data-category\"></a>\n",
    "\n",
    "The first step for filtering our data is to select only the channels which have been categorized as 'News & Politics'. This is done using `df_channels_en.tsv`."
   ]
  },
  {
   "cell_type": "code",
   "execution_count": 3,
   "metadata": {},
   "outputs": [
    {
     "name": "stdout",
     "output_type": "stream",
     "text": [
      "Number of channels in category 'News & Politics': 2263\n"
     ]
    }
   ],
   "source": [
    "pl_df_ch = pl.read_csv(path_df_channels_en, separator=\"\\t\")\n",
    "\n",
    "filtered_df_ch = filters.filter_df(pl_df_ch, column_name=\"category_cc\", \n",
    "                                   value=\"News & Politics\", cmpstr=\"==\")\n",
    "\n",
    "print(f\"Number of channels in category 'News & Politics': {len(filtered_df_ch)}\")"
   ]
  },
  {
   "cell_type": "markdown",
   "metadata": {},
   "source": [
    "### 1.2 Filter for Active Channels <a class=\"anchor\" id=\"filter_data-active\"></a>\n",
    "\n",
    "As we only want to focus on channels providing News Updates, we will compute the average activity of channel. This is defined as the average number of videos uploaded over two weeks and computed using the `df_timeseries_en.tsv`. We assumed that channels providing news *updates* will upload several videos per day. A manual review of some channels verified this assumption. To set a threshold we will plot the distribution to see if there is a clear separation between active and inactive channels. "
   ]
  },
  {
   "cell_type": "code",
   "execution_count": 4,
   "metadata": {},
   "outputs": [],
   "source": [
    "df_timeseries = pl.read_csv(path_df_timeseries, separator=\"\\t\")\n",
    "\n",
    "# filter timeseries for channels in category 'News & Politics'\n",
    "filtered_df_timeseries = filters.filter_df_isin(df_timeseries, column_name=\"channel\", \n",
    "                                                values=filtered_df_ch[\"channel\"])"
   ]
  },
  {
   "cell_type": "code",
   "execution_count": null,
   "metadata": {},
   "outputs": [
    {
     "data": {
      "text/html": [
       "<div><style>\n",
       ".dataframe > thead > tr,\n",
       ".dataframe > tbody > tr {\n",
       "  text-align: right;\n",
       "  white-space: pre-wrap;\n",
       "}\n",
       "</style>\n",
       "<small>shape: (2, 9)</small><table border=\"1\" class=\"dataframe\"><thead><tr><th>category_cc</th><th>join_date</th><th>channel</th><th>name_cc</th><th>subscribers_cc</th><th>videos_cc</th><th>subscriber_rank_sb</th><th>weights</th><th>mean_activity</th></tr><tr><td>str</td><td>str</td><td>str</td><td>str</td><td>i64</td><td>i64</td><td>f64</td><td>f64</td><td>f64</td></tr></thead><tbody><tr><td>&quot;News &amp; Politics&quot;</td><td>&quot;2006-08-26&quot;</td><td>&quot;UCttspZesZIDEwwpVIgoZtWQ&quot;</td><td>&quot;IndiaTV&quot;</td><td>15177282</td><td>139814</td><td>199.0</td><td>2.087</td><td>596.564103</td></tr><tr><td>&quot;News &amp; Politics&quot;</td><td>&quot;2012-06-01&quot;</td><td>&quot;UCRWFSbif-RFENbBrSiez1DA&quot;</td><td>&quot;ABP NEWS&quot;</td><td>16274836</td><td>129027</td><td>207.0</td><td>2.087</td><td>595.458065</td></tr></tbody></table></div>"
      ],
      "text/plain": [
       "shape: (2, 9)\n",
       "┌────────────┬────────────┬───────────┬──────────┬───┬───────────┬───────────┬─────────┬───────────┐\n",
       "│ category_c ┆ join_date  ┆ channel   ┆ name_cc  ┆ … ┆ videos_cc ┆ subscribe ┆ weights ┆ mean_acti │\n",
       "│ c          ┆ ---        ┆ ---       ┆ ---      ┆   ┆ ---       ┆ r_rank_sb ┆ ---     ┆ vity      │\n",
       "│ ---        ┆ str        ┆ str       ┆ str      ┆   ┆ i64       ┆ ---       ┆ f64     ┆ ---       │\n",
       "│ str        ┆            ┆           ┆          ┆   ┆           ┆ f64       ┆         ┆ f64       │\n",
       "╞════════════╪════════════╪═══════════╪══════════╪═══╪═══════════╪═══════════╪═════════╪═══════════╡\n",
       "│ News &     ┆ 2006-08-26 ┆ UCttspZes ┆ IndiaTV  ┆ … ┆ 139814    ┆ 199.0     ┆ 2.087   ┆ 596.56410 │\n",
       "│ Politics   ┆            ┆ ZIDEwwpVI ┆          ┆   ┆           ┆           ┆         ┆ 3         │\n",
       "│            ┆            ┆ goZtWQ    ┆          ┆   ┆           ┆           ┆         ┆           │\n",
       "│ News &     ┆ 2012-06-01 ┆ UCRWFSbif ┆ ABP NEWS ┆ … ┆ 129027    ┆ 207.0     ┆ 2.087   ┆ 595.45806 │\n",
       "│ Politics   ┆            ┆ -RFENbBrS ┆          ┆   ┆           ┆           ┆         ┆ 5         │\n",
       "│            ┆            ┆ iez1DA    ┆          ┆   ┆           ┆           ┆         ┆           │\n",
       "└────────────┴────────────┴───────────┴──────────┴───┴───────────┴───────────┴─────────┴───────────┘"
      ]
     },
     "execution_count": 28,
     "metadata": {},
     "output_type": "execute_result"
    }
   ],
   "source": [
    "# compute the average activity for all channels and merge with the filtered channels by category\n",
    "grouped_df = filtered_df_timeseries.group_by('channel').agg(pl.col('activity').mean().alias('mean_activity'))\n",
    "filtered_df_timeseries = filtered_df_ch.join(grouped_df, on='channel', how='inner')\n",
    "filtered_df_timeseries.head(2)"
   ]
  },
  {
   "cell_type": "markdown",
   "metadata": {},
   "source": [
    "#### Activity Distribution\n",
    "\n",
    "Here we plot the distribution of the average number of videos uploaded over two weeks for all channels. We want to see if there are clear separation between active and inactive channels to set a threshold.\n",
    "\n",
    "**Conclusion**: \n",
    "But by looking at the distribution below (left plot) we cannot identify clusters of active and non-active channels. That's why we set the cutoff threshold manually choosing a reasonable activity as threshold as 4 videos per day. This was verified manually by checking channels above the threshold (list on the right). They mainly correspond to the type of news channels we were looking for such as CNN, Fox News, ABC News, etc."
   ]
  },
  {
   "cell_type": "code",
   "execution_count": null,
   "metadata": {},
   "outputs": [
    {
     "data": {
      "application/vnd.plotly.v1+json": {
       "config": {
        "plotlyServerURL": "https://plot.ly"
       },
       "data": [
        {
         "cumulative": {
          "direction": "decreasing",
          "enabled": true
         },
         "histnorm": "percent",
         "marker": {
          "color": [
           "red",
           "red",
           "red",
           "red",
           "red",
           "red",
           "red",
           "red",
           "red",
           "red",
           "red",
           "red",
           "red",
           "red",
           "red",
           "red",
           "red",
           "red",
           "red",
           "red",
           "red",
           "red",
           "red",
           "red",
           "red",
           "red",
           "red",
           "red",
           "red",
           "red",
           "red",
           "red",
           "red",
           "red",
           "red",
           "red",
           "red",
           "red",
           "red",
           "red",
           "blue",
           "blue",
           "blue",
           "blue",
           "blue",
           "blue",
           "blue",
           "blue",
           "blue",
           "blue",
           "blue",
           "blue",
           "blue",
           "blue",
           "blue",
           "blue",
           "blue",
           "blue",
           "blue",
           "blue",
           "blue",
           "blue",
           "blue",
           "blue",
           "blue",
           "blue",
           "blue",
           "blue",
           "blue",
           "blue",
           "blue",
           "blue",
           "blue",
           "blue",
           "blue",
           "blue",
           "blue",
           "blue",
           "blue",
           "blue",
           "blue",
           "blue",
           "blue",
           "blue",
           "blue",
           "blue",
           "blue",
           "blue",
           "blue",
           "blue",
           "blue",
           "blue",
           "blue",
           "blue",
           "blue",
           "blue",
           "blue",
           "blue",
           "blue",
           "blue",
           "blue",
           "blue",
           "blue",
           "blue",
           "blue",
           "blue",
           "blue",
           "blue",
           "blue",
           "blue",
           "blue",
           "blue",
           "blue",
           "blue",
           "blue",
           "blue",
           "blue",
           "blue",
           "blue",
           "blue",
           "blue",
           "blue",
           "blue",
           "blue",
           "blue",
           "blue",
           "blue",
           "blue",
           "blue",
           "blue",
           "blue",
           "blue",
           "blue",
           "blue",
           "blue",
           "blue",
           "blue",
           "blue",
           "blue",
           "blue",
           "blue",
           "blue",
           "blue",
           "blue",
           "blue",
           "blue",
           "blue",
           "blue",
           "blue",
           "blue",
           "blue",
           "blue",
           "blue",
           "blue",
           "blue",
           "blue",
           "blue",
           "blue",
           "blue",
           "blue",
           "blue",
           "blue",
           "blue",
           "blue",
           "blue",
           "blue",
           "blue",
           "blue",
           "blue",
           "blue",
           "blue",
           "blue",
           "blue",
           "blue",
           "blue",
           "blue",
           "blue",
           "blue",
           "blue",
           "blue",
           "blue",
           "blue",
           "blue",
           "blue",
           "blue",
           "blue",
           "blue",
           "blue",
           "blue",
           "blue",
           "blue",
           "blue",
           "blue",
           "blue",
           "blue",
           "blue",
           "blue",
           "blue",
           "blue",
           "blue",
           "blue",
           "blue",
           "blue",
           "blue",
           "blue",
           "blue",
           "blue",
           "blue",
           "blue",
           "blue",
           "blue",
           "blue",
           "blue",
           "blue",
           "blue",
           "blue",
           "blue",
           "blue",
           "blue",
           "blue",
           "blue",
           "blue",
           "blue",
           "blue",
           "blue",
           "blue",
           "blue",
           "blue",
           "blue",
           "blue",
           "blue",
           "blue",
           "blue",
           "blue",
           "blue",
           "blue",
           "blue",
           "blue",
           "blue",
           "blue",
           "blue",
           "blue",
           "blue",
           "blue",
           "blue",
           "blue",
           "blue",
           "blue",
           "blue",
           "blue",
           "blue",
           "blue",
           "blue",
           "blue",
           "blue",
           "blue",
           "blue",
           "blue",
           "blue",
           "blue",
           "blue",
           "blue",
           "blue",
           "blue",
           "blue",
           "blue",
           "blue",
           "blue",
           "blue",
           "blue",
           "blue",
           "blue",
           "blue",
           "blue",
           "blue",
           "blue",
           "blue",
           "blue",
           "blue",
           "blue",
           "blue",
           "blue",
           "blue",
           "blue",
           "blue",
           "blue",
           "blue",
           "blue",
           "blue",
           "blue",
           "blue",
           "blue",
           "blue",
           "blue",
           "blue",
           "blue",
           "blue",
           "blue",
           "blue",
           "blue",
           "blue",
           "blue",
           "blue",
           "blue",
           "blue",
           "blue",
           "blue",
           "blue",
           "blue",
           "blue",
           "blue",
           "blue",
           "blue",
           "blue",
           "blue",
           "blue",
           "blue",
           "blue",
           "blue",
           "blue",
           "blue",
           "blue",
           "blue",
           "blue",
           "blue",
           "blue",
           "blue",
           "blue",
           "blue",
           "blue",
           "blue",
           "blue",
           "blue",
           "blue",
           "blue",
           "blue",
           "blue",
           "blue",
           "blue",
           "blue",
           "blue",
           "blue",
           "blue",
           "blue",
           "blue",
           "blue",
           "blue",
           "blue",
           "blue",
           "blue",
           "blue",
           "blue",
           "blue",
           "blue",
           "blue",
           "blue",
           "blue",
           "blue",
           "blue",
           "blue",
           "blue",
           "blue",
           "blue",
           "blue",
           "blue",
           "blue",
           "blue",
           "blue",
           "blue",
           "blue",
           "blue",
           "blue",
           "blue",
           "blue",
           "blue",
           "blue",
           "blue",
           "blue",
           "blue",
           "blue",
           "blue",
           "blue",
           "blue",
           "blue",
           "blue",
           "blue",
           "blue",
           "blue",
           "blue",
           "blue",
           "blue",
           "blue",
           "blue",
           "blue",
           "blue",
           "blue",
           "blue",
           "blue",
           "blue",
           "blue",
           "blue",
           "blue",
           "blue",
           "blue",
           "blue",
           "blue",
           "blue",
           "blue",
           "blue",
           "blue",
           "blue",
           "blue",
           "blue",
           "blue",
           "blue",
           "blue",
           "blue",
           "blue",
           "blue",
           "blue",
           "blue",
           "blue",
           "blue",
           "blue",
           "blue",
           "blue",
           "blue",
           "blue",
           "blue",
           "blue",
           "blue",
           "blue",
           "blue",
           "blue",
           "blue",
           "blue",
           "blue",
           "blue",
           "blue",
           "blue",
           "blue",
           "blue",
           "blue",
           "blue",
           "blue",
           "blue",
           "blue",
           "blue",
           "blue",
           "blue",
           "blue",
           "blue",
           "blue",
           "blue",
           "blue",
           "blue",
           "blue",
           "blue",
           "blue",
           "blue",
           "blue",
           "blue",
           "blue",
           "blue",
           "blue",
           "blue",
           "blue",
           "blue",
           "blue",
           "blue",
           "blue",
           "blue",
           "blue",
           "blue",
           "blue",
           "blue",
           "blue",
           "blue",
           "blue",
           "blue",
           "blue",
           "blue",
           "blue",
           "blue",
           "blue",
           "blue",
           "blue",
           "blue",
           "blue",
           "blue",
           "blue",
           "blue",
           "blue",
           "blue",
           "blue",
           "blue",
           "blue",
           "blue",
           "blue",
           "blue",
           "blue",
           "blue",
           "blue",
           "blue",
           "blue",
           "blue",
           "blue",
           "blue",
           "blue",
           "blue",
           "blue",
           "blue",
           "blue",
           "blue",
           "blue",
           "blue",
           "blue",
           "blue",
           "blue",
           "blue",
           "blue",
           "blue",
           "blue",
           "blue",
           "blue",
           "blue",
           "blue",
           "blue",
           "blue",
           "blue",
           "blue",
           "blue",
           "blue",
           "blue",
           "blue",
           "blue",
           "blue",
           "blue",
           "blue",
           "blue",
           "blue",
           "blue",
           "blue",
           "blue",
           "blue",
           "blue",
           "blue",
           "blue",
           "blue",
           "blue",
           "blue",
           "blue",
           "blue",
           "blue",
           "blue",
           "blue",
           "blue",
           "blue",
           "blue",
           "blue",
           "blue",
           "blue",
           "blue",
           "blue",
           "blue",
           "blue",
           "blue",
           "blue",
           "blue",
           "blue",
           "blue",
           "blue",
           "blue",
           "blue",
           "blue",
           "blue",
           "blue",
           "blue",
           "blue",
           "blue",
           "blue",
           "blue",
           "blue",
           "blue",
           "blue",
           "blue",
           "blue",
           "blue",
           "blue",
           "blue",
           "blue",
           "blue",
           "blue",
           "blue",
           "blue",
           "blue",
           "blue",
           "blue",
           "blue",
           "blue",
           "blue",
           "blue",
           "blue",
           "blue",
           "blue",
           "blue",
           "blue",
           "blue",
           "blue",
           "blue",
           "blue",
           "blue",
           "blue",
           "blue",
           "blue",
           "blue",
           "blue",
           "blue",
           "blue",
           "blue",
           "blue",
           "blue",
           "blue",
           "blue",
           "blue",
           "blue",
           "blue",
           "blue",
           "blue",
           "blue",
           "blue",
           "blue",
           "blue",
           "blue",
           "blue",
           "blue",
           "blue",
           "blue",
           "blue",
           "blue",
           "blue",
           "blue",
           "blue",
           "blue",
           "blue",
           "blue",
           "blue",
           "blue",
           "blue",
           "blue",
           "blue",
           "blue",
           "blue",
           "blue",
           "blue",
           "blue",
           "blue",
           "blue",
           "blue",
           "blue",
           "blue",
           "blue",
           "blue",
           "blue",
           "blue",
           "blue",
           "blue",
           "blue",
           "blue",
           "blue",
           "blue",
           "blue",
           "blue",
           "blue",
           "blue",
           "blue",
           "blue",
           "blue",
           "blue",
           "blue",
           "blue",
           "blue",
           "blue",
           "blue",
           "blue",
           "blue",
           "blue",
           "blue",
           "blue",
           "blue",
           "blue",
           "blue",
           "blue",
           "blue",
           "blue",
           "blue",
           "blue",
           "blue",
           "blue",
           "blue",
           "blue",
           "blue",
           "blue",
           "blue",
           "blue",
           "blue",
           "blue",
           "blue",
           "blue",
           "blue",
           "blue",
           "blue",
           "blue",
           "blue",
           "blue",
           "blue",
           "blue",
           "blue",
           "blue",
           "blue",
           "blue",
           "blue",
           "blue",
           "blue",
           "blue",
           "blue",
           "blue",
           "blue",
           "blue",
           "blue",
           "blue",
           "blue",
           "blue",
           "blue",
           "blue",
           "blue",
           "blue",
           "blue",
           "blue",
           "blue",
           "blue",
           "blue",
           "blue",
           "blue",
           "blue",
           "blue",
           "blue",
           "blue",
           "blue",
           "blue",
           "blue",
           "blue",
           "blue",
           "blue",
           "blue",
           "blue",
           "blue",
           "blue",
           "blue",
           "blue",
           "blue",
           "blue",
           "blue",
           "blue",
           "blue",
           "blue",
           "blue",
           "blue",
           "blue",
           "blue",
           "blue",
           "blue",
           "blue",
           "blue",
           "blue",
           "blue",
           "blue",
           "blue",
           "blue",
           "blue",
           "blue",
           "blue",
           "blue",
           "blue",
           "blue",
           "blue",
           "blue",
           "blue",
           "blue",
           "blue",
           "blue",
           "blue",
           "blue",
           "blue",
           "blue",
           "blue",
           "blue",
           "blue",
           "blue",
           "blue",
           "blue",
           "blue",
           "blue",
           "blue",
           "blue",
           "blue",
           "blue",
           "blue",
           "blue",
           "blue",
           "blue",
           "blue",
           "blue",
           "blue",
           "blue",
           "blue",
           "blue",
           "blue",
           "blue",
           "blue",
           "blue",
           "blue",
           "blue",
           "blue",
           "blue",
           "blue",
           "blue",
           "blue",
           "blue",
           "blue",
           "blue",
           "blue",
           "blue",
           "blue",
           "blue",
           "blue",
           "blue",
           "blue",
           "blue",
           "blue",
           "blue",
           "blue",
           "blue",
           "blue",
           "blue",
           "blue",
           "blue",
           "blue",
           "blue",
           "blue",
           "blue",
           "blue",
           "blue",
           "blue",
           "blue",
           "blue",
           "blue",
           "blue",
           "blue",
           "blue",
           "blue",
           "blue",
           "blue",
           "blue",
           "blue",
           "blue",
           "blue",
           "blue",
           "blue",
           "blue",
           "blue",
           "blue",
           "blue",
           "blue",
           "blue",
           "blue",
           "blue",
           "blue",
           "blue",
           "blue",
           "blue",
           "blue",
           "blue",
           "blue",
           "blue",
           "blue",
           "blue",
           "blue",
           "blue",
           "blue",
           "blue",
           "blue",
           "blue",
           "blue",
           "blue",
           "blue",
           "blue",
           "blue",
           "blue",
           "blue",
           "blue",
           "blue",
           "blue",
           "blue",
           "blue",
           "blue",
           "blue",
           "blue",
           "blue",
           "blue",
           "blue",
           "blue",
           "blue",
           "blue",
           "blue",
           "blue",
           "blue",
           "blue",
           "blue",
           "blue",
           "blue",
           "blue",
           "blue",
           "blue",
           "blue",
           "blue",
           "blue",
           "blue",
           "blue",
           "blue",
           "blue",
           "blue",
           "blue",
           "blue",
           "blue",
           "blue",
           "blue",
           "blue",
           "blue",
           "blue",
           "blue",
           "blue",
           "blue",
           "blue",
           "blue",
           "blue",
           "blue",
           "blue",
           "blue",
           "blue",
           "blue",
           "blue",
           "blue",
           "blue",
           "blue",
           "blue",
           "blue",
           "blue",
           "blue",
           "blue",
           "blue",
           "blue",
           "blue",
           "blue",
           "blue",
           "blue",
           "blue",
           "blue",
           "blue",
           "blue",
           "blue",
           "blue",
           "blue",
           "blue",
           "blue",
           "blue",
           "blue",
           "blue",
           "blue",
           "blue",
           "blue",
           "blue",
           "blue",
           "blue",
           "blue",
           "blue",
           "blue",
           "blue",
           "blue",
           "blue",
           "blue",
           "blue",
           "blue",
           "blue",
           "blue",
           "blue",
           "blue",
           "blue",
           "blue"
          ]
         },
         "name": "Activity Distribution",
         "nbinsx": 1000,
         "type": "histogram",
         "x": [
          42.611721611721606,
          42.532718894009214,
          15.768549280177186,
          9.235985533453887,
          22.05576036866359,
          17.03342490842491,
          17.645622119815666,
          0.8131868131868132,
          0.6142857142857142,
          12.117050691244238,
          15.263594470046081,
          0.7331797235023041,
          11.748387096774191,
          27.488095238095234,
          0.036630036630036625,
          0.5193548387096774,
          5.321198156682027,
          10.025641025641026,
          11.877747252747252,
          40.71382488479262,
          39.452995391705066,
          2.3119815668202763,
          39.36492673992674,
          11.530414746543778,
          50.11059907834101,
          27.15253456221198,
          26.948412698412696,
          42.96543778801843,
          2.0882620564149224,
          19.710138248847926,
          27.229032258064514,
          39.05483870967742,
          15.08058608058608,
          24.023660714285715,
          33.76866359447004,
          23.945970695970693,
          5.635023041474654,
          2.3907834101382486,
          5.246082949308755,
          26.39953917050691,
          2.5376827896512935,
          7.459183673469387,
          8.213824884792627,
          0.6196581196581196,
          30.876958525345618,
          8.97497393117831,
          12.221198156682027,
          0.1792538671519563,
          0.9416775884665792,
          0.5018552875695733,
          17.470506912442396,
          4.396520146520146,
          0.30230414746543777,
          46.6717032967033,
          1.0658986175115206,
          3.0260989010989006,
          27.94331797235023,
          2.9824884792626727,
          3.8035714285714284,
          15.302764976958525,
          0.7225806451612902,
          1.729032258064516,
          25.78800366300366,
          18.123041474654375,
          37.353218210361064,
          10.285253456221199,
          22.21657509157509,
          0.006912442396313364,
          0.12797619047619047,
          3.116517857142857,
          45.66437728937729,
          66.58986175115207,
          10.885623869801085,
          5.817050691244239,
          0.3285714285714285,
          1.3783410138248848,
          3.467281105990783,
          10.434987168520102,
          11.977913533834586,
          0.8253456221198157,
          3.6336996336996332,
          12.852995391705068,
          11.164516129032258,
          15.222985347985347,
          0.19067296340023612,
          4.409677419354838,
          15.210599078341012,
          12.032718894009216,
          0.2847926267281106,
          13.586695747001091,
          8.113095238095237,
          4.212442396313364,
          13.013364055299538,
          1.5326876513317191,
          9.500457875457874,
          0.2898617511520737,
          18.70493197278911,
          25.522921108742004,
          2.808201058201058,
          10.365437788018433,
          2.252995391705069,
          40.38110599078341,
          26.022435897435894,
          2.549261083743842,
          0.8804511278195488,
          21.758310871518418,
          3.095687331536388,
          0.4981684981684982,
          3.8492610837438423,
          23.48801843317972,
          1.341142857142857,
          20.306451612903228,
          21.789400921658984,
          4.2899159663865545,
          1.456959706959707,
          2.0531803962460895,
          6.313644688644688,
          5.340543259557344,
          8.885531135531135,
          2.2147435897435894,
          11.985714285714286,
          0.17695852534562212,
          0.34330357142857143,
          7.381410256410256,
          1.948847926267281,
          0.019917582417582416,
          1.0274725274725274,
          0.3144712430426716,
          0.9873511904761904,
          35.41517857142857,
          18.195798319327732,
          7.9760397830018075,
          35.7968253968254,
          15.925386715195632,
          0.4313364055299539,
          5.90613553113553,
          3.8700460829493086,
          18.168989547038326,
          0.42445054945054944,
          0.6087557603686636,
          1.8205128205128203,
          28.354838709677416,
          31.392399267399263,
          10.170046082949307,
          0.44787644787644787,
          22.15069124423963,
          1.444700460829493,
          12.371315192743765,
          31.943485086342225,
          7.802547770700636,
          0.2399267399267399,
          10.328296703296703,
          0.14240218380345768,
          0.5493087557603686,
          6.415057915057915,
          15.94459706959707,
          1.5595238095238093,
          14.480854197349041,
          19.666208791208792,
          25.27335164835165,
          1.3118336886993605,
          17.7987012987013,
          0.30782312925170063,
          4.442396313364055,
          0.9473938223938224,
          13.564102564102562,
          13.649725274725274,
          0.5525345622119815,
          13.801925025329279,
          0.6973544973544973,
          10.582278481012658,
          8.960368663594469,
          13.417789757412399,
          5.778801843317972,
          1.1318681318681318,
          3.031149301825993,
          3.388535031847134,
          0.32631038026721476,
          2.123502304147465,
          43.7405529953917,
          15.904147465437788,
          33.35441310282074,
          2.978479853479853,
          10.861263736263737,
          1.0404761904761903,
          31.483974358974358,
          15.939170506912442,
          6.35668202764977,
          4.759557344064386,
          0.9949308755760369,
          0.15826330532212884,
          4.426763110307414,
          2.5033222591362123,
          0.09400921658986175,
          30.762206148282093,
          8.91869918699187,
          5.366359447004608,
          0.26877289377289376,
          0.4774193548387096,
          6.975576036866359,
          0.7990783410138249,
          4.449175824175824,
          0.7092165898617512,
          2.476036866359447,
          0.0035714285714285713,
          6.646978021978022,
          10.531593406593405,
          3.094155844155844,
          38.12337662337662,
          8.265437788018433,
          2.1582278481012658,
          12.294179894179894,
          6.732475598935226,
          9.297235023041473,
          30.77487244897959,
          5.341013824884793,
          61.24700460829493,
          0.7825159914712152,
          0.7078341013824885,
          5.760467980295567,
          0.4241379310344827,
          3.2733516483516483,
          12.025641025641026,
          0.12362637362637363,
          1.2838827838827838,
          2.066936208445642,
          1.2325227963525835,
          0.03300492610837438,
          10.487196765498652,
          5.0625,
          2.5629539951573848,
          14.494122965641953,
          2.2465437788018434,
          5.581395348837209,
          1.0146520146520146,
          0.5114285714285715,
          3.5217391304347823,
          0.10766045548654243,
          23.209677419354836,
          3.4940092165898613,
          8.091575091575091,
          0.6849816849816849,
          0.4605714285714286,
          12.99642857142857,
          8.671703296703297,
          18.44230769230769,
          0.19151138716356106,
          1.464516129032258,
          4.219815668202765,
          0.6452922077922078,
          23.544755877034355,
          0.2110599078341014,
          0.10164835164835165,
          3.8681318681318677,
          23.079723502304148,
          7.062271062271062,
          6.783132530120481,
          7.693812556869881,
          0.2133928571428571,
          2.387125220458554,
          2.5883699633699635,
          2.332258064516129,
          8.100788781770376,
          0.5772727272727273,
          0.17465437788018434,
          0.8725749559082892,
          25.07209612817089,
          4.49685534591195,
          29.859855334538878,
          5.206501831501831,
          0.12084456424079065,
          1.429945054945055,
          17.178341013824884,
          0.02119815668202765,
          1.388278388278388,
          27.027131782945737,
          4.907894736842105,
          0.15731292517006804,
          0.5315934065934066,
          20.770967741935483,
          0.715641952983725,
          8.476725521669342,
          2.3254464285714285,
          14.867857142857142,
          2.9495535714285714,
          8.433962264150942,
          3.909430438842203,
          6.156221198156682,
          6.367673992673993,
          15.357142857142856,
          11.746336996336996,
          1.9924578527062997,
          3.144654088050314,
          1.8755760368663594,
          1.3342490842490842,
          4.163919413919413,
          19.20910138248848,
          13.358766233766234,
          0.3925233644859813,
          2.8132911392405062,
          0.23421926910299,
          0.011446886446886448,
          2.8503184713375798,
          1.404147465437788,
          1.6323260073260073,
          21.9010989010989,
          15.928571428571427,
          1.2783882783882783,
          0.4040315512708151,
          0.5041208791208791,
          0.9659090909090909,
          1.4583333333333333,
          0.7489177489177489,
          6.43040293040293,
          9.356221198156682,
          9.064413265306122,
          23.78937728937729,
          12.861721611721611,
          2.1817765567765566,
          12.642857142857142,
          0.7338489535941765,
          1.5491388044579533,
          6.221153846153845,
          30.382027649769586,
          10.619621342512907,
          0.09216589861751151,
          4.661105318039625,
          1.4239631336405527,
          1.2302197802197803,
          1.4116300366300367,
          0.1662087912087912,
          6.750576036866359,
          0.9601648351648351,
          1.1095596133190118,
          2.162672811059908,
          0.06872294372294373,
          0.6359447004608294,
          0.18983700862895495,
          6.742673992673993,
          2.4450549450549453,
          3.0404761904761903,
          0.7364055299539171,
          2.172161172161172,
          0.17307692307692304,
          6.528368794326241,
          24.995058400718776,
          0.9136212624584716,
          0.2539170506912442,
          0.5118110236220472,
          0.4697802197802197,
          1.3468614718614718,
          0.13430583501006035,
          1.2948717948717947,
          13.748299319727892,
          2.037327188940092,
          0.7076631977294229,
          0.5055299539170507,
          25.211141060197665,
          0.08411654135338345,
          4.208755760368663,
          0.32119815668202767,
          0.05357142857142857,
          32.52335164835165,
          4.5,
          3.2889400921658987,
          1.1660600545950863,
          1.9517625231910947,
          3.3436411149825784,
          0.2048517520215633,
          0.09861407249466951,
          0.217032967032967,
          1.7698887938408894,
          0.2530612244897959,
          5.201707097933514,
          1.2655677655677655,
          0,
          7.3411989795918355,
          8.616758241758241,
          2.553456221198157,
          4.287846481876333,
          5.142396313364055,
          8.211580086580087,
          0.5360610263522885,
          0.5390835579514824,
          0.34249084249084244,
          0.11607142857142856,
          2.3767660910518056,
          0.07596371882086167,
          0.10124223602484472,
          18.81135531135531,
          1.1428571428571428,
          7.351612903225806,
          1.4235347985347984,
          0.11616954474097331,
          21.468864468864467,
          0.3262150220913107,
          0.45353675450762826,
          63.331868131868134,
          0.3723502304147465,
          0.5700808625336927,
          0.0152073732718894,
          2.6479262672811057,
          1.0068681318681318,
          1.3238095238095238,
          0,
          5.164780763790664,
          30.539485359361134,
          0.3447204968944099,
          2.381219903691814,
          0.07963320463320463,
          0.9702380952380952,
          0.32097649186256777,
          1.7289377289377288,
          2.5221198156682028,
          10.037087912087912,
          0.17060964513193813,
          0.28070973612374883,
          5.106912442396314,
          0.8362831858407078,
          15.808201058201057,
          35.074633699633694,
          2.712025316455696,
          1.4677419354838708,
          0.04185623293903548,
          0.22466422466422464,
          2.203296703296703,
          0.08195970695970695,
          0.2313364055299539,
          16.53617216117216,
          0.4654566744730679,
          0.017356475300400534,
          1.092185592185592,
          46.54880212954747,
          5.415714285714285,
          11.866300366300367,
          0.582659478885894,
          9.175099206349206,
          1.86036866359447,
          17.04285714285714,
          1.3580586080586081,
          0.2605311355311355,
          16.842490842490843,
          10.644688644688644,
          0.22156505914467697,
          21.42811059907834,
          4.642857142857142,
          2.0996860282574565,
          1.0119047619047619,
          30.9140625,
          0.19917582417582416,
          0.7106227106227107,
          0.5060532687651331,
          0.33893557422969184,
          0.646978021978022,
          4.049276672694394,
          0.1822344322344322,
          0.24725274725274726,
          2.4595086442220198,
          0.27942497753818507,
          0.10230414746543778,
          1.2625,
          0.43864468864468864,
          5.618589743589744,
          0.12200208550573513,
          1.8897515527950308,
          31.946886446886445,
          7.108735213830755,
          0.034562211981566816,
          11.054945054945055,
          1.1478937728937728,
          0,
          3.354081632653061,
          1.7236607142857143,
          0.5855323020928117,
          1.9668202764976956,
          0.34249084249084244,
          5.706043956043956,
          0.531578947368421,
          13.744505494505495,
          3.3844404003639674,
          1.7545271629778671,
          0.07871720116618075,
          4.208616780045351,
          2.120708748615725,
          0.05906593406593406,
          3.149226569608735,
          1.2811550151975684,
          0.020089285714285712,
          1.1543921916592723,
          0.9201940035273368,
          1.954017857142857,
          0.6695880806310254,
          0.6053113553113553,
          0.12521008403361344,
          2.6742361684558213,
          5.535273368606702,
          0.8118367346938775,
          6.551339285714286,
          0.38003663003663,
          0.31843317972350227,
          21.64047619047619,
          1.945970695970696,
          0.41437728937728935,
          0.641025641025641,
          1.145658263305322,
          0.23397435897435895,
          2.8649267399267395,
          2.964835164835165,
          3.348901098901099,
          0.5315270935960591,
          0.7382690302398331,
          1.0802469135802468,
          1.8829113924050633,
          0.6755952380952381,
          1.0055299539170506,
          0.5961538461538461,
          0.217032967032967,
          0.5317972350230414,
          0.23430391264786168,
          0.5219780219780219,
          0.09798534798534798,
          0.27678571428571425,
          5.3261455525606465,
          0.256221198156682,
          0.7142857142857142,
          1.1568716094032547,
          7.800727934485896,
          0,
          0.29421768707482987,
          0.44459706959706957,
          4.333182640144665,
          0.34836065573770486,
          13.793040293040294,
          0.375,
          0.19345238095238096,
          0.07006369426751592,
          3.3654646324549238,
          0.47360248447204967,
          0.08022774327122154,
          0.9649769585253456,
          1.77403414195867,
          0.19290928050052136,
          0.013769363166953529,
          0.6581632653061223,
          0.5004608294930876,
          7.757142857142856,
          1.0471428571428572,
          2.2263339070567985,
          1.4377289377289375,
          3.3410714285714285,
          3.4680672268907564,
          16.415913200723327,
          0.3762755102040816,
          0.3509316770186335,
          1.6735347985347984,
          0.032509157509157505,
          0.712121212121212,
          1.026143790849673,
          0.09615384615384616,
          0.7653061224489794,
          0.16695352839931155,
          1.0376623376623375,
          0.3365384615384615,
          0.14148351648351648,
          1.619047619047619,
          0.47161172161172155,
          0.28478664192949904,
          0.6513317191283293,
          0.8870967741935484,
          6.3434343434343425,
          4.655141037306643,
          3.115207373271889,
          0.22298534798534797,
          2.234388366124893,
          0.13924050632911392,
          13.917340521114106,
          0.7733516483516483,
          0.5509581881533101,
          0.3674033149171271,
          0.3708791208791209,
          0.05056890012642225,
          0.040750915750915745,
          1.4546061415220293,
          0.921832884097035,
          1.2591575091575091,
          0.6315789473684211,
          0.8887362637362637,
          1.2725340136054422,
          1.326530612244898,
          0.06383928571428571,
          0.8471337579617835,
          1.2894985808893091,
          0.8877551020408163,
          14.393749999999999,
          3.583535108958838,
          0.03184165232358003,
          0.7861811391223156,
          0.27807726864330634,
          19.530219780219777,
          0.31057616416732436,
          0.5425824175824175,
          0.00837742504409171,
          1.1874431301182893,
          2.7236652236652232,
          0.02589285714285714,
          6.045490822027134,
          0.18956043956043955,
          0,
          0.27930402930402926,
          0.12977867203219315,
          0.7261174408413671,
          19.823838737949167,
          0.5965858041329739,
          4.020664869721473,
          0,
          1.7267080745341614,
          2.1700460829493085,
          2.3507326007326004,
          1.0064935064935066,
          0.4394957983193277,
          6.789808917197452,
          0.19093406593406592,
          1.8930659983291562,
          0,
          39.73502304147465,
          0.5903614457831324,
          0.17487684729064037,
          0.08333333333333333,
          0.3429487179487179,
          1.066893424036281,
          0.5746336996336997,
          1.3008540372670805,
          2.319277108433735,
          1.1830357142857142,
          0.15946843853820597,
          1.6005459508644222,
          0.7959183673469387,
          0.12511091393078969,
          0.7055299539170506,
          0.2591575091575091,
          1.5214285714285714,
          0.9414802065404475,
          1.1792538671519563,
          9.642436974789916,
          1.7248168498168497,
          2.602106227106227,
          0.01450892857142857,
          8.41992720655141,
          0.16221198156682026,
          0.012048192771084336,
          1.1039783001808319,
          1.6860341151385925,
          0.23626373626373623,
          0.054029304029304025,
          0.0554029304029304,
          3.3355874894336432,
          2.07967032967033,
          3.1020408163265305,
          0.2989417989417989,
          0.5036396724294813,
          14.963369963369962,
          0.948589626933576,
          0.13110902255639098,
          2.501687289088864,
          0.26232616940581543,
          2.33493031358885,
          0.15059144676979072,
          12.058441558441558,
          3.7743026204564663,
          20.380494505494507,
          6.718281718281718,
          0.6689560439560439,
          15.797619047619046,
          0.6696428571428571,
          1.4328358208955223,
          0,
          0.24725274725274726,
          14.381850853548965,
          0.20552147239263802,
          0.2136118598382749,
          0.028751123090745734,
          0.016183035714285712,
          0.3202380952380952,
          0.22252747252747251,
          0.9881710646041856,
          0.15902964959568733,
          1.363818424566088,
          2.705128205128205,
          0.7654268808114961,
          0.1549165120593692,
          0.08742004264392324,
          0.3061874431301183,
          2.336160714285714,
          3.839931153184165,
          25.227371864776444,
          0.06890756302521008,
          1.988095238095238,
          0.14285714285714285,
          1.8183797909407664,
          6.448246364414029,
          0.40673339399454045,
          0.1449375866851595,
          0.5254237288135593,
          0.41333333333333333,
          0.359417652411283,
          0.16987179487179485,
          0.18056787932564328,
          0.3202911737943585,
          1.749240121580547,
          1.2189625850340136,
          0.5148992112182296,
          8.014652014652015,
          5.9903474903474905,
          0.3588850174216028,
          0.005639097744360902,
          2.2564102564102564,
          0.6928571428571427,
          0.07051282051282051,
          0.24500768049155144,
          0.12412891986062717,
          4.481156879929886,
          0.5900621118012421,
          0.12408424908424909,
          45.720238095238095,
          0.12095238095238095,
          2.3935395814376705,
          0.1942508710801394,
          0.5436760691537761,
          0.3226600985221675,
          1.6783216783216783,
          0.8168498168498168,
          0.04945054945054945,
          3.786388140161725,
          0.46815286624203817,
          0.15679442508710803,
          0.4354285714285714,
          5.785714285714286,
          6.775625504439064,
          1.0853548966756514,
          0.4398023360287511,
          0.24450549450549447,
          3.375,
          0.44858962693357596,
          0.13364055299539168,
          3.4781619654231113,
          2.441370767960363,
          0.896978021978022,
          0.15079365079365079,
          0.0009157509157509156,
          24.644921552436003,
          0.6761006289308176,
          0.11013824884792627,
          0,
          8.633482142857142,
          1.8195970695970696,
          0.5782312925170068,
          0.25857142857142856,
          0.06871609403254973,
          0.2215743440233236,
          7.885714285714286,
          3.866122448979592,
          2.1866226259289845,
          0.5820276497695852,
          0.20650636492220648,
          0.2656960873521383,
          1.9795268425841672,
          0.5170902716914987,
          2.734126984126984,
          3.5847382431233363,
          0.22756410256410253,
          13.73111658456486,
          0.3054029304029304,
          1.2815126050420167,
          2.027969018932874,
          0.530812324929972,
          1.6959297685554668,
          0.6694139194139194,
          0.41659538066723695,
          0.5242673992673992,
          0.42675159235668786,
          10.127388535031846,
          1.6450381679389312,
          0.48671096345514947,
          4.064327485380116,
          0.3057644110275689,
          2.963666391412056,
          2.711101000909918,
          1.2151310228233305,
          0.35577797998180166,
          0.38866995073891625,
          0.6059907834101382,
          0.10509554140127388,
          0.6043956043956044,
          13.688644688644688,
          2.142857142857143,
          5.801539777587681,
          0.2893081761006289,
          0.15823650034176348,
          1.182251082251082,
          0.03484320557491289,
          0.930722891566265,
          8.330357142857142,
          0.46103896103896097,
          0.29573170731707316,
          0.5460122699386503,
          0.2833333333333333,
          13.750201775625504,
          3.050595238095238,
          0.25595238095238093,
          0.032330827067669175,
          11.390955198647505,
          0.5677655677655677,
          0.0027472527472527475,
          1.1961966604823748,
          0.11280788177339901,
          0.9183035714285713,
          25.924999999999997,
          0.244047619047619,
          0.6110627177700348,
          0.6831797235023042,
          0.5021321961620469,
          0.026678141135972458,
          0.38949579831932774,
          1.6547619047619047,
          0.33035714285714285,
          0.2803234501347709,
          0.259581881533101,
          1.8164502164502163,
          0.043650793650793655,
          5.582210242587601,
          0.049689440993788817,
          0.043103448275862065,
          0,
          4.72027373823781,
          0.1330532212885154,
          0.5311461794019934,
          1.271978021978022,
          0.08913813459268005,
          0.7791783380018674,
          0.008589511754068717,
          0.001763668430335097,
          1.879032258064516,
          0.7269653423499577,
          5.7738916256157635,
          0.06660823838737949,
          0.4744897959183674,
          0.0017211703958691911,
          0.28116469517743403,
          0.82370820668693,
          14.840627580511972,
          0.15156794425087108,
          0.10052910052910052,
          0.15104640582347587,
          0.5133390705679862,
          1.3279967159277504,
          0.10282074613284803,
          4.312138728323699,
          0.8488372093023255,
          0.22604529616724736,
          0.05974025974025973,
          1.344360902255639,
          1.3585572842998583,
          5.357945425361155,
          0.1421636615811373,
          0.06969696969696969,
          0.683375104427736,
          0.024118738404452687,
          0.2953781512605042,
          1.6147959183673468,
          3.0766747376916865,
          1.7330827067669172,
          2.9014629948364883,
          0.3544973544973545,
          0.5034965034965034,
          0.8671782762691853,
          0.07718120805369127,
          0.12337662337662338,
          8.259353741496598,
          0.27678571428571425,
          1.8343685300207038,
          0.5262478485370051,
          2.1666666666666665,
          2.2547332185886404,
          0.9058823529411764,
          0.20600414078674947,
          5.49671592775041,
          0.9775993237531699,
          9.335473515248795,
          0.6368330464716007,
          0.4252491694352159,
          2.6377551020408165,
          1.0218135158254917,
          0.5033030553261767,
          0.21304347826086956,
          0.1884681583476764,
          1.3147989734816081,
          3.5849206349206346,
          0.07142857142857142,
          8.647451963241437,
          3.7509481668773703,
          0.4234995773457311,
          0.22077922077922077,
          0.27611044417767105,
          1.4952380952380953,
          0.9428571428571427,
          0.8261455525606468,
          0.2553986710963455,
          0.7186411149825783,
          2.592207792207792,
          0.13769363166953527,
          1.1612489307100085,
          0.2129948364888124,
          6.195054945054944,
          0.5260457774269929,
          0.03987730061349693,
          0.8199492814877429,
          1.2699386503067485,
          0.28281068524970965,
          1.8008403361344536,
          0.6184939091915835,
          0.08333333333333333,
          0.7674319727891156,
          27.448979591836732,
          0.05886970172684458,
          1.5359508041627246,
          0.3515825491873396,
          2.33531746031746,
          0.16804293971924028,
          2.236813186813187,
          2.3707482993197275,
          0.0156794425087108,
          0.4197994987468672,
          0.16910499139414803,
          0.12362637362637363,
          1.5080256821829856,
          1.4748917748917747,
          0.04044750430292599,
          0.14411027568922305,
          5.67099567099567,
          0.021164021164021163,
          0.22762478485370052,
          0.10817506193228736,
          0,
          0.015584415584415583,
          0.11158072696534234,
          0.5496150556030795,
          0.16766467065868262,
          0.504954582989265,
          0.021350931677018632,
          0.05981067125645438,
          9.329318936877076,
          9.46768707482993,
          17.48140321217244,
          29.697142857142854,
          0.24975369458128077,
          0.22514619883040934,
          0.3614838200473559,
          0.24735449735449733,
          3.8057915057915057,
          0.211996336996337,
          7.7686170212765955,
          0.02452667814113597,
          0.10580357142857141,
          1.0199134199134199,
          0.1497835497835498,
          0.2442258340461933,
          1.9749999999999999,
          0.4693301049233252,
          4.5710295291300875,
          0.01721170395869191,
          0.5621788283658787,
          0.21852899575671852,
          0.22363945578231292,
          0.49795918367346936,
          0.05409974640743871,
          4.792908530318602,
          3.283265306122449,
          0.39227166276346603,
          8.995510204081633,
          0.06445993031358885,
          0.3074534161490683,
          0.22831632653061223,
          1.0310734463276836,
          0.28439153439153436,
          0.48917748917748916,
          0.07285714285714286,
          0.31385281385281383,
          0.30627705627705626,
          0.3543046357615894,
          9.863095238095239,
          0.29813664596273287,
          3.070267131242741,
          4.756390977443609,
          0.0949579831932773,
          0.09370904325032764,
          10.707386363636363,
          0.5599489795918368,
          0.06382079459002536,
          1.860969387755102,
          0.011617900172117038,
          1.4833603896103895,
          0.06880252100840335,
          0.04311073541842772,
          12.30018674136321,
          0.3721804511278195,
          3.3448412698412695,
          0.8524096385542168,
          15.351089588377723,
          0.04329004329004329,
          2.6193327630453376,
          0.013824884792626727,
          0.01295518207282913,
          0.6872227151730258,
          1.058970099667774,
          1.114539306846999,
          0.6035923141186299,
          0.39464285714285713,
          6.475446428571428,
          5.384740259740259,
          1.008503401360544,
          24.609983766233768,
          8.796875,
          2.8086734693877546,
          0.2227891156462585,
          8.605090311986864,
          0.0020120724346076456,
          2.518123667377399,
          0,
          0.260204081632653,
          0.6022167487684729,
          0.08870214752567694,
          16.448089700996675,
          0.03383458646616541,
          4.789867109634551,
          3.3890234059725586,
          1.430972388955582,
          2.1767983789260383,
          3.041733547351525,
          0.20259740259740258,
          0.25989672977624784,
          2.1317460317460317,
          1.2029556650246305,
          0.4049744897959183,
          33.945767195767196,
          2.88855421686747,
          0.20530835284933646,
          0.6343537414965986,
          1.1676646706586826,
          0.04941860465116279,
          12.954187192118226,
          13.794285714285714,
          0,
          0.03383458646616541,
          0.036293436293436294,
          0.030497592295345103,
          0.5952380952380952,
          0.11394557823129252,
          0.38744588744588737,
          0.40542328042328035,
          6.3922305764411025,
          0.2206703910614525,
          6.953201970443349,
          0.6940993788819876,
          0.0523538961038961,
          0.4644995722840034,
          1.0632440476190474,
          0.43865546218487395,
          0.8145363408521303,
          0.11496196111580727,
          0.31907613344739094,
          0.3876306620209059,
          0.7986279257465698,
          0.3026509572901325,
          15.590079365079365,
          0.012917933130699088,
          0.21092436974789916,
          3.4006762468300926,
          9.230204081632653,
          5.105263157894736,
          0.8293650793650793,
          0.23038810900082576,
          1.6511627906976742,
          0.012184873949579832,
          3.0589700996677736,
          0.3198412698412698,
          0.46269335759781616,
          0.6532091097308489,
          0.10168067226890756,
          53.440115440115434,
          0.0058823529411764705,
          0.5132275132275131,
          0.03996598639455782,
          0.17746686303387335,
          0.33000798084596966,
          1.0203488372093021,
          6.319966583124478,
          0.2220496894409938,
          0.4375,
          0.48997493734335834,
          2.2118506493506493,
          0.05325443786982249,
          0.727891156462585,
          2.6620408163265306,
          0.6900656814449918,
          0.8120300751879699,
          2.6691729323308273,
          0.13286713286713286,
          0.617174959871589,
          20.406530612244897,
          0.10756302521008403,
          5.478530140379852,
          0.16152597402597402,
          0.058531746031746025,
          0.0012244897959183673,
          1.1731601731601733,
          3.2121971595655805,
          4.601156069364161,
          1.2299752270850535,
          0.06034482758620689,
          0.2626050420168067,
          0.4979707792207792,
          0.4838976052848885,
          0.05042016806722689,
          1.8611783696529458,
          1.0571428571428572,
          0.01014370245139476,
          35.82142857142857,
          6.441964285714286,
          0.3554621848739496,
          11.110426929392446,
          0.13129644921552436,
          0.47474348855564324,
          0.3515562649640862,
          2.1739824421388665,
          6.687301587301587,
          0.2493660185967878,
          0.3717442778216259,
          0.0076077768385460695,
          11.554269752593774,
          0.0009652509652509653,
          1.21669341894061,
          0.2638655462184874,
          9.575892857142856,
          1.0714285714285714,
          0.859172077922078,
          0.09483454398708636,
          1.3603174603174601,
          0.05089820359281436,
          0.773327828241123,
          2.461224489795918,
          0.049999999999999996,
          0.6094952951240376,
          0.3021978021978022,
          2.325247079964061,
          4.641287284144426,
          0.11607142857142856,
          1.2844463229078613,
          0.6247993579454253,
          0.18361344537815127,
          6.7632275132275135,
          0.6802134646962232,
          0.8484723369116431,
          0.20056497175141244,
          0.22013366750208854,
          0.5224252491694351,
          0.28794642857142855,
          6.06890756302521,
          0.7965747702589808,
          15.751020408163264,
          2.52073732718894,
          0.3172757475083056,
          0.027712724434035906,
          0.5812807881773399,
          0.6108374384236452,
          0.20935960591133002,
          0.004897959183673469,
          3.8348739495798316,
          0.027346938775510202,
          0.09934318555008209,
          1.9646869983948634,
          1.5633019674935842,
          0.06638655462184874,
          3.4196428571428568,
          0.011904761904761904,
          16.06047077922078,
          0.8303571428571428,
          9.632773109243695,
          2.808150183150183,
          0.14417989417989419,
          0.5552486187845304,
          0.03789198606271777,
          0.1111111111111111,
          0.4088235294117647,
          0.023666092943201378,
          0.029992107340173636,
          0.10957792207792208,
          0.7400676246830092,
          2.622061482820976,
          2.4922889610389607,
          0.19812925170068024,
          0.02340597255851493,
          16.78501400560224,
          0.8064373897707231,
          0.14686248331108143,
          0.46428571428571425,
          0.15816326530612246,
          0.1370023419203747,
          0.13216424294268606,
          0.09327731092436975,
          0.2857142857142857,
          0.11256781193490054,
          3.11734693877551,
          2.154093097913323,
          0.21899059024807527,
          0.24924012158054712,
          0.6777597402597402,
          0.06134453781512604,
          0.016129032258064516,
          0.18582169709989257,
          1.107142857142857,
          1.638095238095238,
          0.3440860215053763,
          3.1657303370786516,
          1.1619897959183672,
          0.3182182985553772,
          0.27724867724867724,
          7.392045454545454,
          0.9434523809523809,
          0.015126050420168066,
          0.22088509316770186,
          0.8840288924558587,
          0.17644276253547775,
          4.283905967450271,
          0.003067484662576687,
          0.09409751924721983,
          10.59656823623304,
          5.571834415584415,
          0.8510204081632653,
          0.8272146847565841,
          0.9488026424442608,
          0.8719357565511411,
          0.7973515248796147,
          1.7753968253968253,
          0.09043778801843318,
          0.04116222760290557,
          0.1922077922077922,
          9.390637610976592,
          2.9036734693877553,
          8.282951854775058,
          0.15111478117258464,
          2.691397000789266,
          2.622268907563025,
          0.02768860353130016,
          1.1333333333333333,
          0.09074941451990631,
          0.6097366320830008,
          1.9140435835351088,
          0.1187658495350803,
          0.4089390142021721,
          0.13575605680868838,
          0.9802197802197801,
          0.006783719074221867,
          0.05840071877807727,
          0.19999999999999998,
          0.03896103896103895,
          0.34795321637426896,
          0.5990359333917615,
          0.025845864661654134,
          0.10564585115483319,
          0.6698328267477204,
          0.2050040355125101,
          1.557784911717496,
          1.6949999999999998,
          0.08519793459552495,
          0.6697431781701444,
          0.8994708994708995,
          0.5789738430583501,
          2.977777777777778,
          1.5820763087843832,
          0.4464285714285714,
          0.48073836276083465,
          0.1199134199134199,
          0.7184145334434351,
          1.5534262485481996,
          0.4532312925170068,
          0.5049923195084486,
          3.583798882681564,
          0.08297690333618478,
          0.3686911890504705,
          2.955494505494505,
          0.08876560332871011,
          0.09577015163607341,
          1.3243697478991596,
          18.402173913043477,
          10.886837881219904,
          0.5722738799661876,
          19.697478991596636,
          0.15827922077922077,
          6.290816326530612,
          0.034549689440993785,
          1.6206896551724137,
          0.37337662337662336,
          0.4964483030781373,
          0.07616416732438831,
          0.6510673234811165,
          0.02012628255722178,
          2.3853061224489793,
          0.001347708894878706,
          0.26587301587301587,
          0.24367346938775508,
          0.9121187800963082,
          0.06547619047619047,
          0.7515337423312883,
          1.9156908665105385,
          0.4289867109634551,
          0.21789727126805775,
          7.811396468699838,
          0.059725585149313955,
          0.05919494869771112,
          1.7457627118644068,
          6.504105090311986,
          0.6899613899613899,
          6.830903790087463,
          0.07142857142857142,
          0.47417271993543175,
          4.282102728731942,
          0.052295918367346934,
          0.08198051948051947,
          0.7742200328407224,
          0.12552831783601015,
          0.02571428571428571,
          2.5127993393889345,
          0.7277628032345014,
          0.1757305194805195,
          0.8333333333333333,
          0.0810359231411863,
          3.5938292476754015,
          0.6428571428571428,
          0.14046288906624102,
          4.899107142857143,
          10.863387978142075,
          0,
          0.011702986279257465,
          0.071843853820598,
          0.01621384750219106,
          3.6559934318555007,
          2.2573529411764706,
          1.2896606156274666,
          0.18271507498026832,
          1.0722266560255387,
          0.2017316017316017,
          2.39584996009577,
          3.2699335548172757,
          0.7518579686209743,
          1.39766081871345,
          0.06462585034013606,
          0.2382305194805195,
          0.002551020408163265,
          12.887755102040815,
          0.17110573042776434,
          2.419354838709677,
          0.09024577572964669,
          0.05790363482671175,
          0.7849779086892489,
          0.6228878648233487,
          0.16912972085385877,
          0.29432624113475175,
          0.05452240067624683,
          0.4538327526132404,
          0.0854978354978355,
          0.752177700348432,
          0.022556390977443608,
          0.376890756302521,
          0.39999999999999997,
          0.31190476190476185,
          0.03397683397683398,
          0.19805194805194806,
          19.364682539682537,
          0.09999999999999999,
          0.356748224151539,
          0.547077922077922,
          0,
          1.2415584415584415,
          0.8746938775510203,
          0.3944622792937399,
          0.05920550038197096,
          1.131578947368421,
          0.010551948051948052,
          0.7564543889845095,
          0.27150749802683505,
          1.2418967587034813,
          1.7056986729117876,
          0.0050420168067226885,
          0.051886792452830184,
          0.031932773109243695,
          1.1333608587943846,
          2.438202247191011,
          0.6137026239067055,
          6.906534954407294,
          0.16439909297052152,
          0.08833474218089603,
          0.053968253968253964,
          0.6843033509700176,
          2.97563025210084,
          0.880672268907563,
          0.2277992277992278,
          0.045634920634920625,
          1.4835497835497835,
          1.2142857142857142,
          0.47577996715927745,
          8.047351524879614,
          0.17795210569777042,
          0.09183673469387756,
          0.721938775510204,
          0.35456110154905335,
          0,
          1.2229965156794425,
          0.4713500784929356,
          2.39060939060939,
          0.2663511187607573,
          2.621212121212121,
          6.645238095238095,
          0.46256157635467976,
          1.077992277992278,
          0.6713505074160812,
          4.462643678160919,
          1.4373015873015873,
          0.5821018062397373,
          0.027472527472527472,
          0.07100340136054421,
          0.42258579409417396,
          0,
          0.018552875695732836,
          0.2083987441130298,
          0.2398843930635838,
          0.006339814032121724,
          3.6549570647931304,
          0.10024009603841535,
          0.24193548387096775,
          0.332046332046332,
          0.07919254658385093,
          2.5348837209302326,
          0.6275510204081632,
          0.37436974789915967,
          0.10487200660611065,
          0.3333333333333333,
          0.026785714285714284,
          0.36584249084249076,
          0.038060479666319084,
          0.16050903119868637,
          0.23611111111111108,
          13.164835164835164,
          1.1839584996009576,
          0.049999999999999996,
          0.8225806451612903,
          1.6194581280788176,
          0.49137931034482757,
          0.9271708683473389,
          0.6640816326530612,
          14.141698841698842,
          1.276847290640394,
          0.08511548331907613,
          0.2514792899408284,
          13.32579365079365,
          5.149876135425268,
          0.007431874483897605,
          0.08730158730158731,
          0.6965294592413236,
          10.23769168684423,
          0.7885232744783306,
          0.09316770186335403,
          0.20790103750997604,
          0.09603841536614646,
          0.675614194722475,
          0.1853061224489796,
          0.4181692094313453,
          20.483793517406962,
          1.3661654135338344,
          0.5004302925989673,
          0.26475620188195037,
          0.9752435064935066,
          0.16490299823633156,
          0.023166023166023165,
          0.9035303776683087,
          0.024081632653061222,
          0.05149501661129567,
          0.40408163265306124,
          0.0989010989010989,
          0.9933196300102775,
          13.881493506493506,
          2.3950039032006245,
          0.3511548331907613,
          0.2630453378956373,
          0.08374384236453201,
          1.0107142857142857,
          0.08163265306122448,
          4.83976833976834,
          0.12388392857142856,
          10.902439024390242,
          0.1288906624102155,
          0.025932666060054593,
          0.1924721984602224,
          0,
          3.1404220779220777,
          0.7064039408866994,
          0.047355958958168895,
          0.2784178187403994,
          0.24784853700516352,
          2.5040816326530613,
          6.91000807102502,
          0.07021791767554479,
          5.390422077922078,
          0.14718614718614717,
          0.11627906976744186,
          1.8267326732673266,
          0.04578754578754579,
          8.137207425343018,
          1.2402950310559007,
          0.4789540816326531,
          0.03463203463203463,
          0.22336227308602996,
          0.175611681136543,
          0.1468500443655723,
          0.04031551270815074,
          0.6683958499600957,
          0.07706766917293233,
          15.409090909090908,
          1.400408163265306,
          0.05205167173252279,
          0.22066326530612246,
          0.27595066803699897,
          5.8189935064935066,
          0.028185328185328186,
          0.13644140290846876,
          6.5120481927710845,
          0.16535122336227306,
          0.2447833065810594,
          0.25516351118760755,
          0.39598997493734334,
          1.2304147465437787,
          0.6235827664399092,
          0.5024630541871921,
          4.952511773940345,
          0.26164167324388315,
          0.010258358662613981,
          0.18165784832451498,
          0.537142857142857,
          0.04878048780487805,
          4.193934557063049,
          0.12337662337662338,
          0.31157635467980294,
          2.1945812807881775,
          1.679023508137432,
          0.6593860684769776,
          0.2603820598006644,
          0.5869047619047619,
          0.7822393822393822,
          2.1600985221674875,
          0.15055603079555177,
          0.05532617671345994,
          0.035925612848689774,
          0.41051364365971105,
          4.118029029793735,
          0.4277504105090312,
          0.13513513513513511,
          0.8075970272502064,
          0.018272425249169433,
          0.0032467532467532465,
          0.7212732919254657,
          0,
          0.04984301412872841,
          0.7321428571428571,
          0.2197159565580618,
          11.903361344537815,
          0.8375576036866359,
          1.0008025682182984,
          1.9335130278526504,
          0.5210884353741496,
          0.33701657458563533,
          0.4788359788359788,
          7.720521541950113,
          0.022660098522167486,
          0.6281512605042017,
          0.031746031746031744,
          0.6925808997632201,
          0.04201680672268907,
          0.25261324041811845,
          3.921052631578947,
          0.026497695852534562,
          0.08403361344537814,
          0.030315614617940197,
          0.19836488812392425,
          1.7161854103343464,
          1.4717514124293785,
          0.8705603788476717,
          0,
          0.017857142857142856,
          1.3067484662576685,
          1.1983282674772036,
          1.1038359788359788,
          0.7029372496662216,
          0.6638418079096046,
          0.07359307359307359,
          0.21630347054075866,
          0.2292768959435626,
          0.7755705832628909,
          2.5913978494623655,
          3.936003303055326,
          0.19642857142857142,
          3.3891491022638562,
          0.8809523809523809,
          0.28130016051364365,
          1.1440609951845906,
          1.0859872611464967,
          0.7587755102040816,
          0.13054187192118227,
          8.098214285714285,
          0.1018596787827557,
          0.23002421307506052,
          6,
          1.8124098124098122,
          0.3031655844155844,
          7.4165329052969495,
          14.143697478991594,
          0.20855614973262032,
          0.5368663594470046,
          0.5268329554043839,
          0.14653902798232693,
          1.2575452716297786,
          0.025367156208277702,
          0.7221597300337457,
          0.08994708994708994,
          0.4585115483319076,
          11.487012987012985,
          0.10924369747899158,
          0.09192037470725994,
          3.0047619047619047,
          2.029626623376623,
          0.31570639305445936,
          0.037142857142857144,
          1.3148443735035913,
          2.0579877112135176,
          0.4273255813953488,
          1.008342022940563,
          0.061165845648604264,
          0.21313364055299538,
          0.06377551020408163,
          0,
          0.12702922077922077,
          0.6939345570630486,
          0.221107544141252,
          0.5843091334894613,
          0.0032467532467532465,
          0.06708760852407261,
          0.0423728813559322,
          0.5422824302134647,
          0.6187800963081861,
          0.20853858784893267,
          0.33410138248847926,
          0.11218944099378882,
          0.3037720706260032,
          0.369431643625192,
          0.9531490015360983,
          0.1472466081404629,
          1.2119179163378058,
          0.6079734219269102,
          0.24166666666666664,
          0.1176470588235294,
          0.6842532467532467,
          1.3405405405405404,
          0.06061776061776061,
          0.29958391123439665,
          1.7966101694915253,
          0.0694980694980695,
          1.1773399014778325,
          1.8832565284178187,
          3.292613636363636,
          0.19691119691119688,
          0.1519756838905775,
          0.014958863126402393,
          1.0929768555466879,
          0.8967633928571428,
          0.29389312977099236,
          1.6537530266343825,
          0.05770782889426957,
          0.23173701298701296,
          0.014285714285714285,
          6.706155632984901,
          0.3659250585480094,
          6.9114452798663315,
          0.06211180124223602,
          0.5769764216366158,
          0.10491071428571427,
          2.3191577208918246,
          0.19142857142857142,
          0.4597402597402597,
          0.8305908750934928,
          2.3689123376623376,
          0.0011583011583011582,
          0.42355889724310775,
          0.3587755102040816,
          2.4594067135050737,
          0.18533834586466164,
          0.4626373626373626,
          0.1494925839188134,
          4.678571428571428,
          0.6003122560499609,
          1.807661612130886,
          1.1004842615012107,
          2.7094155844155843,
          0.19444444444444445,
          1.6420068027210883,
          0.40608465608465605,
          0.4189944134078212,
          1.2512605042016807,
          0.2027027027027027,
          0.10317460317460317,
          0.3004926108374384,
          0.20308880308880306,
          0.03571428571428571,
          0.02922077922077922,
          0.2623083131557708,
          0.04527712724434036,
          0.02122448979591837,
          4.048015873015873,
          0.039318479685452164,
          0.9729064039408867,
          2.266439909297052,
          0.0417036379769299,
          0.24784853700516352,
          0.00224618149146451,
          0.8170144462279293,
          0.016574585635359115,
          0.7609618104667609,
          0.3755477651183173,
          1.8101604278074865,
          0.4111969111969112,
          0.3055555555555555,
          0.07932330827067668,
          0.12872841444270014,
          0.11138014527845036,
          0.06034482758620689,
          1.6112012987012987,
          0.002040816326530612,
          0.07142857142857142,
          8.590799031476998,
          2.616618075801749,
          30.90376984126984,
          0.7531055900621118,
          0.9794188861985471,
          0.38330564784053156,
          2.1057462090981645,
          0.04179331306990881,
          0.08987441130298272,
          0.07058823529411765,
          0.014285714285714285,
          0.2550486163051608,
          0.18622448979591835,
          0.003611556982343499,
          0.13673469387755102,
          0.0815126050420168,
          0.776578073089701,
          0.12755102040816327,
          0.03552532123960695,
          0.0989010989010989,
          0.03293650793650794,
          0.5333850931677019,
          0.07411385606874328,
          0.2684258416742493,
          0.23544973544973544,
          0.07976190476190476,
          0.45616883116883117,
          0.1752577319587629,
          0.19337016574585633,
          0.033279220779220776,
          0.31591836734693873,
          0.007539682539682539,
          0.327891156462585,
          0.42857142857142855,
          0.6409574468085106,
          0.03093964858670741,
          0.9620060790273556,
          1.2800324675324675,
          0.11309523809523808,
          0.16854636591478697,
          2.708850931677018,
          0.8812111801242236,
          0.9784902597402597,
          0.07945425361155699,
          0.023291925465838508,
          1.5178571428571428,
          0.05521235521235521,
          0.5616705698672911,
          0.31547619047619047,
          1.5535714285714284,
          0.3875811688311688,
          0.10997732426303855,
          0.04817275747508305,
          0.08546655656482245,
          0.06326530612244897,
          0.12732919254658384,
          0.019363166953528396,
          0.008358662613981762,
          0.6101026045777426,
          1.2513477088948786,
          0.11725846407927333,
          0.24354103343465044,
          0.06039915966386554,
          1.2058823529411764,
          0.9387755102040816,
          0.1231527093596059,
          0.4016806722689075,
          0.1542016806722689,
          0.04383116883116883,
          3.2023809523809526,
          1.4050371593724196,
          0.43904263275991023,
          0.021164021164021163,
          0.6870748299319728,
          3.7096399535423927,
          0.6052631578947367,
          0.18158953722334004,
          0.020041109969167522,
          0.22884440400363965,
          5.824999999999999,
          0.8371907422186751,
          0.008979591836734694,
          0.8679653679653679,
          0.4801587301587301,
          0.44787644787644787,
          0.26190476190476186,
          0.0625,
          0.443502824858757,
          0.09937888198757763,
          0.01907255048616305,
          0.04537815126050419,
          0.17610837438423646,
          0.2738775510204081,
          1.3535313001605136,
          2.285336356764928,
          1.157142857142857,
          0.029197080291970802,
          0.023529411764705882,
          10.508152173913041,
          0.11930091185410334,
          0.10364906832298135,
          0.03899613899613899,
          10.066285714285714,
          5.137422360248447,
          11.099462365591398,
          0.11889692585895117,
          0.4686147186147186,
          0.06561461794019934,
          0.024175824175824177,
          0.6185185185185186,
          0.046082949308755755,
          1.176470588235294,
          0.24683009298393913,
          0.6720779220779219,
          2.632046332046332,
          0.4639016897081413,
          0.27150749802683505,
          0.75,
          0.2935590421139554,
          0.13542526837324523,
          0.7275132275132274,
          1.2042471042471041,
          0.12211981566820276,
          1.627717391304348,
          0.420545746388443,
          0.20238095238095238,
          0.42119565217391297,
          0.05388471177944862,
          0.006019261637239165,
          0.3318619582664526,
          3.8632518796992477,
          0.14204081632653062,
          0.15566770186335402,
          0.5083798882681564,
          0.504941599281222,
          0.2649350649350649,
          1.543338683788122,
          0.21877551020408162,
          0.2641196013289036,
          0.21018062397372742,
          0.4263392857142857,
          0.0021164021164021165,
          0.28799392097264437,
          5.535330261136713,
          1.544642857142857,
          17.938538205980066,
          3.279150579150579,
          0.051948051948051945,
          0.198015873015873,
          0.1657754010695187,
          1.01036866359447,
          19.740641711229944,
          9.310947204968944,
          0.8716777408637874,
          0.46543778801843316,
          0.20930232558139533,
          0.0349025974025974,
          0.5131987577639752,
          0.10285714285714284,
          0.44047619047619047,
          1.0966702470461869,
          0.5061224489795918,
          0.0710059171597633,
          0.5267175572519084,
          0.05388471177944862,
          0.66,
          0.19672785315243416,
          0.029992107340173636,
          0.2593774940143655,
          0.012396694214876033,
          0.04285714285714285,
          7.354330708661417,
          0.7954324586977647,
          0.5822632423756019,
          0.13578500707213578,
          1.804081632653061,
          0.14838709677419357,
          0.02717391304347826,
          0.07359307359307359,
          0.3086734693877551,
          1.5562770562770563,
          2.7660231660231656,
          0.10945529290853032,
          0.13422291993720564,
          0.061660561660561664,
          0.15079365079365079,
          0.018262987012987012,
          7.814682539682539,
          0.03038674033149171,
          0.025868725868725868,
          0.7593984962406015,
          0.8011049723756904,
          0.4338775510204081,
          0.010260457774269928,
          0.11132218844984802,
          0.02194732641660016,
          0.3849789915966386,
          0.29301075268817206,
          0.004583651642475172,
          1.806177606177606,
          0.2718045112781955,
          0.05750224618149147,
          0.9358353510895883,
          0.19913419913419914,
          0.14485235434956104,
          0.3104956268221574,
          0.03157063930544593,
          0.5027624309392265,
          0.06293436293436293,
          4.616641337386017,
          0.0195160031225605,
          0.42094703049759225,
          0.06554160125588697,
          2.737704918032787,
          0.1203852327447833,
          14.066912972085385,
          0.20483749055177627,
          1.1746938775510203,
          1.2221254355400697,
          0.2990580847723705,
          0.01354679802955665,
          0.07458563535911603,
          0.10929432013769362,
          3.7281105990783407,
          0.11941964285714285,
          0.5017857142857143,
          0.05405405405405406,
          1.2077922077922079,
          0.2837519623233909,
          0.37142857142857144,
          0.05307262569832402,
          1.165250965250965,
          0.029928172386272944,
          6.4384372533543806,
          0.451316839584996,
          0.2857142857142857,
          0.43632653061224486,
          0.20445134575569357,
          0.01661129568106312,
          0.08860265417642467,
          3.865800865800866,
          0.15841979249800478,
          0.05680539932508436,
          0.2805816937553464,
          0.6623731459797034,
          0.2651975683890577,
          0.3784461152882205,
          0.1445378151260504,
          0.37743950039032004,
          0.021428571428571425,
          0.2324797843665768,
          0.9428571428571427,
          0.3032786885245901,
          2.663723916532905,
          0.6788177339901478,
          0.07005494505494504,
          2.0087557603686634,
          0.5698587127158555,
          0.2857142857142857,
          0.10198624904507256,
          0.1620718462823726,
          1.7455858747993578,
          0.05569007263922518,
          0.14464285714285713,
          0.2399368587213891,
          0.44269572235673926,
          0.8308702791461412,
          1.2668970814132106,
          0.312987012987013,
          0.052969502407704656,
          0.09345794392523363,
          0.2984126984126984,
          0.04711246200607902,
          0.5623100303951367,
          0.01929392446633826,
          0.1669950738916256,
          0.08918705603788475,
          0.3767006802721088,
          0.017857142857142856,
          0.48182957393483705,
          0.31848739495798317,
          2.102654176424668,
          0.0583011583011583,
          0.03404017857142857,
          0.3329554043839758,
          0.07503001200480192,
          0.08426966292134831,
          0.6509740259740259,
          0.7154285714285714,
          0.1886035313001605,
          0.12244897959183672,
          0.083011583011583,
          0.4402810304449648,
          0.19853768278965128,
          0.20593149540517958,
          0.02833200319233839,
          1.0975800156128024,
          0.4956140350877193,
          0.32366071428571425,
          0.026455026455026454,
          0.6810344827586207,
          0.3003826530612245,
          0.27352941176470585,
          0.26866359447004606,
          0.11149825783972125,
          1.4000000000000001,
          0.2028985507246377,
          0.04152823920265781,
          0.11813186813186811,
          0.48704866562009413,
          2.520408163265306,
          2.3714285714285714,
          9.534058656575212,
          0.21153846153846154,
          1.9787878787878788,
          0.28731045490822027,
          0.11124121779859483,
          0.06384676775738228,
          3.30473602484472,
          0.05529953917050691,
          0.017063492063492062,
          0.04162724692526017,
          0.0375615763546798,
          0.08711808422791081,
          0.06733021077283373,
          0.0949579831932773,
          0.2014751552795031,
          0.4542536115569823,
          0.037815126050420166,
          0.03789198606271777,
          1.5969967532467533,
          0.862369337979094,
          0.3202247191011236,
          0.23575331772053082,
          0.13069073783359497,
          0.3326530612244898,
          4.3464285714285715,
          0.9446831364124597,
          3.6629834254143647,
          0.21543778801843316,
          1.5317460317460316,
          0.21018062397372742,
          0.26453201970443346,
          0.47619047619047616,
          0.319376026272578,
          0.029793735676088617,
          24.311827956989248,
          0.5738362760834671,
          0.10943643512450851,
          0.04788069073783359,
          0.029354207436399216,
          0.21739130434782608,
          0.29970544918998526,
          0.2815614617940199,
          1.0785714285714285,
          1.170686456400742,
          0.5626003210272873,
          0.05372945638432364,
          0.3008241758241758,
          0.478494623655914,
          0.2092857142857143,
          0.1492776886035313,
          0.03085376162299239,
          1.2851518560179975,
          1.0476190476190474,
          0.549512987012987,
          0.3129251700680272,
          0.40083586626139817,
          1.0746753246753247,
          0.6010989010989011,
          0.026045777426992895,
          0.27167277167277165,
          0.0032467532467532465,
          4.57687074829932,
          0.4248949579831932,
          0.15187239944521497,
          0.5539083557951482,
          0.10530612244897958,
          0.48917748917748916,
          0.33773291925465837,
          0.04415584415584415,
          1.245894909688013,
          0.07954545454545453,
          0.8390652557319223,
          0.20044642857142855,
          0.29064039408866993,
          0.2915451895043732,
          0.04930124223602484,
          0.5287958115183246,
          0.009229534510433388,
          5.526975683890577,
          0.78773204196933,
          0.46557659208261615,
          4.565404475043029,
          0.28293650793650793,
          16.093984962406015,
          0.05136436597110754,
          7.680851063829787,
          0.30069124423963134,
          0.07849293563579278,
          0.09133489461358314,
          0.4423076923076923,
          1.1065759637188208,
          0.3228097868981847,
          0.7909309791332262,
          0,
          0.09800664451827241,
          0.753694581280788,
          0.20317460317460317,
          1.4717341482047364,
          0.9151020408163265,
          0.20714285714285713,
          0.26721170395869187,
          0.3,
          0.08001561280249804,
          1.0252329192546583,
          1.0231910946196658,
          0.02300242130750605,
          0.2263198757763975,
          0.1116584564860427,
          0.11160714285714285,
          0.049233252623083125,
          0.522783251231527,
          0.0631578947368421,
          0.327683615819209,
          11.72579365079365,
          0.023809523809523808,
          0.12664092664092663,
          0.012755102040816327,
          0.14816326530612245,
          0.003968253968253968,
          0.16378066378066378,
          0.11635944700460829,
          2.3097826086956523,
          0.20333041191936896,
          0.36904761904761907,
          1.218487394957983,
          0.04028239202657807,
          0.9128728414442701,
          0.5179526355996944,
          1.1717687074829932,
          0.3182498130142109,
          0.05325443786982249,
          0.0701058201058201,
          0.01675977653631285,
          0.3670807453416149,
          0,
          0.013020833333333332,
          2.673963133640553,
          0.5819949281487742,
          0.18210361067503922,
          0.03454332552693208,
          0.4383975812547241,
          0.08008658008658008,
          0.12078651685393257,
          1.3468823993685872,
          0.051948051948051945,
          0.3129439621152328,
          0.1933673469387755,
          0.05898876404494382,
          0.13095238095238093,
          6.125601926163723,
          0,
          0.025868725868725868,
          0.7028301886792453,
          0.8378058405682715,
          0.25320197044334974,
          0.8559845559845559,
          0.09688826025459689,
          0.13684210526315788,
          0.6163003663003662,
          0,
          0.05263157894736842,
          0.45348837209302323,
          0.3571428571428571,
          0.006563706563706564,
          0.1620718462823726,
          0.17060964513193813,
          0.05405405405405406,
          3.9487577639751548,
          0.0008071025020177562,
          0.04464285714285714,
          0.015873015873015872,
          0.27832512315270935,
          0.07450076804915513,
          0.03896103896103895
         ],
         "xaxis": "x",
         "yaxis": "y"
        },
        {
         "cells": {
          "align": "left",
          "font": {
           "size": 12
          },
          "height": 30,
          "values": [
           [
            "DD News",
            "CNBC Television",
            "SABC Digital News",
            "KPRC 2 Click2Houston...",
            "TV9 Telugu Live",
            "India Today",
            "Newsone Breaking",
            "Next Media Uganda",
            "ETV Andhra Pradesh",
            "Ruptly",
            "V6 News Telugu",
            "IndiaTV",
            "ABP NEWS",
            "News24",
            "Kenya CitizenTV",
            "Prime9 News",
            "Geo News",
            "ABP Majha",
            "Fox News",
            "Kalinga TV",
            "SPN9NEWS साम�...",
            "GMA Regional TV",
            "News18 Rajasthan",
            "Neo Tv Network - Off...",
            "ABC Action News",
            "24TV",
            "asianetnews",
            "99TV Telugu",
            "WION",
            "MyJoyOnline TV",
            "News18 UP Uttarakhan...",
            "Fox Business",
            "CGTN",
            "HUM News",
            "News4JAX",
            "24 News HD",
            "GNN",
            "K24 TV",
            "CBS Los Angeles",
            "NewsX",
            "Ada Derana",
            "KTNV Channel 13 Las ...",
            "Associated Press",
            "ABN Telugu",
            "NDTV",
            "LIVE GUJARAT NEWS",
            "Rajya Sabha TV",
            "SAMAA TV",
            "Bharat Today",
            "SOMOY TV",
            "Tv9 Kannada",
            "Zee Hindustan",
            "GTV Network HD",
            "Public TV | ಪಬ�...",
            "Republic World",
            "KTN News Kenya",
            "11Alive",
            "I News",
            "Bharat Samachar",
            "HYBIZTV HD",
            "APN NEWS",
            "CBS Boston",
            "WJHL",
            "ABP ANANDA",
            "Talk Shows Central",
            "eNCA",
            "TRT World",
            "Kantipur TV HD",
            "PTC News",
            "PTV",
            "CBS News",
            "FRANCE 24 English",
            "Zee News",
            "AFP news agency",
            "hmtv News",
            "Channel 24 Youtube",
            "Alo TV Channel",
            "CGTN Africa",
            "PressTV",
            "Jai Maharashtra News...",
            "KGW News",
            "WCCO - CBS Minnesota...",
            "ABC 10 News",
            "The Times of India",
            "ANI News Official",
            "WKBN27",
            "Al Jazeera English",
            "city channel",
            "CNBC Awaaz",
            "ABC15 Arizona",
            "WMUR-TV",
            "Bloomberg Markets an...",
            "Avenues Khabar",
            "Neo TV Network",
            "The Star Online",
            "CBS 17",
            "ATN News",
            "Dainik Savera",
            "MSNBC",
            "CBS47 KSEE24",
            "News18 Assam/Northea...",
            "CNN",
            "FOX 4 Now",
            "Dunya News",
            "New China TV",
            "ARY Tube",
            "GMA Public Affairs",
            "Adom TV",
            "KOIN 6",
            "DailyNation",
            "kxan",
            "TVC News Nigeria",
            "KRGV",
            "WAVY TV 10",
            "Zee24Ghanta",
            "Mango News",
            "New Waves",
            "Rajasthan Patrika",
            "ABP Sanjha",
            "Bharat Live",
            "News1 India",
            "ABP NEWS HINDI",
            "LOCAL 12",
            "KING 5",
            "WUSA9",
            "Newsone Pk",
            "BBS TEREFAYINA",
            "Express News",
            "ABC News",
            "YOYO TV Channel",
            "NBC News",
            "RT",
            "Newsy",
            "Biz Tak",
            "KBC Channel 1",
            "News18 Urdu",
            "TV5 Kannada",
            "GhanaWeb TV",
            "News 5 Cleveland",
            "EMTV Online",
            "FX Empire",
            "WSPA 7News",
            "nmtvindia",
            "KARE 11",
            "Daily Diary News",
            "NewsChannel 5",
            "Oneindia News",
            "CBSDFW",
            "National Voice",
            "MTVLebanonNews",
            "Prudent Media Goa",
            "Rohi",
            "10TV News Telugu",
            "Daily Trending News",
            "News18 Lokmat",
            "Final Cut News",
            "AapNewsPK",
            "CBS Sacramento",
            "WKRG",
            "The Quint",
            "Boishakhi Tv News",
            "News Dnn",
            "CBS Denver",
            "DawnNews",
            "TV5 News",
            "CNBC-TV18",
            "Dekho Dekho",
            "V4 News",
            "Cinema Politics",
            "NTV Telugu",
            "Inside Edition",
            "THE TV NRI",
            "Sun News",
            "REPORTER LIVE",
            "USA TODAY",
            "YOYO TV Kannada",
            "azfamily powered by ...",
            "NDTV India",
            "WXYZ-TV Detroit | Ch...",
            "News18 India",
            "UNTV Public Service ...",
            "NBC 26",
            "NBC4 WCMH-TV Columbu...",
            "The Young Turks",
            "RootsTV Nigeria",
            "NTA News",
            "News Nation",
            "NBC2 News",
            "KRIS 6 News",
            "ET NOW",
            "13News Now",
            "WBAL-TV 11 Baltimore...",
            "92 News HD",
            "WKYC Channel 3",
            "Top Telugu TV",
            "RTV6 The Indy Channe...",
            "Rajasthan Tak",
            "City 41",
            "WLKY News Louisville...",
            "FirstNews Kannada",
            "VOA News",
            "abc4utah",
            "Prag News",
            "Power TV Talk Shows",
            "PBS NewsHour",
            "RT America",
            "Bharatiya Janata Par...",
            "FOX 2 St. Louis",
            "euronews (in English...",
            "TeleSUR English",
            "ABC10",
            "NYOOOZ TV",
            "GMA News",
            "WTNH News8",
            "africanews",
            "cleveland.com",
            "WCVB Channel 5 Bosto...",
            "KCTV5 News",
            "TODAY",
            "Yahoo Finance",
            "WMAR-2 News",
            "News world odisha",
            "TV3 NETWORK LIMITED ...",
            "WLWT",
            "Panahon TV",
            "Abbtakk",
            "The Lallantop",
            "41 Action News",
            "Dharuvu Tv",
            "TV9 NOW",
            "KMTV 3 News Now",
            "VK News",
            "Washington Post",
            "Nedrick News I न�...",
            "CNBC",
            "HTN",
            "ETV Telangana",
            "CNBCAfrica",
            "WPTV News | West Pal...",
            "NTVUganda",
            "KJRH -TV | Tulsa | C...",
            "PennLive.com",
            "Mobile Journalist",
            "Hiru News",
            "RT UK",
            "FOX 5 Atlanta",
            "WFLA News Channel 8",
            "TIME",
            "Live Storms Media",
            "News7 Tamil",
            "S Cube - Hungama",
            "4 News Now",
            "CBC News",
            "Cauvery News",
            "KGUN9",
            "CBS Evening News",
            "MassLive",
            "KRQE",
            "First India News Raj...",
            "Dave Partner",
            "16 WAPT News Jackson...",
            "KOAT",
            "City 42",
            "CBN News",
            "ktnnewstv",
            "TEN NEWS",
            "Economic Predictions...",
            "Global Punjab TV",
            "wgaltv",
            "BB News",
            "WANE 15 News",
            "HGPTV (Channel16 Cab...",
            "Rebel News",
            "WWLTV",
            "Your Black World",
            "TV9 USA",
            "Munsif TV Live",
            "CBC News: The Nation...",
            "David Pakman Show",
            "WOOD TV8",
            "ntv7 news",
            "WWLP-22News",
            "ABC 7 Chicago",
            "DEL99 TV",
            "CCTV English",
            "TV9 Today",
            "Eagle News",
            "PTV News",
            "Daily Excelsior",
            "Roland S. Martin",
            "Mind The News",
            "Mountain TV",
            "10News WTSP",
            "Kohenoor News",
            "The Majority Report ...",
            "FOX10 News - WALA",
            "Mahanagar24x7 News",
            "Taja30",
            "Dukascopy TV (EN)",
            "Mass Tea Party - Wak...",
            "Viable Tv",
            "KPIX CBS SF Bay Area...",
            "Newspoint Live",
            "Castanet News",
            "IndianExpressOnline",
            "Pakilinks News",
            "THEMAJESTIRIUM1",
            "Himalaya TV",
            "IANS TV",
            "Zee Salaam",
            "WIVBTV",
            "Red Pix 24x7",
            "ABC7 News Bay Area",
            "The Ring of Fire",
            "Eyewitness News ABC7...",
            "One America News Net...",
            "6 On Your Side",
            "KCCI",
            "Sky News Australia",
            "The Oklahoman",
            "Bloomberg TicToc",
            "CBS This Morning",
            "Free Our Mother Land...",
            "WKMG News 6 ClickOrl...",
            "NewsGlitz - Next Gen...",
            "FACE HD TV",
            "b/60",
            "Telly Khabar",
            "Vesti News",
            "BOL Media BOL",
            "INQUIRER.net",
            "Solika News",
            "ARY News",
            "News24",
            "WPLG Local 10",
            "BOL News",
            "KMBC 9",
            "NEWS 1130",
            "Gulistan news",
            "PalmBeachPost",
            "WSB-TV",
            "PIX11 News",
            "7H News",
            "CBS 4 News Rio Grand...",
            "Your Morning",
            "FOX 10 Phoenix",
            "i24NEWS English",
            "ODN",
            "TOP News Just4U",
            "UTV Ghana Online",
            "BBC News",
            "Tez",
            "CNA",
            "ITV News",
            "Viral Press",
            "WTHR",
            "The Real News Networ...",
            "kuamnews",
            "Paul Begley",
            "Cambodia News Daily",
            "Beauty Pageants",
            "Ottawa Citizen",
            "Kendrabindu News",
            "ATV NEWS 24/7 HD",
            "Fort Worth Star-Tele...",
            "DDPodhigaiTV",
            "Balitang America TFC...",
            "Channel Punjab",
            "Decentralized TV",
            "CivilNet",
            "THR News",
            "Telugu Popular TV",
            "FOX 4 News - Dallas-...",
            "NewsFirst Kannada",
            "TV360NIGERIA",
            "WTVC NewsChannel 9",
            "NOLA.com",
            "World Source",
            "ABC7",
            "Metro TV Telugu",
            "5AAB TV",
            "Guardian News",
            "7Newspk",
            "WYFF News 4",
            "Secular Talk",
            "DW News",
            "NTV News",
            "The Daily Wire",
            "OTV",
            "Catch News",
            "shamshad TV",
            "ILTV ISRAEL DAILY",
            "Behindwoods Air",
            "Connect Gujarat TV",
            "Covai Post",
            "FOX 8 News Cleveland...",
            "United Nations",
            "Sky News",
            "Styxhexenhammer666",
            "Bloomberg Technology...",
            "Channel 5 Belize",
            "TVNXT TELUGU",
            "The Canadian Press",
            "Patrika News",
            "Impact TV",
            "WXII 12 News",
            "Storyful News"
           ],
           [
            67,
            63,
            61,
            53,
            50,
            47,
            47,
            46,
            46,
            44,
            43,
            43,
            43,
            41,
            40,
            40,
            39,
            39,
            39,
            38,
            37,
            36,
            36,
            35,
            35,
            34,
            34,
            33,
            33,
            32,
            32,
            31,
            31,
            31,
            31,
            31,
            31,
            31,
            31,
            30,
            30,
            30,
            28,
            28,
            27,
            27,
            27,
            27,
            27,
            27,
            26,
            26,
            26,
            26,
            26,
            25,
            25,
            25,
            25,
            25,
            25,
            25,
            24,
            24,
            24,
            24,
            24,
            23,
            23,
            23,
            22,
            22,
            22,
            22,
            22,
            22,
            22,
            21,
            21,
            21,
            20,
            20,
            20,
            20,
            20,
            20,
            20,
            20,
            20,
            20,
            19,
            19,
            19,
            19,
            18,
            18,
            18,
            18,
            18,
            18,
            18,
            18,
            17,
            17,
            17,
            17,
            17,
            17,
            17,
            17,
            16,
            16,
            16,
            16,
            16,
            16,
            16,
            16,
            16,
            16,
            16,
            16,
            16,
            16,
            15,
            15,
            15,
            15,
            15,
            15,
            15,
            15,
            15,
            15,
            15,
            14,
            14,
            14,
            14,
            14,
            14,
            14,
            14,
            14,
            14,
            14,
            14,
            14,
            14,
            14,
            14,
            14,
            14,
            14,
            14,
            13,
            13,
            13,
            13,
            13,
            13,
            13,
            13,
            13,
            13,
            13,
            12,
            12,
            12,
            12,
            12,
            12,
            12,
            12,
            12,
            12,
            12,
            12,
            12,
            12,
            12,
            12,
            12,
            12,
            11,
            11,
            11,
            11,
            11,
            11,
            11,
            11,
            11,
            11,
            11,
            11,
            11,
            11,
            11,
            11,
            11,
            11,
            10,
            10,
            10,
            10,
            10,
            10,
            10,
            10,
            10,
            10,
            10,
            10,
            10,
            10,
            10,
            10,
            10,
            9,
            9,
            9,
            9,
            9,
            9,
            9,
            9,
            9,
            9,
            9,
            9,
            9,
            9,
            9,
            9,
            9,
            9,
            9,
            9,
            9,
            9,
            9,
            8,
            8,
            8,
            8,
            8,
            8,
            8,
            8,
            8,
            8,
            8,
            8,
            8,
            8,
            8,
            8,
            8,
            8,
            8,
            8,
            8,
            8,
            8,
            8,
            8,
            8,
            8,
            7,
            7,
            7,
            7,
            7,
            7,
            7,
            7,
            7,
            7,
            7,
            7,
            7,
            7,
            7,
            7,
            7,
            7,
            7,
            7,
            7,
            7,
            7,
            7,
            7,
            7,
            7,
            7,
            7,
            7,
            7,
            6,
            6,
            6,
            6,
            6,
            6,
            6,
            6,
            6,
            6,
            6,
            6,
            6,
            6,
            6,
            6,
            6,
            6,
            6,
            6,
            6,
            6,
            6,
            6,
            6,
            6,
            6,
            6,
            6,
            6,
            6,
            6,
            6,
            6,
            6,
            6,
            6,
            6,
            6,
            6,
            5,
            5,
            5,
            5,
            5,
            5,
            5,
            5,
            5,
            5,
            5,
            5,
            5,
            5,
            5,
            5,
            5,
            5,
            5,
            5,
            5,
            5,
            5,
            5,
            5,
            5,
            5,
            5,
            5,
            5,
            5,
            5,
            5,
            5,
            5,
            5,
            5,
            5,
            5,
            5,
            5,
            4,
            4,
            4,
            4,
            4,
            4,
            4,
            4,
            4,
            4,
            4,
            4,
            4,
            4,
            4,
            4,
            4,
            4,
            4,
            4,
            4,
            4,
            4,
            4,
            4,
            4
           ]
          ]
         },
         "columnwidth": [
          0.8,
          0.2
         ],
         "domain": {
          "x": [
           0.55,
           1
          ],
          "y": [
           0,
           1
          ]
         },
         "header": {
          "values": [
           "Channel",
           "Mean activity"
          ]
         },
         "type": "table"
        }
       ],
       "layout": {
        "annotations": [
         {
          "font": {
           "size": 16
          },
          "showarrow": false,
          "text": "Histogram of average activity (videos/day)",
          "x": 0.225,
          "xanchor": "center",
          "xref": "paper",
          "y": 1,
          "yanchor": "bottom",
          "yref": "paper"
         },
         {
          "font": {
           "size": 16
          },
          "showarrow": false,
          "text": "407 channels above cutoff",
          "x": 0.775,
          "xanchor": "center",
          "xref": "paper",
          "y": 1,
          "yanchor": "bottom",
          "yref": "paper"
         }
        ],
        "legend": {
         "bgcolor": "rgba(255, 255, 255, 0)",
         "bordercolor": "black",
         "borderwidth": 1,
         "itemsizing": "constant",
         "tracegroupgap": 0,
         "x": 0.35,
         "y": 0.95
        },
        "shapes": [
         {
          "line": {
           "color": "red",
           "dash": "dot",
           "width": 2
          },
          "name": "Cutoff",
          "type": "line",
          "x0": 3.95,
          "x1": 3.95,
          "y0": 0,
          "y1": 1,
          "yref": "paper"
         }
        ],
        "template": {
         "data": {
          "bar": [
           {
            "error_x": {
             "color": "#2a3f5f"
            },
            "error_y": {
             "color": "#2a3f5f"
            },
            "marker": {
             "line": {
              "color": "#E5ECF6",
              "width": 0.5
             },
             "pattern": {
              "fillmode": "overlay",
              "size": 10,
              "solidity": 0.2
             }
            },
            "type": "bar"
           }
          ],
          "barpolar": [
           {
            "marker": {
             "line": {
              "color": "#E5ECF6",
              "width": 0.5
             },
             "pattern": {
              "fillmode": "overlay",
              "size": 10,
              "solidity": 0.2
             }
            },
            "type": "barpolar"
           }
          ],
          "carpet": [
           {
            "aaxis": {
             "endlinecolor": "#2a3f5f",
             "gridcolor": "white",
             "linecolor": "white",
             "minorgridcolor": "white",
             "startlinecolor": "#2a3f5f"
            },
            "baxis": {
             "endlinecolor": "#2a3f5f",
             "gridcolor": "white",
             "linecolor": "white",
             "minorgridcolor": "white",
             "startlinecolor": "#2a3f5f"
            },
            "type": "carpet"
           }
          ],
          "choropleth": [
           {
            "colorbar": {
             "outlinewidth": 0,
             "ticks": ""
            },
            "type": "choropleth"
           }
          ],
          "contour": [
           {
            "colorbar": {
             "outlinewidth": 0,
             "ticks": ""
            },
            "colorscale": [
             [
              0,
              "#0d0887"
             ],
             [
              0.1111111111111111,
              "#46039f"
             ],
             [
              0.2222222222222222,
              "#7201a8"
             ],
             [
              0.3333333333333333,
              "#9c179e"
             ],
             [
              0.4444444444444444,
              "#bd3786"
             ],
             [
              0.5555555555555556,
              "#d8576b"
             ],
             [
              0.6666666666666666,
              "#ed7953"
             ],
             [
              0.7777777777777778,
              "#fb9f3a"
             ],
             [
              0.8888888888888888,
              "#fdca26"
             ],
             [
              1,
              "#f0f921"
             ]
            ],
            "type": "contour"
           }
          ],
          "contourcarpet": [
           {
            "colorbar": {
             "outlinewidth": 0,
             "ticks": ""
            },
            "type": "contourcarpet"
           }
          ],
          "heatmap": [
           {
            "colorbar": {
             "outlinewidth": 0,
             "ticks": ""
            },
            "colorscale": [
             [
              0,
              "#0d0887"
             ],
             [
              0.1111111111111111,
              "#46039f"
             ],
             [
              0.2222222222222222,
              "#7201a8"
             ],
             [
              0.3333333333333333,
              "#9c179e"
             ],
             [
              0.4444444444444444,
              "#bd3786"
             ],
             [
              0.5555555555555556,
              "#d8576b"
             ],
             [
              0.6666666666666666,
              "#ed7953"
             ],
             [
              0.7777777777777778,
              "#fb9f3a"
             ],
             [
              0.8888888888888888,
              "#fdca26"
             ],
             [
              1,
              "#f0f921"
             ]
            ],
            "type": "heatmap"
           }
          ],
          "heatmapgl": [
           {
            "colorbar": {
             "outlinewidth": 0,
             "ticks": ""
            },
            "colorscale": [
             [
              0,
              "#0d0887"
             ],
             [
              0.1111111111111111,
              "#46039f"
             ],
             [
              0.2222222222222222,
              "#7201a8"
             ],
             [
              0.3333333333333333,
              "#9c179e"
             ],
             [
              0.4444444444444444,
              "#bd3786"
             ],
             [
              0.5555555555555556,
              "#d8576b"
             ],
             [
              0.6666666666666666,
              "#ed7953"
             ],
             [
              0.7777777777777778,
              "#fb9f3a"
             ],
             [
              0.8888888888888888,
              "#fdca26"
             ],
             [
              1,
              "#f0f921"
             ]
            ],
            "type": "heatmapgl"
           }
          ],
          "histogram": [
           {
            "marker": {
             "pattern": {
              "fillmode": "overlay",
              "size": 10,
              "solidity": 0.2
             }
            },
            "type": "histogram"
           }
          ],
          "histogram2d": [
           {
            "colorbar": {
             "outlinewidth": 0,
             "ticks": ""
            },
            "colorscale": [
             [
              0,
              "#0d0887"
             ],
             [
              0.1111111111111111,
              "#46039f"
             ],
             [
              0.2222222222222222,
              "#7201a8"
             ],
             [
              0.3333333333333333,
              "#9c179e"
             ],
             [
              0.4444444444444444,
              "#bd3786"
             ],
             [
              0.5555555555555556,
              "#d8576b"
             ],
             [
              0.6666666666666666,
              "#ed7953"
             ],
             [
              0.7777777777777778,
              "#fb9f3a"
             ],
             [
              0.8888888888888888,
              "#fdca26"
             ],
             [
              1,
              "#f0f921"
             ]
            ],
            "type": "histogram2d"
           }
          ],
          "histogram2dcontour": [
           {
            "colorbar": {
             "outlinewidth": 0,
             "ticks": ""
            },
            "colorscale": [
             [
              0,
              "#0d0887"
             ],
             [
              0.1111111111111111,
              "#46039f"
             ],
             [
              0.2222222222222222,
              "#7201a8"
             ],
             [
              0.3333333333333333,
              "#9c179e"
             ],
             [
              0.4444444444444444,
              "#bd3786"
             ],
             [
              0.5555555555555556,
              "#d8576b"
             ],
             [
              0.6666666666666666,
              "#ed7953"
             ],
             [
              0.7777777777777778,
              "#fb9f3a"
             ],
             [
              0.8888888888888888,
              "#fdca26"
             ],
             [
              1,
              "#f0f921"
             ]
            ],
            "type": "histogram2dcontour"
           }
          ],
          "mesh3d": [
           {
            "colorbar": {
             "outlinewidth": 0,
             "ticks": ""
            },
            "type": "mesh3d"
           }
          ],
          "parcoords": [
           {
            "line": {
             "colorbar": {
              "outlinewidth": 0,
              "ticks": ""
             }
            },
            "type": "parcoords"
           }
          ],
          "pie": [
           {
            "automargin": true,
            "type": "pie"
           }
          ],
          "scatter": [
           {
            "fillpattern": {
             "fillmode": "overlay",
             "size": 10,
             "solidity": 0.2
            },
            "type": "scatter"
           }
          ],
          "scatter3d": [
           {
            "line": {
             "colorbar": {
              "outlinewidth": 0,
              "ticks": ""
             }
            },
            "marker": {
             "colorbar": {
              "outlinewidth": 0,
              "ticks": ""
             }
            },
            "type": "scatter3d"
           }
          ],
          "scattercarpet": [
           {
            "marker": {
             "colorbar": {
              "outlinewidth": 0,
              "ticks": ""
             }
            },
            "type": "scattercarpet"
           }
          ],
          "scattergeo": [
           {
            "marker": {
             "colorbar": {
              "outlinewidth": 0,
              "ticks": ""
             }
            },
            "type": "scattergeo"
           }
          ],
          "scattergl": [
           {
            "marker": {
             "colorbar": {
              "outlinewidth": 0,
              "ticks": ""
             }
            },
            "type": "scattergl"
           }
          ],
          "scattermapbox": [
           {
            "marker": {
             "colorbar": {
              "outlinewidth": 0,
              "ticks": ""
             }
            },
            "type": "scattermapbox"
           }
          ],
          "scatterpolar": [
           {
            "marker": {
             "colorbar": {
              "outlinewidth": 0,
              "ticks": ""
             }
            },
            "type": "scatterpolar"
           }
          ],
          "scatterpolargl": [
           {
            "marker": {
             "colorbar": {
              "outlinewidth": 0,
              "ticks": ""
             }
            },
            "type": "scatterpolargl"
           }
          ],
          "scatterternary": [
           {
            "marker": {
             "colorbar": {
              "outlinewidth": 0,
              "ticks": ""
             }
            },
            "type": "scatterternary"
           }
          ],
          "surface": [
           {
            "colorbar": {
             "outlinewidth": 0,
             "ticks": ""
            },
            "colorscale": [
             [
              0,
              "#0d0887"
             ],
             [
              0.1111111111111111,
              "#46039f"
             ],
             [
              0.2222222222222222,
              "#7201a8"
             ],
             [
              0.3333333333333333,
              "#9c179e"
             ],
             [
              0.4444444444444444,
              "#bd3786"
             ],
             [
              0.5555555555555556,
              "#d8576b"
             ],
             [
              0.6666666666666666,
              "#ed7953"
             ],
             [
              0.7777777777777778,
              "#fb9f3a"
             ],
             [
              0.8888888888888888,
              "#fdca26"
             ],
             [
              1,
              "#f0f921"
             ]
            ],
            "type": "surface"
           }
          ],
          "table": [
           {
            "cells": {
             "fill": {
              "color": "#EBF0F8"
             },
             "line": {
              "color": "white"
             }
            },
            "header": {
             "fill": {
              "color": "#C8D4E3"
             },
             "line": {
              "color": "white"
             }
            },
            "type": "table"
           }
          ]
         },
         "layout": {
          "annotationdefaults": {
           "arrowcolor": "#2a3f5f",
           "arrowhead": 0,
           "arrowwidth": 1
          },
          "autotypenumbers": "strict",
          "coloraxis": {
           "colorbar": {
            "outlinewidth": 0,
            "ticks": ""
           }
          },
          "colorscale": {
           "diverging": [
            [
             0,
             "#8e0152"
            ],
            [
             0.1,
             "#c51b7d"
            ],
            [
             0.2,
             "#de77ae"
            ],
            [
             0.3,
             "#f1b6da"
            ],
            [
             0.4,
             "#fde0ef"
            ],
            [
             0.5,
             "#f7f7f7"
            ],
            [
             0.6,
             "#e6f5d0"
            ],
            [
             0.7,
             "#b8e186"
            ],
            [
             0.8,
             "#7fbc41"
            ],
            [
             0.9,
             "#4d9221"
            ],
            [
             1,
             "#276419"
            ]
           ],
           "sequential": [
            [
             0,
             "#0d0887"
            ],
            [
             0.1111111111111111,
             "#46039f"
            ],
            [
             0.2222222222222222,
             "#7201a8"
            ],
            [
             0.3333333333333333,
             "#9c179e"
            ],
            [
             0.4444444444444444,
             "#bd3786"
            ],
            [
             0.5555555555555556,
             "#d8576b"
            ],
            [
             0.6666666666666666,
             "#ed7953"
            ],
            [
             0.7777777777777778,
             "#fb9f3a"
            ],
            [
             0.8888888888888888,
             "#fdca26"
            ],
            [
             1,
             "#f0f921"
            ]
           ],
           "sequentialminus": [
            [
             0,
             "#0d0887"
            ],
            [
             0.1111111111111111,
             "#46039f"
            ],
            [
             0.2222222222222222,
             "#7201a8"
            ],
            [
             0.3333333333333333,
             "#9c179e"
            ],
            [
             0.4444444444444444,
             "#bd3786"
            ],
            [
             0.5555555555555556,
             "#d8576b"
            ],
            [
             0.6666666666666666,
             "#ed7953"
            ],
            [
             0.7777777777777778,
             "#fb9f3a"
            ],
            [
             0.8888888888888888,
             "#fdca26"
            ],
            [
             1,
             "#f0f921"
            ]
           ]
          },
          "colorway": [
           "#636efa",
           "#EF553B",
           "#00cc96",
           "#ab63fa",
           "#FFA15A",
           "#19d3f3",
           "#FF6692",
           "#B6E880",
           "#FF97FF",
           "#FECB52"
          ],
          "font": {
           "color": "#2a3f5f"
          },
          "geo": {
           "bgcolor": "white",
           "lakecolor": "white",
           "landcolor": "#E5ECF6",
           "showlakes": true,
           "showland": true,
           "subunitcolor": "white"
          },
          "hoverlabel": {
           "align": "left"
          },
          "hovermode": "closest",
          "mapbox": {
           "style": "light"
          },
          "paper_bgcolor": "white",
          "plot_bgcolor": "#E5ECF6",
          "polar": {
           "angularaxis": {
            "gridcolor": "white",
            "linecolor": "white",
            "ticks": ""
           },
           "bgcolor": "#E5ECF6",
           "radialaxis": {
            "gridcolor": "white",
            "linecolor": "white",
            "ticks": ""
           }
          },
          "scene": {
           "xaxis": {
            "backgroundcolor": "#E5ECF6",
            "gridcolor": "white",
            "gridwidth": 2,
            "linecolor": "white",
            "showbackground": true,
            "ticks": "",
            "zerolinecolor": "white"
           },
           "yaxis": {
            "backgroundcolor": "#E5ECF6",
            "gridcolor": "white",
            "gridwidth": 2,
            "linecolor": "white",
            "showbackground": true,
            "ticks": "",
            "zerolinecolor": "white"
           },
           "zaxis": {
            "backgroundcolor": "#E5ECF6",
            "gridcolor": "white",
            "gridwidth": 2,
            "linecolor": "white",
            "showbackground": true,
            "ticks": "",
            "zerolinecolor": "white"
           }
          },
          "shapedefaults": {
           "line": {
            "color": "#2a3f5f"
           }
          },
          "ternary": {
           "aaxis": {
            "gridcolor": "white",
            "linecolor": "white",
            "ticks": ""
           },
           "baxis": {
            "gridcolor": "white",
            "linecolor": "white",
            "ticks": ""
           },
           "bgcolor": "#E5ECF6",
           "caxis": {
            "gridcolor": "white",
            "linecolor": "white",
            "ticks": ""
           }
          },
          "title": {
           "x": 0.05
          },
          "xaxis": {
           "automargin": true,
           "gridcolor": "white",
           "linecolor": "white",
           "ticks": "",
           "title": {
            "standoff": 15
           },
           "zerolinecolor": "white",
           "zerolinewidth": 2
          },
          "yaxis": {
           "automargin": true,
           "gridcolor": "white",
           "linecolor": "white",
           "ticks": "",
           "title": {
            "standoff": 15
           },
           "zerolinecolor": "white",
           "zerolinewidth": 2
          }
         }
        },
        "xaxis": {
         "anchor": "y",
         "domain": [
          0,
          0.45
         ],
         "title": {
          "text": "Average nb of videos per day"
         }
        },
        "yaxis": {
         "anchor": "x",
         "domain": [
          0,
          1
         ],
         "title": {
          "text": "Percentage [%]"
         }
        }
       }
      }
     },
     "metadata": {},
     "output_type": "display_data"
    }
   ],
   "source": [
    "channel_activity.plot_channel_activity(pl_df_ch, df_timeseries, show=True, save_path='channels_activity_histogram.html')"
   ]
  },
  {
   "cell_type": "markdown",
   "metadata": {},
   "source": [
    "#### Filter channels by activity"
   ]
  },
  {
   "cell_type": "code",
   "execution_count": null,
   "metadata": {},
   "outputs": [
    {
     "name": "stdout",
     "output_type": "stream",
     "text": [
      "Number of channels in category 'News & Politics' with more than 4 videos per day: 407\n"
     ]
    }
   ],
   "source": [
    "# merge with channels dataframe\n",
    "filtered_df_ch = filtered_df_ch.join(grouped_df, on=\"channel\", how=\"inner\")\n",
    "\n",
    "# 56 = 4 videos per day x 14 days\n",
    "filtered_df_ch = filters.filter_df(filtered_df_ch, \"mean_activity\", 56, \">\")\n",
    "\n",
    "# filtered_df_ch.sort(by=\"mean_activity\", descending=True).head(10)\n",
    "\n",
    "print(\"Number of channels in category 'News & Politics' with more than 4 videos per\",\\\n",
    "      f\"day: {len(filtered_df_ch)}\")"
   ]
  },
  {
   "cell_type": "markdown",
   "metadata": {},
   "source": [
    "#### Intermediate Step: Filter yt_metadata by channels obtained before\n",
    "To reduce the size of the big datasets `yt_metadata_en.jsonl` and `yt_metadata_helper.feather` we will prefilter them using the channels we obtained before. This will reduce the size of the dataset and make it easier to work with in future."
   ]
  },
  {
   "cell_type": "code",
   "execution_count": 4,
   "metadata": {},
   "outputs": [],
   "source": [
    "# Transform feather into csv to ease handling\n",
    "df_vd_f = pd.read_feather(path_yt_metadata_feather)\n",
    "# save to csv\n",
    "df_vd_f.to_csv(path_yt_metadata_feather+\".csv\", sep=\"\\t\", index=False)"
   ]
  },
  {
   "cell_type": "code",
   "execution_count": null,
   "metadata": {},
   "outputs": [],
   "source": [
    "# filter yt_metadata_helper.feather.csv by highly active news channels\n",
    "filters.df_filter_csv_batched(path_yt_metadata_feather+\".csv\", path_yt_metadata_feather_filtered,\n",
    "                              column_name=\"channel_id\", values=filtered_df_ch[\"channel\"],\n",
    "                              filter_method=\"is_in\")"
   ]
  },
  {
   "cell_type": "code",
   "execution_count": null,
   "metadata": {},
   "outputs": [
    {
     "name": "stdout",
     "output_type": "stream",
     "text": [
      "Number of videos from channels of interest (CoI): 6812344\n"
     ]
    }
   ],
   "source": [
    "# Test if filtering worked by reading the previous saved file and printing the number of videos remaining\n",
    "filtered_df_metadata_feather = pl.read_csv(path_yt_metadata_feather_filtered)\n",
    "print(\"Number of videos from channels of interest (CoI): \"\\\n",
    "      f\"{len(filtered_df_metadata_feather)}\")"
   ]
  },
  {
   "cell_type": "code",
   "execution_count": null,
   "metadata": {},
   "outputs": [],
   "source": [
    "# same process for yt_metadata_en.jsonl\n",
    "# we will also transform this file into a csv to unify file formats\n",
    "filters.df_filter_jsonl_batched(path_yt_metadata, path_yt_metadata_filtered, \n",
    "                                column_name=\"channel_id\", \n",
    "                                values=filtered_df_ch[\"channel\"],\n",
    "                                sep=\"\\t\", batch_size=500)"
   ]
  },
  {
   "cell_type": "markdown",
   "metadata": {},
   "source": [
    "### 1.3 Get country of channel <a class=\"anchor\" id=\"filter_data-country\"></a>\n",
    "\n",
    "With the Youtube API we can query for the country information with the channel ID "
   ]
  },
  {
   "cell_type": "code",
   "execution_count": null,
   "metadata": {},
   "outputs": [
    {
     "name": "stderr",
     "output_type": "stream",
     "text": [
      "C:\\Users\\jeffr\\AppData\\Local\\Temp\\ipykernel_25620\\2021680753.py:1: MapWithoutReturnDtypeWarning: Calling `map_elements` without specifying `return_dtype` can lead to unpredictable results. Specify `return_dtype` to silence this warning.\n",
      "  high_activity_channels = high_activity_channels.with_columns(\n"
     ]
    }
   ],
   "source": [
    "high_activity_channels = filtered_df_ch.with_columns(\n",
    "    pl.col(\"channel\").map_elements(lambda channel_id:general_utils.get_channel_country(channel_id)).alias(\"Channel_country\")\n",
    ")"
   ]
  },
  {
   "cell_type": "markdown",
   "metadata": {},
   "source": [
    "#### Example of filtered channel dataframe with country"
   ]
  },
  {
   "cell_type": "code",
   "execution_count": null,
   "metadata": {},
   "outputs": [
    {
     "name": "stdout",
     "output_type": "stream",
     "text": [
      "shape: (10, 10)\n",
      "┌────────────┬───────────┬───────────┬───────────┬───┬───────────┬─────────┬───────────┬───────────┐\n",
      "│ category_c ┆ join_date ┆ channel   ┆ name_cc   ┆ … ┆ subscribe ┆ weights ┆ mean_acti ┆ Channel_c │\n",
      "│ c          ┆ ---       ┆ ---       ┆ ---       ┆   ┆ r_rank_sb ┆ ---     ┆ vity      ┆ ountry    │\n",
      "│ ---        ┆ str       ┆ str       ┆ str       ┆   ┆ ---       ┆ f64     ┆ ---       ┆ ---       │\n",
      "│ str        ┆           ┆           ┆           ┆   ┆ f64       ┆         ┆ f64       ┆ str       │\n",
      "╞════════════╪═══════════╪═══════════╪═══════════╪═══╪═══════════╪═════════╪═══════════╪═══════════╡\n",
      "│ News &     ┆ 2017-02-1 ┆ UCMYlXK0j ┆ 10News    ┆ … ┆ 520837.0  ┆ 9.63    ┆ 93.886179 ┆ US        │\n",
      "│ Politics   ┆ 7         ┆ yerVnc3dm ┆ WTSP      ┆   ┆           ┆         ┆           ┆           │\n",
      "│            ┆           ┆ z-vjCA    ┆           ┆   ┆           ┆         ┆           ┆           │\n",
      "│ News &     ┆ 2011-07-0 ┆ UCczsYSRG ┆ Himalaya  ┆ … ┆ 32797.0   ┆ 3.2005  ┆ 89.147436 ┆ NP        │\n",
      "│ Politics   ┆ 6         ┆ ukY9LA7Fd ┆ TV        ┆   ┆           ┆         ┆           ┆           │\n",
      "│            ┆           ┆ _govMw    ┆           ┆   ┆           ┆         ┆           ┆           │\n",
      "│ News &     ┆ 2017-06-1 ┆ UC35KuZBN ┆ GNN       ┆ … ┆ 23812.0   ┆ 2.9445  ┆ 430.84821 ┆ PK        │\n",
      "│ Politics   ┆ 3         ┆ Ij4S5Ls0y ┆           ┆   ┆           ┆         ┆ 4         ┆           │\n",
      "│            ┆           ┆ jY-UHQ    ┆           ┆   ┆           ┆         ┆           ┆           │\n",
      "│ News &     ┆ 2011-12-0 ┆ UCaXkIU1Q ┆ MSNBC     ┆ … ┆ 5600.0    ┆ 2.444   ┆ 253.72258 ┆ Country   │\n",
      "│ Politics   ┆ 1         ┆ idjPwiAYu ┆           ┆   ┆           ┆         ┆ 1         ┆ not       │\n",
      "│            ┆           ┆ 6GcHjg    ┆           ┆   ┆           ┆         ┆           ┆ available │\n",
      "│ News &     ┆ 2011-08-0 ┆ UC_2irx_B ┆ ABN       ┆ … ┆ 4730.0    ┆ 2.3745  ┆ 391.20645 ┆ IN        │\n",
      "│ Politics   ┆ 9         ┆ QR7RsBKmU ┆ Telugu    ┆   ┆           ┆         ┆ 2         ┆           │\n",
      "│            ┆           ┆ V9fePQ    ┆           ┆   ┆           ┆         ┆           ┆           │\n",
      "│ News &     ┆ 2016-04-0 ┆ UC-LGacAu ┆ Newsone   ┆ … ┆ 59946.0   ┆ 3.5715  ┆ 651.68323 ┆ US        │\n",
      "│ Politics   ┆ 5         ┆ 72ou9bsBT ┆ Breaking  ┆   ┆           ┆         ┆           ┆           │\n",
      "│            ┆           ┆ j0I1oQ    ┆           ┆   ┆           ┆         ┆           ┆           │\n",
      "│ News &     ┆ 2017-02-2 ┆ UCsDb5pOn ┆ New Waves ┆ … ┆ 36827.0   ┆ 3.2085  ┆ 223.0     ┆ IN        │\n",
      "│ Politics   ┆ 4         ┆ 303kWylYM ┆           ┆   ┆           ┆         ┆           ┆           │\n",
      "│            ┆           ┆ jlLUWA    ┆           ┆   ┆           ┆         ┆           ┆           │\n",
      "│ News &     ┆ 2010-03-0 ┆ UC4SH8rh0 ┆ Paul      ┆ … ┆ 55146.0   ┆ 3.495   ┆ 71.496774 ┆ US        │\n",
      "│ Politics   ┆ 1         ┆ OjYV3zwqn ┆ Begley    ┆   ┆           ┆         ┆           ┆           │\n",
      "│            ┆           ┆ IfqNbA    ┆           ┆   ┆           ┆         ┆           ┆           │\n",
      "│ News &     ┆ 2017-07-0 ┆ UC_YFbvKe ┆ News4JAX  ┆ … ┆ 554929.0  ┆ 9.622   ┆ 432.65277 ┆ US        │\n",
      "│ Politics   ┆ 3         ┆ djnVjqrZq ┆           ┆   ┆           ┆         ┆ 8         ┆           │\n",
      "│            ┆           ┆ BR4L8Q    ┆           ┆   ┆           ┆         ┆           ┆           │\n",
      "│ News &     ┆ 2015-10-2 ┆ UCxHoBXkY ┆ SOMOY TV  ┆ … ┆ 2114.0    ┆ 2.131   ┆ 377.27777 ┆ US        │\n",
      "│ Politics   ┆ 1         ┆ 88Tb8z1Ss ┆           ┆   ┆           ┆         ┆ 8         ┆           │\n",
      "│            ┆           ┆ j6CWsQ    ┆           ┆   ┆           ┆         ┆           ┆           │\n",
      "└────────────┴───────────┴───────────┴───────────┴───┴───────────┴─────────┴───────────┴───────────┘\n"
     ]
    }
   ],
   "source": [
    "high_activity_channels.write_csv(\"data/high_activity_channels_with_country\")\n",
    "print(high_activity_channels.sample(10))\n"
   ]
  },
  {
   "cell_type": "markdown",
   "metadata": {},
   "source": [
    "### 1.4 Get if channel is english-speaking with CHATGPT LLM API <a class=\"anchor\" id=\"filter_data-english\"></a>\n",
    "\n",
    "Task: Use `filtered_yt_metadata.csv` and `high_activity_channels_with_country.csv` to filter for english videos\n",
    "\n",
    "Since the youtube metadata dataset contains videos that are not from english speaking channels, we need to do further processing. We use the CHATGPT API to analyze 5 videos and descriptions and if **any** video is not classified as english, the channel is marked as non-english.\n",
    "\n",
    "This step is done even though the Youniverse dataset should already contain only english videos. LLM improved a lot in the past four years and since some of the channels we get are Hindi or Spanish, we expect to get a cleaner dataset by classifying them using a LLM."
   ]
  },
  {
   "cell_type": "markdown",
   "metadata": {},
   "source": [
    "#### Finding 5 videos that correspond to the high activity channels"
   ]
  },
  {
   "cell_type": "code",
   "execution_count": null,
   "metadata": {},
   "outputs": [],
   "source": [
    "channels_df = pd.read_csv(\"data/high_activity_channels_with_country.csv\") \n",
    "channel_ids = set(channels_df['channel'].unique())  \n",
    "chunk_reader = pd.read_csv(\"data/filtered_yt_metadata.csv\", chunksize=5000)\n",
    "\n",
    "matching_videos = []\n",
    "# dictionary to track how many videos are saved for each channel\n",
    "channel_video_count = {channel_id: 0 for channel_id in channel_ids}\n",
    "\n",
    "for chunk in chunk_reader:\n",
    "    matching_rows = chunk[chunk['channel_id'].isin(channel_ids)]\n",
    "    for channel_id, group in matching_rows.groupby('channel_id'):\n",
    "        # if 5 videos are analyzed continue\n",
    "        if channel_video_count[channel_id] >= 5:\n",
    "            continue\n",
    "        # get the first 5 videos for this channel, or fewer if there are less than 5\n",
    "        first_5_videos = group.head(5 - channel_video_count[channel_id]) \n",
    "        channel_video_count[channel_id] += len(first_5_videos)\n",
    "        matching_videos.append(first_5_videos)\n",
    "\n",
    "final_df = pd.concat(matching_videos, ignore_index=True)\n",
    "final_df.to_csv('data/matching_videos.csv', index=False)\n"
   ]
  },
  {
   "cell_type": "markdown",
   "metadata": {},
   "source": [
    "#### Parsing the video title and description with CHATGPT API"
   ]
  },
  {
   "cell_type": "code",
   "execution_count": null,
   "metadata": {},
   "outputs": [
    {
     "name": "stdout",
     "output_type": "stream",
     "text": [
      "channel is english\n"
     ]
    }
   ],
   "source": [
    "## TESTING THE FUNCTION \n",
    "final_df = pd.read_csv(\"data/matching_videos.csv\")\n",
    "result = general_utils.check_channel_english(final_df, \"UClMs26ViHFMy7MS897Alcxw\")"
   ]
  },
  {
   "cell_type": "markdown",
   "metadata": {},
   "source": [
    "#### Filtering the high activity channels with the check_channel_english function"
   ]
  },
  {
   "cell_type": "code",
   "execution_count": null,
   "metadata": {},
   "outputs": [],
   "source": [
    "high_activity_channels = high_activity_channels.with_columns(\n",
    "    pl.col(\"channel\").map_elements(lambda channel_id:general_utils.check_channel_english(final_df, channel_id)).alias(\"Is_English\")\n",
    ")\n",
    "high_activity_channels.write_csv(\"data/high_activity_channels_country_and_english.csv\")"
   ]
  },
  {
   "cell_type": "markdown",
   "metadata": {},
   "source": [
    "#### Printing value counts for channels that are english and the country of origin"
   ]
  },
  {
   "cell_type": "code",
   "execution_count": null,
   "metadata": {},
   "outputs": [
    {
     "name": "stdout",
     "output_type": "stream",
     "text": [
      "English\n",
      "Channel_country\n",
      "US                   149\n",
      "IN                    49\n",
      "PK                    13\n",
      "Channel not found      9\n",
      "CA                     8\n",
      "GB                     7\n",
      "NG                     6\n",
      "ZA                     4\n",
      "KE                     4\n",
      "PH                     3\n",
      "CN                     3\n",
      "FR                     2\n",
      "GH                     2\n",
      "IL                     2\n",
      "MY                     2\n",
      "QA                     1\n",
      "UK                     1\n",
      "CH                     1\n",
      "UG                     1\n",
      "BZ                     1\n",
      "TR                     1\n",
      "DE                     1\n",
      "EC                     1\n",
      "BD                     1\n",
      "GU                     1\n",
      "PG                     1\n",
      "AU                     1\n",
      "LK                     1\n",
      "SG                     1\n",
      "TH                     1\n",
      "Name: count, dtype: int64\n"
     ]
    }
   ],
   "source": [
    "filtered = pd.read_csv(\"data/high_activity_channels_country_and_english.csv\")\n",
    "english = filtered[filtered[\"Is_English\"] == True]\n",
    "print(\"English\")\n",
    "print(english[\"Channel_country\"].value_counts())"
   ]
  },
  {
   "cell_type": "code",
   "execution_count": 4,
   "metadata": {},
   "outputs": [
    {
     "name": "stdout",
     "output_type": "stream",
     "text": [
      "Number of English channels: 278\n"
     ]
    }
   ],
   "source": [
    "print(f\"Number of English channels: {len(english)}\")"
   ]
  },
  {
   "cell_type": "markdown",
   "metadata": {},
   "source": [
    "### 1.5 Filter for language and country and save all the final dataframes <a class=\"anchor\" id=\"filter_data-save\"></a>\n",
    "\n",
    "Now that we got all the information needed, we can filter all our dataframes and save them for future use. As a recall we are filtering for channels that are:\n",
    "- categorized as 'News & Politics'\n",
    "- active (more than 4 videos per day)\n",
    "- english-speaking (predicted by CHATGPT API)\n",
    "- from the US (fetched from the youtube API and completed manually)"
   ]
  },
  {
   "cell_type": "code",
   "execution_count": null,
   "metadata": {},
   "outputs": [],
   "source": [
    "df_final_channels = pl.read_csv(\"data/high_activity_channels_country_and_english.csv\", separator=\",\")\n",
    "df_final_channels = df_final_channels.filter((pl.col(\"Channel_country\") == \"US\") & (pl.col(\"Is_English\") == True))\n",
    "df_final_channels = df_final_channels.rename({\"Is_English\": \"is_english\", \"Channel_country\": \"channel_country\"})\n",
    "\n",
    "df_final_channels.write_csv(path_final_channels, include_header=True, separator=\",\")"
   ]
  },
  {
   "cell_type": "code",
   "execution_count": null,
   "metadata": {},
   "outputs": [],
   "source": [
    "# metadata feather\n",
    "filters.df_filter_csv_batched(path_yt_metadata_feather_filtered, path_final_yt_metadata_feather,\n",
    "                              column_name=\"channel_id\", values=df_final_channels[\"channel\"],\n",
    "                              filter_method=\"is_in\", sep_in=\"\\t\", sep_out=\",\")"
   ]
  },
  {
   "cell_type": "code",
   "execution_count": null,
   "metadata": {},
   "outputs": [],
   "source": [
    "# metadata\n",
    "df_final_yt_metadata = pl.read_csv(path_yt_metadata_filtered, has_header=True, \n",
    "                                   separator=\"\\t\", infer_schema=False)\n",
    "df_final_yt_metadata = filters.filter_df_isin(df_final_yt_metadata, \"channel_id\", df_final_channels[\"channel\"])\n",
    "df_final_yt_metadata.write_csv(path_final_yt_metadata, include_header=True, separator=\",\")\n"
   ]
  },
  {
   "cell_type": "code",
   "execution_count": null,
   "metadata": {},
   "outputs": [],
   "source": [
    "# timeseries\n",
    "df_final_timeseries = pl.read_csv(path_df_timeseries, separator=\"\\t\", has_header=True)\n",
    "df_final_timeseries = filters.filter_df_isin(df_final_timeseries, column_name=\"channel\", \n",
    "                                                values=df_final_channels[\"channel\"])\n",
    "df_final_timeseries.write_csv(path_final_timeseries, include_header=True, separator=\",\")\n"
   ]
  },
  {
   "cell_type": "code",
   "execution_count": null,
   "metadata": {},
   "outputs": [],
   "source": [
    "# comments\n",
    "# filters the comment file in batches\n",
    "filter_comments.filter_relevant_comments(path_data_dir, path_final_yt_metadata_feather)\n",
    "# combines the filtered files into one and updates the header\n",
    "filter_comments.combine_csv_files_polars(path_data_dir, path_comments_filtered)\n",
    "filter_comments.update_csv_header(path_comments_filtered_copy, path_comments_filtered)\n",
    "# computes stats for comments\n",
    "filter_comments.write_comments_statistics_csv(path_final_yt_metadata_feather, path_comments_filtered)"
   ]
  },
  {
   "cell_type": "markdown",
   "metadata": {},
   "source": [
    "Summary of Filtering:"
   ]
  },
  {
   "cell_type": "code",
   "execution_count": null,
   "metadata": {},
   "outputs": [
    {
     "name": "stdout",
     "output_type": "stream",
     "text": [
      "Final Number of videos from channels of interest (CoI): 2548064\n",
      "Final channels of interest (CoI): 149\n"
     ]
    }
   ],
   "source": [
    "print(\"Final Number of videos from channels of interest (CoI): \"\\\n",
    "      f\"{len(df_final_yt_metadata)}\")\n",
    "\n",
    "print(\"Final channels of interest (CoI): \"\\\n",
    "      f\"{len(df_final_channels)}\")"
   ]
  },
  {
   "cell_type": "markdown",
   "metadata": {},
   "source": [
    "Visualization of filtering:\n",
    "Steps:\n",
    "1. Filter for 'News & Politics' category\n",
    "2. Filter for active channels\n",
    "3. Get country of channel\n",
    "4. Get if channel is english-speaking"
   ]
  },
  {
   "cell_type": "code",
   "execution_count": null,
   "metadata": {},
   "outputs": [
    {
     "data": {
      "application/vnd.plotly.v1+json": {
       "config": {
        "plotlyServerURL": "https://plot.ly"
       },
       "data": [
        {
         "marker": {
          "color": [
           "rgb(5,10,172)",
           "rgb(40,60,190)",
           "rgb(70,100,245)",
           "rgb(90,120,245)"
          ]
         },
         "opacity": 0.65,
         "textinfo": "value+percent initial",
         "textposition": "inside",
         "type": "funnel",
         "x": [
          2263,
          407,
          278,
          149
         ],
         "y": [
          "Category = News & Politics",
          "Activity > 4 videos/day",
          "Country =US",
          "English-speaking"
         ]
        }
       ],
       "layout": {
        "template": {
         "data": {
          "bar": [
           {
            "error_x": {
             "color": "#2a3f5f"
            },
            "error_y": {
             "color": "#2a3f5f"
            },
            "marker": {
             "line": {
              "color": "#E5ECF6",
              "width": 0.5
             },
             "pattern": {
              "fillmode": "overlay",
              "size": 10,
              "solidity": 0.2
             }
            },
            "type": "bar"
           }
          ],
          "barpolar": [
           {
            "marker": {
             "line": {
              "color": "#E5ECF6",
              "width": 0.5
             },
             "pattern": {
              "fillmode": "overlay",
              "size": 10,
              "solidity": 0.2
             }
            },
            "type": "barpolar"
           }
          ],
          "carpet": [
           {
            "aaxis": {
             "endlinecolor": "#2a3f5f",
             "gridcolor": "white",
             "linecolor": "white",
             "minorgridcolor": "white",
             "startlinecolor": "#2a3f5f"
            },
            "baxis": {
             "endlinecolor": "#2a3f5f",
             "gridcolor": "white",
             "linecolor": "white",
             "minorgridcolor": "white",
             "startlinecolor": "#2a3f5f"
            },
            "type": "carpet"
           }
          ],
          "choropleth": [
           {
            "colorbar": {
             "outlinewidth": 0,
             "ticks": ""
            },
            "type": "choropleth"
           }
          ],
          "contour": [
           {
            "colorbar": {
             "outlinewidth": 0,
             "ticks": ""
            },
            "colorscale": [
             [
              0,
              "#0d0887"
             ],
             [
              0.1111111111111111,
              "#46039f"
             ],
             [
              0.2222222222222222,
              "#7201a8"
             ],
             [
              0.3333333333333333,
              "#9c179e"
             ],
             [
              0.4444444444444444,
              "#bd3786"
             ],
             [
              0.5555555555555556,
              "#d8576b"
             ],
             [
              0.6666666666666666,
              "#ed7953"
             ],
             [
              0.7777777777777778,
              "#fb9f3a"
             ],
             [
              0.8888888888888888,
              "#fdca26"
             ],
             [
              1,
              "#f0f921"
             ]
            ],
            "type": "contour"
           }
          ],
          "contourcarpet": [
           {
            "colorbar": {
             "outlinewidth": 0,
             "ticks": ""
            },
            "type": "contourcarpet"
           }
          ],
          "heatmap": [
           {
            "colorbar": {
             "outlinewidth": 0,
             "ticks": ""
            },
            "colorscale": [
             [
              0,
              "#0d0887"
             ],
             [
              0.1111111111111111,
              "#46039f"
             ],
             [
              0.2222222222222222,
              "#7201a8"
             ],
             [
              0.3333333333333333,
              "#9c179e"
             ],
             [
              0.4444444444444444,
              "#bd3786"
             ],
             [
              0.5555555555555556,
              "#d8576b"
             ],
             [
              0.6666666666666666,
              "#ed7953"
             ],
             [
              0.7777777777777778,
              "#fb9f3a"
             ],
             [
              0.8888888888888888,
              "#fdca26"
             ],
             [
              1,
              "#f0f921"
             ]
            ],
            "type": "heatmap"
           }
          ],
          "heatmapgl": [
           {
            "colorbar": {
             "outlinewidth": 0,
             "ticks": ""
            },
            "colorscale": [
             [
              0,
              "#0d0887"
             ],
             [
              0.1111111111111111,
              "#46039f"
             ],
             [
              0.2222222222222222,
              "#7201a8"
             ],
             [
              0.3333333333333333,
              "#9c179e"
             ],
             [
              0.4444444444444444,
              "#bd3786"
             ],
             [
              0.5555555555555556,
              "#d8576b"
             ],
             [
              0.6666666666666666,
              "#ed7953"
             ],
             [
              0.7777777777777778,
              "#fb9f3a"
             ],
             [
              0.8888888888888888,
              "#fdca26"
             ],
             [
              1,
              "#f0f921"
             ]
            ],
            "type": "heatmapgl"
           }
          ],
          "histogram": [
           {
            "marker": {
             "pattern": {
              "fillmode": "overlay",
              "size": 10,
              "solidity": 0.2
             }
            },
            "type": "histogram"
           }
          ],
          "histogram2d": [
           {
            "colorbar": {
             "outlinewidth": 0,
             "ticks": ""
            },
            "colorscale": [
             [
              0,
              "#0d0887"
             ],
             [
              0.1111111111111111,
              "#46039f"
             ],
             [
              0.2222222222222222,
              "#7201a8"
             ],
             [
              0.3333333333333333,
              "#9c179e"
             ],
             [
              0.4444444444444444,
              "#bd3786"
             ],
             [
              0.5555555555555556,
              "#d8576b"
             ],
             [
              0.6666666666666666,
              "#ed7953"
             ],
             [
              0.7777777777777778,
              "#fb9f3a"
             ],
             [
              0.8888888888888888,
              "#fdca26"
             ],
             [
              1,
              "#f0f921"
             ]
            ],
            "type": "histogram2d"
           }
          ],
          "histogram2dcontour": [
           {
            "colorbar": {
             "outlinewidth": 0,
             "ticks": ""
            },
            "colorscale": [
             [
              0,
              "#0d0887"
             ],
             [
              0.1111111111111111,
              "#46039f"
             ],
             [
              0.2222222222222222,
              "#7201a8"
             ],
             [
              0.3333333333333333,
              "#9c179e"
             ],
             [
              0.4444444444444444,
              "#bd3786"
             ],
             [
              0.5555555555555556,
              "#d8576b"
             ],
             [
              0.6666666666666666,
              "#ed7953"
             ],
             [
              0.7777777777777778,
              "#fb9f3a"
             ],
             [
              0.8888888888888888,
              "#fdca26"
             ],
             [
              1,
              "#f0f921"
             ]
            ],
            "type": "histogram2dcontour"
           }
          ],
          "mesh3d": [
           {
            "colorbar": {
             "outlinewidth": 0,
             "ticks": ""
            },
            "type": "mesh3d"
           }
          ],
          "parcoords": [
           {
            "line": {
             "colorbar": {
              "outlinewidth": 0,
              "ticks": ""
             }
            },
            "type": "parcoords"
           }
          ],
          "pie": [
           {
            "automargin": true,
            "type": "pie"
           }
          ],
          "scatter": [
           {
            "fillpattern": {
             "fillmode": "overlay",
             "size": 10,
             "solidity": 0.2
            },
            "type": "scatter"
           }
          ],
          "scatter3d": [
           {
            "line": {
             "colorbar": {
              "outlinewidth": 0,
              "ticks": ""
             }
            },
            "marker": {
             "colorbar": {
              "outlinewidth": 0,
              "ticks": ""
             }
            },
            "type": "scatter3d"
           }
          ],
          "scattercarpet": [
           {
            "marker": {
             "colorbar": {
              "outlinewidth": 0,
              "ticks": ""
             }
            },
            "type": "scattercarpet"
           }
          ],
          "scattergeo": [
           {
            "marker": {
             "colorbar": {
              "outlinewidth": 0,
              "ticks": ""
             }
            },
            "type": "scattergeo"
           }
          ],
          "scattergl": [
           {
            "marker": {
             "colorbar": {
              "outlinewidth": 0,
              "ticks": ""
             }
            },
            "type": "scattergl"
           }
          ],
          "scattermapbox": [
           {
            "marker": {
             "colorbar": {
              "outlinewidth": 0,
              "ticks": ""
             }
            },
            "type": "scattermapbox"
           }
          ],
          "scatterpolar": [
           {
            "marker": {
             "colorbar": {
              "outlinewidth": 0,
              "ticks": ""
             }
            },
            "type": "scatterpolar"
           }
          ],
          "scatterpolargl": [
           {
            "marker": {
             "colorbar": {
              "outlinewidth": 0,
              "ticks": ""
             }
            },
            "type": "scatterpolargl"
           }
          ],
          "scatterternary": [
           {
            "marker": {
             "colorbar": {
              "outlinewidth": 0,
              "ticks": ""
             }
            },
            "type": "scatterternary"
           }
          ],
          "surface": [
           {
            "colorbar": {
             "outlinewidth": 0,
             "ticks": ""
            },
            "colorscale": [
             [
              0,
              "#0d0887"
             ],
             [
              0.1111111111111111,
              "#46039f"
             ],
             [
              0.2222222222222222,
              "#7201a8"
             ],
             [
              0.3333333333333333,
              "#9c179e"
             ],
             [
              0.4444444444444444,
              "#bd3786"
             ],
             [
              0.5555555555555556,
              "#d8576b"
             ],
             [
              0.6666666666666666,
              "#ed7953"
             ],
             [
              0.7777777777777778,
              "#fb9f3a"
             ],
             [
              0.8888888888888888,
              "#fdca26"
             ],
             [
              1,
              "#f0f921"
             ]
            ],
            "type": "surface"
           }
          ],
          "table": [
           {
            "cells": {
             "fill": {
              "color": "#EBF0F8"
             },
             "line": {
              "color": "white"
             }
            },
            "header": {
             "fill": {
              "color": "#C8D4E3"
             },
             "line": {
              "color": "white"
             }
            },
            "type": "table"
           }
          ]
         },
         "layout": {
          "annotationdefaults": {
           "arrowcolor": "#2a3f5f",
           "arrowhead": 0,
           "arrowwidth": 1
          },
          "autotypenumbers": "strict",
          "coloraxis": {
           "colorbar": {
            "outlinewidth": 0,
            "ticks": ""
           }
          },
          "colorscale": {
           "diverging": [
            [
             0,
             "#8e0152"
            ],
            [
             0.1,
             "#c51b7d"
            ],
            [
             0.2,
             "#de77ae"
            ],
            [
             0.3,
             "#f1b6da"
            ],
            [
             0.4,
             "#fde0ef"
            ],
            [
             0.5,
             "#f7f7f7"
            ],
            [
             0.6,
             "#e6f5d0"
            ],
            [
             0.7,
             "#b8e186"
            ],
            [
             0.8,
             "#7fbc41"
            ],
            [
             0.9,
             "#4d9221"
            ],
            [
             1,
             "#276419"
            ]
           ],
           "sequential": [
            [
             0,
             "#0d0887"
            ],
            [
             0.1111111111111111,
             "#46039f"
            ],
            [
             0.2222222222222222,
             "#7201a8"
            ],
            [
             0.3333333333333333,
             "#9c179e"
            ],
            [
             0.4444444444444444,
             "#bd3786"
            ],
            [
             0.5555555555555556,
             "#d8576b"
            ],
            [
             0.6666666666666666,
             "#ed7953"
            ],
            [
             0.7777777777777778,
             "#fb9f3a"
            ],
            [
             0.8888888888888888,
             "#fdca26"
            ],
            [
             1,
             "#f0f921"
            ]
           ],
           "sequentialminus": [
            [
             0,
             "#0d0887"
            ],
            [
             0.1111111111111111,
             "#46039f"
            ],
            [
             0.2222222222222222,
             "#7201a8"
            ],
            [
             0.3333333333333333,
             "#9c179e"
            ],
            [
             0.4444444444444444,
             "#bd3786"
            ],
            [
             0.5555555555555556,
             "#d8576b"
            ],
            [
             0.6666666666666666,
             "#ed7953"
            ],
            [
             0.7777777777777778,
             "#fb9f3a"
            ],
            [
             0.8888888888888888,
             "#fdca26"
            ],
            [
             1,
             "#f0f921"
            ]
           ]
          },
          "colorway": [
           "#636efa",
           "#EF553B",
           "#00cc96",
           "#ab63fa",
           "#FFA15A",
           "#19d3f3",
           "#FF6692",
           "#B6E880",
           "#FF97FF",
           "#FECB52"
          ],
          "font": {
           "color": "#2a3f5f"
          },
          "geo": {
           "bgcolor": "white",
           "lakecolor": "white",
           "landcolor": "#E5ECF6",
           "showlakes": true,
           "showland": true,
           "subunitcolor": "white"
          },
          "hoverlabel": {
           "align": "left"
          },
          "hovermode": "closest",
          "mapbox": {
           "style": "light"
          },
          "paper_bgcolor": "white",
          "plot_bgcolor": "#E5ECF6",
          "polar": {
           "angularaxis": {
            "gridcolor": "white",
            "linecolor": "white",
            "ticks": ""
           },
           "bgcolor": "#E5ECF6",
           "radialaxis": {
            "gridcolor": "white",
            "linecolor": "white",
            "ticks": ""
           }
          },
          "scene": {
           "xaxis": {
            "backgroundcolor": "#E5ECF6",
            "gridcolor": "white",
            "gridwidth": 2,
            "linecolor": "white",
            "showbackground": true,
            "ticks": "",
            "zerolinecolor": "white"
           },
           "yaxis": {
            "backgroundcolor": "#E5ECF6",
            "gridcolor": "white",
            "gridwidth": 2,
            "linecolor": "white",
            "showbackground": true,
            "ticks": "",
            "zerolinecolor": "white"
           },
           "zaxis": {
            "backgroundcolor": "#E5ECF6",
            "gridcolor": "white",
            "gridwidth": 2,
            "linecolor": "white",
            "showbackground": true,
            "ticks": "",
            "zerolinecolor": "white"
           }
          },
          "shapedefaults": {
           "line": {
            "color": "#2a3f5f"
           }
          },
          "ternary": {
           "aaxis": {
            "gridcolor": "white",
            "linecolor": "white",
            "ticks": ""
           },
           "baxis": {
            "gridcolor": "white",
            "linecolor": "white",
            "ticks": ""
           },
           "bgcolor": "#E5ECF6",
           "caxis": {
            "gridcolor": "white",
            "linecolor": "white",
            "ticks": ""
           }
          },
          "title": {
           "x": 0.05
          },
          "xaxis": {
           "automargin": true,
           "gridcolor": "white",
           "linecolor": "white",
           "ticks": "",
           "title": {
            "standoff": 15
           },
           "zerolinecolor": "white",
           "zerolinewidth": 2
          },
          "yaxis": {
           "automargin": true,
           "gridcolor": "white",
           "linecolor": "white",
           "ticks": "",
           "title": {
            "standoff": 15
           },
           "zerolinecolor": "white",
           "zerolinewidth": 2
          }
         }
        },
        "title": {
         "text": "Number of Channels in Dataset per Filtering Step"
        }
       }
      }
     },
     "metadata": {},
     "output_type": "display_data"
    }
   ],
   "source": [
    "importlib.reload(filtering_visualization)\n",
    "filtersteps_names = [\"Category = News & Politics\", \"Activity > 4 videos/day\", \"Country =US\", \"English-speaking\"]\n",
    "coi_steps = [2263, 407, 278, 149]\n",
    "filtering_visualization.plot_filtering_visualization(filtersteps_names, coi_steps, show=True, save_path=\"img/filtering_steps.html\")"
   ]
  },
  {
   "cell_type": "markdown",
   "metadata": {},
   "source": [
    "## 2 Selection of Events and filtering for relevant videos <a class=\"anchor\" id=\"event_selection\"></a>\n",
    "\n",
    "This section aims to explain the background on how we proceed to select the events we want to analyse later on. The main goal is to understand how US news channels report on different events and how the public responds to these events, which is why we need to select the events carefully. The selection was based on the following criteria:\n",
    "- Events should be equally distributed over the world\n",
    "- Events should be able to be categorized into at least two different categories\n",
    "- Events ideally show a clear increase in reporting at a certain point in time\n",
    "- Events must be cleary distinguishable from other events\n",
    "\n",
    "More details on all these points are given in the following sections."
   ]
  },
  {
   "cell_type": "markdown",
   "metadata": {},
   "source": [
    "### 2.1 Get relevant videos per event <a class=\"anchor\" id=\"status_quo-videos_per_event\"></a>"
   ]
  },
  {
   "cell_type": "code",
   "execution_count": 43,
   "metadata": {},
   "outputs": [],
   "source": [
    "# load data in such a way to avoid errors\n",
    "metadata = pl.read_csv(path_final_yt_metadata,  schema_overrides={\n",
    "                                \"dislike_count\": pl.Float64,\n",
    "                                \"like_count\": pl.Float64},\n",
    "                                ignore_errors = True)"
   ]
  },
  {
   "cell_type": "code",
   "execution_count": 44,
   "metadata": {},
   "outputs": [
    {
     "name": "stdout",
     "output_type": "stream",
     "text": [
      "Total number of videos: 2,548,064\n",
      "Date Outlier Count: 164,271\n",
      "Like/Dislike Outlier Count (null elements): 223,686\n"
     ]
    }
   ],
   "source": [
    "# counting erroneous like/dislike and date entries\n",
    "keywords.summarize_outliers(metadata)"
   ]
  },
  {
   "cell_type": "code",
   "execution_count": 45,
   "metadata": {},
   "outputs": [
    {
     "name": "stdout",
     "output_type": "stream",
     "text": [
      "Original metadata shape: (2,548,064, 12)\n",
      "New metadata shape: (2,324,376, 12)\n"
     ]
    }
   ],
   "source": [
    "# removing rows where the like or dislike entry is null, or where the date entry is erroneous (like \"17\")\n",
    "metadata = keywords.filtering_bad_rows(metadata)"
   ]
  },
  {
   "cell_type": "code",
   "execution_count": 46,
   "metadata": {},
   "outputs": [
    {
     "name": "stdout",
     "output_type": "stream",
     "text": [
      "Total number of videos: 2,324,376\n",
      "Date Outlier Count: 0\n",
      "Like/Dislike Outlier Count (null elements): 0\n"
     ]
    }
   ],
   "source": [
    "keywords.summarize_outliers(metadata)"
   ]
  },
  {
   "cell_type": "code",
   "execution_count": 47,
   "metadata": {},
   "outputs": [],
   "source": [
    "# removing the hour time from the upload_date since it's always 00:00:00\n",
    "metadata = keywords.remove_hour(metadata)"
   ]
  },
  {
   "cell_type": "code",
   "execution_count": 48,
   "metadata": {},
   "outputs": [
    {
     "name": "stdout",
     "output_type": "stream",
     "text": [
      "Event: Hurricane Harvey (2017)\n",
      "Related videos found: 2,681\n",
      "------------\n",
      "Event: California Wildfires (2018)\n",
      "Related videos found: 2,559\n",
      "------------\n",
      "Event: Hurricane Maria (2017)\n",
      "Related videos found: 1,077\n",
      "------------\n",
      "Event: Hurricane Michael (2018)\n",
      "Related videos found: 1,154\n",
      "------------\n",
      "Event: Sulawesi Earthquake and Tsunami (2018)\n",
      "Related videos found: 108\n",
      "------------\n",
      "Event: Nepal Earthquake (2015)\n",
      "Related videos found: 238\n",
      "------------\n",
      "Event: Bangladesh Cyclone Mora (2017)\n",
      "Related videos found: 5\n",
      "------------\n",
      "Event: India Floods in Kerela (2018)\n",
      "Related videos found: 22\n",
      "------------\n",
      "Event: Europe Heatwaves (2019)\n",
      "Related videos found: 60\n",
      "------------\n",
      "Event: Portugal Wildfires (2017)\n",
      "Related videos found: 24\n",
      "------------\n",
      "Event: European Floods (2014)\n",
      "Related videos found: 7\n",
      "------------\n",
      "Event: Greek Wildfires (2018)\n",
      "Related videos found: 64\n",
      "------------\n",
      "Event: Italy Earthquakes (2016)\n",
      "Related videos found: 129\n",
      "------------\n",
      "Event: Mosul Offensive (2016-2017) - Iraq\n",
      "Related videos found: 670\n",
      "------------\n",
      "Event: Battle of Kobani (2014-2015) - Syria\n",
      "Related videos found: 68\n",
      "------------\n",
      "Event: Battle of Raqqa (Jun - Oct 2017) - Syria\n",
      "Related videos found: 122\n",
      "------------\n",
      "Event: Kunduz City Attack (2015) - Afghanistan\n",
      "Related videos found: 31\n",
      "------------\n",
      "Event: Battle of Sirte (2016) - Libya\n",
      "Related videos found: 21\n",
      "------------\n",
      "Event: Pulwama attack & Balakot Airstrikes (Feb 2019) - India/Pakistan\n",
      "Related videos found: 71\n",
      "------------\n",
      "Event: Syrian Civil War, Aleppo Offensive (2016)\n",
      "Related videos found: 559\n",
      "------------\n",
      "Event: Yemeni Civil War, battle of Hudayah (Jun - Dec 2018)\n",
      "Related videos found: 419\n",
      "------------\n",
      "Event: Crimea Annexation & Conflict in Eastern Ukraine (2014)\n",
      "Related videos found: 966\n",
      "------------\n",
      "Event: Nagorno-Karabakh Clashes (2016) - Armenia-Azerbaijan\n",
      "Related videos found: 6\n",
      "------------\n"
     ]
    },
    {
     "data": {
      "image/png": "[encoded data removed]",
      "text/plain": [
       "<Figure size 1600x3600 with 23 Axes>"
      ]
     },
     "metadata": {},
     "output_type": "display_data"
    }
   ],
   "source": [
    "# plot the evolution of upload frequency for each event\n",
    "importlib.reload(keywords)\n",
    "\n",
    "\"\"\"\n",
    "# all_plots = True to plot for all the events, disregards chosen index. Else plot for the even corresponding to chosen index\n",
    "# grouping_mode: \"daily\", \"weekly\", \"monthly\"\n",
    "\n",
    " \"\"\"\n",
    "index = 4  # 0-N List is found in keywords.py\n",
    "\n",
    "crop_time = True\n",
    "\n",
    "metadata_2 = metadata.clone()\n",
    "\n",
    "metadata_2 = metadata_2.filter(\n",
    "    ~ ((metadata_2[\"channel_id\"] == \"UCKQECjul8nw1KW_JzfBTP1A\")) # & (metadata_2[\"upload_date\"] < date(2018, 4, 9)))\n",
    ")\n",
    "\n",
    "metadata_2 = metadata_2.filter(\n",
    "   ~ ((metadata_2[\"channel_id\"] == \"UC_YFbvKedjnVjqrZqBR4L8Q\")) #  & (metadata_2[\"upload_date\"] < date(2018, 4, 9)))\n",
    ")\n",
    "\n",
    "metadata_2 = metadata_2.filter(                                                 # to remove completely\n",
    "   ~ (metadata_2[\"channel_id\"] == \"UCN3me_2IdGN5C0QV5PubDlQ\")\n",
    ")\n",
    "\n",
    "metadata_2 = metadata_2.filter(\n",
    "    ~ ((metadata_2[\"channel_id\"] == \"UCupvZG-5ko_eiXAupbDfxWw\") & (metadata_2[\"upload_date\"] < date(2016, 7, 22)))\n",
    ")\n",
    "\n",
    "metadata_2 = metadata_2.filter(\n",
    "    ~ ((metadata_2[\"channel_id\"] == \"UCXIJgqnII2ZOINSWNOGFThA\"))\n",
    ")\n",
    "\n",
    "output = keywords.plot_update_freq(index, metadata_2, all_plots = True, grouping_mode = \"daily\", crop_time = crop_time, generate = True)     # function that can take individual terms (with or) and groups of terms (with and"
   ]
  },
  {
   "cell_type": "code",
   "execution_count": 49,
   "metadata": {},
   "outputs": [],
   "source": [
    "# fix weird view count and save to csv\n",
    "feather = pl.read_csv(path_final_yt_metadata_feather, has_header=True, separator=\",\")\n",
    "output = output.drop(\"view_count\")\n",
    "output = output.join(feather[[\"display_id\", \"view_count\"]], on=\"display_id\", how=\"inner\")\n",
    "output.write_csv(path_event_yt_metadata, include_header=True, separator=\",\")"
   ]
  },
  {
   "cell_type": "markdown",
   "metadata": {},
   "source": [
    "### 2.2 Visualize the event filtering process"
   ]
  },
  {
   "cell_type": "code",
   "execution_count": 50,
   "metadata": {},
   "outputs": [
    {
     "data": {
      "application/vnd.plotly.v1+json": {
       "config": {
        "plotlyServerURL": "https://plot.ly"
       },
       "data": [
        {
         "link": {
          "color": [
           "rgb(252,141,89)",
           "rgb(107,174,214)",
           "rgb(254,232,200)",
           "rgb(253,187,132)",
           "rgb(239,101,72)",
           "rgb(222,235,247)",
           "rgb(158,202,225)",
           "rgb(66,146,198)",
           "rgb(254,232,200)",
           "rgb(254,232,200)",
           "rgb(254,232,200)",
           "rgb(254,232,200)",
           "rgb(253,187,132)",
           "rgb(253,187,132)",
           "rgb(253,187,132)",
           "rgb(253,187,132)",
           "rgb(253,187,132)",
           "rgb(239,101,72)",
           "rgb(239,101,72)",
           "rgb(239,101,72)",
           "rgb(239,101,72)",
           "rgb(222,235,247)",
           "rgb(222,235,247)",
           "rgb(222,235,247)",
           "rgb(158,202,225)",
           "rgb(158,202,225)",
           "rgb(66,146,198)",
           "rgb(66,146,198)",
           "rgb(66,146,198)",
           "rgb(66,146,198)",
           "rgb(66,146,198)"
          ],
          "source": [
           0,
           0,
           1,
           1,
           1,
           2,
           2,
           2,
           3,
           3,
           3,
           3,
           4,
           4,
           4,
           4,
           4,
           5,
           5,
           5,
           5,
           6,
           6,
           6,
           7,
           7,
           8,
           8,
           8,
           8,
           8
          ],
          "target": [
           1,
           2,
           3,
           4,
           5,
           6,
           7,
           8,
           9,
           10,
           11,
           12,
           13,
           14,
           15,
           16,
           17,
           18,
           19,
           20,
           21,
           22,
           23,
           24,
           25,
           26,
           27,
           28,
           29,
           30,
           31
          ],
          "value": [
           8128,
           2933,
           373,
           284,
           7471,
           1049,
           972,
           912,
           5,
           22,
           238,
           108,
           60,
           7,
           64,
           129,
           24,
           2559,
           2681,
           1077,
           1154,
           71,
           559,
           419,
           966,
           6,
           68,
           122,
           21,
           31,
           670
          ]
         },
         "node": {
          "color": [
           "rgba(200,200,200,0.7)",
           "rgb(252,141,89)",
           "rgb(107,174,214)",
           "rgb(254,232,200)",
           "rgb(253,187,132)",
           "rgb(239,101,72)",
           "rgb(222,235,247)",
           "rgb(158,202,225)",
           "rgb(66,146,198)",
           "rgb(254,232,200)",
           "rgb(254,232,200)",
           "rgb(254,232,200)",
           "rgb(254,232,200)",
           "rgb(253,187,132)",
           "rgb(253,187,132)",
           "rgb(253,187,132)",
           "rgb(253,187,132)",
           "rgb(253,187,132)",
           "rgb(239,101,72)",
           "rgb(239,101,72)",
           "rgb(239,101,72)",
           "rgb(239,101,72)",
           "rgb(222,235,247)",
           "rgb(222,235,247)",
           "rgb(222,235,247)",
           "rgb(158,202,225)",
           "rgb(158,202,225)",
           "rgb(66,146,198)",
           "rgb(66,146,198)",
           "rgb(66,146,198)",
           "rgb(66,146,198)",
           "rgb(66,146,198)"
          ],
          "label": [
           "All Videos from CoI",
           "environmental",
           "geopolitical",
           "Asia (environmental)",
           "Europe (environmental)",
           "US (environmental)",
           "Asia (geopolitical)",
           "Europe (geopolitical)",
           "US (geopolitical)",
           "Bangladesh Cyclone Mora (2017)",
           "India Floods in Kerela (2018)",
           "Nepal Earthquake (2015)",
           "Sulawesi Earthquake and Tsunami (2018)",
           "Europe Heatwaves (2019)",
           "European Floods (2014)",
           "Greek Wildfires (2018)",
           "Italy Earthquakes (2016)",
           "Portugal Wildfires (2017)",
           "California Wildfires (2018)",
           "Hurricane Harvey (2017)",
           "Hurricane Maria (2017)",
           "Hurricane Michael (2018)",
           "Pulwama attack & Balakot Airstrikes (Feb 2019) - India/Pakistan",
           "Syrian Civil War, Aleppo Offensive (2016)",
           "Yemeni Civil War, battle of Hudayah (Jun - Dec 2018)",
           "Crimea Annexation & Conflict in Eastern Ukraine (2014)",
           "Nagorno-Karabakh Clashes (2016) - Armenia-Azerbaijan",
           "Battle of Kobani (2014-2015) - Syria",
           "Battle of Raqqa (Jun - Oct 2017) - Syria",
           "Battle of Sirte (2016) - Libya",
           "Kunduz City Attack (2015) - Afghanistan",
           "Mosul Offensive (2016-2017) - Iraq"
          ],
          "line": {
           "color": "black",
           "width": 0.5
          },
          "pad": 15,
          "thickness": 20
         },
         "type": "sankey"
        }
       ],
       "layout": {
        "font": {
         "size": 10
        },
        "template": {
         "data": {
          "bar": [
           {
            "error_x": {
             "color": "#2a3f5f"
            },
            "error_y": {
             "color": "#2a3f5f"
            },
            "marker": {
             "line": {
              "color": "#E5ECF6",
              "width": 0.5
             },
             "pattern": {
              "fillmode": "overlay",
              "size": 10,
              "solidity": 0.2
             }
            },
            "type": "bar"
           }
          ],
          "barpolar": [
           {
            "marker": {
             "line": {
              "color": "#E5ECF6",
              "width": 0.5
             },
             "pattern": {
              "fillmode": "overlay",
              "size": 10,
              "solidity": 0.2
             }
            },
            "type": "barpolar"
           }
          ],
          "carpet": [
           {
            "aaxis": {
             "endlinecolor": "#2a3f5f",
             "gridcolor": "white",
             "linecolor": "white",
             "minorgridcolor": "white",
             "startlinecolor": "#2a3f5f"
            },
            "baxis": {
             "endlinecolor": "#2a3f5f",
             "gridcolor": "white",
             "linecolor": "white",
             "minorgridcolor": "white",
             "startlinecolor": "#2a3f5f"
            },
            "type": "carpet"
           }
          ],
          "choropleth": [
           {
            "colorbar": {
             "outlinewidth": 0,
             "ticks": ""
            },
            "type": "choropleth"
           }
          ],
          "contour": [
           {
            "colorbar": {
             "outlinewidth": 0,
             "ticks": ""
            },
            "colorscale": [
             [
              0,
              "#0d0887"
             ],
             [
              0.1111111111111111,
              "#46039f"
             ],
             [
              0.2222222222222222,
              "#7201a8"
             ],
             [
              0.3333333333333333,
              "#9c179e"
             ],
             [
              0.4444444444444444,
              "#bd3786"
             ],
             [
              0.5555555555555556,
              "#d8576b"
             ],
             [
              0.6666666666666666,
              "#ed7953"
             ],
             [
              0.7777777777777778,
              "#fb9f3a"
             ],
             [
              0.8888888888888888,
              "#fdca26"
             ],
             [
              1,
              "#f0f921"
             ]
            ],
            "type": "contour"
           }
          ],
          "contourcarpet": [
           {
            "colorbar": {
             "outlinewidth": 0,
             "ticks": ""
            },
            "type": "contourcarpet"
           }
          ],
          "heatmap": [
           {
            "colorbar": {
             "outlinewidth": 0,
             "ticks": ""
            },
            "colorscale": [
             [
              0,
              "#0d0887"
             ],
             [
              0.1111111111111111,
              "#46039f"
             ],
             [
              0.2222222222222222,
              "#7201a8"
             ],
             [
              0.3333333333333333,
              "#9c179e"
             ],
             [
              0.4444444444444444,
              "#bd3786"
             ],
             [
              0.5555555555555556,
              "#d8576b"
             ],
             [
              0.6666666666666666,
              "#ed7953"
             ],
             [
              0.7777777777777778,
              "#fb9f3a"
             ],
             [
              0.8888888888888888,
              "#fdca26"
             ],
             [
              1,
              "#f0f921"
             ]
            ],
            "type": "heatmap"
           }
          ],
          "heatmapgl": [
           {
            "colorbar": {
             "outlinewidth": 0,
             "ticks": ""
            },
            "colorscale": [
             [
              0,
              "#0d0887"
             ],
             [
              0.1111111111111111,
              "#46039f"
             ],
             [
              0.2222222222222222,
              "#7201a8"
             ],
             [
              0.3333333333333333,
              "#9c179e"
             ],
             [
              0.4444444444444444,
              "#bd3786"
             ],
             [
              0.5555555555555556,
              "#d8576b"
             ],
             [
              0.6666666666666666,
              "#ed7953"
             ],
             [
              0.7777777777777778,
              "#fb9f3a"
             ],
             [
              0.8888888888888888,
              "#fdca26"
             ],
             [
              1,
              "#f0f921"
             ]
            ],
            "type": "heatmapgl"
           }
          ],
          "histogram": [
           {
            "marker": {
             "pattern": {
              "fillmode": "overlay",
              "size": 10,
              "solidity": 0.2
             }
            },
            "type": "histogram"
           }
          ],
          "histogram2d": [
           {
            "colorbar": {
             "outlinewidth": 0,
             "ticks": ""
            },
            "colorscale": [
             [
              0,
              "#0d0887"
             ],
             [
              0.1111111111111111,
              "#46039f"
             ],
             [
              0.2222222222222222,
              "#7201a8"
             ],
             [
              0.3333333333333333,
              "#9c179e"
             ],
             [
              0.4444444444444444,
              "#bd3786"
             ],
             [
              0.5555555555555556,
              "#d8576b"
             ],
             [
              0.6666666666666666,
              "#ed7953"
             ],
             [
              0.7777777777777778,
              "#fb9f3a"
             ],
             [
              0.8888888888888888,
              "#fdca26"
             ],
             [
              1,
              "#f0f921"
             ]
            ],
            "type": "histogram2d"
           }
          ],
          "histogram2dcontour": [
           {
            "colorbar": {
             "outlinewidth": 0,
             "ticks": ""
            },
            "colorscale": [
             [
              0,
              "#0d0887"
             ],
             [
              0.1111111111111111,
              "#46039f"
             ],
             [
              0.2222222222222222,
              "#7201a8"
             ],
             [
              0.3333333333333333,
              "#9c179e"
             ],
             [
              0.4444444444444444,
              "#bd3786"
             ],
             [
              0.5555555555555556,
              "#d8576b"
             ],
             [
              0.6666666666666666,
              "#ed7953"
             ],
             [
              0.7777777777777778,
              "#fb9f3a"
             ],
             [
              0.8888888888888888,
              "#fdca26"
             ],
             [
              1,
              "#f0f921"
             ]
            ],
            "type": "histogram2dcontour"
           }
          ],
          "mesh3d": [
           {
            "colorbar": {
             "outlinewidth": 0,
             "ticks": ""
            },
            "type": "mesh3d"
           }
          ],
          "parcoords": [
           {
            "line": {
             "colorbar": {
              "outlinewidth": 0,
              "ticks": ""
             }
            },
            "type": "parcoords"
           }
          ],
          "pie": [
           {
            "automargin": true,
            "type": "pie"
           }
          ],
          "scatter": [
           {
            "fillpattern": {
             "fillmode": "overlay",
             "size": 10,
             "solidity": 0.2
            },
            "type": "scatter"
           }
          ],
          "scatter3d": [
           {
            "line": {
             "colorbar": {
              "outlinewidth": 0,
              "ticks": ""
             }
            },
            "marker": {
             "colorbar": {
              "outlinewidth": 0,
              "ticks": ""
             }
            },
            "type": "scatter3d"
           }
          ],
          "scattercarpet": [
           {
            "marker": {
             "colorbar": {
              "outlinewidth": 0,
              "ticks": ""
             }
            },
            "type": "scattercarpet"
           }
          ],
          "scattergeo": [
           {
            "marker": {
             "colorbar": {
              "outlinewidth": 0,
              "ticks": ""
             }
            },
            "type": "scattergeo"
           }
          ],
          "scattergl": [
           {
            "marker": {
             "colorbar": {
              "outlinewidth": 0,
              "ticks": ""
             }
            },
            "type": "scattergl"
           }
          ],
          "scattermapbox": [
           {
            "marker": {
             "colorbar": {
              "outlinewidth": 0,
              "ticks": ""
             }
            },
            "type": "scattermapbox"
           }
          ],
          "scatterpolar": [
           {
            "marker": {
             "colorbar": {
              "outlinewidth": 0,
              "ticks": ""
             }
            },
            "type": "scatterpolar"
           }
          ],
          "scatterpolargl": [
           {
            "marker": {
             "colorbar": {
              "outlinewidth": 0,
              "ticks": ""
             }
            },
            "type": "scatterpolargl"
           }
          ],
          "scatterternary": [
           {
            "marker": {
             "colorbar": {
              "outlinewidth": 0,
              "ticks": ""
             }
            },
            "type": "scatterternary"
           }
          ],
          "surface": [
           {
            "colorbar": {
             "outlinewidth": 0,
             "ticks": ""
            },
            "colorscale": [
             [
              0,
              "#0d0887"
             ],
             [
              0.1111111111111111,
              "#46039f"
             ],
             [
              0.2222222222222222,
              "#7201a8"
             ],
             [
              0.3333333333333333,
              "#9c179e"
             ],
             [
              0.4444444444444444,
              "#bd3786"
             ],
             [
              0.5555555555555556,
              "#d8576b"
             ],
             [
              0.6666666666666666,
              "#ed7953"
             ],
             [
              0.7777777777777778,
              "#fb9f3a"
             ],
             [
              0.8888888888888888,
              "#fdca26"
             ],
             [
              1,
              "#f0f921"
             ]
            ],
            "type": "surface"
           }
          ],
          "table": [
           {
            "cells": {
             "fill": {
              "color": "#EBF0F8"
             },
             "line": {
              "color": "white"
             }
            },
            "header": {
             "fill": {
              "color": "#C8D4E3"
             },
             "line": {
              "color": "white"
             }
            },
            "type": "table"
           }
          ]
         },
         "layout": {
          "annotationdefaults": {
           "arrowcolor": "#2a3f5f",
           "arrowhead": 0,
           "arrowwidth": 1
          },
          "autotypenumbers": "strict",
          "coloraxis": {
           "colorbar": {
            "outlinewidth": 0,
            "ticks": ""
           }
          },
          "colorscale": {
           "diverging": [
            [
             0,
             "#8e0152"
            ],
            [
             0.1,
             "#c51b7d"
            ],
            [
             0.2,
             "#de77ae"
            ],
            [
             0.3,
             "#f1b6da"
            ],
            [
             0.4,
             "#fde0ef"
            ],
            [
             0.5,
             "#f7f7f7"
            ],
            [
             0.6,
             "#e6f5d0"
            ],
            [
             0.7,
             "#b8e186"
            ],
            [
             0.8,
             "#7fbc41"
            ],
            [
             0.9,
             "#4d9221"
            ],
            [
             1,
             "#276419"
            ]
           ],
           "sequential": [
            [
             0,
             "#0d0887"
            ],
            [
             0.1111111111111111,
             "#46039f"
            ],
            [
             0.2222222222222222,
             "#7201a8"
            ],
            [
             0.3333333333333333,
             "#9c179e"
            ],
            [
             0.4444444444444444,
             "#bd3786"
            ],
            [
             0.5555555555555556,
             "#d8576b"
            ],
            [
             0.6666666666666666,
             "#ed7953"
            ],
            [
             0.7777777777777778,
             "#fb9f3a"
            ],
            [
             0.8888888888888888,
             "#fdca26"
            ],
            [
             1,
             "#f0f921"
            ]
           ],
           "sequentialminus": [
            [
             0,
             "#0d0887"
            ],
            [
             0.1111111111111111,
             "#46039f"
            ],
            [
             0.2222222222222222,
             "#7201a8"
            ],
            [
             0.3333333333333333,
             "#9c179e"
            ],
            [
             0.4444444444444444,
             "#bd3786"
            ],
            [
             0.5555555555555556,
             "#d8576b"
            ],
            [
             0.6666666666666666,
             "#ed7953"
            ],
            [
             0.7777777777777778,
             "#fb9f3a"
            ],
            [
             0.8888888888888888,
             "#fdca26"
            ],
            [
             1,
             "#f0f921"
            ]
           ]
          },
          "colorway": [
           "#636efa",
           "#EF553B",
           "#00cc96",
           "#ab63fa",
           "#FFA15A",
           "#19d3f3",
           "#FF6692",
           "#B6E880",
           "#FF97FF",
           "#FECB52"
          ],
          "font": {
           "color": "#2a3f5f"
          },
          "geo": {
           "bgcolor": "white",
           "lakecolor": "white",
           "landcolor": "#E5ECF6",
           "showlakes": true,
           "showland": true,
           "subunitcolor": "white"
          },
          "hoverlabel": {
           "align": "left"
          },
          "hovermode": "closest",
          "mapbox": {
           "style": "light"
          },
          "paper_bgcolor": "white",
          "plot_bgcolor": "#E5ECF6",
          "polar": {
           "angularaxis": {
            "gridcolor": "white",
            "linecolor": "white",
            "ticks": ""
           },
           "bgcolor": "#E5ECF6",
           "radialaxis": {
            "gridcolor": "white",
            "linecolor": "white",
            "ticks": ""
           }
          },
          "scene": {
           "xaxis": {
            "backgroundcolor": "#E5ECF6",
            "gridcolor": "white",
            "gridwidth": 2,
            "linecolor": "white",
            "showbackground": true,
            "ticks": "",
            "zerolinecolor": "white"
           },
           "yaxis": {
            "backgroundcolor": "#E5ECF6",
            "gridcolor": "white",
            "gridwidth": 2,
            "linecolor": "white",
            "showbackground": true,
            "ticks": "",
            "zerolinecolor": "white"
           },
           "zaxis": {
            "backgroundcolor": "#E5ECF6",
            "gridcolor": "white",
            "gridwidth": 2,
            "linecolor": "white",
            "showbackground": true,
            "ticks": "",
            "zerolinecolor": "white"
           }
          },
          "shapedefaults": {
           "line": {
            "color": "#2a3f5f"
           }
          },
          "ternary": {
           "aaxis": {
            "gridcolor": "white",
            "linecolor": "white",
            "ticks": ""
           },
           "baxis": {
            "gridcolor": "white",
            "linecolor": "white",
            "ticks": ""
           },
           "bgcolor": "#E5ECF6",
           "caxis": {
            "gridcolor": "white",
            "linecolor": "white",
            "ticks": ""
           }
          },
          "title": {
           "x": 0.05
          },
          "xaxis": {
           "automargin": true,
           "gridcolor": "white",
           "linecolor": "white",
           "ticks": "",
           "title": {
            "standoff": 15
           },
           "zerolinecolor": "white",
           "zerolinewidth": 2
          },
          "yaxis": {
           "automargin": true,
           "gridcolor": "white",
           "linecolor": "white",
           "ticks": "",
           "title": {
            "standoff": 15
           },
           "zerolinecolor": "white",
           "zerolinewidth": 2
          }
         }
        },
        "title": {
         "text": "Event Filtering"
        }
       }
      }
     },
     "metadata": {},
     "output_type": "display_data"
    }
   ],
   "source": [
    "df = pd.read_csv(path_event_yt_metadata)\n",
    "filtering_visualization.sankey_plot_events(df, show=True, save_path=\"img/event_filtering_sankey.html\")"
   ]
  },
  {
   "cell_type": "markdown",
   "metadata": {},
   "source": [
    "## 3 How US News report on different events <a class=\"anchor\" id=\"status_quo\"></a>\n",
    "\n",
    "In this section we are computing video features for the videos. They are:\n",
    "- the duration of the video\n",
    "- the appearance of keywords in the title (\"update\", \"breaking\", \"footage\")\n",
    "- capitalization ratio of the title\n",
    "- activity of the channel during +/- 2 weeks of the video upload\n",
    "- subjectivity of the title\n"
   ]
  },
  {
   "cell_type": "markdown",
   "metadata": {},
   "source": [
    "### 3.1 Extract video and channel features<a class=\"anchor\" id=\"status_quo-features\"></a>"
   ]
  },
  {
   "cell_type": "code",
   "execution_count": 51,
   "metadata": {},
   "outputs": [
    {
     "data": {
      "text/html": [
       "<div><style>\n",
       ".dataframe > thead > tr,\n",
       ".dataframe > tbody > tr {\n",
       "  text-align: right;\n",
       "  white-space: pre-wrap;\n",
       "}\n",
       "</style>\n",
       "<small>shape: (1, 22)</small><table border=\"1\" class=\"dataframe\"><thead><tr><th>categories</th><th>channel_id</th><th>crawl_date</th><th>description</th><th>dislike_count</th><th>display_id</th><th>duration</th><th>like_count</th><th>tags</th><th>title</th><th>upload_date</th><th>event</th><th>region</th><th>event_type</th><th>view_count</th><th>num_comments</th><th>total_likes</th><th>num_replies</th><th>is_footage</th><th>_update_</th><th>_breaking_</th><th>subjectivity</th></tr><tr><td>str</td><td>str</td><td>str</td><td>str</td><td>f64</td><td>str</td><td>i64</td><td>f64</td><td>str</td><td>str</td><td>str</td><td>str</td><td>str</td><td>str</td><td>f64</td><td>i64</td><td>i64</td><td>i64</td><td>bool</td><td>bool</td><td>bool</td><td>f64</td></tr></thead><tbody><tr><td>&quot;People &amp; Blogs&quot;</td><td>&quot;UCJCreS7pODbA6XYRsI5fdLg&quot;</td><td>&quot;2019-10-31 18:03:00.775162&quot;</td><td>&quot;Before Hurricane Harvey hit, g…</td><td>0.0</td><td>&quot;Ot8qLbn0olI&quot;</td><td>127</td><td>2.0</td><td>&quot;News,Local&quot;</td><td>&quot;Gas prices rise after Harvey h…</td><td>&quot;2017-09-08&quot;</td><td>&quot;Hurricane Harvey (2017)&quot;</td><td>&quot;US&quot;</td><td>&quot;environmental&quot;</td><td>25.0</td><td>0</td><td>0</td><td>0</td><td>false</td><td>false</td><td>false</td><td>0.2</td></tr></tbody></table></div>"
      ],
      "text/plain": [
       "shape: (1, 22)\n",
       "┌───────────┬───────────┬───────────┬───────────┬───┬───────────┬──────────┬───────────┬───────────┐\n",
       "│ categorie ┆ channel_i ┆ crawl_dat ┆ descripti ┆ … ┆ is_footag ┆ _update_ ┆ _breaking ┆ subjectiv │\n",
       "│ s         ┆ d         ┆ e         ┆ on        ┆   ┆ e         ┆ ---      ┆ _         ┆ ity       │\n",
       "│ ---       ┆ ---       ┆ ---       ┆ ---       ┆   ┆ ---       ┆ bool     ┆ ---       ┆ ---       │\n",
       "│ str       ┆ str       ┆ str       ┆ str       ┆   ┆ bool      ┆          ┆ bool      ┆ f64       │\n",
       "╞═══════════╪═══════════╪═══════════╪═══════════╪═══╪═══════════╪══════════╪═══════════╪═══════════╡\n",
       "│ People &  ┆ UCJCreS7p ┆ 2019-10-3 ┆ Before    ┆ … ┆ false     ┆ false    ┆ false     ┆ 0.2       │\n",
       "│ Blogs     ┆ ODbA6XYRs ┆ 1 18:03:0 ┆ Hurricane ┆   ┆           ┆          ┆           ┆           │\n",
       "│           ┆ I5fdLg    ┆ 0.775162  ┆ Harvey    ┆   ┆           ┆          ┆           ┆           │\n",
       "│           ┆           ┆           ┆ hit, g…   ┆   ┆           ┆          ┆           ┆           │\n",
       "└───────────┴───────────┴───────────┴───────────┴───┴───────────┴──────────┴───────────┴───────────┘"
      ]
     },
     "execution_count": 51,
     "metadata": {},
     "output_type": "execute_result"
    }
   ],
   "source": [
    "from src.utils import live_keywords\n",
    "from src.utils import analysis_tools\n",
    "from src.utils.analysis_tools import *\n",
    "importlib.reload(live_keywords)\n",
    "\n",
    "# load feather metadata used to compute the actvity of the channel at the time of the event\n",
    "feather_metadata = pl.read_csv(path_final_yt_metadata_feather)\n",
    "\n",
    "# get the metadata filtered by the events containing the event, region and event_type\n",
    "event_metadata = pl.read_csv(path_event_yt_metadata)\n",
    "\n",
    "# TODO: Combine with comments stats\n",
    "com_stats = pl.read_csv(path_comments_stats)\n",
    "event_metadata = event_metadata.join(com_stats, on=\"display_id\", how=\"inner\")\n",
    "\n",
    "# TODO: ADD IS LIVE; UPDATE, BREAKING\n",
    "event_metadata = live_keywords.add_video_type(event_metadata, \"footage\")\n",
    "event_metadata = live_keywords.add_video_type(event_metadata, \"update\")\n",
    "event_metadata = live_keywords.add_video_type(event_metadata, \"breaking\")\n",
    "\n",
    "# TODO: combine with subjectivity\n",
    "subjectivity = pl.read_csv(path_subjectivity)\n",
    "event_metadata = event_metadata.join(subjectivity[[\"display_id\", \"subjectivity\"]], on=\"display_id\", how=\"inner\")\n",
    "event_metadata.sample(1)"
   ]
  },
  {
   "cell_type": "code",
   "execution_count": 52,
   "metadata": {},
   "outputs": [
    {
     "name": "stdout",
     "output_type": "stream",
     "text": [
      "Processing video 11179/11179\r"
     ]
    },
    {
     "data": {
      "text/html": [
       "<div><style>\n",
       ".dataframe > thead > tr,\n",
       ".dataframe > tbody > tr {\n",
       "  text-align: right;\n",
       "  white-space: pre-wrap;\n",
       "}\n",
       "</style>\n",
       "<small>shape: (2, 24)</small><table border=\"1\" class=\"dataframe\"><thead><tr><th>categories</th><th>channel_id</th><th>crawl_date</th><th>description</th><th>dislike_count</th><th>display_id</th><th>duration</th><th>like_count</th><th>tags</th><th>title</th><th>upload_date</th><th>event</th><th>region</th><th>event_type</th><th>view_count</th><th>num_comments</th><th>total_likes</th><th>num_replies</th><th>is_footage</th><th>_update_</th><th>_breaking_</th><th>subjectivity</th><th>channel_activity</th><th>capitalisation_ratio</th></tr><tr><td>str</td><td>str</td><td>str</td><td>str</td><td>f64</td><td>str</td><td>i64</td><td>f64</td><td>str</td><td>str</td><td>str</td><td>str</td><td>str</td><td>str</td><td>f64</td><td>i64</td><td>i64</td><td>i64</td><td>bool</td><td>bool</td><td>bool</td><td>f64</td><td>f64</td><td>f64</td></tr></thead><tbody><tr><td>&quot;News &amp; Politics&quot;</td><td>&quot;UC8p1vwvWtl6T73JiExfWs1g&quot;</td><td>&quot;2019-11-08 07:48:04.431458&quot;</td><td>&quot;Texas is bracing for catastrop…</td><td>2.0</td><td>&quot;zZHcyT2CeyQ&quot;</td><td>207</td><td>50.0</td><td>&quot;video,live streaming,live vide…</td><td>&quot;Texas prepares for Hurricane H…</td><td>&quot;2017-08-24&quot;</td><td>&quot;Hurricane Harvey (2017)&quot;</td><td>&quot;US&quot;</td><td>&quot;environmental&quot;</td><td>7675.0</td><td>48</td><td>86</td><td>30</td><td>false</td><td>false</td><td>false</td><td>0.0</td><td>19.137931</td><td>0.096774</td></tr><tr><td>&quot;News &amp; Politics&quot;</td><td>&quot;UCVSNOxehfALut52NbkfRBaA&quot;</td><td>&quot;2019-11-02 01:35:53.346219&quot;</td><td>&quot;Many parts of the world are ex…</td><td>1.0</td><td>&quot;xSBmbeyCvQs&quot;</td><td>142</td><td>7.0</td><td>&quot;climate change&quot;</td><td>&quot;Study: Unusual Heat Waves to B…</td><td>&quot;2018-08-08&quot;</td><td>&quot;Greek Wildfires (2018)&quot;</td><td>&quot;Europe&quot;</td><td>&quot;environmental&quot;</td><td>222.0</td><td>0</td><td>0</td><td>0</td><td>false</td><td>false</td><td>false</td><td>0.3</td><td>9.310345</td><td>0.181818</td></tr></tbody></table></div>"
      ],
      "text/plain": [
       "shape: (2, 24)\n",
       "┌───────────┬───────────┬───────────┬───────────┬───┬───────────┬───────────┬───────────┬──────────┐\n",
       "│ categorie ┆ channel_i ┆ crawl_dat ┆ descripti ┆ … ┆ _breaking ┆ subjectiv ┆ channel_a ┆ capitali │\n",
       "│ s         ┆ d         ┆ e         ┆ on        ┆   ┆ _         ┆ ity       ┆ ctivity   ┆ sation_r │\n",
       "│ ---       ┆ ---       ┆ ---       ┆ ---       ┆   ┆ ---       ┆ ---       ┆ ---       ┆ atio     │\n",
       "│ str       ┆ str       ┆ str       ┆ str       ┆   ┆ bool      ┆ f64       ┆ f64       ┆ ---      │\n",
       "│           ┆           ┆           ┆           ┆   ┆           ┆           ┆           ┆ f64      │\n",
       "╞═══════════╪═══════════╪═══════════╪═══════════╪═══╪═══════════╪═══════════╪═══════════╪══════════╡\n",
       "│ News &    ┆ UC8p1vwvW ┆ 2019-11-0 ┆ Texas is  ┆ … ┆ false     ┆ 0.0       ┆ 19.137931 ┆ 0.096774 │\n",
       "│ Politics  ┆ tl6T73JiE ┆ 8 07:48:0 ┆ bracing   ┆   ┆           ┆           ┆           ┆          │\n",
       "│           ┆ xfWs1g    ┆ 4.431458  ┆ for catas ┆   ┆           ┆           ┆           ┆          │\n",
       "│           ┆           ┆           ┆ trop…     ┆   ┆           ┆           ┆           ┆          │\n",
       "│ News &    ┆ UCVSNOxeh ┆ 2019-11-0 ┆ Many      ┆ … ┆ false     ┆ 0.3       ┆ 9.310345  ┆ 0.181818 │\n",
       "│ Politics  ┆ fALut52Nb ┆ 2 01:35:5 ┆ parts of  ┆   ┆           ┆           ┆           ┆          │\n",
       "│           ┆ kfRBaA    ┆ 3.346219  ┆ the world ┆   ┆           ┆           ┆           ┆          │\n",
       "│           ┆           ┆           ┆ are ex…   ┆   ┆           ┆           ┆           ┆          │\n",
       "└───────────┴───────────┴───────────┴───────────┴───┴───────────┴───────────┴───────────┴──────────┘"
      ]
     },
     "execution_count": 52,
     "metadata": {},
     "output_type": "execute_result"
    }
   ],
   "source": [
    "# create the video features dataframe for the event and merge with existing metadata\n",
    "vid_features = create_video_features_dataframe(event_metadata, feather_metadata)\n",
    "metadata_features_df = event_metadata.join(vid_features, on=\"display_id\", how=\"inner\")\n",
    "features_columns = [\"duration\", \"channel_activity\", \"capitalisation_ratio\", \"subjectivity\", \"is_footage\", \"_update\", \"_breaking_\"]\n",
    "metadata_features_df.sample(2)"
   ]
  },
  {
   "cell_type": "code",
   "execution_count": null,
   "metadata": {},
   "outputs": [
    {
     "data": {
      "text/html": [
       "<div><style>\n",
       ".dataframe > thead > tr,\n",
       ".dataframe > tbody > tr {\n",
       "  text-align: right;\n",
       "  white-space: pre-wrap;\n",
       "}\n",
       "</style>\n",
       "<small>shape: (2, 27)</small><table border=\"1\" class=\"dataframe\"><thead><tr><th>categories</th><th>channel_id</th><th>crawl_date</th><th>description</th><th>dislike_count</th><th>display_id</th><th>duration</th><th>like_count</th><th>tags</th><th>title</th><th>upload_date</th><th>event</th><th>region</th><th>event_type</th><th>view_count</th><th>num_comments</th><th>total_likes</th><th>num_replies</th><th>is_footage</th><th>_update_</th><th>_breaking_</th><th>subjectivity</th><th>channel_activity</th><th>capitalisation_ratio</th><th>likes-dislikes/views</th><th>replies/comment</th><th>comments/view</th></tr><tr><td>str</td><td>str</td><td>str</td><td>str</td><td>f64</td><td>str</td><td>i64</td><td>f64</td><td>str</td><td>str</td><td>str</td><td>str</td><td>str</td><td>str</td><td>f64</td><td>i64</td><td>i64</td><td>i64</td><td>bool</td><td>bool</td><td>bool</td><td>f64</td><td>f64</td><td>f64</td><td>f64</td><td>f64</td><td>f64</td></tr></thead><tbody><tr><td>&quot;People &amp; Blogs&quot;</td><td>&quot;UC1JAwKeDUjN2orv5t7LWODQ&quot;</td><td>&quot;2019-11-20 06:49:06.183498&quot;</td><td>&quot;TX couple welcomes twins durin…</td><td>0.0</td><td>&quot;U8suwlalXWs&quot;</td><td>118</td><td>0.0</td><td>&quot;News&quot;</td><td>&quot;TX couple welcomes twins durin…</td><td>&quot;2017-09-01&quot;</td><td>&quot;Hurricane Harvey (2017)&quot;</td><td>&quot;US&quot;</td><td>&quot;environmental&quot;</td><td>35.0</td><td>0</td><td>0</td><td>0</td><td>false</td><td>false</td><td>false</td><td>0.2</td><td>19.758621</td><td>0.095238</td><td>0.0</td><td>0.0</td><td>0.0</td></tr><tr><td>&quot;News &amp; Politics&quot;</td><td>&quot;UCaXkIU1QidjPwiAYu6GcHjg&quot;</td><td>&quot;2019-11-06 18:56:57.173170&quot;</td><td>&quot;Former U.S. Coast Guard Admira…</td><td>16.0</td><td>&quot;0Erhs6KOPrs&quot;</td><td>117</td><td>61.0</td><td>&quot;MSNBC,news channel,breaking ne…</td><td>&quot;Hurricane Maria&#x27;s Aftermath Di…</td><td>&quot;2017-09-29&quot;</td><td>&quot;Hurricane Maria (2017)&quot;</td><td>&quot;US&quot;</td><td>&quot;environmental&quot;</td><td>20143.0</td><td>0</td><td>0</td><td>0</td><td>false</td><td>false</td><td>false</td><td>0.2</td><td>14.827586</td><td>0.217391</td><td>0.002234</td><td>0.0</td><td>0.0</td></tr></tbody></table></div>"
      ],
      "text/plain": [
       "shape: (2, 27)\n",
       "┌───────────┬───────────┬───────────┬───────────┬───┬───────────┬───────────┬───────────┬──────────┐\n",
       "│ categorie ┆ channel_i ┆ crawl_dat ┆ descripti ┆ … ┆ capitalis ┆ likes-dis ┆ replies/c ┆ comments │\n",
       "│ s         ┆ d         ┆ e         ┆ on        ┆   ┆ ation_rat ┆ likes/vie ┆ omment    ┆ /view    │\n",
       "│ ---       ┆ ---       ┆ ---       ┆ ---       ┆   ┆ io        ┆ ws        ┆ ---       ┆ ---      │\n",
       "│ str       ┆ str       ┆ str       ┆ str       ┆   ┆ ---       ┆ ---       ┆ f64       ┆ f64      │\n",
       "│           ┆           ┆           ┆           ┆   ┆ f64       ┆ f64       ┆           ┆          │\n",
       "╞═══════════╪═══════════╪═══════════╪═══════════╪═══╪═══════════╪═══════════╪═══════════╪══════════╡\n",
       "│ People &  ┆ UC1JAwKeD ┆ 2019-11-2 ┆ TX couple ┆ … ┆ 0.095238  ┆ 0.0       ┆ 0.0       ┆ 0.0      │\n",
       "│ Blogs     ┆ UjN2orv5t ┆ 0 06:49:0 ┆ welcomes  ┆   ┆           ┆           ┆           ┆          │\n",
       "│           ┆ 7LWODQ    ┆ 6.183498  ┆ twins     ┆   ┆           ┆           ┆           ┆          │\n",
       "│           ┆           ┆           ┆ durin…    ┆   ┆           ┆           ┆           ┆          │\n",
       "│ News &    ┆ UCaXkIU1Q ┆ 2019-11-0 ┆ Former    ┆ … ┆ 0.217391  ┆ 0.002234  ┆ 0.0       ┆ 0.0      │\n",
       "│ Politics  ┆ idjPwiAYu ┆ 6 18:56:5 ┆ U.S.      ┆   ┆           ┆           ┆           ┆          │\n",
       "│           ┆ 6GcHjg    ┆ 7.173170  ┆ Coast     ┆   ┆           ┆           ┆           ┆          │\n",
       "│           ┆           ┆           ┆ Guard     ┆   ┆           ┆           ┆           ┆          │\n",
       "│           ┆           ┆           ┆ Admira…   ┆   ┆           ┆           ┆           ┆          │\n",
       "└───────────┴───────────┴───────────┴───────────┴───┴───────────┴───────────┴───────────┴──────────┘"
      ]
     },
     "execution_count": 54,
     "metadata": {},
     "output_type": "execute_result"
    }
   ],
   "source": [
    "# add the response metrics for the event to the dataframe\n",
    "metadata_features__response_df = analysis_tools.create_response_metrics_df(metadata_features_df)\n",
    "response_columns = [\"view_count\", \"comments/view\", \"likes-dislikes/views\", \"replies/comment\"]\n",
    "# save the dataframe to a csv file\n",
    "metadata_features__response_df.write_csv(\"data/final_all_features_and_metrics.csv\", include_header=True, separator=\",\")\n",
    "metadata_features__response_df.sample(2)"
   ]
  },
  {
   "cell_type": "markdown",
   "metadata": {},
   "source": [
    "#### 2.2.1 Initial distributions of video metrics <a class=\"anchor\" id=\"status_quo-features-distributions\"></a>\n",
    "In this section we want to show the distributions of all available video metrics. These metrics will later be used to catergorize the videos and the user resopnse to them. The plots here below are show the overall distribution over the whole filtered dataset, they build the baseline we can compare the response to specific events against."
   ]
  },
  {
   "cell_type": "code",
   "execution_count": null,
   "metadata": {},
   "outputs": [],
   "source": [
    "#plotting numerical distributions\n",
    "analysis_tools.plot_video_stat(event_metadata, 'view_count')\n",
    "analysis_tools.plot_video_stat(event_metadata, 'duration')\n",
    "analysis_tools.plot_video_stat(event_metadata, 'like_count')\n",
    "analysis_tools.plot_video_stat(event_metadata, 'dislike_count')"
   ]
  },
  {
   "cell_type": "code",
   "execution_count": null,
   "metadata": {},
   "outputs": [],
   "source": [
    "#plotting common words\n",
    "analysis_tools.plot_most_common_tags(event_metadata, 30)\n",
    "analysis_tools.plot_most_common_words(event_metadata, 'title', 30)\n",
    "analysis_tools.plot_most_common_words(event_metadata, 'description', 30)"
   ]
  },
  {
   "cell_type": "code",
   "execution_count": null,
   "metadata": {},
   "outputs": [],
   "source": [
    "#plotting the length of titles and discriptions\n",
    "analysis_tools.plot_text_len_words(event_metadata, 'title')\n",
    "analysis_tools.plot_text_len_words(event_metadata, 'description')"
   ]
  },
  {
   "cell_type": "markdown",
   "metadata": {},
   "source": [
    "## 3 How does the public response to events <a class=\"anchor\" id=\"public_response\"></a>"
   ]
  },
  {
   "cell_type": "markdown",
   "metadata": {},
   "source": [
    "### 3.1 Compute Public Response Metrics <a class=\"anchor\" id=\"public_response-metrics\"></a>"
   ]
  },
  {
   "cell_type": "markdown",
   "metadata": {},
   "source": [
    "### 3.2 Compute Correlation between Video Features and Response Metrics for Different Groupings of the Data <a class=\"anchor\" id=\"public_response-correlation\"></a>"
   ]
  },
  {
   "cell_type": "code",
   "execution_count": 3,
   "metadata": {},
   "outputs": [],
   "source": [
    "#load the final features and metrics dataframe\n",
    "features_and_metrics = pl.read_csv(path_final_all_features_and_metrics, separator=\",\", has_header=True)"
   ]
  },
  {
   "cell_type": "code",
   "execution_count": 4,
   "metadata": {},
   "outputs": [],
   "source": [
    "#define the video features and metrics to be used in the analysis\n",
    "features = ['duration', 'is_footage', '_update_', '_breaking_', 'capitalisation_ratio', 'channel_activity', 'subjectivity']\n",
    "metrics = ['view_count', 'num_comments', 'replies/comment','likes-dislikes/views']"
   ]
  },
  {
   "cell_type": "code",
   "execution_count": 5,
   "metadata": {},
   "outputs": [
    {
     "name": "stderr",
     "output_type": "stream",
     "text": [
      "c:\\Users\\samue\\Desktop\\Box Sync\\3.Samuel\\Uni_24-25\\ADA\\ada-2024-project-lil0mohammadali\\src\\utils\\analysis_tools.py:605: ConstantInputWarning: An input array is constant; the correlation coefficient is not defined.\n",
      "  corr[i,j], pvals[i,j] = stats.pearsonr(df_standardized[i], df_standardized[j])\n"
     ]
    }
   ],
   "source": [
    "from src.utils.analysis_tools import compute_correlation_for_group\n",
    "\n",
    "#compute the correlation for the different event groupings\n",
    "#the how_to_group parameter can be set to 'event', 'event_type' or 'region'\n",
    "correlations, pvalues, list_of_event_groupings = compute_correlation_for_group(features_and_metrics, 'event', features, metrics, standardize=False)"
   ]
  },
  {
   "cell_type": "code",
   "execution_count": 7,
   "metadata": {},
   "outputs": [
    {
     "data": {
      "application/vnd.plotly.v1+json": {
       "config": {
        "plotlyServerURL": "https://plot.ly"
       },
       "data": [
        {
         "coloraxis": "coloraxis",
         "hovertemplate": "Features: %{x}<br>Metrics: %{y}<br>Correlation Coefficient: %{z}<extra></extra>",
         "name": "0",
         "texttemplate": "%{z:.2f}",
         "type": "heatmap",
         "visible": true,
         "x": [
          "duration",
          "is_footage",
          "_update_",
          "_breaking_",
          "capitalisation_ratio",
          "channel_activity",
          "subjectivity"
         ],
         "xaxis": "x",
         "y": [
          "view_count",
          "num_comments",
          "replies/comment",
          "likes-dislikes/views"
         ],
         "yaxis": "y",
         "z": [
          [
           0.33141847918421535,
           0,
           0,
           0,
           0.34573140016779413,
           -0.13066719822292636,
           -0.006756621412017844
          ],
          [
           0.7459544015115658,
           0,
           0,
           0,
           0.19639196686880825,
           -0.21532843088046194,
           0.14501940074625713
          ],
          [
           0.5775449429254206,
           0,
           0,
           0,
           0.06645912697898987,
           -0.09514637802783213,
           -0.18152670927410952
          ],
          [
           0.3127317734863194,
           0,
           0,
           0,
           -0.02195887807297669,
           -0.12266183038238346,
           0.1236680935868994
          ]
         ]
        },
        {
         "coloraxis": "coloraxis2",
         "hovertemplate": "Features: %{x}<br>Metrics: %{y}<br>p-value: %{z}<extra></extra>",
         "name": "0",
         "texttemplate": "%{z:.2f}",
         "type": "heatmap",
         "visible": true,
         "x": [
          "duration",
          "is_footage",
          "_update_",
          "_breaking_",
          "capitalisation_ratio",
          "channel_activity",
          "subjectivity"
         ],
         "xaxis": "x2",
         "y": [
          "view_count",
          "num_comments",
          "replies/comment",
          "likes-dislikes/views"
         ],
         "yaxis": "y2",
         "z": [
          [
           0.13188519756946063,
           1,
           1,
           1,
           0.11502169955686763,
           0.5621827239415527,
           0.976193325065662
          ],
          [
           0.00006731623905805439,
           1,
           1,
           1,
           0.38104870942797375,
           0.3358592422333342,
           0.5196309207534247
          ],
          [
           0.004882158982463845,
           1,
           1,
           1,
           0.7688725292390242,
           0.6736208631756724,
           0.41881091273419224
          ],
          [
           0.15646671842163332,
           1,
           1,
           1,
           0.9227300176454406,
           0.5865706995186228,
           0.5834804542033236
          ]
         ]
        },
        {
         "coloraxis": "coloraxis",
         "hovertemplate": "Features: %{x}<br>Metrics: %{y}<br>Correlation Coefficient: %{z}<extra></extra>",
         "name": "0",
         "texttemplate": "%{z:.2f}",
         "type": "heatmap",
         "visible": false,
         "x": [
          "duration",
          "is_footage",
          "_update_",
          "_breaking_",
          "capitalisation_ratio",
          "channel_activity",
          "subjectivity"
         ],
         "xaxis": "x",
         "y": [
          "view_count",
          "num_comments",
          "replies/comment",
          "likes-dislikes/views"
         ],
         "yaxis": "y",
         "z": [
          [
           0.003656573487274216,
           -0.0038439745727815,
           -0.01052056652830083,
           -0.00017699565515200328,
           0.021162258550857647,
           -0.050025994567091406,
           -0.0033589144811594068
          ],
          [
           -0.002424645373333554,
           -0.000337538750881208,
           -0.027278461762018993,
           0.04481669225983577,
           0.09366012432238895,
           -0.1797360301588025,
           0.012173060251593551
          ],
          [
           0.037297954044528195,
           -0.011990302663871863,
           -0.06154721211778795,
           0.08853098462824986,
           0.10850531012747425,
           -0.38380591873445835,
           0.025717990652057664
          ],
          [
           -0.009778044682215008,
           -0.01212762892770147,
           -0.0033398857529261814,
           0.130055281790644,
           0.19370906444564812,
           -0.2991311091108963,
           0.04207732316503842
          ]
         ]
        },
        {
         "coloraxis": "coloraxis2",
         "hovertemplate": "Features: %{x}<br>Metrics: %{y}<br>p-value: %{z}<extra></extra>",
         "name": "0",
         "texttemplate": "%{z:.2f}",
         "type": "heatmap",
         "visible": false,
         "x": [
          "duration",
          "is_footage",
          "_update_",
          "_breaking_",
          "capitalisation_ratio",
          "channel_activity",
          "subjectivity"
         ],
         "xaxis": "x2",
         "y": [
          "view_count",
          "num_comments",
          "replies/comment",
          "likes-dislikes/views"
         ],
         "yaxis": "y2",
         "z": [
          [
           0.8519373169674475,
           0.8444434973771334,
           0.5912484798604095,
           0.9927915431171576,
           0.2799955242385192,
           0.01061476395172009,
           0.8638673894349618
          ],
          [
           0.9015021202096111,
           0.9862536382346956,
           0.1637215274291764,
           0.02209227396029084,
           0.0000016567799136474146,
           2.2473020602502117e-20,
           0.5343457373252682
          ],
          [
           0.056844692385709335,
           0.5405005771997629,
           0.001663121437464444,
           0.000005957922163848121,
           2.7767052657614817e-8,
           2.7023224019767004e-92,
           0.18919345650368902
          ],
          [
           0.6176924449132386,
           0.5358724478090076,
           0.8646311404662061,
           2.612852079534356e-11,
           1.8201648290452868e-23,
           4.687449572569869e-55,
           0.03165417011071529
          ]
         ]
        },
        {
         "coloraxis": "coloraxis",
         "hovertemplate": "Features: %{x}<br>Metrics: %{y}<br>Correlation Coefficient: %{z}<extra></extra>",
         "name": "0",
         "texttemplate": "%{z:.2f}",
         "type": "heatmap",
         "visible": false,
         "x": [
          "duration",
          "is_footage",
          "_update_",
          "_breaking_",
          "capitalisation_ratio",
          "channel_activity",
          "subjectivity"
         ],
         "xaxis": "x",
         "y": [
          "view_count",
          "num_comments",
          "replies/comment",
          "likes-dislikes/views"
         ],
         "yaxis": "y",
         "z": [
          [
           0.7738713886757622,
           0,
           0,
           0,
           -0.16724330718615246,
           -0.6727825269253944,
           0.643961086586111
          ],
          [
           0,
           0,
           0,
           0,
           0,
           0,
           0
          ],
          [
           0,
           0,
           0,
           0,
           0,
           0,
           0
          ],
          [
           0.8062898330394656,
           0,
           0,
           0,
           -0.5668041062240231,
           -0.9771844398838543,
           0.69850605045399
          ]
         ]
        },
        {
         "coloraxis": "coloraxis2",
         "hovertemplate": "Features: %{x}<br>Metrics: %{y}<br>p-value: %{z}<extra></extra>",
         "name": "0",
         "texttemplate": "%{z:.2f}",
         "type": "heatmap",
         "visible": false,
         "x": [
          "duration",
          "is_footage",
          "_update_",
          "_breaking_",
          "capitalisation_ratio",
          "channel_activity",
          "subjectivity"
         ],
         "xaxis": "x2",
         "y": [
          "view_count",
          "num_comments",
          "replies/comment",
          "likes-dislikes/views"
         ],
         "yaxis": "y2",
         "z": [
          [
           0.003140036704722865,
           1,
           1,
           1,
           0.6033925959376865,
           0.0165079908139286,
           0.02382813924142195
          ],
          [
           1,
           1,
           1,
           1,
           1,
           1,
           1
          ],
          [
           1,
           1,
           1,
           1,
           1,
           1,
           1
          ],
          [
           0.0015360249187760793,
           1,
           1,
           1,
           0.05464835760479497,
           4.6861874135181e-8,
           0.011508096908986595
          ]
         ]
        },
        {
         "coloraxis": "coloraxis",
         "hovertemplate": "Features: %{x}<br>Metrics: %{y}<br>Correlation Coefficient: %{z}<extra></extra>",
         "name": "0",
         "texttemplate": "%{z:.2f}",
         "type": "heatmap",
         "visible": false,
         "x": [
          "duration",
          "is_footage",
          "_update_",
          "_breaking_",
          "capitalisation_ratio",
          "channel_activity",
          "subjectivity"
         ],
         "xaxis": "x",
         "y": [
          "view_count",
          "num_comments",
          "replies/comment",
          "likes-dislikes/views"
         ],
         "yaxis": "y",
         "z": [
          [
           0.089454476376464,
           0,
           0.07113851380307853,
           0.34803747332871215,
           0.12031403979223178,
           -0.4325821873196033,
           -0.2790997616502291
          ],
          [
           0.20187075094170193,
           0,
           -0.050665390927851064,
           0.5977779123736895,
           0.22732515352484434,
           -0.5489251427486952,
           -0.4148665544083775
          ],
          [
           0.2345849580009311,
           0,
           0.002429391278498255,
           0.25426022816474175,
           0.07779987525346535,
           -0.5508317582500273,
           -0.28490505988156584
          ],
          [
           0.28449702968904894,
           0,
           -0.18605130597217429,
           0.2883260300037631,
           0.38278249547249243,
           -0.520134044803299,
           -0.1675336545632135
          ]
         ]
        },
        {
         "coloraxis": "coloraxis2",
         "hovertemplate": "Features: %{x}<br>Metrics: %{y}<br>p-value: %{z}<extra></extra>",
         "name": "0",
         "texttemplate": "%{z:.2f}",
         "type": "heatmap",
         "visible": false,
         "x": [
          "duration",
          "is_footage",
          "_update_",
          "_breaking_",
          "capitalisation_ratio",
          "channel_activity",
          "subjectivity"
         ],
         "xaxis": "x2",
         "y": [
          "view_count",
          "num_comments",
          "replies/comment",
          "likes-dislikes/views"
         ],
         "yaxis": "y2",
         "z": [
          [
           0.3964448520566408,
           1,
           0.5003991917350475,
           0.0006749575787631148,
           0.25329247833784896,
           0.00001659607938020913,
           0.007055999684767679
          ],
          [
           0.053641649441058564,
           1,
           0.6314911158665056,
           3.1489000257832873e-10,
           0.029314542073120366,
           1.46660861596875e-8,
           0.00003926645727590857
          ],
          [
           0.024398075697117858,
           1,
           0.98166356752784,
           0.014454243275130675,
           0.4610338289357677,
           1.276926404318903e-8,
           0.00591160801590553
          ],
          [
           0.005986303536823114,
           1,
           0.07578558709299978,
           0.005317141512359298,
           0.0001660129772615533,
           1.0731349468431879e-7,
           0.11043087263337034
          ]
         ]
        },
        {
         "coloraxis": "coloraxis",
         "hovertemplate": "Features: %{x}<br>Metrics: %{y}<br>Correlation Coefficient: %{z}<extra></extra>",
         "name": "0",
         "texttemplate": "%{z:.2f}",
         "type": "heatmap",
         "visible": false,
         "x": [
          "duration",
          "is_footage",
          "_update_",
          "_breaking_",
          "capitalisation_ratio",
          "channel_activity",
          "subjectivity"
         ],
         "xaxis": "x",
         "y": [
          "view_count",
          "num_comments",
          "replies/comment",
          "likes-dislikes/views"
         ],
         "yaxis": "y",
         "z": [
          [
           -0.015218315262010007,
           0,
           0,
           0,
           0.33556162302959436,
           0.4516308999353237,
           -0.21752714381076677
          ],
          [
           -0.061064540770049136,
           0,
           0,
           0,
           0.41630703942154235,
           0.4412984015488532,
           -0.17721094942875876
          ],
          [
           -0.036682478637253074,
           0,
           0,
           0,
           0.6525572139011027,
           0.13152164909838038,
           0.10366769021692657
          ],
          [
           0.0945142134399747,
           0,
           0,
           0,
           0.4287733116483954,
           0.17676894328291748,
           0.057255189315222776
          ]
         ]
        },
        {
         "coloraxis": "coloraxis2",
         "hovertemplate": "Features: %{x}<br>Metrics: %{y}<br>p-value: %{z}<extra></extra>",
         "name": "0",
         "texttemplate": "%{z:.2f}",
         "type": "heatmap",
         "visible": false,
         "x": [
          "duration",
          "is_footage",
          "_update_",
          "_breaking_",
          "capitalisation_ratio",
          "channel_activity",
          "subjectivity"
         ],
         "xaxis": "x2",
         "y": [
          "view_count",
          "num_comments",
          "replies/comment",
          "likes-dislikes/views"
         ],
         "yaxis": "y2",
         "z": [
          [
           0.974167577205393,
           1,
           1,
           1,
           0.46185638266742174,
           0.30902667933686306,
           0.6393890223477082
          ],
          [
           0.8965267873819251,
           1,
           1,
           1,
           0.35287196648458646,
           0.3215935904330547,
           0.7038588022098095
          ],
          [
           0.9377677798285314,
           1,
           1,
           1,
           0.11210959541709134,
           0.7786480187274633,
           0.8249524273346863
          ],
          [
           0.8402633817402291,
           1,
           1,
           1,
           0.3371155701563948,
           0.7045741940679152,
           0.9029598108712891
          ]
         ]
        },
        {
         "coloraxis": "coloraxis",
         "hovertemplate": "Features: %{x}<br>Metrics: %{y}<br>Correlation Coefficient: %{z}<extra></extra>",
         "name": "0",
         "texttemplate": "%{z:.2f}",
         "type": "heatmap",
         "visible": false,
         "x": [
          "duration",
          "is_footage",
          "_update_",
          "_breaking_",
          "capitalisation_ratio",
          "channel_activity",
          "subjectivity"
         ],
         "xaxis": "x",
         "y": [
          "view_count",
          "num_comments",
          "replies/comment",
          "likes-dislikes/views"
         ],
         "yaxis": "y",
         "z": [
          [
           0.047411683789670075,
           -0.007144412446963055,
           0.019504345068988516,
           -0.005670200024163649,
           0.08328488044107438,
           -0.06288474307429363,
           0.012430489101825115
          ],
          [
           0.020063262183136747,
           -0.006851224597146554,
           -0.008578623913021045,
           0.0013977159517846792,
           0.16218343987517755,
           -0.12448623868338264,
           -0.00003869689010821409
          ],
          [
           0.07434294192636128,
           0.013671847946809972,
           0.00868008415665371,
           0.0056473332934645635,
           0.19563168051575647,
           -0.20468843231590592,
           -0.0007681786858372147
          ],
          [
           0.00432333601626156,
           -0.0192579929965973,
           -0.024282881537401504,
           0.015848232939965495,
           0.1279355807425806,
           -0.16344985211908286,
           0.07415725351656352
          ]
         ]
        },
        {
         "coloraxis": "coloraxis2",
         "hovertemplate": "Features: %{x}<br>Metrics: %{y}<br>p-value: %{z}<extra></extra>",
         "name": "0",
         "texttemplate": "%{z:.2f}",
         "type": "heatmap",
         "visible": false,
         "x": [
          "duration",
          "is_footage",
          "_update_",
          "_breaking_",
          "capitalisation_ratio",
          "channel_activity",
          "subjectivity"
         ],
         "xaxis": "x2",
         "y": [
          "view_count",
          "num_comments",
          "replies/comment",
          "likes-dislikes/views"
         ],
         "yaxis": "y2",
         "z": [
          [
           0.010690652143754658,
           0.7006488948121906,
           0.2938902195087123,
           0.7602785140326316,
           0.000007144151376782234,
           0.0007061729515021191,
           0.5035537805333444
          ],
          [
           0.2802714215517474,
           0.712375427216176,
           0.6443517220642537,
           0.940046893227896,
           1.5596327363005298e-18,
           1.758838768244855e-11,
           0.9983385870172452
          ],
          [
           0.00006177478351588883,
           0.46190447510736043,
           0.6404406167440709,
           0.7612158222156619,
           2.1662580783049786e-26,
           8.733355692673835e-29,
           0.9670283633222431
          ],
          [
           0.8160416215353689,
           0.3000315041843346,
           0.19126334754236676,
           0.39374548336307774,
           4.7579279906104275e-12,
           8.381712001782533e-19,
           0.0000644507334440828
          ]
         ]
        },
        {
         "coloraxis": "coloraxis",
         "hovertemplate": "Features: %{x}<br>Metrics: %{y}<br>Correlation Coefficient: %{z}<extra></extra>",
         "name": "0",
         "texttemplate": "%{z:.2f}",
         "type": "heatmap",
         "visible": false,
         "x": [
          "duration",
          "is_footage",
          "_update_",
          "_breaking_",
          "capitalisation_ratio",
          "channel_activity",
          "subjectivity"
         ],
         "xaxis": "x",
         "y": [
          "view_count",
          "num_comments",
          "replies/comment",
          "likes-dislikes/views"
         ],
         "yaxis": "y",
         "z": [
          [
           0.033001877206119794,
           0,
           -0.01878272121093147,
           -0.014884962410841949,
           0.06731959706412255,
           -0.03953156360272362,
           -0.03684073732038773
          ],
          [
           0.0008858450000032141,
           0,
           -0.028622962635783643,
           -0.02016876452590255,
           0.13097136635027534,
           -0.0933055123492075,
           -0.07592351931505786
          ],
          [
           -0.00502165287249357,
           0,
           -0.06284551604687341,
           -0.044283201246037525,
           0.3189051097218275,
           -0.20282519969020482,
           -0.127785892736342
          ],
          [
           -0.02188157191274473,
           0,
           -0.06842637910266314,
           0.04237461548604412,
           0.09631812492725444,
           -0.41994619510071607,
           -0.14337435673024973
          ]
         ]
        },
        {
         "coloraxis": "coloraxis2",
         "hovertemplate": "Features: %{x}<br>Metrics: %{y}<br>p-value: %{z}<extra></extra>",
         "name": "0",
         "texttemplate": "%{z:.2f}",
         "type": "heatmap",
         "visible": false,
         "x": [
          "duration",
          "is_footage",
          "_update_",
          "_breaking_",
          "capitalisation_ratio",
          "channel_activity",
          "subjectivity"
         ],
         "xaxis": "x2",
         "y": [
          "view_count",
          "num_comments",
          "replies/comment",
          "likes-dislikes/views"
         ],
         "yaxis": "y2",
         "z": [
          [
           0.49339057585022783,
           1,
           0.6967231256353352,
           0.7574297230367697,
           0.162002751595326,
           0.41190750059249504,
           0.4444801786562914
          ],
          [
           0.9853357398229866,
           1,
           0.5525085798659367,
           0.6755712041953373,
           0.006348340586192942,
           0.05235734790524249,
           0.11466283726721202
          ],
          [
           0.9170166442575678,
           1,
           0.19181087679417244,
           0.3579590427852844,
           1.0829330525987966e-11,
           0.000021130282376091025,
           0.007761136623091029
          ],
          [
           0.6497826303033445,
           1,
           0.15519724887185332,
           0.37907338987180633,
           0.04516483296745375,
           6.290674745701923e-20,
           0.0027873436577448164
          ]
         ]
        },
        {
         "coloraxis": "coloraxis",
         "hovertemplate": "Features: %{x}<br>Metrics: %{y}<br>Correlation Coefficient: %{z}<extra></extra>",
         "name": "0",
         "texttemplate": "%{z:.2f}",
         "type": "heatmap",
         "visible": false,
         "x": [
          "duration",
          "is_footage",
          "_update_",
          "_breaking_",
          "capitalisation_ratio",
          "channel_activity",
          "subjectivity"
         ],
         "xaxis": "x",
         "y": [
          "view_count",
          "num_comments",
          "replies/comment",
          "likes-dislikes/views"
         ],
         "yaxis": "y",
         "z": [
          [
           0.19321309139622095,
           0,
           -0.034274435172414346,
           0,
           0.17713535906030584,
           -0.11524472445265668,
           0.13729885536847108
          ],
          [
           0.1238285870515349,
           0,
           -0.043880101213023194,
           0,
           0.14131370607875599,
           -0.25092360680284587,
           0.04977300068488638
          ],
          [
           0.11382745562029015,
           0,
           0.1830838270775122,
           0,
           -0.014603831357714515,
           -0.07826203790478045,
           -0.13164414896201876
          ],
          [
           0.3662352165526731,
           0,
           0.01665997106803904,
           0,
           0.39058355477363693,
           -0.40401611477446675,
           0.12397326941966075
          ]
         ]
        },
        {
         "coloraxis": "coloraxis2",
         "hovertemplate": "Features: %{x}<br>Metrics: %{y}<br>p-value: %{z}<extra></extra>",
         "name": "0",
         "texttemplate": "%{z:.2f}",
         "type": "heatmap",
         "visible": false,
         "x": [
          "duration",
          "is_footage",
          "_update_",
          "_breaking_",
          "capitalisation_ratio",
          "channel_activity",
          "subjectivity"
         ],
         "xaxis": "x2",
         "y": [
          "view_count",
          "num_comments",
          "replies/comment",
          "likes-dislikes/views"
         ],
         "yaxis": "y2",
         "z": [
          [
           0.13910920495265455,
           1,
           0.7948790668390451,
           1,
           0.17575045580906612,
           0.38057905261015457,
           0.29551284357402313
          ],
          [
           0.34587044200393496,
           1,
           0.7392065975455223,
           1,
           0.28147991720369797,
           0.053135073210434286,
           0.7056802083881133
          ],
          [
           0.3865035821435199,
           1,
           0.16145475555014122,
           1,
           0.9118169421320157,
           0.5522609354529586,
           0.3160382149118175
          ],
          [
           0.004003475079984031,
           1,
           0.8994614858616148,
           1,
           0.0020330299505554126,
           0.001367965569397054,
           0.3453028022542412
          ]
         ]
        },
        {
         "coloraxis": "coloraxis",
         "hovertemplate": "Features: %{x}<br>Metrics: %{y}<br>Correlation Coefficient: %{z}<extra></extra>",
         "name": "0",
         "texttemplate": "%{z:.2f}",
         "type": "heatmap",
         "visible": false,
         "x": [
          "duration",
          "is_footage",
          "_update_",
          "_breaking_",
          "capitalisation_ratio",
          "channel_activity",
          "subjectivity"
         ],
         "xaxis": "x",
         "y": [
          "view_count",
          "num_comments",
          "replies/comment",
          "likes-dislikes/views"
         ],
         "yaxis": "y",
         "z": [
          [
           0.013339032463485098,
           -0.005832649239413911,
           -0.014872944821735134,
           0.002164918026086267,
           0.09268687235310027,
           -0.023143263835280432,
           -0.012585559211660175
          ],
          [
           0.019258395382311822,
           -0.006280916241912696,
           -0.01796204117674229,
           -0.009614246096657992,
           0.10238738354624594,
           -0.024826294106678998,
           -0.016621745395508446
          ],
          [
           0.06472262392565885,
           -0.023142929322851065,
           -0.06618369572794972,
           -0.03542505732247997,
           0.16080267479167193,
           -0.13601563216320628,
           0.032495435209279264
          ],
          [
           0.18168036570714863,
           -0.021265923650367436,
           -0.08690160432846353,
           -0.04038780610213258,
           0.2829020047898403,
           -0.21520412261332417,
           0.01787561119503684
          ]
         ]
        },
        {
         "coloraxis": "coloraxis2",
         "hovertemplate": "Features: %{x}<br>Metrics: %{y}<br>p-value: %{z}<extra></extra>",
         "name": "0",
         "texttemplate": "%{z:.2f}",
         "type": "heatmap",
         "visible": false,
         "x": [
          "duration",
          "is_footage",
          "_update_",
          "_breaking_",
          "capitalisation_ratio",
          "channel_activity",
          "subjectivity"
         ],
         "xaxis": "x2",
         "y": [
          "view_count",
          "num_comments",
          "replies/comment",
          "likes-dislikes/views"
         ],
         "yaxis": "y2",
         "z": [
          [
           0.6788257937728605,
           0.856329340093042,
           0.644306381521126,
           0.9464226598981158,
           0.003936115816813018,
           0.47246751096118267,
           0.6960374899764301
          ],
          [
           0.549945507089616,
           0.8454215706676808,
           0.5771229507225009,
           0.765370442336834,
           0.0014399924410444839,
           0.44086439504681096,
           0.6058686689337535
          ],
          [
           0.04431294371665274,
           0.4724739136606647,
           0.03972309233190613,
           0.27135408180722126,
           5.058202574188922e-7,
           0.0000221840460184309,
           0.31300606721248597
          ],
          [
           1.2943888618576224e-8,
           0.5091413581960658,
           0.006880655729152919,
           0.209783389201227,
           3.099062741877789e-19,
           1.3860988073798748e-11,
           0.5789571494680611
          ]
         ]
        },
        {
         "coloraxis": "coloraxis",
         "hovertemplate": "Features: %{x}<br>Metrics: %{y}<br>Correlation Coefficient: %{z}<extra></extra>",
         "name": "0",
         "texttemplate": "%{z:.2f}",
         "type": "heatmap",
         "visible": false,
         "x": [
          "duration",
          "is_footage",
          "_update_",
          "_breaking_",
          "capitalisation_ratio",
          "channel_activity",
          "subjectivity"
         ],
         "xaxis": "x",
         "y": [
          "view_count",
          "num_comments",
          "replies/comment",
          "likes-dislikes/views"
         ],
         "yaxis": "y",
         "z": [
          [
           -0.025418904729110993,
           0.0007919048758361059,
           -0.00539727553080479,
           0.01959288017745725,
           0.10546484280486085,
           -0.015827673119542012,
           -0.008921068496607665
          ],
          [
           -0.021975861471560082,
           0.015972664503951215,
           -0.010165400157316295,
           0.03396059346114907,
           0.11325203696014134,
           -0.021324196702161104,
           -0.033414394393760705
          ],
          [
           -0.07066860122784716,
           0.14776569185034208,
           -0.00472480115438801,
           0.0302612997807332,
           0.128438133439994,
           0.20583203874434522,
           -0.04658976096188872
          ],
          [
           0.19398428961266106,
           -0.062069245683648196,
           -0.04330581885259575,
           0.0029074587043922094,
           0.28699858779816123,
           -0.17005144841429576,
           -0.017535243238278028
          ]
         ]
        },
        {
         "coloraxis": "coloraxis2",
         "hovertemplate": "Features: %{x}<br>Metrics: %{y}<br>p-value: %{z}<extra></extra>",
         "name": "0",
         "texttemplate": "%{z:.2f}",
         "type": "heatmap",
         "visible": false,
         "x": [
          "duration",
          "is_footage",
          "_update_",
          "_breaking_",
          "capitalisation_ratio",
          "channel_activity",
          "subjectivity"
         ],
         "xaxis": "x2",
         "y": [
          "view_count",
          "num_comments",
          "replies/comment",
          "likes-dislikes/views"
         ],
         "yaxis": "y2",
         "z": [
          [
           0.5268820815778309,
           0.9842744532874175,
           0.8931354036435444,
           0.6257560314892634,
           0.00847991102132016,
           0.6936019479490161,
           0.8242767654376632
          ],
          [
           0.5843512487957417,
           0.6909389463107767,
           0.8002520489577298,
           0.39782338548752816,
           0.004685162259249551,
           0.5955473182810397,
           0.4054605328210763
          ],
          [
           0.07821692861215525,
           0.0002171571354654044,
           0.9063847413694732,
           0.45122816887837947,
           0.0013268915715653532,
           2.2348272409114828e-7,
           0.24595187745949615
          ],
          [
           0.0000010902902110251475,
           0.12201283120208721,
           0.2808653591469209,
           0.9423105582013009,
           2.933953950169108e-13,
           0.000020113100044662515,
           0.6624873656282486
          ]
         ]
        },
        {
         "coloraxis": "coloraxis",
         "hovertemplate": "Features: %{x}<br>Metrics: %{y}<br>Correlation Coefficient: %{z}<extra></extra>",
         "name": "0",
         "texttemplate": "%{z:.2f}",
         "type": "heatmap",
         "visible": false,
         "x": [
          "duration",
          "is_footage",
          "_update_",
          "_breaking_",
          "capitalisation_ratio",
          "channel_activity",
          "subjectivity"
         ],
         "xaxis": "x",
         "y": [
          "view_count",
          "num_comments",
          "replies/comment",
          "likes-dislikes/views"
         ],
         "yaxis": "y",
         "z": [
          [
           0.15677133280980093,
           -0.007699320465008415,
           -0.015269675912501652,
           -0.00494071622183629,
           -0.009914074888888671,
           -0.10979663485214743,
           -0.038217861565540696
          ],
          [
           0.002443438672318478,
           0.008035821937028703,
           -0.016917308633024677,
           0.004596093612000269,
           0.00654560542779859,
           -0.13355249608778186,
           -0.06642479432247599
          ],
          [
           0.0364335278804344,
           0.07433895661275905,
           -0.010766816076346978,
           0.04181451324505978,
           0.07543353268038205,
           -0.24723654297600275,
           -0.10496712527660618
          ],
          [
           -0.04284992892800883,
           -0.01875750573679357,
           -0.040370242883279006,
           0.01690181135336888,
           0.05051387684133603,
           -0.05617851772370016,
           0.012411137178297211
          ]
         ]
        },
        {
         "coloraxis": "coloraxis2",
         "hovertemplate": "Features: %{x}<br>Metrics: %{y}<br>p-value: %{z}<extra></extra>",
         "name": "0",
         "texttemplate": "%{z:.2f}",
         "type": "heatmap",
         "visible": false,
         "x": [
          "duration",
          "is_footage",
          "_update_",
          "_breaking_",
          "capitalisation_ratio",
          "channel_activity",
          "subjectivity"
         ],
         "xaxis": "x2",
         "y": [
          "view_count",
          "num_comments",
          "replies/comment",
          "likes-dislikes/views"
         ],
         "yaxis": "y2",
         "z": [
          [
           7.227766454512246e-8,
           0.7926629250382806,
           0.6021380922237876,
           0.8660528948665,
           0.7350097089123808,
           0.0001700724969735184,
           0.19182049011846555
          ],
          [
           0.9335194090264578,
           0.7838212404274311,
           0.5635419972267377,
           0.8753167194558462,
           0.8231731712237528,
           0.0000046511834959080265,
           0.023194744196598387
          ],
          [
           0.21341394770763564,
           0.011040761743450379,
           0.7131837993928715,
           0.1532492863799201,
           0.009910623145066268,
           9.998573374968793e-18,
           0.0003263309338221827
          ],
          [
           0.14331858122990154,
           0.5218952038361453,
           0.1679629595463602,
           0.5638994091587166,
           0.08441647750237101,
           0.05493144973478005,
           0.6717661152398281
          ]
         ]
        },
        {
         "coloraxis": "coloraxis",
         "hovertemplate": "Features: %{x}<br>Metrics: %{y}<br>Correlation Coefficient: %{z}<extra></extra>",
         "name": "0",
         "texttemplate": "%{z:.2f}",
         "type": "heatmap",
         "visible": false,
         "x": [
          "duration",
          "is_footage",
          "_update_",
          "_breaking_",
          "capitalisation_ratio",
          "channel_activity",
          "subjectivity"
         ],
         "xaxis": "x",
         "y": [
          "view_count",
          "num_comments",
          "replies/comment",
          "likes-dislikes/views"
         ],
         "yaxis": "y",
         "z": [
          [
           -0.034398728464375763,
           0,
           -0.022667191898224956,
           0,
           0.0422417009646124,
           0.7893988917986454,
           0.36823001206268235
          ],
          [
           -0.08011656938981461,
           0,
           -0.016266870058903225,
           0,
           0.030437329103616222,
           0.7893544688721013,
           0.3631528164847871
          ],
          [
           -0.07909148810784322,
           0,
           -0.016493454438393007,
           0,
           0.03167924094799059,
           0.7893685412355861,
           0.3601933421722201
          ],
          [
           0.09880316122835908,
           0,
           -0.014407986941277921,
           0,
           0.101786045926029,
           -0.06538190275873021,
           -0.04169997931882812
          ]
         ]
        },
        {
         "coloraxis": "coloraxis2",
         "hovertemplate": "Features: %{x}<br>Metrics: %{y}<br>p-value: %{z}<extra></extra>",
         "name": "0",
         "texttemplate": "%{z:.2f}",
         "type": "heatmap",
         "visible": false,
         "x": [
          "duration",
          "is_footage",
          "_update_",
          "_breaking_",
          "capitalisation_ratio",
          "channel_activity",
          "subjectivity"
         ],
         "xaxis": "x2",
         "y": [
          "view_count",
          "num_comments",
          "replies/comment",
          "likes-dislikes/views"
         ],
         "yaxis": "y2",
         "z": [
          [
           0.7758063325295396,
           1,
           0.8511659020077503,
           1,
           0.7265088820952362,
           2.8695207612794427e-16,
           0.001580419352361777
          ],
          [
           0.5065876011770518,
           1,
           0.8928941284633294,
           1,
           0.8010599825164205,
           2.888157699529019e-16,
           0.001854023096618576
          ],
          [
           0.5120585426633466,
           1,
           0.8914112112339728,
           1,
           0.7931196390391106,
           2.8822412842568787e-16,
           0.002032466044923889
          ],
          [
           0.4123521614989034,
           1,
           0.9050732582420191,
           1,
           0.3983131759558653,
           0.5880120288680368,
           0.7298811015627603
          ]
         ]
        },
        {
         "coloraxis": "coloraxis",
         "hovertemplate": "Features: %{x}<br>Metrics: %{y}<br>Correlation Coefficient: %{z}<extra></extra>",
         "name": "0",
         "texttemplate": "%{z:.2f}",
         "type": "heatmap",
         "visible": false,
         "x": [
          "duration",
          "is_footage",
          "_update_",
          "_breaking_",
          "capitalisation_ratio",
          "channel_activity",
          "subjectivity"
         ],
         "xaxis": "x",
         "y": [
          "view_count",
          "num_comments",
          "replies/comment",
          "likes-dislikes/views"
         ],
         "yaxis": "y",
         "z": [
          [
           0.31602469595613725,
           0,
           0,
           0,
           0.2638257233304353,
           -0.1802218440397553,
           0.20512756018717843
          ],
          [
           0.29834385751150166,
           0,
           0,
           0,
           0.26888499107328495,
           -0.13885801492763303,
           0.18548045277832623
          ],
          [
           0.4270741204485876,
           0,
           0,
           0,
           0.363298150627016,
           -0.2022054434727618,
           0.11807196885207476
          ],
          [
           0.21738758611888928,
           0,
           0,
           0,
           0.4356861809272055,
           -0.36127316025824346,
           -0.006455355838911535
          ]
         ]
        },
        {
         "coloraxis": "coloraxis2",
         "hovertemplate": "Features: %{x}<br>Metrics: %{y}<br>p-value: %{z}<extra></extra>",
         "name": "0",
         "texttemplate": "%{z:.2f}",
         "type": "heatmap",
         "visible": false,
         "x": [
          "duration",
          "is_footage",
          "_update_",
          "_breaking_",
          "capitalisation_ratio",
          "channel_activity",
          "subjectivity"
         ],
         "xaxis": "x2",
         "y": [
          "view_count",
          "num_comments",
          "replies/comment",
          "likes-dislikes/views"
         ],
         "yaxis": "y2",
         "z": [
          [
           0.08328346717560918,
           1,
           1,
           1,
           0.1515415064164858,
           0.3319606237137084,
           0.26829776652285514
          ],
          [
           0.10305569643569766,
           1,
           1,
           1,
           0.14356056896345365,
           0.4562850335563756,
           0.3178063690781603
          ],
          [
           0.016566840042135392,
           1,
           1,
           1,
           0.0445513786951759,
           0.2753237875759931,
           0.5269945222795531
          ],
          [
           0.24009977202073843,
           1,
           1,
           1,
           0.014289108973866455,
           0.045842298427500774,
           0.9725062084603447
          ]
         ]
        },
        {
         "coloraxis": "coloraxis",
         "hovertemplate": "Features: %{x}<br>Metrics: %{y}<br>Correlation Coefficient: %{z}<extra></extra>",
         "name": "0",
         "texttemplate": "%{z:.2f}",
         "type": "heatmap",
         "visible": false,
         "x": [
          "duration",
          "is_footage",
          "_update_",
          "_breaking_",
          "capitalisation_ratio",
          "channel_activity",
          "subjectivity"
         ],
         "xaxis": "x",
         "y": [
          "view_count",
          "num_comments",
          "replies/comment",
          "likes-dislikes/views"
         ],
         "yaxis": "y",
         "z": [
          [
           -0.21547121857871818,
           0,
           -0.08682819878941192,
           0,
           0.22231757697048224,
           0.1571441545102376,
           0.18036107708315102
          ],
          [
           0.0009733322749941216,
           0,
           -0.05470788193180684,
           0,
           0.11132600921590094,
           -0.12043698467910974,
           0.18239220326424566
          ],
          [
           -0.00026970341631984973,
           0,
           -0.06613022240308546,
           0,
           0.1304033583348551,
           -0.17956710064675152,
           0.02617615765482481
          ],
          [
           -0.11994011168930474,
           0,
           0.045104469191868876,
           0,
           0.301483617331379,
           0.08482478279243746,
           0.011084890143159262
          ]
         ]
        },
        {
         "coloraxis": "coloraxis2",
         "hovertemplate": "Features: %{x}<br>Metrics: %{y}<br>p-value: %{z}<extra></extra>",
         "name": "0",
         "texttemplate": "%{z:.2f}",
         "type": "heatmap",
         "visible": false,
         "x": [
          "duration",
          "is_footage",
          "_update_",
          "_breaking_",
          "capitalisation_ratio",
          "channel_activity",
          "subjectivity"
         ],
         "xaxis": "x2",
         "y": [
          "view_count",
          "num_comments",
          "replies/comment",
          "likes-dislikes/views"
         ],
         "yaxis": "y2",
         "z": [
          [
           0.24437149581505863,
           1,
           0.6423244691840093,
           1,
           0.22934057885623338,
           0.39852964786086487,
           0.33158096272186083
          ],
          [
           0.9958537531324995,
           1,
           0.7700556018964094,
           1,
           0.551025988011462,
           0.5186912648381524,
           0.32607274125291846
          ],
          [
           0.9988511001072213,
           1,
           0.7237481226949053,
           1,
           0.4844188672229345,
           0.3337495448643714,
           0.8888360242488802
          ],
          [
           0.5204303913359178,
           1,
           0.8096066895095806,
           1,
           0.09930862217853029,
           0.6500480339087945,
           0.9528059570161193
          ]
         ]
        },
        {
         "coloraxis": "coloraxis",
         "hovertemplate": "Features: %{x}<br>Metrics: %{y}<br>Correlation Coefficient: %{z}<extra></extra>",
         "name": "0",
         "texttemplate": "%{z:.2f}",
         "type": "heatmap",
         "visible": false,
         "x": [
          "duration",
          "is_footage",
          "_update_",
          "_breaking_",
          "capitalisation_ratio",
          "channel_activity",
          "subjectivity"
         ],
         "xaxis": "x",
         "y": [
          "view_count",
          "num_comments",
          "replies/comment",
          "likes-dislikes/views"
         ],
         "yaxis": "y",
         "z": [
          [
           -0.0689826638712538,
           -0.018106861808952403,
           -0.04804666069766925,
           -0.021317617950785937,
           -0.023446725428667946,
           -0.0401547509293432,
           -0.1304651334260961
          ],
          [
           -0.02345431607065405,
           -0.03914277422365724,
           -0.0996709928940025,
           -0.03914277422365724,
           0.3871314779033112,
           -0.057699930273083275,
           -0.0718209153068357
          ],
          [
           -0.01917301336682714,
           -0.04890608752875684,
           -0.12453175328605373,
           -0.04890608752875684,
           0.388844626543243,
           -0.1009699027000408,
           0.08714367707255063
          ],
          [
           0.1220533436654051,
           -0.07021896595850001,
           -0.09008987440615146,
           -0.11542578712019172,
           0.01895816264949059,
           0.14826574966282408,
           0.1046407090588619
          ]
         ]
        },
        {
         "coloraxis": "coloraxis2",
         "hovertemplate": "Features: %{x}<br>Metrics: %{y}<br>p-value: %{z}<extra></extra>",
         "name": "0",
         "texttemplate": "%{z:.2f}",
         "type": "heatmap",
         "visible": false,
         "x": [
          "duration",
          "is_footage",
          "_update_",
          "_breaking_",
          "capitalisation_ratio",
          "channel_activity",
          "subjectivity"
         ],
         "xaxis": "x2",
         "y": [
          "view_count",
          "num_comments",
          "replies/comment",
          "likes-dislikes/views"
         ],
         "yaxis": "y2",
         "z": [
          [
           0.5761850206408716,
           0.883481897668747,
           0.6972153252949161,
           0.8630051254623918,
           0.8494751903651034,
           0.7450927279152273,
           0.28894558448565344
          ],
          [
           0.8494270287684639,
           0.7513067415622381,
           0.4186954510909243,
           0.7513067415622381,
           0.0011088085495356585,
           0.6402322052514557,
           0.5605514277319689
          ],
          [
           0.8766733382212086,
           0.6920680380237845,
           0.3116233045593175,
           0.6920680380237845,
           0.0010490276908395753,
           0.4126271044205352,
           0.47979748279148515
          ],
          [
           0.32142637757991305,
           0.5693505656947291,
           0.46501465895333205,
           0.3485957286683104,
           0.8780446973691618,
           0.2275686050921627,
           0.3957553370745187
          ]
         ]
        },
        {
         "coloraxis": "coloraxis",
         "hovertemplate": "Features: %{x}<br>Metrics: %{y}<br>Correlation Coefficient: %{z}<extra></extra>",
         "name": "0",
         "texttemplate": "%{z:.2f}",
         "type": "heatmap",
         "visible": false,
         "x": [
          "duration",
          "is_footage",
          "_update_",
          "_breaking_",
          "capitalisation_ratio",
          "channel_activity",
          "subjectivity"
         ],
         "xaxis": "x",
         "y": [
          "view_count",
          "num_comments",
          "replies/comment",
          "likes-dislikes/views"
         ],
         "yaxis": "y",
         "z": [
          [
           0.022821105915928987,
           0,
           -0.014391245867719818,
           -0.004115971129281828,
           0.07437724327331102,
           -0.07937801278977898,
           -0.04075518524088628
          ],
          [
           0.1002363470028739,
           0,
           -0.019954876026588422,
           -0.008848462594828209,
           0.049625646655136454,
           -0.04859782448824243,
           0.0555666139977753
          ],
          [
           0.08236953536275805,
           0,
           -0.02976061112796506,
           -0.013196556772096772,
           0.11095558595173192,
           -0.07449817405631548,
           0.019682280624453666
          ],
          [
           -0.014075129320254585,
           0,
           -0.005387937258681055,
           0.004842486509689638,
           0.12078877916176867,
           -0.0677893662747592,
           -0.002664926269082553
          ]
         ]
        },
        {
         "coloraxis": "coloraxis2",
         "hovertemplate": "Features: %{x}<br>Metrics: %{y}<br>p-value: %{z}<extra></extra>",
         "name": "0",
         "texttemplate": "%{z:.2f}",
         "type": "heatmap",
         "visible": false,
         "x": [
          "duration",
          "is_footage",
          "_update_",
          "_breaking_",
          "capitalisation_ratio",
          "channel_activity",
          "subjectivity"
         ],
         "xaxis": "x2",
         "y": [
          "view_count",
          "num_comments",
          "replies/comment",
          "likes-dislikes/views"
         ],
         "yaxis": "y2",
         "z": [
          [
           0.7261443888054242,
           1,
           0.8252015360833351,
           0.9496358557438441,
           0.25304730993624114,
           0.22244092473734706,
           0.5315181702220697
          ],
          [
           0.12304541624939315,
           1,
           0.7594077889891311,
           0.8919861892296989,
           0.44604439353721326,
           0.45553177229766717,
           0.3934451161519659
          ],
          [
           0.20544227174306745,
           1,
           0.6478088118240309,
           0.8395074641116962,
           0.08763539459718467,
           0.25227438102232674,
           0.7625955988623834
          ],
          [
           0.828981503177053,
           1,
           0.9341027847928577,
           0.9407610448183858,
           0.06282255523937477,
           0.2976454234370812,
           0.967378725077654
          ]
         ]
        },
        {
         "coloraxis": "coloraxis",
         "hovertemplate": "Features: %{x}<br>Metrics: %{y}<br>Correlation Coefficient: %{z}<extra></extra>",
         "name": "0",
         "texttemplate": "%{z:.2f}",
         "type": "heatmap",
         "visible": false,
         "x": [
          "duration",
          "is_footage",
          "_update_",
          "_breaking_",
          "capitalisation_ratio",
          "channel_activity",
          "subjectivity"
         ],
         "xaxis": "x",
         "y": [
          "view_count",
          "num_comments",
          "replies/comment",
          "likes-dislikes/views"
         ],
         "yaxis": "y",
         "z": [
          [
           -0.1220707150825624,
           0,
           0.036462017751693686,
           0.09532772436434937,
           -0.07224712330309775,
           -0.20344418486237126,
           0.09989884001916868
          ],
          [
           0.0029581184695227983,
           0,
           0.030529231714845204,
           0.0490170883697081,
           -0.10037260257182995,
           -0.2232660211243484,
           0.003902712287157755
          ],
          [
           -0.02755733208879535,
           0,
           0.22571025490907726,
           0.12172317511747582,
           -0.09918778383303979,
           -0.22870607084953912,
           0.033891560659791084
          ],
          [
           0.3642682694399548,
           0,
           -0.07064606592637528,
           -0.0949719729824241,
           0.1243569234493277,
           -0.29598119099392184,
           0.035638546244865274
          ]
         ]
        },
        {
         "coloraxis": "coloraxis2",
         "hovertemplate": "Features: %{x}<br>Metrics: %{y}<br>p-value: %{z}<extra></extra>",
         "name": "0",
         "texttemplate": "%{z:.2f}",
         "type": "heatmap",
         "visible": false,
         "x": [
          "duration",
          "is_footage",
          "_update_",
          "_breaking_",
          "capitalisation_ratio",
          "channel_activity",
          "subjectivity"
         ],
         "xaxis": "x2",
         "y": [
          "view_count",
          "num_comments",
          "replies/comment",
          "likes-dislikes/views"
         ],
         "yaxis": "y2",
         "z": [
          [
           0.19372843462900288,
           1,
           0.6988533856640393,
           0.3108603698211771,
           0.4429009209191126,
           0.029203957583883552,
           0.2881211058769818
          ],
          [
           0.9749698340191656,
           1,
           0.7460224161162995,
           0.60291008554674,
           0.28582933492146584,
           0.01646399816087903,
           0.9669810968623742
          ],
          [
           0.7700215980714364,
           1,
           0.015290831570280015,
           0.1950098429759553,
           0.2915836425310017,
           0.01395251265442395,
           0.7191616697517391
          ],
          [
           0.00006279130000284742,
           1,
           0.4531002044859575,
           0.31267777501109345,
           0.18545078614871746,
           0.0013197541435096528,
           0.7053370458418006
          ]
         ]
        },
        {
         "coloraxis": "coloraxis",
         "hovertemplate": "Features: %{x}<br>Metrics: %{y}<br>Correlation Coefficient: %{z}<extra></extra>",
         "name": "0",
         "texttemplate": "%{z:.2f}",
         "type": "heatmap",
         "visible": false,
         "x": [
          "duration",
          "is_footage",
          "_update_",
          "_breaking_",
          "capitalisation_ratio",
          "channel_activity",
          "subjectivity"
         ],
         "xaxis": "x",
         "y": [
          "view_count",
          "num_comments",
          "replies/comment",
          "likes-dislikes/views"
         ],
         "yaxis": "y",
         "z": [
          [
           -0.037270791622197916,
           -0.023001007387432534,
           0.004209127631485147,
           -0.020371119539982604,
           0.15485919418073515,
           0.03369313824528986,
           -0.08330568150374476
          ],
          [
           -0.07688682808359681,
           -0.02601277682122101,
           -0.09293155365364345,
           -0.02601277682122101,
           0.4068669168384429,
           -0.08073720824500202,
           0.1596257411203481
          ],
          [
           -0.09117811114588052,
           -0.03680948775774737,
           -0.13150318053440574,
           -0.03680948775774736,
           0.3707531391300544,
           -0.08820166939771074,
           -0.03080331419337811
          ],
          [
           0.28451824129134884,
           -0.027606137391269995,
           -0.10404098260134133,
           -0.015663640203687757,
           0.10757559158003213,
           -0.3926959732688517,
           0.22717894216016504
          ]
         ]
        },
        {
         "coloraxis": "coloraxis2",
         "hovertemplate": "Features: %{x}<br>Metrics: %{y}<br>p-value: %{z}<extra></extra>",
         "name": "0",
         "texttemplate": "%{z:.2f}",
         "type": "heatmap",
         "visible": false,
         "x": [
          "duration",
          "is_footage",
          "_update_",
          "_breaking_",
          "capitalisation_ratio",
          "channel_activity",
          "subjectivity"
         ],
         "xaxis": "x2",
         "y": [
          "view_count",
          "num_comments",
          "replies/comment",
          "likes-dislikes/views"
         ],
         "yaxis": "y2",
         "z": [
          [
           0.6144885983281789,
           0.7559768386522479,
           0.9546546933667082,
           0.7831412629756612,
           0.035313045340197025,
           0.6488938535618197,
           0.25959001228000395
          ],
          [
           0.29823467873032555,
           0.7252332103780263,
           0.20833278042613945,
           0.7252332103780263,
           9.080614621718414e-9,
           0.2746194434354726,
           0.029979204655127514
          ],
          [
           0.2170823610774639,
           0.6188799513000176,
           0.07437977499661809,
           0.6188799513000176,
           2.047727082644694e-7,
           0.23252903355435162,
           0.6772421137037854
          ],
          [
           0.00008670464460727568,
           0.709140855952227,
           0.1587326910879112,
           0.8324054471075433,
           0.1449778781120852,
           3.2250454083404634e-8,
           0.0018722143703216172
          ]
         ]
        },
        {
         "coloraxis": "coloraxis",
         "hovertemplate": "Features: %{x}<br>Metrics: %{y}<br>Correlation Coefficient: %{z}<extra></extra>",
         "name": "0",
         "texttemplate": "%{z:.2f}",
         "type": "heatmap",
         "visible": false,
         "x": [
          "duration",
          "is_footage",
          "_update_",
          "_breaking_",
          "capitalisation_ratio",
          "channel_activity",
          "subjectivity"
         ],
         "xaxis": "x",
         "y": [
          "view_count",
          "num_comments",
          "replies/comment",
          "likes-dislikes/views"
         ],
         "yaxis": "y",
         "z": [
          [
           -0.009109553752475671,
           0,
           0,
           0,
           -0.1761179440747611,
           -0.002332012240187614,
           -0.059861675937016474
          ],
          [
           -0.06773680083878406,
           0,
           0,
           0,
           -0.06430307341489569,
           -0.032506642434545235,
           -0.031021532318077232
          ],
          [
           -0.28382612233591986,
           0,
           0,
           0,
           0.25768552731601446,
           -0.039222282487994815,
           -0.1372116841015244
          ],
          [
           0.15164921789291533,
           0,
           0,
           0,
           0.3335139975904406,
           -0.028571009062766488,
           -0.14860036489369546
          ]
         ]
        },
        {
         "coloraxis": "coloraxis2",
         "hovertemplate": "Features: %{x}<br>Metrics: %{y}<br>p-value: %{z}<extra></extra>",
         "name": "0",
         "texttemplate": "%{z:.2f}",
         "type": "heatmap",
         "visible": false,
         "x": [
          "duration",
          "is_footage",
          "_update_",
          "_breaking_",
          "capitalisation_ratio",
          "channel_activity",
          "subjectivity"
         ],
         "xaxis": "x2",
         "y": [
          "view_count",
          "num_comments",
          "replies/comment",
          "likes-dislikes/views"
         ],
         "yaxis": "y2",
         "z": [
          [
           0.9687391999635128,
           1,
           1,
           1,
           0.4450740627433728,
           0.9919955918730528,
           0.7965968197031564
          ],
          [
           0.7704879414439535,
           1,
           1,
           1,
           0.7818443872471996,
           0.8887556143970238,
           0.893809630589171
          ],
          [
           0.21245336095924064,
           1,
           1,
           1,
           0.2594331412505114,
           0.8659559953802837,
           0.5531162239544645
          ],
          [
           0.5116939726591035,
           1,
           1,
           1,
           0.13955423408709247,
           0.9021576462806575,
           0.520315629452567
          ]
         ]
        },
        {
         "coloraxis": "coloraxis",
         "hovertemplate": "Features: %{x}<br>Metrics: %{y}<br>Correlation Coefficient: %{z}<extra></extra>",
         "name": "0",
         "texttemplate": "%{z:.2f}",
         "type": "heatmap",
         "visible": false,
         "x": [
          "duration",
          "is_footage",
          "_update_",
          "_breaking_",
          "capitalisation_ratio",
          "channel_activity",
          "subjectivity"
         ],
         "xaxis": "x",
         "y": [
          "view_count",
          "num_comments",
          "replies/comment",
          "likes-dislikes/views"
         ],
         "yaxis": "y",
         "z": [
          [
           0.7421126199542388,
           0,
           0,
           0,
           -0.56195515573292,
           0.6676386510275718,
           -0.09356208612405884
          ],
          [
           0.7410362891065027,
           0,
           0,
           0,
           -0.5463021095815829,
           0.6355635108536907,
           -0.0975900072948533
          ],
          [
           0.7410362891065025,
           0,
           0,
           0,
           -0.5463021095815829,
           0.6355635108536907,
           -0.09759000729485331
          ],
          [
           0.03733551412173758,
           0,
           0,
           0,
           -0.7603166334855056,
           0.6295010097493889,
           0.06279668406525873
          ]
         ]
        },
        {
         "coloraxis": "coloraxis2",
         "hovertemplate": "Features: %{x}<br>Metrics: %{y}<br>p-value: %{z}<extra></extra>",
         "name": "0",
         "texttemplate": "%{z:.2f}",
         "type": "heatmap",
         "visible": false,
         "x": [
          "duration",
          "is_footage",
          "_update_",
          "_breaking_",
          "capitalisation_ratio",
          "channel_activity",
          "subjectivity"
         ],
         "xaxis": "x2",
         "y": [
          "view_count",
          "num_comments",
          "replies/comment",
          "likes-dislikes/views"
         ],
         "yaxis": "y2",
         "z": [
          [
           0.09118333492454615,
           1,
           1,
           1,
           0.2457981864068174,
           0.14733910639346792,
           0.8600663857007782
          ],
          [
           0.09190996679233487,
           1,
           1,
           1,
           0.2620676739417406,
           0.17501980626602223,
           0.854079703378172
          ],
          [
           0.09190996679233487,
           1,
           1,
           1,
           0.2620676739417406,
           0.17501980626602223,
           0.854079703378172
          ],
          [
           0.9440227505621468,
           1,
           1,
           1,
           0.07928749533216711,
           0.18047514676484352,
           0.9059287908628735
          ]
         ]
        },
        {
         "coloraxis": "coloraxis",
         "hovertemplate": "Features: %{x}<br>Metrics: %{y}<br>Correlation Coefficient: %{z}<extra></extra>",
         "name": "0",
         "texttemplate": "%{z:.2f}",
         "type": "heatmap",
         "visible": false,
         "x": [
          "duration",
          "is_footage",
          "_update_",
          "_breaking_",
          "capitalisation_ratio",
          "channel_activity",
          "subjectivity"
         ],
         "xaxis": "x",
         "y": [
          "view_count",
          "num_comments",
          "replies/comment",
          "likes-dislikes/views"
         ],
         "yaxis": "y",
         "z": [
          [
           0.03786333487657425,
           -0.004923127434310767,
           -0.019313253572492715,
           -0.01921658295285012,
           0.18067199990431243,
           -0.11890147433380706,
           -0.05650284430679155
          ],
          [
           0.05900797798674493,
           -0.008828488722411813,
           -0.019789545153822276,
           -0.0010318238471664735,
           0.22696264459560184,
           -0.2053888008125448,
           -0.022907481485638686
          ],
          [
           0.052599604735468375,
           -0.01485877778105224,
           0.002614001340938466,
           0.05380934646869288,
           0.22646586225690335,
           -0.2704958557452951,
           0.025372427345898625
          ],
          [
           0.024646002320010785,
           -0.012697959597290646,
           0.004884546057342672,
           0.01926680244692025,
           0.1392457554398005,
           -0.18472569505711628,
           0.10425315272192799
          ]
         ]
        },
        {
         "coloraxis": "coloraxis2",
         "hovertemplate": "Features: %{x}<br>Metrics: %{y}<br>p-value: %{z}<extra></extra>",
         "name": "0",
         "texttemplate": "%{z:.2f}",
         "type": "heatmap",
         "visible": false,
         "x": [
          "duration",
          "is_footage",
          "_update_",
          "_breaking_",
          "capitalisation_ratio",
          "channel_activity",
          "subjectivity"
         ],
         "xaxis": "x2",
         "y": [
          "view_count",
          "num_comments",
          "replies/comment",
          "likes-dislikes/views"
         ],
         "yaxis": "y2",
         "z": [
          [
           0.17345059185206396,
           0.8595667487448229,
           0.4875983247236455,
           0.4897800470643618,
           5.876816293912823e-11,
           0.00001800979412880128,
           0.0421342660502405
          ],
          [
           0.03380033314304071,
           0.7510315094578982,
           0.4769259968271306,
           0.9704203219925652,
           1.4023380344600362e-16,
           8.59805536560243e-14,
           0.4103121496169018
          ],
          [
           0.05854362470791712,
           0.593330451721956,
           0.92515626671746,
           0.052969117802631416,
           1.6383178501132222e-16,
           3.9135276115323687e-23,
           0.36178605164420513
          ],
          [
           0.3756989248170269,
           0.6481378489983692,
           0.8606560015208684,
           0.48864600801984054,
           4.939361379142836e-7,
           2.1379479559323492e-11,
           0.0001720770031714621
          ]
         ]
        },
        {
         "coloraxis": "coloraxis",
         "hovertemplate": "Features: %{x}<br>Metrics: %{y}<br>Correlation Coefficient: %{z}<extra></extra>",
         "name": "0",
         "texttemplate": "%{z:.2f}",
         "type": "heatmap",
         "visible": false,
         "x": [
          "duration",
          "is_footage",
          "_update_",
          "_breaking_",
          "capitalisation_ratio",
          "channel_activity",
          "subjectivity"
         ],
         "xaxis": "x",
         "y": [
          "view_count",
          "num_comments",
          "replies/comment",
          "likes-dislikes/views"
         ],
         "yaxis": "y",
         "z": [
          [
           -0.014031672280112591,
           -0.029690059276036622,
           -0.047687052091292814,
           0,
           0.07355742632749714,
           -0.06417874207918464,
           -0.0004968812196973968
          ],
          [
           0.07824425623665733,
           -0.02239296829741262,
           -0.031786385647074665,
           0,
           0.09717808475465219,
           -0.18579970828488096,
           -0.03159877747465194
          ],
          [
           0.10599991072901747,
           -0.02400780132253134,
           -0.034078609911867036,
           0,
           0.03183446993791421,
           -0.07284791050432872,
           -0.0485072048711706
          ],
          [
           -0.028636275310702817,
           -0.05351300923735694,
           0.12010966898647035,
           0,
           0.13546064901943333,
           -0.1274097123894533,
           -0.050594128921243285
          ]
         ]
        },
        {
         "coloraxis": "coloraxis2",
         "hovertemplate": "Features: %{x}<br>Metrics: %{y}<br>p-value: %{z}<extra></extra>",
         "name": "0",
         "texttemplate": "%{z:.2f}",
         "type": "heatmap",
         "visible": false,
         "x": [
          "duration",
          "is_footage",
          "_update_",
          "_breaking_",
          "capitalisation_ratio",
          "channel_activity",
          "subjectivity"
         ],
         "xaxis": "x2",
         "y": [
          "view_count",
          "num_comments",
          "replies/comment",
          "likes-dislikes/views"
         ],
         "yaxis": "y2",
         "z": [
          [
           0.8712006605646463,
           0.7315064086718964,
           0.5814263589479824,
           1,
           0.3947385738193496,
           0.45790336583451785,
           0.9954192937678688
          ],
          [
           0.36523037933443403,
           0.795815288015612,
           0.7133497142242539,
           1,
           0.2603826873206543,
           0.03033623428399694,
           0.7149682761059698
          ],
          [
           0.21936658203998258,
           0.7814481067557156,
           0.6936787907023257,
           1,
           0.7129350790729898,
           0.3993266874371711,
           0.5749371621573225
          ],
          [
           0.7406906459403869,
           0.5360831312546168,
           0.163672353841817,
           1,
           0.11585679794708414,
           0.1393659645595599,
           0.5585795917727048
          ]
         ]
        },
        {
         "coloraxis": "coloraxis",
         "hovertemplate": "Features: %{x}<br>Metrics: %{y}<br>Correlation Coefficient: %{z}<extra></extra>",
         "name": "0",
         "texttemplate": "%{z:.2f}",
         "type": "heatmap",
         "visible": false,
         "x": [
          "duration",
          "is_footage",
          "_update_",
          "_breaking_",
          "capitalisation_ratio",
          "channel_activity",
          "subjectivity"
         ],
         "xaxis": "x",
         "y": [
          "view_count",
          "num_comments",
          "replies/comment",
          "likes-dislikes/views"
         ],
         "yaxis": "y",
         "z": [
          [
           0.010240066443806775,
           -0.0034258892833224654,
           -0.009396060232760538,
           -0.00266778334105638,
           0.014122739429384771,
           0.10026914591551712,
           -0.026010873500113538
          ],
          [
           0.013287140689042156,
           -0.002503146027493245,
           -0.010866171131753541,
           -0.004232696701597339,
           0.02773178329280891,
           0.09341097597184674,
           -0.02856359343948197
          ],
          [
           -0.04342595465042257,
           0.06523210238706756,
           -0.04405674649477302,
           -0.017161412544534696,
           0.054988849885534395,
           0.19180244716903772,
           -0.05694428438948314
          ],
          [
           0.2625256775167936,
           -0.03074899030556199,
           -0.03811282772437598,
           -0.019287282530660095,
           0.21360562188703705,
           -0.276728830037048,
           0.07734462233838357
          ]
         ]
        },
        {
         "coloraxis": "coloraxis2",
         "hovertemplate": "Features: %{x}<br>Metrics: %{y}<br>p-value: %{z}<extra></extra>",
         "name": "0",
         "texttemplate": "%{z:.2f}",
         "type": "heatmap",
         "visible": false,
         "x": [
          "duration",
          "is_footage",
          "_update_",
          "_breaking_",
          "capitalisation_ratio",
          "channel_activity",
          "subjectivity"
         ],
         "xaxis": "x2",
         "y": [
          "view_count",
          "num_comments",
          "replies/comment",
          "likes-dislikes/views"
         ],
         "yaxis": "y2",
         "z": [
          [
           0.7720220862776276,
           0.9227824991967416,
           0.7903550050645228,
           0.9398327893488276,
           0.6894539785298704,
           0.004453755536813954,
           0.46169839678564106
          ],
          [
           0.706953214098503,
           0.9435395015026437,
           0.7585032592425962,
           0.9046758865702498,
           0.43258880343158,
           0.008080671633194194,
           0.4189076226832117
          ],
          [
           0.21898360420679175,
           0.06466207276334629,
           0.21235789875502872,
           0.6272610665478338,
           0.1194743286338989,
           4.310780349269469e-8,
           0.10686633416868856
          ],
          [
           4.009927325884598e-14,
           0.3841963725244605,
           0.28071148599660944,
           0.5852391723376127,
           9.69993018902701e-10,
           1.3940158547300227e-15,
           0.02840813111702773
          ]
         ]
        }
       ],
       "layout": {
        "annotations": [
         {
          "font": {
           "size": 16
          },
          "showarrow": false,
          "text": "Correlation Coefficient",
          "x": 0.2,
          "xanchor": "center",
          "xref": "paper",
          "y": 1,
          "yanchor": "bottom",
          "yref": "paper"
         },
         {
          "font": {
           "size": 16
          },
          "showarrow": false,
          "text": "p-values",
          "x": 0.8,
          "xanchor": "center",
          "xref": "paper",
          "y": 1,
          "yanchor": "bottom",
          "yref": "paper"
         }
        ],
        "coloraxis": {
         "cmax": 1,
         "cmin": -1,
         "colorbar": {
          "thickness": 25,
          "x": 0.4
         },
         "colorscale": [
          [
           0,
           "rgb(165,0,38)"
          ],
          [
           0.1,
           "rgb(215,48,39)"
          ],
          [
           0.2,
           "rgb(244,109,67)"
          ],
          [
           0.3,
           "rgb(253,174,97)"
          ],
          [
           0.4,
           "rgb(254,224,144)"
          ],
          [
           0.5,
           "rgb(255,255,191)"
          ],
          [
           0.6,
           "rgb(224,243,248)"
          ],
          [
           0.7,
           "rgb(171,217,233)"
          ],
          [
           0.8,
           "rgb(116,173,209)"
          ],
          [
           0.9,
           "rgb(69,117,180)"
          ],
          [
           1,
           "rgb(49,54,149)"
          ]
         ]
        },
        "coloraxis2": {
         "cmax": 0.1,
         "cmid": 0.05,
         "cmin": 0,
         "colorbar": {
          "thickness": 25,
          "ticktext": [
           "0",
           "0.025",
           "0.05",
           "0.075",
           ">=0.1"
          ],
          "tickvals": [
           0,
           0.025,
           0.05,
           0.075,
           0.1
          ],
          "x": 1
         },
         "colorscale": [
          [
           0,
           "rgb(165,0,38)"
          ],
          [
           0.1,
           "rgb(215,48,39)"
          ],
          [
           0.2,
           "rgb(244,109,67)"
          ],
          [
           0.3,
           "rgb(253,174,97)"
          ],
          [
           0.4,
           "rgb(254,224,139)"
          ],
          [
           0.5,
           "rgb(255,255,191)"
          ],
          [
           0.6,
           "rgb(217,239,139)"
          ],
          [
           0.7,
           "rgb(166,217,106)"
          ],
          [
           0.8,
           "rgb(102,189,99)"
          ],
          [
           0.9,
           "rgb(26,152,80)"
          ],
          [
           1,
           "rgb(0,104,55)"
          ]
         ],
         "reversescale": true
        },
        "height": 500,
        "template": {
         "data": {
          "bar": [
           {
            "error_x": {
             "color": "#2a3f5f"
            },
            "error_y": {
             "color": "#2a3f5f"
            },
            "marker": {
             "line": {
              "color": "#E5ECF6",
              "width": 0.5
             },
             "pattern": {
              "fillmode": "overlay",
              "size": 10,
              "solidity": 0.2
             }
            },
            "type": "bar"
           }
          ],
          "barpolar": [
           {
            "marker": {
             "line": {
              "color": "#E5ECF6",
              "width": 0.5
             },
             "pattern": {
              "fillmode": "overlay",
              "size": 10,
              "solidity": 0.2
             }
            },
            "type": "barpolar"
           }
          ],
          "carpet": [
           {
            "aaxis": {
             "endlinecolor": "#2a3f5f",
             "gridcolor": "white",
             "linecolor": "white",
             "minorgridcolor": "white",
             "startlinecolor": "#2a3f5f"
            },
            "baxis": {
             "endlinecolor": "#2a3f5f",
             "gridcolor": "white",
             "linecolor": "white",
             "minorgridcolor": "white",
             "startlinecolor": "#2a3f5f"
            },
            "type": "carpet"
           }
          ],
          "choropleth": [
           {
            "colorbar": {
             "outlinewidth": 0,
             "ticks": ""
            },
            "type": "choropleth"
           }
          ],
          "contour": [
           {
            "colorbar": {
             "outlinewidth": 0,
             "ticks": ""
            },
            "colorscale": [
             [
              0,
              "#0d0887"
             ],
             [
              0.1111111111111111,
              "#46039f"
             ],
             [
              0.2222222222222222,
              "#7201a8"
             ],
             [
              0.3333333333333333,
              "#9c179e"
             ],
             [
              0.4444444444444444,
              "#bd3786"
             ],
             [
              0.5555555555555556,
              "#d8576b"
             ],
             [
              0.6666666666666666,
              "#ed7953"
             ],
             [
              0.7777777777777778,
              "#fb9f3a"
             ],
             [
              0.8888888888888888,
              "#fdca26"
             ],
             [
              1,
              "#f0f921"
             ]
            ],
            "type": "contour"
           }
          ],
          "contourcarpet": [
           {
            "colorbar": {
             "outlinewidth": 0,
             "ticks": ""
            },
            "type": "contourcarpet"
           }
          ],
          "heatmap": [
           {
            "colorbar": {
             "outlinewidth": 0,
             "ticks": ""
            },
            "colorscale": [
             [
              0,
              "#0d0887"
             ],
             [
              0.1111111111111111,
              "#46039f"
             ],
             [
              0.2222222222222222,
              "#7201a8"
             ],
             [
              0.3333333333333333,
              "#9c179e"
             ],
             [
              0.4444444444444444,
              "#bd3786"
             ],
             [
              0.5555555555555556,
              "#d8576b"
             ],
             [
              0.6666666666666666,
              "#ed7953"
             ],
             [
              0.7777777777777778,
              "#fb9f3a"
             ],
             [
              0.8888888888888888,
              "#fdca26"
             ],
             [
              1,
              "#f0f921"
             ]
            ],
            "type": "heatmap"
           }
          ],
          "heatmapgl": [
           {
            "colorbar": {
             "outlinewidth": 0,
             "ticks": ""
            },
            "colorscale": [
             [
              0,
              "#0d0887"
             ],
             [
              0.1111111111111111,
              "#46039f"
             ],
             [
              0.2222222222222222,
              "#7201a8"
             ],
             [
              0.3333333333333333,
              "#9c179e"
             ],
             [
              0.4444444444444444,
              "#bd3786"
             ],
             [
              0.5555555555555556,
              "#d8576b"
             ],
             [
              0.6666666666666666,
              "#ed7953"
             ],
             [
              0.7777777777777778,
              "#fb9f3a"
             ],
             [
              0.8888888888888888,
              "#fdca26"
             ],
             [
              1,
              "#f0f921"
             ]
            ],
            "type": "heatmapgl"
           }
          ],
          "histogram": [
           {
            "marker": {
             "pattern": {
              "fillmode": "overlay",
              "size": 10,
              "solidity": 0.2
             }
            },
            "type": "histogram"
           }
          ],
          "histogram2d": [
           {
            "colorbar": {
             "outlinewidth": 0,
             "ticks": ""
            },
            "colorscale": [
             [
              0,
              "#0d0887"
             ],
             [
              0.1111111111111111,
              "#46039f"
             ],
             [
              0.2222222222222222,
              "#7201a8"
             ],
             [
              0.3333333333333333,
              "#9c179e"
             ],
             [
              0.4444444444444444,
              "#bd3786"
             ],
             [
              0.5555555555555556,
              "#d8576b"
             ],
             [
              0.6666666666666666,
              "#ed7953"
             ],
             [
              0.7777777777777778,
              "#fb9f3a"
             ],
             [
              0.8888888888888888,
              "#fdca26"
             ],
             [
              1,
              "#f0f921"
             ]
            ],
            "type": "histogram2d"
           }
          ],
          "histogram2dcontour": [
           {
            "colorbar": {
             "outlinewidth": 0,
             "ticks": ""
            },
            "colorscale": [
             [
              0,
              "#0d0887"
             ],
             [
              0.1111111111111111,
              "#46039f"
             ],
             [
              0.2222222222222222,
              "#7201a8"
             ],
             [
              0.3333333333333333,
              "#9c179e"
             ],
             [
              0.4444444444444444,
              "#bd3786"
             ],
             [
              0.5555555555555556,
              "#d8576b"
             ],
             [
              0.6666666666666666,
              "#ed7953"
             ],
             [
              0.7777777777777778,
              "#fb9f3a"
             ],
             [
              0.8888888888888888,
              "#fdca26"
             ],
             [
              1,
              "#f0f921"
             ]
            ],
            "type": "histogram2dcontour"
           }
          ],
          "mesh3d": [
           {
            "colorbar": {
             "outlinewidth": 0,
             "ticks": ""
            },
            "type": "mesh3d"
           }
          ],
          "parcoords": [
           {
            "line": {
             "colorbar": {
              "outlinewidth": 0,
              "ticks": ""
             }
            },
            "type": "parcoords"
           }
          ],
          "pie": [
           {
            "automargin": true,
            "type": "pie"
           }
          ],
          "scatter": [
           {
            "fillpattern": {
             "fillmode": "overlay",
             "size": 10,
             "solidity": 0.2
            },
            "type": "scatter"
           }
          ],
          "scatter3d": [
           {
            "line": {
             "colorbar": {
              "outlinewidth": 0,
              "ticks": ""
             }
            },
            "marker": {
             "colorbar": {
              "outlinewidth": 0,
              "ticks": ""
             }
            },
            "type": "scatter3d"
           }
          ],
          "scattercarpet": [
           {
            "marker": {
             "colorbar": {
              "outlinewidth": 0,
              "ticks": ""
             }
            },
            "type": "scattercarpet"
           }
          ],
          "scattergeo": [
           {
            "marker": {
             "colorbar": {
              "outlinewidth": 0,
              "ticks": ""
             }
            },
            "type": "scattergeo"
           }
          ],
          "scattergl": [
           {
            "marker": {
             "colorbar": {
              "outlinewidth": 0,
              "ticks": ""
             }
            },
            "type": "scattergl"
           }
          ],
          "scattermapbox": [
           {
            "marker": {
             "colorbar": {
              "outlinewidth": 0,
              "ticks": ""
             }
            },
            "type": "scattermapbox"
           }
          ],
          "scatterpolar": [
           {
            "marker": {
             "colorbar": {
              "outlinewidth": 0,
              "ticks": ""
             }
            },
            "type": "scatterpolar"
           }
          ],
          "scatterpolargl": [
           {
            "marker": {
             "colorbar": {
              "outlinewidth": 0,
              "ticks": ""
             }
            },
            "type": "scatterpolargl"
           }
          ],
          "scatterternary": [
           {
            "marker": {
             "colorbar": {
              "outlinewidth": 0,
              "ticks": ""
             }
            },
            "type": "scatterternary"
           }
          ],
          "surface": [
           {
            "colorbar": {
             "outlinewidth": 0,
             "ticks": ""
            },
            "colorscale": [
             [
              0,
              "#0d0887"
             ],
             [
              0.1111111111111111,
              "#46039f"
             ],
             [
              0.2222222222222222,
              "#7201a8"
             ],
             [
              0.3333333333333333,
              "#9c179e"
             ],
             [
              0.4444444444444444,
              "#bd3786"
             ],
             [
              0.5555555555555556,
              "#d8576b"
             ],
             [
              0.6666666666666666,
              "#ed7953"
             ],
             [
              0.7777777777777778,
              "#fb9f3a"
             ],
             [
              0.8888888888888888,
              "#fdca26"
             ],
             [
              1,
              "#f0f921"
             ]
            ],
            "type": "surface"
           }
          ],
          "table": [
           {
            "cells": {
             "fill": {
              "color": "#EBF0F8"
             },
             "line": {
              "color": "white"
             }
            },
            "header": {
             "fill": {
              "color": "#C8D4E3"
             },
             "line": {
              "color": "white"
             }
            },
            "type": "table"
           }
          ]
         },
         "layout": {
          "annotationdefaults": {
           "arrowcolor": "#2a3f5f",
           "arrowhead": 0,
           "arrowwidth": 1
          },
          "autotypenumbers": "strict",
          "coloraxis": {
           "colorbar": {
            "outlinewidth": 0,
            "ticks": ""
           }
          },
          "colorscale": {
           "diverging": [
            [
             0,
             "#8e0152"
            ],
            [
             0.1,
             "#c51b7d"
            ],
            [
             0.2,
             "#de77ae"
            ],
            [
             0.3,
             "#f1b6da"
            ],
            [
             0.4,
             "#fde0ef"
            ],
            [
             0.5,
             "#f7f7f7"
            ],
            [
             0.6,
             "#e6f5d0"
            ],
            [
             0.7,
             "#b8e186"
            ],
            [
             0.8,
             "#7fbc41"
            ],
            [
             0.9,
             "#4d9221"
            ],
            [
             1,
             "#276419"
            ]
           ],
           "sequential": [
            [
             0,
             "#0d0887"
            ],
            [
             0.1111111111111111,
             "#46039f"
            ],
            [
             0.2222222222222222,
             "#7201a8"
            ],
            [
             0.3333333333333333,
             "#9c179e"
            ],
            [
             0.4444444444444444,
             "#bd3786"
            ],
            [
             0.5555555555555556,
             "#d8576b"
            ],
            [
             0.6666666666666666,
             "#ed7953"
            ],
            [
             0.7777777777777778,
             "#fb9f3a"
            ],
            [
             0.8888888888888888,
             "#fdca26"
            ],
            [
             1,
             "#f0f921"
            ]
           ],
           "sequentialminus": [
            [
             0,
             "#0d0887"
            ],
            [
             0.1111111111111111,
             "#46039f"
            ],
            [
             0.2222222222222222,
             "#7201a8"
            ],
            [
             0.3333333333333333,
             "#9c179e"
            ],
            [
             0.4444444444444444,
             "#bd3786"
            ],
            [
             0.5555555555555556,
             "#d8576b"
            ],
            [
             0.6666666666666666,
             "#ed7953"
            ],
            [
             0.7777777777777778,
             "#fb9f3a"
            ],
            [
             0.8888888888888888,
             "#fdca26"
            ],
            [
             1,
             "#f0f921"
            ]
           ]
          },
          "colorway": [
           "#636efa",
           "#EF553B",
           "#00cc96",
           "#ab63fa",
           "#FFA15A",
           "#19d3f3",
           "#FF6692",
           "#B6E880",
           "#FF97FF",
           "#FECB52"
          ],
          "font": {
           "color": "#2a3f5f"
          },
          "geo": {
           "bgcolor": "white",
           "lakecolor": "white",
           "landcolor": "#E5ECF6",
           "showlakes": true,
           "showland": true,
           "subunitcolor": "white"
          },
          "hoverlabel": {
           "align": "left"
          },
          "hovermode": "closest",
          "mapbox": {
           "style": "light"
          },
          "paper_bgcolor": "white",
          "plot_bgcolor": "#E5ECF6",
          "polar": {
           "angularaxis": {
            "gridcolor": "white",
            "linecolor": "white",
            "ticks": ""
           },
           "bgcolor": "#E5ECF6",
           "radialaxis": {
            "gridcolor": "white",
            "linecolor": "white",
            "ticks": ""
           }
          },
          "scene": {
           "xaxis": {
            "backgroundcolor": "#E5ECF6",
            "gridcolor": "white",
            "gridwidth": 2,
            "linecolor": "white",
            "showbackground": true,
            "ticks": "",
            "zerolinecolor": "white"
           },
           "yaxis": {
            "backgroundcolor": "#E5ECF6",
            "gridcolor": "white",
            "gridwidth": 2,
            "linecolor": "white",
            "showbackground": true,
            "ticks": "",
            "zerolinecolor": "white"
           },
           "zaxis": {
            "backgroundcolor": "#E5ECF6",
            "gridcolor": "white",
            "gridwidth": 2,
            "linecolor": "white",
            "showbackground": true,
            "ticks": "",
            "zerolinecolor": "white"
           }
          },
          "shapedefaults": {
           "line": {
            "color": "#2a3f5f"
           }
          },
          "ternary": {
           "aaxis": {
            "gridcolor": "white",
            "linecolor": "white",
            "ticks": ""
           },
           "baxis": {
            "gridcolor": "white",
            "linecolor": "white",
            "ticks": ""
           },
           "bgcolor": "#E5ECF6",
           "caxis": {
            "gridcolor": "white",
            "linecolor": "white",
            "ticks": ""
           }
          },
          "title": {
           "x": 0.05
          },
          "xaxis": {
           "automargin": true,
           "gridcolor": "white",
           "linecolor": "white",
           "ticks": "",
           "title": {
            "standoff": 15
           },
           "zerolinecolor": "white",
           "zerolinewidth": 2
          },
          "yaxis": {
           "automargin": true,
           "gridcolor": "white",
           "linecolor": "white",
           "ticks": "",
           "title": {
            "standoff": 15
           },
           "zerolinecolor": "white",
           "zerolinewidth": 2
          }
         }
        },
        "title": {
         "text": "Correlation Matrix of Video Features and Response Metrics for all Events",
         "x": 0.5
        },
        "updatemenus": [
         {
          "buttons": [
           {
            "args": [
             {
              "visible": [
               true,
               true,
               false,
               false,
               false,
               false,
               false,
               false,
               false,
               false,
               false,
               false,
               false,
               false,
               false,
               false,
               false,
               false,
               false,
               false,
               false,
               false,
               false,
               false,
               false,
               false,
               false,
               false,
               false,
               false,
               false,
               false,
               false,
               false,
               false,
               false,
               false,
               false,
               false,
               false,
               false,
               false,
               false,
               false,
               false,
               false
              ]
             }
            ],
            "label": "India Floods in Kerela (2018)",
            "method": "update"
           },
           {
            "args": [
             {
              "visible": [
               false,
               false,
               true,
               true,
               false,
               false,
               false,
               false,
               false,
               false,
               false,
               false,
               false,
               false,
               false,
               false,
               false,
               false,
               false,
               false,
               false,
               false,
               false,
               false,
               false,
               false,
               false,
               false,
               false,
               false,
               false,
               false,
               false,
               false,
               false,
               false,
               false,
               false,
               false,
               false,
               false,
               false,
               false,
               false,
               false,
               false
              ]
             }
            ],
            "label": "California Wildfires (2018)",
            "method": "update"
           },
           {
            "args": [
             {
              "visible": [
               false,
               false,
               false,
               false,
               true,
               true,
               false,
               false,
               false,
               false,
               false,
               false,
               false,
               false,
               false,
               false,
               false,
               false,
               false,
               false,
               false,
               false,
               false,
               false,
               false,
               false,
               false,
               false,
               false,
               false,
               false,
               false,
               false,
               false,
               false,
               false,
               false,
               false,
               false,
               false,
               false,
               false,
               false,
               false,
               false,
               false
              ]
             }
            ],
            "label": "Bangladesh Cyclone Mora (2017)",
            "method": "update"
           },
           {
            "args": [
             {
              "visible": [
               false,
               false,
               false,
               false,
               false,
               false,
               true,
               true,
               false,
               false,
               false,
               false,
               false,
               false,
               false,
               false,
               false,
               false,
               false,
               false,
               false,
               false,
               false,
               false,
               false,
               false,
               false,
               false,
               false,
               false,
               false,
               false,
               false,
               false,
               false,
               false,
               false,
               false,
               false,
               false,
               false,
               false,
               false,
               false,
               false,
               false
              ]
             }
            ],
            "label": "Greek Wildfires (2018)",
            "method": "update"
           },
           {
            "args": [
             {
              "visible": [
               false,
               false,
               false,
               false,
               false,
               false,
               false,
               false,
               true,
               true,
               false,
               false,
               false,
               false,
               false,
               false,
               false,
               false,
               false,
               false,
               false,
               false,
               false,
               false,
               false,
               false,
               false,
               false,
               false,
               false,
               false,
               false,
               false,
               false,
               false,
               false,
               false,
               false,
               false,
               false,
               false,
               false,
               false,
               false,
               false,
               false
              ]
             }
            ],
            "label": "European Floods (2014)",
            "method": "update"
           },
           {
            "args": [
             {
              "visible": [
               false,
               false,
               false,
               false,
               false,
               false,
               false,
               false,
               false,
               false,
               true,
               true,
               false,
               false,
               false,
               false,
               false,
               false,
               false,
               false,
               false,
               false,
               false,
               false,
               false,
               false,
               false,
               false,
               false,
               false,
               false,
               false,
               false,
               false,
               false,
               false,
               false,
               false,
               false,
               false,
               false,
               false,
               false,
               false,
               false,
               false
              ]
             }
            ],
            "label": "Hurricane Harvey (2017)",
            "method": "update"
           },
           {
            "args": [
             {
              "visible": [
               false,
               false,
               false,
               false,
               false,
               false,
               false,
               false,
               false,
               false,
               false,
               false,
               true,
               true,
               false,
               false,
               false,
               false,
               false,
               false,
               false,
               false,
               false,
               false,
               false,
               false,
               false,
               false,
               false,
               false,
               false,
               false,
               false,
               false,
               false,
               false,
               false,
               false,
               false,
               false,
               false,
               false,
               false,
               false,
               false,
               false
              ]
             }
            ],
            "label": "Yemeni Civil War , battle of Hudayah (June - December 2018 )",
            "method": "update"
           },
           {
            "args": [
             {
              "visible": [
               false,
               false,
               false,
               false,
               false,
               false,
               false,
               false,
               false,
               false,
               false,
               false,
               false,
               false,
               true,
               true,
               false,
               false,
               false,
               false,
               false,
               false,
               false,
               false,
               false,
               false,
               false,
               false,
               false,
               false,
               false,
               false,
               false,
               false,
               false,
               false,
               false,
               false,
               false,
               false,
               false,
               false,
               false,
               false,
               false,
               false
              ]
             }
            ],
            "label": "Europe Heatwaves (2019)",
            "method": "update"
           },
           {
            "args": [
             {
              "visible": [
               false,
               false,
               false,
               false,
               false,
               false,
               false,
               false,
               false,
               false,
               false,
               false,
               false,
               false,
               false,
               false,
               true,
               true,
               false,
               false,
               false,
               false,
               false,
               false,
               false,
               false,
               false,
               false,
               false,
               false,
               false,
               false,
               false,
               false,
               false,
               false,
               false,
               false,
               false,
               false,
               false,
               false,
               false,
               false,
               false,
               false
              ]
             }
            ],
            "label": "Crimea Annexation and Conflict in Eastern Ukraine (2014)",
            "method": "update"
           },
           {
            "args": [
             {
              "visible": [
               false,
               false,
               false,
               false,
               false,
               false,
               false,
               false,
               false,
               false,
               false,
               false,
               false,
               false,
               false,
               false,
               false,
               false,
               true,
               true,
               false,
               false,
               false,
               false,
               false,
               false,
               false,
               false,
               false,
               false,
               false,
               false,
               false,
               false,
               false,
               false,
               false,
               false,
               false,
               false,
               false,
               false,
               false,
               false,
               false,
               false
              ]
             }
            ],
            "label": "Syrian Civil War, Aleppo Offensive (2016))",
            "method": "update"
           },
           {
            "args": [
             {
              "visible": [
               false,
               false,
               false,
               false,
               false,
               false,
               false,
               false,
               false,
               false,
               false,
               false,
               false,
               false,
               false,
               false,
               false,
               false,
               false,
               false,
               true,
               true,
               false,
               false,
               false,
               false,
               false,
               false,
               false,
               false,
               false,
               false,
               false,
               false,
               false,
               false,
               false,
               false,
               false,
               false,
               false,
               false,
               false,
               false,
               false,
               false
              ]
             }
            ],
            "label": "Hurricane Michael (2018)",
            "method": "update"
           },
           {
            "args": [
             {
              "visible": [
               false,
               false,
               false,
               false,
               false,
               false,
               false,
               false,
               false,
               false,
               false,
               false,
               false,
               false,
               false,
               false,
               false,
               false,
               false,
               false,
               false,
               false,
               true,
               true,
               false,
               false,
               false,
               false,
               false,
               false,
               false,
               false,
               false,
               false,
               false,
               false,
               false,
               false,
               false,
               false,
               false,
               false,
               false,
               false,
               false,
               false
              ]
             }
            ],
            "label": "Pulwama attack and Balakot Airstrikes, kashmir conflict (February 2019) - India / Pakistan",
            "method": "update"
           },
           {
            "args": [
             {
              "visible": [
               false,
               false,
               false,
               false,
               false,
               false,
               false,
               false,
               false,
               false,
               false,
               false,
               false,
               false,
               false,
               false,
               false,
               false,
               false,
               false,
               false,
               false,
               false,
               false,
               true,
               true,
               false,
               false,
               false,
               false,
               false,
               false,
               false,
               false,
               false,
               false,
               false,
               false,
               false,
               false,
               false,
               false,
               false,
               false,
               false,
               false
              ]
             }
            ],
            "label": "Kunduz City Attack (2015) - Afghanistan",
            "method": "update"
           },
           {
            "args": [
             {
              "visible": [
               false,
               false,
               false,
               false,
               false,
               false,
               false,
               false,
               false,
               false,
               false,
               false,
               false,
               false,
               false,
               false,
               false,
               false,
               false,
               false,
               false,
               false,
               false,
               false,
               false,
               false,
               true,
               true,
               false,
               false,
               false,
               false,
               false,
               false,
               false,
               false,
               false,
               false,
               false,
               false,
               false,
               false,
               false,
               false,
               false,
               false
              ]
             }
            ],
            "label": "Portugal Wildfires (2017)",
            "method": "update"
           },
           {
            "args": [
             {
              "visible": [
               false,
               false,
               false,
               false,
               false,
               false,
               false,
               false,
               false,
               false,
               false,
               false,
               false,
               false,
               false,
               false,
               false,
               false,
               false,
               false,
               false,
               false,
               false,
               false,
               false,
               false,
               false,
               false,
               true,
               true,
               false,
               false,
               false,
               false,
               false,
               false,
               false,
               false,
               false,
               false,
               false,
               false,
               false,
               false,
               false,
               false
              ]
             }
            ],
            "label": "Battle of Kobani (2014-2015) - Syria",
            "method": "update"
           },
           {
            "args": [
             {
              "visible": [
               false,
               false,
               false,
               false,
               false,
               false,
               false,
               false,
               false,
               false,
               false,
               false,
               false,
               false,
               false,
               false,
               false,
               false,
               false,
               false,
               false,
               false,
               false,
               false,
               false,
               false,
               false,
               false,
               false,
               false,
               true,
               true,
               false,
               false,
               false,
               false,
               false,
               false,
               false,
               false,
               false,
               false,
               false,
               false,
               false,
               false
              ]
             }
            ],
            "label": "Nepal Earthquake (2015)",
            "method": "update"
           },
           {
            "args": [
             {
              "visible": [
               false,
               false,
               false,
               false,
               false,
               false,
               false,
               false,
               false,
               false,
               false,
               false,
               false,
               false,
               false,
               false,
               false,
               false,
               false,
               false,
               false,
               false,
               false,
               false,
               false,
               false,
               false,
               false,
               false,
               false,
               false,
               false,
               true,
               true,
               false,
               false,
               false,
               false,
               false,
               false,
               false,
               false,
               false,
               false,
               false,
               false
              ]
             }
            ],
            "label": "Sulawesi Earthquake and Tsunami (2018)",
            "method": "update"
           },
           {
            "args": [
             {
              "visible": [
               false,
               false,
               false,
               false,
               false,
               false,
               false,
               false,
               false,
               false,
               false,
               false,
               false,
               false,
               false,
               false,
               false,
               false,
               false,
               false,
               false,
               false,
               false,
               false,
               false,
               false,
               false,
               false,
               false,
               false,
               false,
               false,
               false,
               false,
               true,
               true,
               false,
               false,
               false,
               false,
               false,
               false,
               false,
               false,
               false,
               false
              ]
             }
            ],
            "label": "Battle of Raqqa (June - October 2017) - Syria",
            "method": "update"
           },
           {
            "args": [
             {
              "visible": [
               false,
               false,
               false,
               false,
               false,
               false,
               false,
               false,
               false,
               false,
               false,
               false,
               false,
               false,
               false,
               false,
               false,
               false,
               false,
               false,
               false,
               false,
               false,
               false,
               false,
               false,
               false,
               false,
               false,
               false,
               false,
               false,
               false,
               false,
               false,
               false,
               true,
               true,
               false,
               false,
               false,
               false,
               false,
               false,
               false,
               false
              ]
             }
            ],
            "label": "Battle of Sirte (2016) - Libya",
            "method": "update"
           },
           {
            "args": [
             {
              "visible": [
               false,
               false,
               false,
               false,
               false,
               false,
               false,
               false,
               false,
               false,
               false,
               false,
               false,
               false,
               false,
               false,
               false,
               false,
               false,
               false,
               false,
               false,
               false,
               false,
               false,
               false,
               false,
               false,
               false,
               false,
               false,
               false,
               false,
               false,
               false,
               false,
               false,
               false,
               true,
               true,
               false,
               false,
               false,
               false,
               false,
               false
              ]
             }
            ],
            "label": "Nagorno-Karabakh Conflicts (Clashes (2016)) - Armenia-Azerbaijan",
            "method": "update"
           },
           {
            "args": [
             {
              "visible": [
               false,
               false,
               false,
               false,
               false,
               false,
               false,
               false,
               false,
               false,
               false,
               false,
               false,
               false,
               false,
               false,
               false,
               false,
               false,
               false,
               false,
               false,
               false,
               false,
               false,
               false,
               false,
               false,
               false,
               false,
               false,
               false,
               false,
               false,
               false,
               false,
               false,
               false,
               false,
               false,
               true,
               true,
               false,
               false,
               false,
               false
              ]
             }
            ],
            "label": "Hurricane Maria (2017)",
            "method": "update"
           },
           {
            "args": [
             {
              "visible": [
               false,
               false,
               false,
               false,
               false,
               false,
               false,
               false,
               false,
               false,
               false,
               false,
               false,
               false,
               false,
               false,
               false,
               false,
               false,
               false,
               false,
               false,
               false,
               false,
               false,
               false,
               false,
               false,
               false,
               false,
               false,
               false,
               false,
               false,
               false,
               false,
               false,
               false,
               false,
               false,
               false,
               false,
               true,
               true,
               false,
               false
              ]
             }
            ],
            "label": "Italy Earthquakes (2016)",
            "method": "update"
           },
           {
            "args": [
             {
              "visible": [
               false,
               false,
               false,
               false,
               false,
               false,
               false,
               false,
               false,
               false,
               false,
               false,
               false,
               false,
               false,
               false,
               false,
               false,
               false,
               false,
               false,
               false,
               false,
               false,
               false,
               false,
               false,
               false,
               false,
               false,
               false,
               false,
               false,
               false,
               false,
               false,
               false,
               false,
               false,
               false,
               false,
               false,
               false,
               false,
               true,
               true
              ]
             }
            ],
            "label": "Mosul Offensive (2016-2017) - Iraq",
            "method": "update"
           }
          ],
          "direction": "up",
          "showactive": true,
          "type": "dropdown",
          "x": 0.7,
          "xanchor": "right",
          "y": -0.5,
          "yanchor": "top"
         }
        ],
        "width": 1400,
        "xaxis": {
         "anchor": "y",
         "domain": [
          0,
          0.4
         ],
         "title": {
          "text": "Features"
         }
        },
        "xaxis2": {
         "anchor": "y2",
         "domain": [
          0.6000000000000001,
          1
         ],
         "title": {
          "text": "Features"
         }
        },
        "yaxis": {
         "anchor": "x",
         "domain": [
          0,
          1
         ],
         "title": {
          "text": "Metrics"
         }
        },
        "yaxis2": {
         "anchor": "x2",
         "domain": [
          0,
          1
         ],
         "title": {
          "text": "Metrics"
         }
        }
       }
      }
     },
     "metadata": {},
     "output_type": "display_data"
    }
   ],
   "source": [
    "#plot the correlation matrix for all event groupings\n",
    "fig = plot_correlation_for_groups_of_events(correlations, pvalues, features, metrics, list_of_event_groupings, title = 'Correlation Matrix of Video Features and Response Metrics for all Events')"
   ]
  },
  {
   "cell_type": "code",
   "execution_count": 50,
   "metadata": {},
   "outputs": [],
   "source": [
    "#save the plot as an html file for the website\n",
    "\n",
    "#fig.write_html(\"../ada-datastory-website/assets/plots/correlation_matrix_events.html\")"
   ]
  },
  {
   "cell_type": "markdown",
   "metadata": {},
   "source": [
    "## 4 Regression analysis <a class=\"anchor\" id=\"conclusion\"></a>"
   ]
  },
  {
   "cell_type": "code",
   "execution_count": null,
   "metadata": {},
   "outputs": [],
   "source": [
    "import polars as pl\n",
    "import numpy as np\n",
    "import statsmodels.formula.api as smf\n",
    "import matplotlib.pyplot as plt\n",
    "from sklearn.preprocessing import StandardScaler\n",
    "\n",
    "#load dataframe\n",
    "df = pl.read_csv(\"final_all_features_and_metrics.csv\")\n",
    "\n",
    "#preprocess columns to be used in the model\n",
    "df = df.to_pandas() #convert to pandas dataframe\n",
    "df.drop(columns = df.loc[:, \"channel_id\" : \"description\"].columns, axis = 1, inplace=True) #drop columns that are not needed\n",
    "df.drop(\"tags\", axis = 1, inplace=True) #drop tags column\n",
    "\n",
    "\n",
    "columns_to_standardize = ['subjectivity', 'duration', 'channel_activity', 'capitalisation_ratio'] #define columns to standardize\n",
    "scaler = StandardScaler() #initialize standard scaler\n",
    "df[columns_to_standardize] = scaler.fit_transform(df[columns_to_standardize]) #standardize columns"
   ]
  },
  {
   "cell_type": "code",
   "execution_count": null,
   "metadata": {},
   "outputs": [],
   "source": [
    "#rename columns\n",
    "df.rename(columns={\n",
    "    'likes-dislikes/views': 'likes_dislikes_per_view',\n",
    "    'replies/comment': 'replies_per_comment',\n",
    "    'likes/comment': 'likes_per_comment'\n",
    "}, inplace=True)\n",
    "\n",
    "# add the comments per view metric\n",
    "df['comments_per_views'] = df['num_comments'] / df['view_count']\n",
    "\n",
    "\n",
    "# Define the dependent variables and the independent variables\n",
    "# Create a list in order to iterate over them\n",
    "dependent_vars = [\n",
    "    'view_count', \n",
    "    'likes_dislikes_per_view', \n",
    "    'replies_per_comment', \n",
    "    'comments_per_views'\n",
    "]\n",
    "\n",
    "independent_formula_part = (\n",
    "    \"subjectivity + duration + channel_activity + capitalisation_ratio + \"\n",
    "    \"C(is_footage) + C(_breaking_) + C(_update_)\"\n",
    ")\n",
    "\n",
    "#fix random seed\n",
    "np.random.seed(2)\n",
    "\n",
    "# Create a figure to plot the results\n",
    "fig, axs = plt.subplots(2, 2, figsize=(14, 14))\n",
    "axs = axs.ravel()  # Flatten to iterate easily\n",
    "\n",
    "colors = {'environmental': 'blue', 'geopolitical': 'red'} # Define colors for each event type\n",
    "\n",
    "for i, dv in enumerate(dependent_vars):\n",
    "    ax = axs[i]\n",
    "\n",
    "    y_labels = []\n",
    "    y_positions = []\n",
    "    position_offset = 0\n",
    "\n",
    "    max_r2 = 0  # Track maximum R^2 for the current dependent variable\n",
    "\n",
    "    for j, (event_type, color) in enumerate(colors.items()):\\\n",
    "\n",
    "        filtered_df = df[df['event_type'] == event_type]\n",
    "        \n",
    "        formula = f\"{dv} ~ {independent_formula_part}\"\n",
    "        mod = smf.ols(formula=formula, data=filtered_df) \n",
    "        res = mod.fit()\n",
    "\n",
    "        r2 = res.rsquared\n",
    "        max_r2 = max(max_r2, r2)\n",
    "\n",
    "        variables = res.params.index\n",
    "        coefficients = res.params.values\n",
    "        p_values = res.pvalues.values\n",
    "        standard_errors = res.bse.values\n",
    "\n",
    "        sorted_results = sorted(\n",
    "            zip(coefficients[1:], variables[1:], standard_errors[1:], p_values[1:]), \n",
    "            key=lambda x: x[1]\n",
    "        )\n",
    "        l1, l2, l3, l4 = zip(*sorted_results)\n",
    "\n",
    "        event_positions = np.arange(len(l1)) + position_offset\n",
    "        position_offset += 0.2\n",
    "\n",
    "        for idx, (v, coef, pv) in enumerate(zip(l2, l1, l4)):\n",
    "            if j == 0:  # Add variable name only once\n",
    "                y_labels.append(f\"{v}\")\n",
    "                y_positions.append(event_positions[idx] - 0.2)\n",
    "            y_labels.append(f\"Coef={coef:.3f}, p={pv:.3g}\")\n",
    "            y_positions.append(event_positions[idx])\n",
    "\n",
    "        # Plot coefficients with error bars (2*std_err for 95% CI)\n",
    "        ax.errorbar(l1, event_positions, xerr=2*np.array(l3),\n",
    "                    linewidth=1, linestyle='none', marker='o', markersize=3,\n",
    "                    markerfacecolor=color, markeredgecolor=color, capsize=5, label=f'{event_type}')\n",
    "\n",
    "    ax.set_yticks(y_positions)\n",
    "    ax.set_yticklabels(y_labels, ha='right', color='black')\n",
    "\n",
    "    # Add zero reference line and set titles\n",
    "    ax.axvline(x=0, linestyle='--', color='grey', linewidth=1)\n",
    "    ax.set_title(f\"{dv} (R^2={max_r2:.2f})\", fontsize=12)\n",
    "    ax.tick_params(axis='x', labelsize=10)\n",
    "    ax.tick_params(axis='y', labelsize=10)\n",
    "    ax.xaxis.grid(True, linestyle='--', color='gray', linewidth=0.7, alpha=0.7)\n",
    "    ax.legend()\n",
    "\n",
    "plt.tight_layout()\n",
    "plt.show()"
   ]
  },
  {
   "cell_type": "markdown",
   "metadata": {},
   "source": [
    "## 5 Conclusion <a class=\"anchor\" id=\"conclusion\"></a>\n",
    "\n",
    "In this notebook, we filtered the channels, metadata and times-series by keeping the videos from US, English-speaking channels with the category of News and Politics, keeping only high activity channels. Filtering of the massive comments dataset from these channels will be done on AWS, and we will study the reporting of the different events, ultimate grouping them by event category and country of occurrence to draw meaningful patterns, and we will also study how different video formats, types, and other characteristics affect the response of the public in terms of virality as well as the breadth of discussions that are illicited in the comments. We were able to isolate the videos related to each event by writing a list of terms that are respectively relevant to said events (while minimizing overlapping with other events as to not flag irrelevant videos), and searching for them in the titles and descriptions."
   ]
  },
  {
   "cell_type": "markdown",
   "metadata": {},
   "source": []
  }
 ],
 "metadata": {
  "kernelspec": {
   "display_name": "adaenv",
   "language": "python",
   "name": "python3"
  },
  "language_info": {
   "codemirror_mode": {
    "name": "ipython",
    "version": 3
   },
   "file_extension": ".py",
   "mimetype": "text/x-python",
   "name": "python",
   "nbconvert_exporter": "python",
   "pygments_lexer": "ipython3",
   "version": "3.12.6"
  }
 },
 "nbformat": 4,
 "nbformat_minor": 2
}
